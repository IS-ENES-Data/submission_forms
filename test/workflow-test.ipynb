{
 "cells": [
  {
   "cell_type": "markdown",
   "metadata": {},
   "source": [
    "# Step by step workflow test notebook"
   ]
  },
  {
   "cell_type": "code",
   "execution_count": 1,
   "metadata": {
    "collapsed": true
   },
   "outputs": [],
   "source": [
    "%load_ext autoreload\n",
    "%autoreload 2"
   ]
  },
  {
   "cell_type": "code",
   "execution_count": null,
   "metadata": {},
   "outputs": [],
   "source": [
    "!echo %PATH%"
   ]
  },
  {
   "cell_type": "code",
   "execution_count": 3,
   "metadata": {
    "scrolled": true
   },
   "outputs": [
    {
     "name": "stdout",
     "output_type": "stream",
     "text": [
      "FORM_REPO: ... /home/stephan/tmp/Repos/form_repo\n",
      "Project directory:  /home/stephan/tmp/Repos/form_repo/test\n"
     ]
    }
   ],
   "source": [
    "#import sys\n",
    "#sys.path.append('C:\\\\Users\\\\Stephan Kindermann\\\\Documents\\\\GitHub\\\\submission_forms')\n",
    "import logging as log\n",
    "import os\n",
    "from dkrz_forms import form_handler\n",
    "from test import test_steps\n",
    "#from dkrz_forms.config.project_config import FORM_REPO, NOTEBOOK_DIRECTORY\n",
    "#print NOTEBOOK_DIRECTORY\n",
    "vprint = form_handler.vprint "
   ]
  },
  {
   "cell_type": "markdown",
   "metadata": {},
   "source": [
    "## Generate a personal submission form based on a project template"
   ]
  },
  {
   "cell_type": "code",
   "execution_count": null,
   "metadata": {
    "collapsed": true
   },
   "outputs": [],
   "source": [
    "from dkrz_forms import utils"
   ]
  },
  {
   "cell_type": "code",
   "execution_count": 6,
   "metadata": {
    "scrolled": false
   },
   "outputs": [
    {
     "name": "stdout",
     "output_type": "stream",
     "text": [
      "Warning: to use git based form versioning please install git module with 'pip install gitpython'\n",
      "otherwise all helper functions for interacting with git will not work\n",
      "Initialize git repo: /home/stephan/tmp/Repos/form_repo/test\n",
      "Warning: form directory -  /home/stephan/tmp/Repos/form_repo/test  created - but no git versioning support\n",
      "Form Handler: Initialized form for project: test\n",
      "test\n",
      "/home/stephan/tmp/Repos/form_repo/test\n",
      "test_testsuite_1234.ipynb\n",
      "entity_in.form_path /home/stephan/Repos/ENES-EUDAT/submission_forms/test/forms/test\n",
      "entity_out.form_repo: /home/stephan/tmp/Repos/form_repo/test\n",
      "entity_out:form:json: /home/stephan/tmp/Repos/form_repo/test/test_testsuite_1234.json\n",
      "/home/stephan/Repos/ENES-EUDAT/submission_forms/test/forms/test/test_testsuite_1234.ipynb\n",
      "/home/stephan/tmp/Repos/form_repo/test/test_testsuite_1234.ipynb\n",
      "submission form intitialized: sf\n",
      "(For the curious: the sf object is used in the following to store and manage all your information)\n"
     ]
    }
   ],
   "source": [
    "### form generation\n",
    "import pprint\n",
    "test_steps.test_init_form()\n",
    "\n",
    "sf = test_steps.sf\n",
    "#sf = form_handler.set_doc(sf,DOCUMENTATION_DICT)\n",
    "\n",
    "#pprint.pprint(form_handler.form_to_dict(sf))\n",
    "\n"
   ]
  },
  {
   "cell_type": "markdown",
   "metadata": {},
   "source": [
    "### Retrieve the private template (pwd protected) and make changes form"
   ]
  },
  {
   "cell_type": "code",
   "execution_count": 8,
   "metadata": {},
   "outputs": [
    {
     "name": "stdout",
     "output_type": "stream",
     "text": [
      "Warning: to use git based form versioning please install git module with 'pip install gitpython'\n",
      "otherwise all helper functions for interacting with git will not work\n",
      "Form Handler: Initialized form for project: test\n",
      "test\n",
      "/home/stephan/tmp/Repos/form_repo/test\n",
      "test_testsuite_1234.ipynb\n",
      "entity_in.form_path /home/stephan/Repos/ENES-EUDAT/submission_forms/test/forms/test\n",
      "TTT:  store key in keystore 6BEBNF /home/stephan/tmp/Repos/form_repo/keystore\n",
      "--- copy from: /home/stephan/Repos/ENES-EUDAT/submission_forms/dkrz_forms/Templates/test_submission_form.ipynb\n",
      "--- to:   /home/stephan/tmp/Repos/form_repo/test/test_testsuite_1234.ipynb\n",
      "--- too:  /home/stephan/Repos/ENES-EUDAT/submission_forms/test/forms/test/test_testsuite_1234.ipynb\n",
      "--------------------------------------------------------------------\n",
      "   A submission form was created for you, please visit the following link:\n",
      "http://localhost:8888/notebooks/Repos/ENES-EUDAT/submission_forms/test/forms/test/test_testsuite_1234.ipynb\n",
      "--------------------------------------------------------------------\n",
      "/home/stephan/Repos/ENES-EUDAT/submission_forms/test/forms/test/test_testsuite_1234.ipynb\n",
      "/home/stephan/tmp/Repos/form_repo/test/test_testsuite_1234.ipynb\n",
      "saving without committing to a git repo\n",
      " ......  initial version saved ...\n",
      "Warning: no version information stored\n",
      "Install git and gitpython to enable this\n"
     ]
    }
   ],
   "source": [
    "test_steps.test_generate_submission_form()"
   ]
  },
  {
   "cell_type": "markdown",
   "metadata": {
    "collapsed": true
   },
   "source": [
    "### Retrieve a partially filled form and complete it"
   ]
  },
  {
   "cell_type": "code",
   "execution_count": 10,
   "metadata": {},
   "outputs": [
    {
     "name": "stdout",
     "output_type": "stream",
     "text": [
      "Warning: to use git based form versioning please install git module with 'pip install gitpython'\n",
      "otherwise all helper functions for interacting with git will not work\n",
      "\n",
      "\n",
      "Form Handler - save form status message:\n",
      "/home/stephan/Repos/ENES-EUDAT/submission_forms/test/forms/test/test_testsuite_1234.ipynb\n",
      "/home/stephan/tmp/Repos/form_repo/test/test_testsuite_1234.ipynb\n",
      " --- form stored in transfer format in: /home/stephan/tmp/Repos/form_repo/test/test_testsuite_1234.json\n",
      "saving without committing to a git repo\n"
     ]
    }
   ],
   "source": [
    "test_steps.test_form_completion()\n",
    "\n",
    "#print test_steps.sf"
   ]
  },
  {
   "cell_type": "markdown",
   "metadata": {},
   "source": [
    "### Submit a completed form"
   ]
  },
  {
   "cell_type": "code",
   "execution_count": 11,
   "metadata": {
    "scrolled": true
   },
   "outputs": [
    {
     "name": "stdout",
     "output_type": "stream",
     "text": [
      "Warning: submission was not stored and versioned in git repo\n",
      "Please send form: /home/stephan/Repos/ENES-EUDAT/submission_forms/test/forms/test/test_testsuite_1234.ipynb\n",
      "\n",
      "to data@dkrz.de with subject \"DKRZ data submission form for project\" test\n"
     ]
    }
   ],
   "source": [
    "test_steps.test_form_submission()"
   ]
  },
  {
   "cell_type": "markdown",
   "metadata": {
    "collapsed": true
   },
   "source": [
    "### Admin workflow step 1: form validation"
   ]
  },
  {
   "cell_type": "code",
   "execution_count": 12,
   "metadata": {},
   "outputs": [
    {
     "name": "stdout",
     "output_type": "stream",
     "text": [
      "\n",
      "\n",
      "Form Handler - save form status message:\n",
      "/home/stephan/Repos/ENES-EUDAT/submission_forms/test/forms/test/test_testsuite_1234.ipynb\n",
      "/home/stephan/tmp/Repos/form_repo/test/test_testsuite_1234.ipynb\n",
      " --- form stored in transfer format in: /home/stephan/tmp/Repos/form_repo/test/test_testsuite_1234.json\n",
      "saving without committing to a git repo\n"
     ]
    }
   ],
   "source": [
    "test_steps.test_form_review()\n"
   ]
  },
  {
   "cell_type": "markdown",
   "metadata": {},
   "source": [
    "### step 2: data ingest"
   ]
  },
  {
   "cell_type": "code",
   "execution_count": 13,
   "metadata": {},
   "outputs": [
    {
     "name": "stdout",
     "output_type": "stream",
     "text": [
      "\n",
      "\n",
      "Form Handler - save form status message:\n",
      "/home/stephan/Repos/ENES-EUDAT/submission_forms/test/forms/test/test_testsuite_1234.ipynb\n",
      "/home/stephan/tmp/Repos/form_repo/test/test_testsuite_1234.ipynb\n",
      " --- form stored in transfer format in: /home/stephan/tmp/Repos/form_repo/test/test_testsuite_1234.json\n",
      "saving without committing to a git repo\n"
     ]
    }
   ],
   "source": [
    "test_steps.test_data_ingest()"
   ]
  },
  {
   "cell_type": "markdown",
   "metadata": {},
   "source": [
    "### step 3: data quality assurance"
   ]
  },
  {
   "cell_type": "code",
   "execution_count": 14,
   "metadata": {},
   "outputs": [
    {
     "name": "stdout",
     "output_type": "stream",
     "text": [
      "\n",
      "\n",
      "Form Handler - save form status message:\n",
      "/home/stephan/Repos/ENES-EUDAT/submission_forms/test/forms/test/test_testsuite_1234.ipynb\n",
      "/home/stephan/tmp/Repos/form_repo/test/test_testsuite_1234.ipynb\n",
      " --- form stored in transfer format in: /home/stephan/tmp/Repos/form_repo/test/test_testsuite_1234.json\n",
      "saving without committing to a git repo\n"
     ]
    }
   ],
   "source": [
    "test_steps.test_data_quality_assurance()"
   ]
  },
  {
   "cell_type": "markdown",
   "metadata": {},
   "source": [
    "### step 4: data publication"
   ]
  },
  {
   "cell_type": "code",
   "execution_count": 15,
   "metadata": {},
   "outputs": [
    {
     "name": "stdout",
     "output_type": "stream",
     "text": [
      "\n",
      "\n",
      "Form Handler - save form status message:\n",
      "/home/stephan/Repos/ENES-EUDAT/submission_forms/test/forms/test/test_testsuite_1234.ipynb\n",
      "/home/stephan/tmp/Repos/form_repo/test/test_testsuite_1234.ipynb\n",
      " --- form stored in transfer format in: /home/stephan/tmp/Repos/form_repo/test/test_testsuite_1234.json\n",
      "saving without committing to a git repo\n"
     ]
    }
   ],
   "source": [
    "test_steps.test_data_publication()"
   ]
  },
  {
   "cell_type": "markdown",
   "metadata": {},
   "source": [
    "### step 5: data archival"
   ]
  },
  {
   "cell_type": "code",
   "execution_count": null,
   "metadata": {
    "collapsed": true
   },
   "outputs": [],
   "source": [
    "test_steps.test_data_archival()\n"
   ]
  },
  {
   "cell_type": "code",
   "execution_count": null,
   "metadata": {
    "collapsed": true
   },
   "outputs": [],
   "source": [
    "sf = test_steps.sf\n"
   ]
  },
  {
   "cell_type": "code",
   "execution_count": null,
   "metadata": {
    "collapsed": true
   },
   "outputs": [],
   "source": [
    "help(sf.sub.entity_in)"
   ]
  },
  {
   "cell_type": "code",
   "execution_count": null,
   "metadata": {
    "collapsed": true
   },
   "outputs": [],
   "source": [
    "print sf.workflow\n",
    "for (a,b) in sf.workflow:\n",
    "    print a,b"
   ]
  },
  {
   "cell_type": "code",
   "execution_count": null,
   "metadata": {
    "collapsed": true
   },
   "outputs": [],
   "source": []
  },
  {
   "cell_type": "code",
   "execution_count": null,
   "metadata": {
    "collapsed": true,
    "scrolled": true
   },
   "outputs": [],
   "source": [
    "#import abc\n",
    "\n",
    "def myprop(x, doc):\n",
    "    def getx(self):\n",
    "        return getattr(self, '_' + x)\n",
    "\n",
    "    def setx(self, val):\n",
    "        setattr(self, '_' + x, val)\n",
    "\n",
    "    def delx(self):\n",
    "        delattr(self, '_' + x)\n",
    "\n",
    "    return property(getx, setx, delx, doc)\n",
    "\n",
    "class C(object):\n",
    "    #__metaclass__=abc.ABCMeta\n",
    "    a = myprop(\"a\", \"Hi, I'm A!\")\n",
    "    b = myprop(\"b\", \"Hi, I'm B!\")\n",
    "    d = 5\n",
    "    \n",
    "C.d = myprop(\"d\",\"....DDDDDDDDDDDDDDDD......\")\n",
    "#C.__doc__ = \"test test\"\n",
    "\n",
    "co.x = 5\n",
    "    \n",
    "co = C()\n"
   ]
  },
  {
   "cell_type": "code",
   "execution_count": null,
   "metadata": {
    "collapsed": true
   },
   "outputs": [],
   "source": [
    "print C.d\n"
   ]
  },
  {
   "cell_type": "code",
   "execution_count": null,
   "metadata": {
    "collapsed": true
   },
   "outputs": [],
   "source": []
  }
 ],
 "metadata": {
  "anaconda-cloud": {},
  "kernelspec": {
   "display_name": "Python 2",
   "language": "python",
   "name": "python2"
  },
  "language_info": {
   "codemirror_mode": {
    "name": "ipython",
    "version": 2
   },
   "file_extension": ".py",
   "mimetype": "text/x-python",
   "name": "python",
   "nbconvert_exporter": "python",
   "pygments_lexer": "ipython2",
   "version": "2.7.13"
  }
 },
 "nbformat": 4,
 "nbformat_minor": 1
}
