{
 "cells": [
  {
   "cell_type": "markdown",
   "metadata": {},
   "source": [
    "# Step by step workflow test notebook"
   ]
  },
  {
   "cell_type": "code",
   "execution_count": 1,
   "metadata": {
    "collapsed": true
   },
   "outputs": [],
   "source": [
    "%load_ext autoreload\n",
    "%autoreload 2"
   ]
  },
  {
   "cell_type": "code",
   "execution_count": 2,
   "metadata": {
    "collapsed": false,
    "scrolled": true
   },
   "outputs": [
    {
     "name": "stdout",
     "output_type": "stream",
     "text": [
      "Project directory:  /home/stephan/tmp/Repos/form_repo/test\n"
     ]
    }
   ],
   "source": [
    "import logging as log\n",
    "import os\n",
    "from dkrz_forms import form_handler\n",
    "from test import test_steps\n",
    "from dkrz_forms.config.project_config import FORM_REPO\n",
    "vprint = form_handler.vprint "
   ]
  },
  {
   "cell_type": "markdown",
   "metadata": {
    "collapsed": false
   },
   "source": [
    "## Generate a personal submission form based on a project template"
   ]
  },
  {
   "cell_type": "code",
   "execution_count": 3,
   "metadata": {
    "collapsed": false
   },
   "outputs": [],
   "source": [
    "from dkrz_forms import utils"
   ]
  },
  {
   "cell_type": "code",
   "execution_count": 4,
   "metadata": {
    "collapsed": false
   },
   "outputs": [],
   "source": [
    "par = {'a':'b','__doc__':\"Test Test\"}\n",
    "\n",
    "tst = utils.Form(par)\n"
   ]
  },
  {
   "cell_type": "code",
   "execution_count": 5,
   "metadata": {
    "collapsed": false
   },
   "outputs": [],
   "source": [
    "tst['a']\n",
    "?tst"
   ]
  },
  {
   "cell_type": "code",
   "execution_count": 6,
   "metadata": {
    "collapsed": false,
    "scrolled": true
   },
   "outputs": [
    {
     "name": "stdout",
     "output_type": "stream",
     "text": [
      "Form Handler: Initialized form for project: test\n",
      "test\n",
      "/home/stephan/tmp/Repos/form_repo/test\n",
      "test_testsuite_1234.ipynb\n",
      "/home/stephan/Repos/ENES-EUDAT/submission_forms/test/forms/test/test_testsuite_1234.ipynb\n",
      "/home/stephan/tmp/Repos/form_repo/test/test_testsuite_1234.ipynb\n",
      "submission form intitialized: sf\n",
      "(For the curious: the sf object is used in the following to store and manage all your information)\n"
     ]
    }
   ],
   "source": [
    "### form generation\n",
    "import pprint\n",
    "test_steps.test_init_form()\n",
    "\n",
    "sf = test_steps.sf\n",
    "#sf = form_handler.set_doc(sf,DOCUMENTATION_DICT)\n",
    "\n",
    "#pprint.pprint(form_handler.form_to_dict(sf))\n",
    "\n"
   ]
  },
  {
   "cell_type": "code",
   "execution_count": 7,
   "metadata": {
    "collapsed": false
   },
   "outputs": [],
   "source": [
    "?sf.sub.entity_out.form"
   ]
  },
  {
   "cell_type": "code",
   "execution_count": 8,
   "metadata": {
    "collapsed": true
   },
   "outputs": [],
   "source": [
    "?sf"
   ]
  },
  {
   "cell_type": "markdown",
   "metadata": {},
   "source": [
    "### Retrieve the private template (pwd protected) and make changes form"
   ]
  },
  {
   "cell_type": "code",
   "execution_count": 9,
   "metadata": {
    "collapsed": false
   },
   "outputs": [
    {
     "name": "stdout",
     "output_type": "stream",
     "text": [
      "Form Handler: Initialized form for project: test\n",
      "test\n",
      "/home/stephan/tmp/Repos/form_repo/test\n",
      "test_testsuite_1234.ipynb\n",
      "TTT:  store key in keystore BFLCZK /home/stephan/tmp/Repos/form_repo/keystore\n",
      "--- copy from: /home/stephan/Repos/ENES-EUDAT/submission_forms/dkrz_forms/Templates/test_submission_form.ipynb\n",
      "--- to:   /home/stephan/tmp/Repos/form_repo/test/test_testsuite_1234.ipynb\n",
      "--------------------------------------------------------------------\n",
      "   A submission form was created for you, please visit the following link:\n",
      "http://localhost:8888/notebooks/Repos/ENES-EUDAT/submission_forms/test/forms/test/test_testsuite_1234.ipynb\n",
      "--------------------------------------------------------------------\n",
      "/home/stephan/Repos/ENES-EUDAT/submission_forms/test/forms/test/test_testsuite_1234.ipynb\n",
      "/home/stephan/tmp/Repos/form_repo/test/test_testsuite_1234.ipynb\n",
      " \n",
      " ......  initial version saved ...\n",
      "/home/stephan/Repos/ENES-EUDAT/submission_forms/test/forms/test/test_testsuite_1234.ipynb\n",
      "/home/stephan/tmp/Repos/form_repo/test/test_testsuite_1234.ipynb\n",
      " \n",
      "  !!  current version saved in repository\n",
      "  !!  the above link is only valid for the next 5 hours\n",
      "  !!  to retrieve the form after this use the following link: \n",
      "       http://localhost:888/notebooks.tst \n",
      "       with the password: BFLCZK\n",
      "id:  BFLCZK\n"
     ]
    }
   ],
   "source": [
    "test_steps.test_generate_submission_form()"
   ]
  },
  {
   "cell_type": "markdown",
   "metadata": {
    "collapsed": true
   },
   "source": [
    "### Retrieve a partially filled form and complete it"
   ]
  },
  {
   "cell_type": "code",
   "execution_count": 10,
   "metadata": {
    "collapsed": false
   },
   "outputs": [
    {
     "name": "stdout",
     "output_type": "stream",
     "text": [
      "\n",
      "\n",
      "Form Handler - save form status message:\n",
      "/home/stephan/Repos/ENES-EUDAT/submission_forms/test/forms/test/test_testsuite_1234.ipynb\n",
      "/home/stephan/tmp/Repos/form_repo/test/test_testsuite_1234.ipynb\n",
      " --- form stored in transfer format in: /home/stephan/tmp/Repos/form_repo/test/test_testsuite_1234.json\n",
      " \n",
      " --- commit message:[master 9a3c78c] Form Handler: submission form for user testsuite saved using prefix test_testsuite_1234 ## test: formcompletion()\n",
      " 1 file changed, 5 insertions(+), 3 deletions(-)\n",
      "DKRZ Form object: {u'project': u'test', u'sub': DKRZ Form object , u'workflow': [[u'sub', u'data_submission'], [u'rev', u'data_submission_review'], [u'ing', u'data_ingest'], [u'qua', u'data_quality_assurance'], [u'pub', u'data_publication']], u'rev': DKRZ Form object , u'pub': DKRZ Form object , u'qua': DKRZ Form object , u'form_dir': u'/home/stephan/Repos/ENES-EUDAT/submission_forms/test/forms/test', u'ing': DKRZ Form object , u'__doc__': u'\\n             Form object for project test\\n            \\n             Workflow step related sub-forms (filled by data managers):\\n               - sub: data submission form\\n               - rev: data review_form\\n               - ing: data ingest form\\n               - qua: data quality assurance form\\n               - pub: data publication form\\n               \\n            \\n             \\n             Each workfow step form is structured according to\\n               - entity_in : input information for this step\\n               - entity_out: output information for this step\\n               - agent: information related to responsible party for this step\\n               - activity: information related the workflow step execution\\n               \\n              End user provided form information is stored in:\\n             \\n             _this_form_object.sub.entity_out.form  \\n             \\n             The following end user attributes are defined:\\n           \\n               - project: project this form is related to\\n               - ....\\n               \\n             '}\n"
     ]
    }
   ],
   "source": [
    "test_steps.test_form_completion()\n",
    "\n",
    "print test_steps.sf"
   ]
  },
  {
   "cell_type": "markdown",
   "metadata": {},
   "source": [
    "### Submit a completed form"
   ]
  },
  {
   "cell_type": "code",
   "execution_count": 11,
   "metadata": {
    "collapsed": false,
    "scrolled": true
   },
   "outputs": [
    {
     "name": "stdout",
     "output_type": "stream",
     "text": [
      "No global submission repo !!!\n",
      "On branch master\n",
      "Changes to be committed:\n",
      "  (use \"git reset HEAD <file>...\" to unstage)\n",
      "\n",
      "\tmodified:   test_testsuite_1234.json\n",
      "\n",
      "[master 04fbd95] Form Handler: submission form for user testsuite saved using prefix test_testsuite_1234 ##\n",
      " 1 file changed, 19 insertions(+), 45 deletions(-)\n",
      "Push to global submission repo failed !\n",
      "Please send form: /home/stephan/Repos/ENES-EUDAT/submission_forms/test/forms/test/test_testsuite_1234.ipynb\n",
      "\n",
      "to data@dkrz.de with subject \"DKRZ data submission form for project\" test\n"
     ]
    }
   ],
   "source": [
    "test_steps.test_form_submission()"
   ]
  },
  {
   "cell_type": "markdown",
   "metadata": {
    "collapsed": true
   },
   "source": [
    "### Admin workflow step 1: form validation"
   ]
  },
  {
   "cell_type": "code",
   "execution_count": 12,
   "metadata": {
    "collapsed": false
   },
   "outputs": [
    {
     "name": "stdout",
     "output_type": "stream",
     "text": [
      "\n",
      "\n",
      "Form Handler - save form status message:\n",
      "/home/stephan/Repos/ENES-EUDAT/submission_forms/test/forms/test/test_testsuite_1234.ipynb\n",
      "/home/stephan/tmp/Repos/form_repo/test/test_testsuite_1234.ipynb\n",
      " --- form stored in transfer format in: /home/stephan/tmp/Repos/form_repo/test/test_testsuite_1234.json\n",
      " \n",
      " --- commit message:[master bd37e28] Form Handler: submission form for user testsuite saved using prefix test_testsuite_1234 ## test: form_review()\n",
      " 1 file changed, 5 insertions(+), 2 deletions(-)\n"
     ]
    }
   ],
   "source": [
    "test_steps.test_form_review()\n"
   ]
  },
  {
   "cell_type": "markdown",
   "metadata": {},
   "source": [
    "### step 2: data ingest"
   ]
  },
  {
   "cell_type": "code",
   "execution_count": 13,
   "metadata": {
    "collapsed": false
   },
   "outputs": [
    {
     "name": "stdout",
     "output_type": "stream",
     "text": [
      "\n",
      "\n",
      "Form Handler - save form status message:\n",
      "/home/stephan/Repos/ENES-EUDAT/submission_forms/test/forms/test/test_testsuite_1234.ipynb\n",
      "/home/stephan/tmp/Repos/form_repo/test/test_testsuite_1234.ipynb\n",
      " --- form stored in transfer format in: /home/stephan/tmp/Repos/form_repo/test/test_testsuite_1234.json\n",
      " \n",
      " --- commit message:[master 9512a27] Form Handler: submission form for user testsuite saved using prefix test_testsuite_1234 ## test: data_ingest()\n",
      " 1 file changed, 7 insertions(+), 4 deletions(-)\n"
     ]
    }
   ],
   "source": [
    "test_steps.test_data_ingest()"
   ]
  },
  {
   "cell_type": "markdown",
   "metadata": {},
   "source": [
    "### step 3: data quality assurance"
   ]
  },
  {
   "cell_type": "code",
   "execution_count": 14,
   "metadata": {
    "collapsed": false
   },
   "outputs": [
    {
     "name": "stdout",
     "output_type": "stream",
     "text": [
      "\n",
      "\n",
      "Form Handler - save form status message:\n",
      "/home/stephan/Repos/ENES-EUDAT/submission_forms/test/forms/test/test_testsuite_1234.ipynb\n",
      "/home/stephan/tmp/Repos/form_repo/test/test_testsuite_1234.ipynb\n",
      " --- form stored in transfer format in: /home/stephan/tmp/Repos/form_repo/test/test_testsuite_1234.json\n",
      " \n",
      " --- commit message:[master 55815d2] Form Handler: submission form for user testsuite saved using prefix test_testsuite_1234 ## test: quality_assurance()\n",
      " 1 file changed, 39 insertions(+), 4 deletions(-)\n"
     ]
    }
   ],
   "source": [
    "test_steps.test_data_quality_assurance()"
   ]
  },
  {
   "cell_type": "markdown",
   "metadata": {},
   "source": [
    "### step 4: data publication"
   ]
  },
  {
   "cell_type": "code",
   "execution_count": 15,
   "metadata": {
    "collapsed": false
   },
   "outputs": [
    {
     "name": "stdout",
     "output_type": "stream",
     "text": [
      "\n",
      "\n",
      "Form Handler - save form status message:\n",
      "/home/stephan/Repos/ENES-EUDAT/submission_forms/test/forms/test/test_testsuite_1234.ipynb\n",
      "/home/stephan/tmp/Repos/form_repo/test/test_testsuite_1234.ipynb\n",
      " --- form stored in transfer format in: /home/stephan/tmp/Repos/form_repo/test/test_testsuite_1234.json\n",
      " \n",
      " --- commit message:[master d3bdf65] Form Handler: submission form for user testsuite saved using prefix test_testsuite_1234 ## test: publication()\n",
      " 1 file changed, 8 insertions(+), 3 deletions(-)\n"
     ]
    }
   ],
   "source": [
    "test_steps.test_data_publication()"
   ]
  },
  {
   "cell_type": "markdown",
   "metadata": {},
   "source": [
    "### step 5: data archival"
   ]
  },
  {
   "cell_type": "code",
   "execution_count": 16,
   "metadata": {
    "collapsed": true
   },
   "outputs": [],
   "source": [
    "test_steps.test_data_archival()\n"
   ]
  },
  {
   "cell_type": "code",
   "execution_count": 17,
   "metadata": {
    "collapsed": true
   },
   "outputs": [],
   "source": [
    "sf = test_steps.sf\n"
   ]
  },
  {
   "cell_type": "code",
   "execution_count": 18,
   "metadata": {
    "collapsed": false
   },
   "outputs": [
    {
     "name": "stdout",
     "output_type": "stream",
     "text": [
      "Help on Form in module dkrz_forms.form_handler object:\n",
      "\n",
      "class Form(__builtin__.object)\n",
      " |  Form object with attributes defined by a configurable project dictionary\n",
      " |  \n",
      " |  Methods defined here:\n",
      " |  \n",
      " |  __init__(self, adict)\n",
      " |      Convert a dictionary to a Form Object\n",
      " |      \n",
      " |      :param adict: a (hierarchical) python dictionary \n",
      " |      :returns Form objcet: a hierachical Form object with attributes set based on input dictionary\n",
      " |  \n",
      " |  __repr__(self)\n",
      " |  \n",
      " |  __str__(self)\n",
      " |  \n",
      " |  ----------------------------------------------------------------------\n",
      " |  Data descriptors defined here:\n",
      " |  \n",
      " |  __dict__\n",
      " |      dictionary for instance variables (if defined)\n",
      " |  \n",
      " |  __weakref__\n",
      " |      list of weak references to the object (if defined)\n",
      " |  \n",
      " |  ----------------------------------------------------------------------\n",
      " |  Data and other attributes defined here:\n",
      " |  \n",
      " |  __abstractmethods__ = frozenset([])\n",
      " |  \n",
      " |  __metaclass__ = <class 'abc.ABCMeta'>\n",
      " |      Metaclass for defining Abstract Base Classes (ABCs).\n",
      " |      \n",
      " |      Use this metaclass to create an ABC.  An ABC can be subclassed\n",
      " |      directly, and then acts as a mix-in class.  You can also register\n",
      " |      unrelated concrete classes (even built-in classes) and unrelated\n",
      " |      ABCs as 'virtual subclasses' -- these and their descendants will\n",
      " |      be considered subclasses of the registering ABC by the built-in\n",
      " |      issubclass() function, but the registering ABC won't show up in\n",
      " |      their MRO (Method Resolution Order) nor will method\n",
      " |      implementations defined by the registering ABC be callable (not\n",
      " |      even via super()).\n",
      "\n"
     ]
    }
   ],
   "source": [
    "help(sf.sub.entity_in)"
   ]
  },
  {
   "cell_type": "code",
   "execution_count": 19,
   "metadata": {
    "collapsed": false
   },
   "outputs": [
    {
     "name": "stdout",
     "output_type": "stream",
     "text": [
      "[[u'sub', u'data_submission'], [u'rev', u'data_submission_review'], [u'ing', u'data_ingest'], [u'qua', u'data_quality_assurance'], [u'pub', u'data_publication']]\n",
      "sub data_submission\n",
      "rev data_submission_review\n",
      "ing data_ingest\n",
      "qua data_quality_assurance\n",
      "pub data_publication\n"
     ]
    }
   ],
   "source": [
    "print sf.workflow\n",
    "for (a,b) in sf.workflow:\n",
    "    print a,b"
   ]
  },
  {
   "cell_type": "code",
   "execution_count": null,
   "metadata": {
    "collapsed": true
   },
   "outputs": [],
   "source": []
  },
  {
   "cell_type": "code",
   "execution_count": 20,
   "metadata": {
    "collapsed": false,
    "scrolled": true
   },
   "outputs": [
    {
     "ename": "NameError",
     "evalue": "name 'co' is not defined",
     "output_type": "error",
     "traceback": [
      "\u001b[0;31m---------------------------------------------------------------------------\u001b[0m",
      "\u001b[0;31mNameError\u001b[0m                                 Traceback (most recent call last)",
      "\u001b[0;32m<ipython-input-20-b03f547e0cd5>\u001b[0m in \u001b[0;36m<module>\u001b[0;34m()\u001b[0m\n\u001b[1;32m     22\u001b[0m \u001b[0;31m#C.__doc__ = \"test test\"\u001b[0m\u001b[0;34m\u001b[0m\u001b[0;34m\u001b[0m\u001b[0m\n\u001b[1;32m     23\u001b[0m \u001b[0;34m\u001b[0m\u001b[0m\n\u001b[0;32m---> 24\u001b[0;31m \u001b[0mco\u001b[0m\u001b[0;34m.\u001b[0m\u001b[0mx\u001b[0m \u001b[0;34m=\u001b[0m \u001b[0;36m5\u001b[0m\u001b[0;34m\u001b[0m\u001b[0m\n\u001b[0m\u001b[1;32m     25\u001b[0m \u001b[0;34m\u001b[0m\u001b[0m\n\u001b[1;32m     26\u001b[0m \u001b[0mco\u001b[0m \u001b[0;34m=\u001b[0m \u001b[0mC\u001b[0m\u001b[0;34m(\u001b[0m\u001b[0;34m)\u001b[0m\u001b[0;34m\u001b[0m\u001b[0m\n",
      "\u001b[0;31mNameError\u001b[0m: name 'co' is not defined"
     ]
    }
   ],
   "source": [
    "#import abc\n",
    "\n",
    "def myprop(x, doc):\n",
    "    def getx(self):\n",
    "        return getattr(self, '_' + x)\n",
    "\n",
    "    def setx(self, val):\n",
    "        setattr(self, '_' + x, val)\n",
    "\n",
    "    def delx(self):\n",
    "        delattr(self, '_' + x)\n",
    "\n",
    "    return property(getx, setx, delx, doc)\n",
    "\n",
    "class C(object):\n",
    "    #__metaclass__=abc.ABCMeta\n",
    "    a = myprop(\"a\", \"Hi, I'm A!\")\n",
    "    b = myprop(\"b\", \"Hi, I'm B!\")\n",
    "    d = 5\n",
    "    \n",
    "C.d = myprop(\"d\",\"....DDDDDDDDDDDDDDDD......\")\n",
    "#C.__doc__ = \"test test\"\n",
    "\n",
    "co.x = 5\n",
    "    \n",
    "co = C()\n"
   ]
  },
  {
   "cell_type": "code",
   "execution_count": null,
   "metadata": {
    "collapsed": false
   },
   "outputs": [],
   "source": [
    "print C.d\n"
   ]
  },
  {
   "cell_type": "code",
   "execution_count": null,
   "metadata": {
    "collapsed": true
   },
   "outputs": [],
   "source": []
  }
 ],
 "metadata": {
  "anaconda-cloud": {},
  "kernelspec": {
   "display_name": "Python [conda env:generic1]",
   "language": "python",
   "name": "conda-env-generic1-py"
  },
  "language_info": {
   "codemirror_mode": {
    "name": "ipython",
    "version": 2
   },
   "file_extension": ".py",
   "mimetype": "text/x-python",
   "name": "python",
   "nbconvert_exporter": "python",
   "pygments_lexer": "ipython2",
   "version": "2.7.11"
  }
 },
 "nbformat": 4,
 "nbformat_minor": 0
}
