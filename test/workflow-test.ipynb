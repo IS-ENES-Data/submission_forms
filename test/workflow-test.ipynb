{
 "cells": [
  {
   "cell_type": "markdown",
   "metadata": {},
   "source": [
    "# Step by step workflow test notebook"
   ]
  },
  {
   "cell_type": "code",
   "execution_count": 1,
   "metadata": {},
   "outputs": [],
   "source": [
    "%load_ext autoreload\n",
    "%autoreload 2"
   ]
  },
  {
   "cell_type": "code",
   "execution_count": null,
   "metadata": {},
   "outputs": [],
   "source": [
    "!echo %PATH%"
   ]
  },
  {
   "cell_type": "code",
   "execution_count": 1,
   "metadata": {
    "scrolled": true
   },
   "outputs": [
    {
     "name": "stdout",
     "output_type": "stream",
     "text": [
      "FORM_REPO: ... C:\\Users\\Stephan Kindermann\\Repos\\form_repo\n",
      "Project directory:  C:\\Users\\Stephan Kindermann\\Repos\\form_repo\\test\n",
      "C:\\Users\\Stephan Kindermann\\Documents\\GitHub\\submission_forms\\test\\forms\n"
     ]
    }
   ],
   "source": [
    "import sys\n",
    "sys.path.append('C:\\\\Users\\\\Stephan Kindermann\\\\Documents\\\\GitHub\\\\submission_forms')\n",
    "import logging as log\n",
    "import os\n",
    "from dkrz_forms import form_handler\n",
    "from test import test_steps\n",
    "from dkrz_forms.config.project_config import FORM_REPO, NOTEBOOK_DIRECTORY\n",
    "print NOTEBOOK_DIRECTORY\n",
    "vprint = form_handler.vprint "
   ]
  },
  {
   "cell_type": "markdown",
   "metadata": {},
   "source": [
    "## Generate a personal submission form based on a project template"
   ]
  },
  {
   "cell_type": "code",
   "execution_count": null,
   "metadata": {},
   "outputs": [],
   "source": [
    "from dkrz_forms import utils"
   ]
  },
  {
   "cell_type": "code",
   "execution_count": 3,
   "metadata": {
    "scrolled": false
   },
   "outputs": [
    {
     "name": "stdout",
     "output_type": "stream",
     "text": [
      "Initialize git repo: C:\\Users\\Stephan Kindermann\\Repos\\form_repo\\test\n",
      "Form Handler: Initialized form for project: test\n",
      "test\n",
      "C:\\Users\\Stephan Kindermann\\Repos\\form_repo\\test\n",
      "test_testsuite_1234.ipynb\n",
      "entity_in.form_path C:\\Users\\Stephan Kindermann\\Documents\\GitHub\\submission_forms\\test\\forms\\test\n",
      "entity_out.form_repo: C:\\Users\\Stephan Kindermann\\Repos\\form_repo\\test\n",
      "entity_out:form:json: C:\\Users\\Stephan Kindermann\\Repos\\form_repo\\test\\test_testsuite_1234.json\n",
      "C:\\Users\\Stephan Kindermann\\Documents\\GitHub\\submission_forms\\test\\forms\\test\\test_testsuite_1234.ipynb\n",
      "C:\\Users\\Stephan Kindermann\\Repos\\form_repo\\test\\test_testsuite_1234.ipynb\n",
      "submission form intitialized: sf\n",
      "(For the curious: the sf object is used in the following to store and manage all your information)\n"
     ]
    }
   ],
   "source": [
    "### form generation\n",
    "import pprint\n",
    "test_steps.test_init_form()\n",
    "\n",
    "sf = test_steps.sf\n",
    "#sf = form_handler.set_doc(sf,DOCUMENTATION_DICT)\n",
    "\n",
    "#pprint.pprint(form_handler.form_to_dict(sf))\n",
    "\n"
   ]
  },
  {
   "cell_type": "code",
   "execution_count": null,
   "metadata": {},
   "outputs": [],
   "source": [
    "?sf.sub.entity_out.form"
   ]
  },
  {
   "cell_type": "code",
   "execution_count": null,
   "metadata": {
    "collapsed": true
   },
   "outputs": [],
   "source": [
    "?sf"
   ]
  },
  {
   "cell_type": "markdown",
   "metadata": {},
   "source": [
    "### Retrieve the private template (pwd protected) and make changes form"
   ]
  },
  {
   "cell_type": "code",
   "execution_count": 4,
   "metadata": {},
   "outputs": [
    {
     "name": "stdout",
     "output_type": "stream",
     "text": [
      "Form Handler: Initialized form for project: test\n",
      "test\n",
      "C:\\Users\\Stephan Kindermann\\Repos\\form_repo\\test\n",
      "test_testsuite_1234.ipynb\n",
      "entity_in.form_path C:\\Users\\Stephan Kindermann\\Documents\\GitHub\\submission_forms\\test\\forms\\test\n",
      "Warning: no keystore - new keystore generated\n",
      "TTT:  store key in keystore YYA6M4 C:\\Users\\Stephan Kindermann\\Repos\\form_repo\\keystore\n",
      "--- copy from: C:\\Users\\Stephan Kindermann\\Documents\\GitHub\\submission_forms\\dkrz_forms\\Templates\\test_submission_form.ipynb\n",
      "--- to:   C:\\Users\\Stephan Kindermann\\Repos\\form_repo\\test\\test_testsuite_1234.ipynb\n",
      "--- too:  C:\\Users\\Stephan Kindermann\\Documents\\GitHub\\submission_forms\\test\\forms\\test\\test_testsuite_1234.ipynb\n",
      "--------------------------------------------------------------------\n",
      "   A submission form was created for you, please visit the following link:\n",
      "http://localhost:8888/tree/test/forms/test/test_testsuite_1234.ipynb\n",
      "--------------------------------------------------------------------\n",
      "C:\\Users\\Stephan Kindermann\\Documents\\GitHub\\submission_forms\\test\\forms\\test\\test_testsuite_1234.ipynb\n",
      "C:\\Users\\Stephan Kindermann\\Repos\\form_repo\\test\\test_testsuite_1234.ipynb\n",
      " \n",
      " ......  initial version saved ...\n",
      "C:\\Users\\Stephan Kindermann\\Documents\\GitHub\\submission_forms\\test\\forms\\test\\test_testsuite_1234.ipynb\n",
      "C:\\Users\\Stephan Kindermann\\Repos\\form_repo\\test\\test_testsuite_1234.ipynb\n",
      " \n",
      "  !!  current version saved in repository\n",
      "  !!  the above link is only valid for the next 5 hours\n",
      "  !!  to retrieve the form after this use the following link: \n",
      "       http://localhost:888/notebooks.tst \n",
      "       with the password: YYA6M4\n",
      "id:  YYA6M4\n"
     ]
    }
   ],
   "source": [
    "test_steps.test_generate_submission_form()"
   ]
  },
  {
   "cell_type": "markdown",
   "metadata": {
    "collapsed": true
   },
   "source": [
    "### Retrieve a partially filled form and complete it"
   ]
  },
  {
   "cell_type": "code",
   "execution_count": 5,
   "metadata": {},
   "outputs": [
    {
     "name": "stdout",
     "output_type": "stream",
     "text": [
      "\n",
      "\n",
      "Form Handler - save form status message:\n",
      "C:\\Users\\Stephan Kindermann\\Documents\\GitHub\\submission_forms\\test\\forms\\test\\test_testsuite_1234.ipynb\n",
      "C:\\Users\\Stephan Kindermann\\Repos\\form_repo\\test\\test_testsuite_1234.ipynb\n",
      " --- form stored in transfer format in: C:\\Users\\Stephan Kindermann\\Repos\\form_repo\\test\\test_testsuite_1234.json\n",
      " \n",
      " --- commit message:[master 930f318] Form Handler: submission form for user testsuite saved using prefix test_testsuite_1234 ## test: formcompletion()\n",
      " 1 file changed, 5 insertions(+), 3 deletions(-)\n",
      "DKRZ Form object: {u'project': u'test', u'sub': DKRZ Form object , u'workflow': [[u'sub', u'data_submission'], [u'rev', u'data_submission_review'], [u'ing', u'data_ingest'], [u'qua', u'data_quality_assurance'], [u'pub', u'data_publication']], u'rev': DKRZ Form object , u'pub': DKRZ Form object , u'qua': DKRZ Form object , u'form_dir': u'C:\\\\Users\\\\Stephan Kindermann\\\\Documents\\\\GitHub\\\\submission_forms\\\\test\\\\forms\\\\test', u'ing': DKRZ Form object , u'__doc__': u'\\n             Form object for project test\\n            \\n             Workflow step related sub-forms (filled by data managers):\\n               - sub: data submission form\\n               - rev: data review_form\\n               - ing: data ingest form\\n               - qua: data quality assurance form\\n               - pub: data publication form\\n               \\n            \\n             \\n             Each workfow step form is structured according to\\n               - entity_in : input information for this step\\n               - entity_out: output information for this step\\n               - agent: information related to responsible party for this step\\n               - activity: information related the workflow step execution\\n               \\n              End user provided form information is stored in:\\n             \\n             _this_form_object.sub.entity_out.form  \\n             \\n             The following end user attributes are defined:\\n           \\n               - project: project this form is related to\\n               - ....\\n               \\n             '}\n"
     ]
    }
   ],
   "source": [
    "test_steps.test_form_completion()\n",
    "\n",
    "print test_steps.sf"
   ]
  },
  {
   "cell_type": "markdown",
   "metadata": {},
   "source": [
    "### Submit a completed form"
   ]
  },
  {
   "cell_type": "code",
   "execution_count": 7,
   "metadata": {
    "scrolled": true
   },
   "outputs": [
    {
     "name": "stdout",
     "output_type": "stream",
     "text": [
      "No global submission repo !!!\n",
      "On branch master\n",
      "\n",
      "Initial commit\n",
      "\n",
      "Changes to be committed:\n",
      "  (use \"git rm --cached <file>...\" to unstage)\n",
      "\n",
      "\tnew file:   test_testsuite_1234.ipynb\n",
      "\tnew file:   test_testsuite_1234.json\n",
      "\n",
      "[master (root-commit) 82f6ba9] Form Handler: submission form for user testsuite saved using prefix test_testsuite_1234 ##\n",
      " 2 files changed, 402 insertions(+)\n",
      " create mode 100644 test_testsuite_1234.ipynb\n",
      " create mode 100644 test_testsuite_1234.json\n",
      "Push to global submission repo failed !\n",
      "Please send form: C:\\Users\\Stephan Kindermann\\Documents\\GitHub\\submission_forms\\test\\forms\\test/test_testsuite_1234.ipynb\n",
      "\n",
      "to data@dkrz.de with subject \"DKRZ data submission form for project\" test\n"
     ]
    }
   ],
   "source": [
    "test_steps.test_form_submission()"
   ]
  },
  {
   "cell_type": "markdown",
   "metadata": {
    "collapsed": true
   },
   "source": [
    "### Admin workflow step 1: form validation"
   ]
  },
  {
   "cell_type": "code",
   "execution_count": 8,
   "metadata": {},
   "outputs": [
    {
     "name": "stdout",
     "output_type": "stream",
     "text": [
      "\n",
      "\n",
      "Form Handler - save form status message:\n",
      "C:\\Users\\Stephan Kindermann\\Documents\\GitHub\\submission_forms\\test\\forms\\test\\test_testsuite_1234.ipynb\n",
      "C:\\Users\\Stephan Kindermann\\Repos\\form_repo\\test\\test_testsuite_1234.ipynb\n",
      " --- form stored in transfer format in: C:\\Users\\Stephan Kindermann\\Repos\\form_repo\\test\\test_testsuite_1234.json\n",
      " \n",
      " --- commit message:[master fbf6e8a] Form Handler: submission form for user testsuite saved using prefix test_testsuite_1234 ## test: form_review()\n",
      " 1 file changed, 5 insertions(+), 2 deletions(-)\n"
     ]
    }
   ],
   "source": [
    "test_steps.test_form_review()\n"
   ]
  },
  {
   "cell_type": "markdown",
   "metadata": {},
   "source": [
    "### step 2: data ingest"
   ]
  },
  {
   "cell_type": "code",
   "execution_count": 9,
   "metadata": {},
   "outputs": [
    {
     "name": "stdout",
     "output_type": "stream",
     "text": [
      "\n",
      "\n",
      "Form Handler - save form status message:\n",
      "C:\\Users\\Stephan Kindermann\\Documents\\GitHub\\submission_forms\\test\\forms\\test\\test_testsuite_1234.ipynb\n",
      "C:\\Users\\Stephan Kindermann\\Repos\\form_repo\\test\\test_testsuite_1234.ipynb\n",
      " --- form stored in transfer format in: C:\\Users\\Stephan Kindermann\\Repos\\form_repo\\test\\test_testsuite_1234.json\n",
      " \n",
      " --- commit message:[master 903ea91] Form Handler: submission form for user testsuite saved using prefix test_testsuite_1234 ## test: data_ingest()\n",
      " 1 file changed, 7 insertions(+), 4 deletions(-)\n"
     ]
    }
   ],
   "source": [
    "test_steps.test_data_ingest()"
   ]
  },
  {
   "cell_type": "markdown",
   "metadata": {},
   "source": [
    "### step 3: data quality assurance"
   ]
  },
  {
   "cell_type": "code",
   "execution_count": 10,
   "metadata": {},
   "outputs": [
    {
     "name": "stdout",
     "output_type": "stream",
     "text": [
      "\n",
      "\n",
      "Form Handler - save form status message:\n",
      "C:\\Users\\Stephan Kindermann\\Documents\\GitHub\\submission_forms\\test\\forms\\test\\test_testsuite_1234.ipynb\n",
      "C:\\Users\\Stephan Kindermann\\Repos\\form_repo\\test\\test_testsuite_1234.ipynb\n",
      " --- form stored in transfer format in: C:\\Users\\Stephan Kindermann\\Repos\\form_repo\\test\\test_testsuite_1234.json\n",
      " \n",
      " --- commit message:[master 98f4a89] Form Handler: submission form for user testsuite saved using prefix test_testsuite_1234 ## test: quality_assurance()\n",
      " 1 file changed, 39 insertions(+), 4 deletions(-)\n"
     ]
    }
   ],
   "source": [
    "test_steps.test_data_quality_assurance()"
   ]
  },
  {
   "cell_type": "markdown",
   "metadata": {},
   "source": [
    "### step 4: data publication"
   ]
  },
  {
   "cell_type": "code",
   "execution_count": 11,
   "metadata": {},
   "outputs": [
    {
     "name": "stdout",
     "output_type": "stream",
     "text": [
      "\n",
      "\n",
      "Form Handler - save form status message:\n",
      "C:\\Users\\Stephan Kindermann\\Documents\\GitHub\\submission_forms\\test\\forms\\test\\test_testsuite_1234.ipynb\n",
      "C:\\Users\\Stephan Kindermann\\Repos\\form_repo\\test\\test_testsuite_1234.ipynb\n",
      " --- form stored in transfer format in: C:\\Users\\Stephan Kindermann\\Repos\\form_repo\\test\\test_testsuite_1234.json\n",
      " \n",
      " --- commit message:[master f965c9b] Form Handler: submission form for user testsuite saved using prefix test_testsuite_1234 ## test: publication()\n",
      " 1 file changed, 8 insertions(+), 3 deletions(-)\n"
     ]
    }
   ],
   "source": [
    "test_steps.test_data_publication()"
   ]
  },
  {
   "cell_type": "markdown",
   "metadata": {},
   "source": [
    "### step 5: data archival"
   ]
  },
  {
   "cell_type": "code",
   "execution_count": 13,
   "metadata": {
    "collapsed": true
   },
   "outputs": [],
   "source": [
    "test_steps.test_data_archival()\n"
   ]
  },
  {
   "cell_type": "code",
   "execution_count": null,
   "metadata": {
    "collapsed": true
   },
   "outputs": [],
   "source": [
    "sf = test_steps.sf\n"
   ]
  },
  {
   "cell_type": "code",
   "execution_count": null,
   "metadata": {},
   "outputs": [],
   "source": [
    "help(sf.sub.entity_in)"
   ]
  },
  {
   "cell_type": "code",
   "execution_count": null,
   "metadata": {},
   "outputs": [],
   "source": [
    "print sf.workflow\n",
    "for (a,b) in sf.workflow:\n",
    "    print a,b"
   ]
  },
  {
   "cell_type": "code",
   "execution_count": null,
   "metadata": {
    "collapsed": true
   },
   "outputs": [],
   "source": []
  },
  {
   "cell_type": "code",
   "execution_count": null,
   "metadata": {
    "scrolled": true
   },
   "outputs": [],
   "source": [
    "#import abc\n",
    "\n",
    "def myprop(x, doc):\n",
    "    def getx(self):\n",
    "        return getattr(self, '_' + x)\n",
    "\n",
    "    def setx(self, val):\n",
    "        setattr(self, '_' + x, val)\n",
    "\n",
    "    def delx(self):\n",
    "        delattr(self, '_' + x)\n",
    "\n",
    "    return property(getx, setx, delx, doc)\n",
    "\n",
    "class C(object):\n",
    "    #__metaclass__=abc.ABCMeta\n",
    "    a = myprop(\"a\", \"Hi, I'm A!\")\n",
    "    b = myprop(\"b\", \"Hi, I'm B!\")\n",
    "    d = 5\n",
    "    \n",
    "C.d = myprop(\"d\",\"....DDDDDDDDDDDDDDDD......\")\n",
    "#C.__doc__ = \"test test\"\n",
    "\n",
    "co.x = 5\n",
    "    \n",
    "co = C()\n"
   ]
  },
  {
   "cell_type": "code",
   "execution_count": null,
   "metadata": {},
   "outputs": [],
   "source": [
    "print C.d\n"
   ]
  },
  {
   "cell_type": "code",
   "execution_count": null,
   "metadata": {
    "collapsed": true
   },
   "outputs": [],
   "source": []
  }
 ],
 "metadata": {
  "anaconda-cloud": {},
  "kernelspec": {
   "display_name": "Python 2",
   "language": "python",
   "name": "python2"
  },
  "language_info": {
   "codemirror_mode": {
    "name": "ipython",
    "version": 2
   },
   "file_extension": ".py",
   "mimetype": "text/x-python",
   "name": "python",
   "nbconvert_exporter": "python",
   "pygments_lexer": "ipython2",
   "version": "2.7.13"
  }
 },
 "nbformat": 4,
 "nbformat_minor": 1
}
