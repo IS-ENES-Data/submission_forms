{
 "cells": [
  {
   "cell_type": "markdown",
   "metadata": {},
   "source": [
    "# Form db backend query"
   ]
  },
  {
   "cell_type": "code",
   "execution_count": 1,
   "metadata": {},
   "outputs": [],
   "source": [
    "from tinydb import TinyDB, Query\n",
    "import glob\n",
    "import json\n",
    "from pprint import pprint\n",
    "from dkrz_forms.config import settings\n",
    "\n",
    "db = TinyDB(\"/home/stephan/Forms/db.json\")\n",
    "Form = Query()\n",
    "# to do: pycodestyle --show-source --show-pep8 dkrz_forms/form_handler.py"
   ]
  },
  {
   "cell_type": "code",
   "execution_count": 3,
   "metadata": {},
   "outputs": [
    {
     "name": "stdout",
     "output_type": "stream",
     "text": [
      "['/home/stephan/Forms/submission_repo/test/test_testsuite_123.json', '/home/stephan/Forms/submission_repo/test/test_testsuite_12.json', '/home/stephan/Forms/submission_repo/test/test_testsuite_1.json', '/home/stephan/Forms/submission_repo/test/test_testsuite_1234.json']\n"
     ]
    }
   ],
   "source": [
    "\n",
    "json_files = glob.glob(settings.SUBMISSION_REPO+\"/test/\"+\"*.json\")\n",
    "print json_files"
   ]
  },
  {
   "cell_type": "code",
   "execution_count": 4,
   "metadata": {},
   "outputs": [],
   "source": [
    "def clean_dict(a_dict):\n",
    "    if '__doc__' in a_dict.keys():\n",
    "       a_dict.pop('__doc__')\n",
    "    for a,b in a_dict.iteritems():\n",
    "        if isinstance(b,dict):\n",
    "            clean_dict(b)\n",
    "\n",
    "json_dicts = []\n",
    "for json_file in json_files:\n",
    "    with open(json_file) as j_file:\n",
    "        fdict = json.load(j_file)\n",
    "        clean_dict(fdict)\n",
    "        json_dicts.append(fdict)"
   ]
  },
  {
   "cell_type": "code",
   "execution_count": 8,
   "metadata": {
    "collapsed": true
   },
   "outputs": [],
   "source": [
    "db.purge()"
   ]
  },
  {
   "cell_type": "code",
   "execution_count": 5,
   "metadata": {},
   "outputs": [],
   "source": [
    "for my_dict in json_dicts:\n",
    "    db.insert(my_dict)"
   ]
  },
  {
   "cell_type": "code",
   "execution_count": 11,
   "metadata": {},
   "outputs": [
    {
     "data": {
      "text/plain": [
       "[1, 2, 3, 4]"
      ]
     },
     "execution_count": 11,
     "metadata": {},
     "output_type": "execute_result"
    }
   ],
   "source": [
    "db.insert_multiple(json_dicts)"
   ]
  },
  {
   "cell_type": "markdown",
   "metadata": {},
   "source": [
    "#### Query the status flags\n",
    "\n",
    "\n",
    "Query expressions: \n",
    "- Form.status = \"..\"  # global status\n",
    "- Form.sub.activity.status = \"..\" # status of submission (anlog for pub,qua,ing,.. steps)"
   ]
  },
  {
   "cell_type": "code",
   "execution_count": 14,
   "metadata": {
    "collapsed": true
   },
   "outputs": [],
   "source": [
    "# Examples: \n",
    "\n",
    "db.search(Form.sub.activity.status = 'sub')\n",
    "\n",
    "db.search(Form.sub.activity.status = 'started')"
   ]
  },
  {
   "cell_type": "markdown",
   "metadata": {},
   "source": [
    "#### Query submission related info\n",
    "\n",
    "Query expressions:\n",
    "- submission agent related:     \n",
    "  - Form.sub.agent.email = \"..\"\n",
    "  - Form.sub.agent.last_name = \"..\" # first_name, key_work\n",
    "- submission entity related:\n",
    "  - Form.sub.entity_out.check_status = \"..\"\n",
    "  - Form.sub.entity_out.report.project_specific_keywords = \"..\"\n",
    "    "
   ]
  },
  {
   "cell_type": "code",
   "execution_count": null,
   "metadata": {
    "collapsed": true
   },
   "outputs": [],
   "source": [
    "# examples"
   ]
  },
  {
   "cell_type": "markdown",
   "metadata": {},
   "source": [
    "#### Query submission activity info\n",
    "\n",
    "Query expressions:\n",
    "- Form.sub.activity.status = \"..\"\n",
    "- Form.sub.activity.time_start = \"..\" # or time_end  \n",
    "- .."
   ]
  },
  {
   "cell_type": "code",
   "execution_count": null,
   "metadata": {
    "collapsed": true
   },
   "outputs": [],
   "source": []
  },
  {
   "cell_type": "code",
   "execution_count": 19,
   "metadata": {},
   "outputs": [
    {
     "name": "stdout",
     "output_type": "stream",
     "text": [
      "[{u'ing': {u'activity': {u'comment': u'',\n",
      "                         u'end_time': u'',\n",
      "                         u'i_name': u'ingest_activity',\n",
      "                         u'report': {u'comment': u''},\n",
      "                         u'start_time': u'',\n",
      "                         u'status': u'',\n",
      "                         u'ticket_id': 0},\n",
      "           u'agent': {u'i_name': u'ingest_agent',\n",
      "                      u'responsible_person': u''},\n",
      "           u'entity_in': {u'comment': u'',\n",
      "                          u'date': u'',\n",
      "                          u'i_name': u'review_report',\n",
      "                          u'repo': u'',\n",
      "                          u'report': {},\n",
      "                          u'status': u'',\n",
      "                          u'tag': u''},\n",
      "           u'entity_out': {u'comment': u'',\n",
      "                           u'date': u'',\n",
      "                           u'i_name': u'ingest_report',\n",
      "                           u'report': {},\n",
      "                           u'status': u'',\n",
      "                           u'tag': u''},\n",
      "           u'i_name': u'data_ingest'},\n",
      "  u'project': u'test',\n",
      "  u'pub': {u'activity': {u'comment': u'',\n",
      "                         u'end_time': u'',\n",
      "                         u'follow_up_ticket': u'',\n",
      "                         u'i_name': u'publication_activity',\n",
      "                         u'report': {},\n",
      "                         u'start_time': u'',\n",
      "                         u'status': u'',\n",
      "                         u'ticket_id': u''},\n",
      "           u'agent': {u'i_name': u'publication_agent',\n",
      "                      u'publication_tool': u'',\n",
      "                      u'responsible_person': u''},\n",
      "           u'entity_in': {u'comment': u'',\n",
      "                          u'date': u'',\n",
      "                          u'i_name': u'qua_report',\n",
      "                          u'repo': u'',\n",
      "                          u'report': {},\n",
      "                          u'status': u'',\n",
      "                          u'tag': u''},\n",
      "           u'entity_out': {u'comment': u'',\n",
      "                           u'date': u'',\n",
      "                           u'facet_string': u'# e.g. project=A&model=B& ....',\n",
      "                           u'i_name': u'publication_report',\n",
      "                           u'repo': u'',\n",
      "                           u'report': {},\n",
      "                           u'status': u'',\n",
      "                           u'tag': u''},\n",
      "           u'i_name': u'data_publication'},\n",
      "  u'qua': {u'activity': {u'comment': u'',\n",
      "                         u'end_time': u'',\n",
      "                         u'follow_up_ticket': u'',\n",
      "                         u'i_name': u'qua_activity',\n",
      "                         u'report': {},\n",
      "                         u'start_time': u'',\n",
      "                         u'status': u'',\n",
      "                         u'ticket_id': u''},\n",
      "           u'agent': {u'i_name': u'qua_agent', u'responsible_person': u''},\n",
      "           u'entity_in': {u'comment': u'',\n",
      "                          u'date': u'',\n",
      "                          u'i_name': u'ingest_report',\n",
      "                          u'report': {},\n",
      "                          u'status': u'',\n",
      "                          u'tag': u''},\n",
      "           u'entity_out': {u'comment': u'',\n",
      "                           u'date': u'',\n",
      "                           u'i_name': u'qua_report',\n",
      "                           u'repo': u'',\n",
      "                           u'report': {},\n",
      "                           u'status': u'',\n",
      "                           u'tag': u''},\n",
      "           u'i_name': u'data_quality_assurance'},\n",
      "  u'rev': {u'activity': {u'comment': u'',\n",
      "                         u'end_time': u'',\n",
      "                         u'i_name': u'review_activity',\n",
      "                         u'report': {},\n",
      "                         u'start_time': u'',\n",
      "                         u'status': u'',\n",
      "                         u'ticket_id': u'0',\n",
      "                         u'ticket_url': u'https://dm-rt.dkrz.de/Ticket/Display.html?'},\n",
      "           u'agent': {u'i_name': u'review_agent',\n",
      "                      u'responsible_person': u''},\n",
      "           u'entity_in': {u'checks_done': u'',\n",
      "                          u'form_dir': u'',\n",
      "                          u'form_json': u'',\n",
      "                          u'form_name': u'',\n",
      "                          u'form_path': u'',\n",
      "                          u'form_repo': u'',\n",
      "                          u'form_repo_path': u'',\n",
      "                          u'i_name': u'submission_form_entity',\n",
      "                          u'repo': u'',\n",
      "                          u'report': {},\n",
      "                          u'status': u'',\n",
      "                          u'tag': u''},\n",
      "           u'entity_out': {u'comment': u'',\n",
      "                           u'date': u'',\n",
      "                           u'i_name': u'review_report',\n",
      "                           u'repo': u'',\n",
      "                           u'report': {},\n",
      "                           u'status': u'',\n",
      "                           u'tag': u''},\n",
      "           u'i_name': u'data_submission_review'},\n",
      "  u'status': u'sub_start',\n",
      "  u'sub': {u'activity': {u'commit_hash': u'ee8acab4267e071e6d3ae33719c8101c89274e36',\n",
      "                         u'i_name': u'submission_activity',\n",
      "                         u'keyword': u'123',\n",
      "                         u'pwd': u'3G1YAO',\n",
      "                         u'status': u'completed',\n",
      "                         u'submission_comment': u'',\n",
      "                         u'submission_method': u''},\n",
      "           u'agent': {u'email': u'stephan.kindermann@gmail.com',\n",
      "                      u'first_name': u'unit_tester',\n",
      "                      u'i_name': u'submission_agent',\n",
      "                      u'key_word': u'',\n",
      "                      u'last_name': u'testsuite'},\n",
      "           u'entity_in': {u'form_json': u'/home/stephan/form_notebooks/test/test_testsuite_123.json',\n",
      "                          u'form_path': u'/home/stephan/form_notebooks/test/test_testsuite_123.ipynb',\n",
      "                          u'form_template_version': u'',\n",
      "                          u'i_name': u'submission_form_template_entity',\n",
      "                          u'source_path': u'/home/stephan/submission_forms/dkrz_forms/Templates/test_submission_form.ipynb',\n",
      "                          u'tag': u''},\n",
      "           u'entity_out': {u'check_status': u'consistency_checked',\n",
      "                           u'checks_done': u'',\n",
      "                           u'form_dir': u'',\n",
      "                           u'form_json': u'/home/stephan/Forms/local_repo/test/test_testsuite_123.json',\n",
      "                           u'form_name': u'test_testsuite_123',\n",
      "                           u'form_path': u'',\n",
      "                           u'form_repo': u'/home/stephan/Forms/local_repo/test',\n",
      "                           u'form_repo_path': u'/home/stephan/Forms/local_repo/test/test_testsuite_123.ipynb',\n",
      "                           u'i_name': u'submission_form_entity',\n",
      "                           u'pwd': u'3G1YAO',\n",
      "                           u'repo': u'',\n",
      "                           u'report': {u'comment': u'',\n",
      "                                       u'project': u'test'},\n",
      "                           u'status': u'checked',\n",
      "                           u'tag': u''},\n",
      "           u'form_dir': u'/home/stephan/form_notebooks/test',\n",
      "           u'i_name': u'data_submission',\n",
      "           u'id': u'62e4a61d-693c-11e7-8a44-080027a5bc96',\n",
      "           u'submission_repo': u'/home/stephan/Forms/submission_repo/test',\n",
      "           u'timestamp': u'2017-07-15 11:02:53.694575'},\n",
      "  u'workflow': [[u'sub', u'data_submission'],\n",
      "                [u'rev', u'data_submission_review'],\n",
      "                [u'ing', u'data_ingest'],\n",
      "                [u'qua', u'data_quality_assurance'],\n",
      "                [u'pub', u'data_publication']]}]\n",
      "[]\n"
     ]
    }
   ],
   "source": [
    "\n",
    "pprint(results1)\n",
    "pprint(results2)"
   ]
  },
  {
   "cell_type": "code",
   "execution_count": null,
   "metadata": {},
   "outputs": [],
   "source": [
    "db.all()"
   ]
  },
  {
   "cell_type": "code",
   "execution_count": null,
   "metadata": {
    "collapsed": true
   },
   "outputs": [],
   "source": []
  }
 ],
 "metadata": {
  "kernelspec": {
   "display_name": "conda env: forms2",
   "language": "python",
   "name": "forms2"
  },
  "language_info": {
   "codemirror_mode": {
    "name": "ipython",
    "version": 2
   },
   "file_extension": ".py",
   "mimetype": "text/x-python",
   "name": "python",
   "nbconvert_exporter": "python",
   "pygments_lexer": "ipython2",
   "version": "2.7.13"
  }
 },
 "nbformat": 4,
 "nbformat_minor": 1
}
