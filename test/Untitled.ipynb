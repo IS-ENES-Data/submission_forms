{
 "cells": [
  {
   "cell_type": "code",
   "execution_count": 4,
   "metadata": {
    "collapsed": false
   },
   "outputs": [
    {
     "data": {
      "text/plain": [
       "'\\n             Form object for project CORDEX\\n            \\n             Workflow step related sub-forms (filled by data managers):\\n               - sub: data submission form\\n               - rev: data review_form\\n               - ing: data ingest form\\n               - qua: data quality assurance form\\n               - pub: data publication form\\n               \\n            \\n             \\n             Each workfow step form is structured according to\\n               - entity_in : input information for this step\\n               - entity_out: output information for this step\\n               - agent: information related to responsible party for this step\\n               - activity: information related the workflow step execution\\n               \\n              End user provided form information is stored in:\\n             \\n             _this_form_object.sub.entity_out.form  \\n             \\n             The following end user attributes are defined:\\n           \\n               - project: project this form is related to\\n               - workflow: the workflow steps\\n               '"
      ]
     },
     "execution_count": 4,
     "metadata": {},
     "output_type": "execute_result"
    }
   ],
   "source": [
    "from string import Template\n",
    "\n",
    "mystring =  Template( \"\"\"\n",
    "             Form object for project $project\n",
    "            \n",
    "             Workflow step related sub-forms (filled by data managers):\n",
    "               - sub: data submission form\n",
    "               - rev: data review_form\n",
    "               - ing: data ingest form\n",
    "               - qua: data quality assurance form\n",
    "               - pub: data publication form\n",
    "               \n",
    "            \n",
    "             \n",
    "             Each workfow step form is structured according to\n",
    "               - entity_in : input information for this step\n",
    "               - entity_out: output information for this step\n",
    "               - agent: information related to responsible party for this step\n",
    "               - activity: information related the workflow step execution\n",
    "               \n",
    "              End user provided form information is stored in:\n",
    "             \n",
    "             _this_form_object.sub.entity_out.form  \n",
    "             \n",
    "             The following end user attributes are defined:\n",
    "           \n",
    "               - project: project this form is related to\n",
    "               - workflow: the workflow steps\n",
    "               \"\"\")\n",
    "\n",
    "mystring.substitute(project='CORDEX')\n",
    "#print mystring"
   ]
  },
  {
   "cell_type": "code",
   "execution_count": 5,
   "metadata": {
    "collapsed": false
   },
   "outputs": [
    {
     "data": {
      "text/plain": [
       "'xx'"
      ]
     },
     "execution_count": 5,
     "metadata": {},
     "output_type": "execute_result"
    }
   ],
   "source": [
    "a_dict.pop('__doc__')"
   ]
  },
  {
   "cell_type": "code",
   "execution_count": 6,
   "metadata": {
    "collapsed": false
   },
   "outputs": [
    {
     "data": {
      "text/plain": [
       "{'a': 'b', 'c': {'__doc__': 'xx', 'a': 'b'}}"
      ]
     },
     "execution_count": 6,
     "metadata": {},
     "output_type": "execute_result"
    }
   ],
   "source": [
    " a_dict"
   ]
  },
  {
   "cell_type": "code",
   "execution_count": null,
   "metadata": {
    "collapsed": true
   },
   "outputs": [],
   "source": []
  }
 ],
 "metadata": {
  "anaconda-cloud": {},
  "kernelspec": {
   "display_name": "Python [conda env:generic1]",
   "language": "python",
   "name": "conda-env-generic1-py"
  },
  "language_info": {
   "codemirror_mode": {
    "name": "ipython",
    "version": 2
   },
   "file_extension": ".py",
   "mimetype": "text/x-python",
   "name": "python",
   "nbconvert_exporter": "python",
   "pygments_lexer": "ipython2",
   "version": "2.7.11"
  }
 },
 "nbformat": 4,
 "nbformat_minor": 0
}
