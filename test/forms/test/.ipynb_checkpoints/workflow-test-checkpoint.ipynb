{
 "cells": [
  {
   "cell_type": "markdown",
   "metadata": {},
   "source": [
    "# Step by step workflow test notebook"
   ]
  },
  {
   "cell_type": "code",
   "execution_count": 1,
   "metadata": {
    "collapsed": true
   },
   "outputs": [],
   "source": [
    "%load_ext autoreload\n",
    "%autoreload 2"
   ]
  },
  {
   "cell_type": "code",
   "execution_count": 2,
   "metadata": {
    "collapsed": false,
    "scrolled": true
   },
   "outputs": [
    {
     "name": "stdout",
     "output_type": "stream",
     "text": [
      "Project directory:  /home/stephan/tmp/Repos/form_repo/test\n"
     ]
    }
   ],
   "source": [
    "import logging as log\n",
    "import os\n",
    "from dkrz_forms import form_handler\n",
    "from test import test_steps\n",
    "from dkrz_forms.config.project_config import FORM_REPO\n",
    "vprint = form_handler.vprint "
   ]
  },
  {
   "cell_type": "markdown",
   "metadata": {
    "collapsed": false
   },
   "source": [
    "## Generate a personal submission form based on a project template"
   ]
  },
  {
   "cell_type": "code",
   "execution_count": null,
   "metadata": {
    "collapsed": false
   },
   "outputs": [],
   "source": []
  },
  {
   "cell_type": "code",
   "execution_count": 3,
   "metadata": {
    "collapsed": false
   },
   "outputs": [
    {
     "name": "stdout",
     "output_type": "stream",
     "text": [
      "Form Handler: Initialized form for project: test\n",
      "submission form intitialized: sf\n",
      "(For the curious: the sf object is used in the following to store and manage all your information)\n",
      "{'da': {'activity': {'comment': '',\n",
      "                     'status': '',\n",
      "                     'ticket_id': '',\n",
      "                     'timestamp': ''},\n",
      "        'agent': {'responsible_person': ''},\n",
      "        'entities out': {'checks_done': 'none',\n",
      "                         'form_name': '',\n",
      "                         'form_path': '',\n",
      "                         'form_repo_path': '',\n",
      "                         'package_name': '',\n",
      "                         'package_path': '',\n",
      "                         'subform_path': ''},\n",
      "        'entities_in': {'checks_done': 'none',\n",
      "                        'form_name': '',\n",
      "                        'form_path': '',\n",
      "                        'form_repo_path': '',\n",
      "                        'package_name': '',\n",
      "                        'package_path': '',\n",
      "                        'subform_path': ''}},\n",
      " 'form_dir': '/home/stephan/Repos/ENES-EUDAT/submission_forms/test/forms/test',\n",
      " 'form_repo': '/home/stephan/tmp/Repos/form_repo/test',\n",
      " 'ing': {'activity': {'comment': '',\n",
      "                      'status': '',\n",
      "                      'ticket_id': '',\n",
      "                      'timestamp_finished': '',\n",
      "                      'timestamp_started': ''},\n",
      "         'agent': {'responsible_person': ''},\n",
      "         'entitiy_in': {'checks_done': 'none',\n",
      "                        'form_name': '',\n",
      "                        'form_path': '',\n",
      "                        'form_repo_path': '',\n",
      "                        'package_name': '',\n",
      "                        'package_path': '',\n",
      "                        'subform_path': ''},\n",
      "         'entitiy_out': {'checks_done': 'none',\n",
      "                         'form_name': '',\n",
      "                         'form_path': '',\n",
      "                         'form_repo_path': '',\n",
      "                         'package_name': '',\n",
      "                         'package_path': '',\n",
      "                         'subform_path': ''}},\n",
      " 'project': 'test',\n",
      " 'pub': {'activity': {'comment': '',\n",
      "                      'status': '',\n",
      "                      'ticket_id': '',\n",
      "                      'timestamp': ''},\n",
      "         'agent': {'responsible_person': ''},\n",
      "         'entity_in': {'checks_done': 'none',\n",
      "                       'form_name': '',\n",
      "                       'form_path': '',\n",
      "                       'form_repo_path': '',\n",
      "                       'package_name': '',\n",
      "                       'package_path': '',\n",
      "                       'subform_path': ''},\n",
      "         'entity_out': {'checks_done': 'none',\n",
      "                        'form_name': '',\n",
      "                        'form_path': '',\n",
      "                        'form_repo_path': '',\n",
      "                        'package_name': '',\n",
      "                        'package_path': '',\n",
      "                        'subform_path': ''}},\n",
      " 'qua': {'activity': {'comment': '',\n",
      "                      'follow_up_ticket': '',\n",
      "                      'status': '',\n",
      "                      'ticket_id': '',\n",
      "                      'timestamp_finished': '',\n",
      "                      'timestamp_started': ''},\n",
      "         'agent': {'responsible_person': ''},\n",
      "         'entity_in': {'checks_done': 'none',\n",
      "                       'form_name': '',\n",
      "                       'form_path': '',\n",
      "                       'form_repo_path': '',\n",
      "                       'package_name': '',\n",
      "                       'package_path': '',\n",
      "                       'subform_path': ''},\n",
      "         'entity_out': {'checks_done': 'none',\n",
      "                        'form_name': '',\n",
      "                        'form_path': '',\n",
      "                        'form_repo_path': '',\n",
      "                        'package_name': '',\n",
      "                        'package_path': '',\n",
      "                        'subform_path': ''}},\n",
      " 'rev': {'activity': {'review_comment': '', 'ticket_id': 0, 'ticket_url': ''},\n",
      "         'agent': {'responsible_person': ''},\n",
      "         'entity_in': {'checks_done': 'none',\n",
      "                       'form_name': '',\n",
      "                       'form_path': '',\n",
      "                       'form_repo_path': '',\n",
      "                       'package_name': '',\n",
      "                       'package_path': '',\n",
      "                       'subform_path': ''},\n",
      "         'entity_out': {'report_ticket_subject': '', 'review_summary': ''}},\n",
      " 'sub': {'activity': {'keyword': '1234',\n",
      "                      'pwd': 'test123',\n",
      "                      'submission_comment': '',\n",
      "                      'submission_method': ''},\n",
      "         'agent': {'email': 'stephan.kindermann@gmail.com',\n",
      "                   'first_name': 'unit_tester',\n",
      "                   'key_word': '',\n",
      "                   'last_name': 'testsuite'},\n",
      "         'entity_in': {'form_json': '/home/stephan/Repos/ENES-EUDAT/submission_forms/test/forms/test/test_testsuite_1234.json',\n",
      "                       'form_path': '/home/stephan/Repos/ENES-EUDAT/submission_forms/test/forms/test/test_testsuite_1234.ipynb',\n",
      "                       'form_version': '',\n",
      "                       'source_path': ''},\n",
      "         'entity_out': {'checks_done': 'none',\n",
      "                        'form_json': '/home/stephan/tmp/Repos/form_repo/test/test_testsuite_1234.json',\n",
      "                        'form_name': 'test_testsuite_1234',\n",
      "                        'form_path': '',\n",
      "                        'form_repo': ('/home/stephan/tmp/Repos/form_repo/test',),\n",
      "                        'form_repo_path': '/home/stephan/tmp/Repos/form_repo/test/test_testsuite_1234.ipynb',\n",
      "                        'package_name': '',\n",
      "                        'package_path': '',\n",
      "                        'subform_path': ''},\n",
      "         'id': '350c04c4-2f0b-11e7-852a-080027f178b4'},\n",
      " 'submission_repo': '/home/stephan/tmp/Repos/submission_repo/test',\n",
      " 'workflow': [('sub', 'data_submission'),\n",
      "              ('rev', 'data_submission_review'),\n",
      "              ('ing', 'data_ingest'),\n",
      "              ('qua', 'data_quality_assurance'),\n",
      "              ('pub', 'data_publication'),\n",
      "              ('da', 'data_archival')]}\n"
     ]
    }
   ],
   "source": [
    "### form generation\n",
    "import pprint\n",
    "test_steps.test_init_form()\n",
    "\n",
    "sf = test_steps.sf\n",
    "\n",
    "pprint.pprint(form_handler.form_to_dict(sf))"
   ]
  },
  {
   "cell_type": "markdown",
   "metadata": {},
   "source": [
    "### Retrieve the private template (pwd protected) and make changes form"
   ]
  },
  {
   "cell_type": "code",
   "execution_count": 4,
   "metadata": {
    "collapsed": false
   },
   "outputs": [
    {
     "name": "stdout",
     "output_type": "stream",
     "text": [
      "Form Handler: Initialized form for project: test\n",
      "--------------------------------------------------------------------\n",
      "   A submission form was created for you, please visit the following link:\n",
      "http://localhost:8888/notebooks/Repos/ENES-EUDAT/submission_forms/test/forms/test/test_testsuite_1234.ipynb\n",
      "--------------------------------------------------------------------\n",
      "  !!  current version saved in repository\n",
      "  !!  the above link is only valid for the next 5 hours\n",
      "  !!  to retrieve the form after this use the following link: \n",
      "       http://localhost:888/notebooks.tst \n",
      "       with the password: test123\n"
     ]
    }
   ],
   "source": [
    "test_steps.test_generate_submission_form()"
   ]
  },
  {
   "cell_type": "markdown",
   "metadata": {
    "collapsed": true
   },
   "source": [
    "### Retrieve a partially filled form and complete it"
   ]
  },
  {
   "cell_type": "code",
   "execution_count": 5,
   "metadata": {
    "collapsed": false
   },
   "outputs": [
    {
     "name": "stdout",
     "output_type": "stream",
     "text": [
      "\n",
      "\n",
      "Form Handler - save form status message:\n",
      " --- form stored in transfer format in: /home/stephan/tmp/Repos/form_repo/test/test_testsuite_1234.json\n",
      " --- commit message:[master 38baa78] Form Handler: submission form for user testsuite saved using prefix test_testsuite_1234 ## test: formcompletion()\n",
      " 1 file changed, 5 insertions(+), 2 deletions(-)\n",
      "DKRZ Form object\n"
     ]
    }
   ],
   "source": [
    "test_steps.test_form_completion()\n",
    "\n",
    "print test_steps.sf"
   ]
  },
  {
   "cell_type": "markdown",
   "metadata": {},
   "source": [
    "### Submit a completed form"
   ]
  },
  {
   "cell_type": "code",
   "execution_count": 6,
   "metadata": {
    "collapsed": false,
    "scrolled": true
   },
   "outputs": [
    {
     "name": "stdout",
     "output_type": "stream",
     "text": [
      "No global submission repo !!!\n",
      "Push to global submission repo failed !\n",
      "Please send form: /home/stephan/Repos/ENES-EUDAT/submission_forms/test/forms/test/test_testsuite_1234.ipynb\n",
      "\n",
      "to data@dkrz.de with subject \"DKRZ data submission form for project\" test\n"
     ]
    }
   ],
   "source": [
    "test_steps.test_form_submission()"
   ]
  },
  {
   "cell_type": "markdown",
   "metadata": {
    "collapsed": true
   },
   "source": [
    "### Admin workflow step 1: form validation"
   ]
  },
  {
   "cell_type": "code",
   "execution_count": 7,
   "metadata": {
    "collapsed": false
   },
   "outputs": [
    {
     "name": "stdout",
     "output_type": "stream",
     "text": [
      "\n",
      "\n",
      "Form Handler - save form status message:\n",
      " --- form stored in transfer format in: /home/stephan/tmp/Repos/form_repo/test/test_testsuite_1234.json\n",
      " --- commit message:[master eb69b85] Form Handler: submission form for user testsuite saved using prefix test_testsuite_1234 ## test: formcheck_start()\n",
      " 1 file changed, 5 insertions(+), 3 deletions(-)\n"
     ]
    },
    {
     "ename": "AssertionError",
     "evalue": "",
     "output_type": "error",
     "traceback": [
      "\u001b[0;31m---------------------------------------------------------------------------\u001b[0m",
      "\u001b[0;31mAssertionError\u001b[0m                            Traceback (most recent call last)",
      "\u001b[0;32m<ipython-input-7-98dfdbad891b>\u001b[0m in \u001b[0;36m<module>\u001b[0;34m()\u001b[0m\n\u001b[0;32m----> 1\u001b[0;31m \u001b[0mtest_steps\u001b[0m\u001b[0;34m.\u001b[0m\u001b[0mtest_form_review\u001b[0m\u001b[0;34m(\u001b[0m\u001b[0;34m)\u001b[0m\u001b[0;34m\u001b[0m\u001b[0m\n\u001b[0m",
      "\u001b[0;32m/home/stephan/Repos/ENES-EUDAT/submission_forms/test/test_steps.pyc\u001b[0m in \u001b[0;36mtest_form_review\u001b[0;34m()\u001b[0m\n\u001b[1;32m    119\u001b[0m     \u001b[0msf\u001b[0m \u001b[0;34m=\u001b[0m \u001b[0mform_handler\u001b[0m\u001b[0;34m.\u001b[0m\u001b[0msave_form\u001b[0m\u001b[0;34m(\u001b[0m\u001b[0mworkflow_form\u001b[0m\u001b[0;34m,\u001b[0m \u001b[0;34m\"test: formcheck_start()\"\u001b[0m\u001b[0;34m)\u001b[0m\u001b[0;34m\u001b[0m\u001b[0m\n\u001b[1;32m    120\u001b[0m \u001b[0;34m\u001b[0m\u001b[0m\n\u001b[0;32m--> 121\u001b[0;31m     \u001b[0;32massert\u001b[0m \u001b[0msf\u001b[0m\u001b[0;34m.\u001b[0m\u001b[0msub\u001b[0m\u001b[0;34m.\u001b[0m\u001b[0mentity_out\u001b[0m\u001b[0;34m.\u001b[0m\u001b[0mstatus\u001b[0m  \u001b[0;34m==\u001b[0m \u001b[0;34m\"reviewed\"\u001b[0m\u001b[0;34m\u001b[0m\u001b[0m\n\u001b[0m\u001b[1;32m    122\u001b[0m \u001b[0;34m\u001b[0m\u001b[0m\n\u001b[1;32m    123\u001b[0m \u001b[0;34m\u001b[0m\u001b[0m\n",
      "\u001b[0;31mAssertionError\u001b[0m: "
     ]
    }
   ],
   "source": [
    "test_steps.test_form_review()\n",
    "print sf.__dict__"
   ]
  },
  {
   "cell_type": "code",
   "execution_count": null,
   "metadata": {
    "collapsed": false
   },
   "outputs": [],
   "source": []
  },
  {
   "cell_type": "code",
   "execution_count": null,
   "metadata": {
    "collapsed": true
   },
   "outputs": [],
   "source": []
  },
  {
   "cell_type": "code",
   "execution_count": null,
   "metadata": {
    "collapsed": false
   },
   "outputs": [],
   "source": []
  },
  {
   "cell_type": "code",
   "execution_count": null,
   "metadata": {
    "collapsed": false
   },
   "outputs": [],
   "source": [
    "d.a"
   ]
  },
  {
   "cell_type": "code",
   "execution_count": null,
   "metadata": {
    "collapsed": true
   },
   "outputs": [],
   "source": []
  }
 ],
 "metadata": {
  "anaconda-cloud": {},
  "kernelspec": {
   "display_name": "Python [conda env:generic1]",
   "language": "python",
   "name": "conda-env-generic1-py"
  },
  "language_info": {
   "codemirror_mode": {
    "name": "ipython",
    "version": 2
   },
   "file_extension": ".py",
   "mimetype": "text/x-python",
   "name": "python",
   "nbconvert_exporter": "python",
   "pygments_lexer": "ipython2",
   "version": "2.7.11"
  }
 },
 "nbformat": 4,
 "nbformat_minor": 0
}
