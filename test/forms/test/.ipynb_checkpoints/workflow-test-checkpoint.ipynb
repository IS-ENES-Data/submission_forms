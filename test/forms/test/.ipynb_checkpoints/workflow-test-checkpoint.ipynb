{
 "cells": [
  {
   "cell_type": "markdown",
   "metadata": {},
   "source": [
    "# Step by step workflow test notebook"
   ]
  },
  {
   "cell_type": "code",
   "execution_count": 1,
   "metadata": {
    "collapsed": true
   },
   "outputs": [],
   "source": [
    "%load_ext autoreload\n",
    "%autoreload 2"
   ]
  },
  {
   "cell_type": "code",
   "execution_count": 14,
   "metadata": {
    "collapsed": false
   },
   "outputs": [
    {
     "name": "stdout",
     "output_type": "stream",
     "text": [
      "Project directory:  /home/stephan/tmp/Repos/form_repo/test\n"
     ]
    }
   ],
   "source": [
    "import logging as log\n",
    "import os\n",
    "from dkrz_forms import form_handler\n",
    "from test import test_steps\n",
    "from dkrz_forms.config.project_config import FORM_REPO\n",
    "vprint = form_handler.vprint "
   ]
  },
  {
   "cell_type": "markdown",
   "metadata": {
    "collapsed": false
   },
   "source": [
    "## Generate a personal submission form based on a project template"
   ]
  },
  {
   "cell_type": "code",
   "execution_count": 16,
   "metadata": {
    "collapsed": false
   },
   "outputs": [],
   "source": [
    "### form generation\n",
    "from test import test_steps\n",
    "test_steps.test_init_form()\n",
    "\n",
    "print sf\n",
    "#assert os.path.exists(FORM_REPO+'/'+init_form['project']) == 1\n",
    "#assert sf.form_repo == FORM_REPO+'/'+init_form['project']\n",
    "#assert sf.sub.agent.last_name == \"testsuite\"\n",
    "# assert sf.sub.activity. ..  --> to do \n",
    "files = os.listdir(sf.form_repo)\n",
    "vprint(files)\n",
    "#assert sf.sub.entity_out.form_repo_path in files\n",
    "#assert sf.sub.entity_out.package_path in files"
   ]
  },
  {
   "cell_type": "code",
   "execution_count": null,
   "metadata": {
    "collapsed": true
   },
   "outputs": [],
   "source": [
    "import shelve\n",
    "\n",
    "s = shelve.open('test_shelf.db')\n",
    "try:\n",
    "    s['key1'] = { 'int': 10, 'float':9.5, 'string':'Sample data' }\n",
    "finally:\n",
    "    s.close()"
   ]
  },
  {
   "cell_type": "code",
   "execution_count": null,
   "metadata": {
    "collapsed": false
   },
   "outputs": [],
   "source": [
    "!ls\n"
   ]
  },
  {
   "cell_type": "code",
   "execution_count": null,
   "metadata": {
    "collapsed": true
   },
   "outputs": [],
   "source": [
    "!"
   ]
  }
 ],
 "metadata": {
  "anaconda-cloud": {},
  "kernelspec": {
   "display_name": "Python [conda env:generic1]",
   "language": "python",
   "name": "conda-env-generic1-py"
  },
  "language_info": {
   "codemirror_mode": {
    "name": "ipython",
    "version": 2
   },
   "file_extension": ".py",
   "mimetype": "text/x-python",
   "name": "python",
   "nbconvert_exporter": "python",
   "pygments_lexer": "ipython2",
   "version": "2.7.11"
  }
 },
 "nbformat": 4,
 "nbformat_minor": 0
}
