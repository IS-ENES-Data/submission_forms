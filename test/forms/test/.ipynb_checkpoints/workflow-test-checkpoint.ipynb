{
 "cells": [
  {
   "cell_type": "markdown",
   "metadata": {},
   "source": [
    "# Step by step workflow test notebook"
   ]
  },
  {
   "cell_type": "code",
   "execution_count": 1,
   "metadata": {
    "collapsed": true
   },
   "outputs": [],
   "source": [
    "%load_ext autoreload\n",
    "%autoreload 2"
   ]
  },
  {
   "cell_type": "code",
   "execution_count": 2,
   "metadata": {
    "collapsed": false
   },
   "outputs": [
    {
     "name": "stdout",
     "output_type": "stream",
     "text": [
      "Project directory:  /home/stephan/tmp/Repos/form_repo/test\n"
     ]
    }
   ],
   "source": [
    "import logging as log\n",
    "import os\n",
    "from dkrz_forms import form_handler\n",
    "from test import test_steps\n",
    "from dkrz_forms.config.project_config import FORM_REPO\n",
    "vprint = form_handler.vprint "
   ]
  },
  {
   "cell_type": "markdown",
   "metadata": {
    "collapsed": false
   },
   "source": [
    "## Generate a personal submission form based on a project template"
   ]
  },
  {
   "cell_type": "code",
   "execution_count": 18,
   "metadata": {
    "collapsed": false
   },
   "outputs": [
    {
     "ename": "NameError",
     "evalue": "name 'text' is not defined",
     "output_type": "error",
     "traceback": [
      "\u001b[0;31m---------------------------------------------------------------------------\u001b[0m",
      "\u001b[0;31mNameError\u001b[0m                                 Traceback (most recent call last)",
      "\u001b[0;32m<ipython-input-18-e4b2db46c7b5>\u001b[0m in \u001b[0;36m<module>\u001b[0;34m()\u001b[0m\n\u001b[1;32m     22\u001b[0m \u001b[0;34m\u001b[0m\u001b[0m\n\u001b[1;32m     23\u001b[0m \u001b[0mtest\u001b[0m\u001b[0;34m.\u001b[0m\u001b[0mx\u001b[0m \u001b[0;34m=\u001b[0m \u001b[0;36m10\u001b[0m\u001b[0;34m\u001b[0m\u001b[0m\n\u001b[0;32m---> 24\u001b[0;31m \u001b[0mtext\u001b[0m\u001b[0;34m.\u001b[0m\u001b[0my\u001b[0m \u001b[0;34m=\u001b[0m \u001b[0;36m20\u001b[0m\u001b[0;34m\u001b[0m\u001b[0m\n\u001b[0m",
      "\u001b[0;31mNameError\u001b[0m: name 'text' is not defined"
     ]
    }
   ],
   "source": []
  },
  {
   "cell_type": "code",
   "execution_count": 4,
   "metadata": {
    "collapsed": false
   },
   "outputs": [
    {
     "name": "stdout",
     "output_type": "stream",
     "text": [
      "{'qua': DKRZ Form object, 'sub': DKRZ Form object, 'workflow': [('sub', 'data_submission'), ('rev', 'data_submission_review'), ('ing', 'data_ingest'), ('qua', 'data_quality_assurance'), ('pub', 'data_publication'), ('da', 'data_archival')], 'form_repo': '/home/stephan/tmp/Repos/form_repo/test', 'rev': DKRZ Form object, 'pub': DKRZ Form object, 'da': DKRZ Form object, 'project': 'test', 'form_dir': '/home/stephan/Repos/ENES-EUDAT/submission_forms/test/forms/test', 'ing': DKRZ Form object, 'submission_repo': '/home/stephan/tmp/Repos/submission_repo/test'}\n",
      "Form Handler: Initialized form for project: test\n",
      "submission form intitialized: sf\n",
      "(For the curious: the sf object is used in the following to store and manage all your information)\n",
      "{'da': {'activity': {'comment': '',\n",
      "                     'status': '',\n",
      "                     'ticket_id': '',\n",
      "                     'timestamp': ''},\n",
      "        'agent': {'responsible_person': ''},\n",
      "        'entities out': {'checks_done': 'none',\n",
      "                         'form_name': '',\n",
      "                         'form_path': '',\n",
      "                         'form_repo_path': '',\n",
      "                         'package_name': '',\n",
      "                         'package_path': '',\n",
      "                         'subform_path': ''},\n",
      "        'entities_in': {'checks_done': 'none',\n",
      "                        'form_name': '',\n",
      "                        'form_path': '',\n",
      "                        'form_repo_path': '',\n",
      "                        'package_name': '',\n",
      "                        'package_path': '',\n",
      "                        'subform_path': ''}},\n",
      " 'form_dir': '/home/stephan/Repos/ENES-EUDAT/submission_forms/test/forms/test',\n",
      " 'form_repo': '/home/stephan/tmp/Repos/form_repo/test',\n",
      " 'ing': {'activity': {'comment': '',\n",
      "                      'status': '',\n",
      "                      'ticket_id': '',\n",
      "                      'timestamp_finished': '',\n",
      "                      'timestamp_started': ''},\n",
      "         'agent': {'responsible_person': ''},\n",
      "         'entitiy out': {'checks_done': 'none',\n",
      "                         'form_name': '',\n",
      "                         'form_path': '',\n",
      "                         'form_repo_path': '',\n",
      "                         'package_name': '',\n",
      "                         'package_path': '',\n",
      "                         'subform_path': ''},\n",
      "         'entitiy_in': {'checks_done': 'none',\n",
      "                        'form_name': '',\n",
      "                        'form_path': '',\n",
      "                        'form_repo_path': '',\n",
      "                        'package_name': '',\n",
      "                        'package_path': '',\n",
      "                        'subform_path': ''}},\n",
      " 'project': 'test',\n",
      " 'pub': {'activity': {'comment': '',\n",
      "                      'status': '',\n",
      "                      'ticket_id': '',\n",
      "                      'timestamp': ''},\n",
      "         'agent': {'responsible_person': ''},\n",
      "         'entity out': {'checks_done': 'none',\n",
      "                        'form_name': '',\n",
      "                        'form_path': '',\n",
      "                        'form_repo_path': '',\n",
      "                        'package_name': '',\n",
      "                        'package_path': '',\n",
      "                        'subform_path': ''},\n",
      "         'entity_in': {'checks_done': 'none',\n",
      "                       'form_name': '',\n",
      "                       'form_path': '',\n",
      "                       'form_repo_path': '',\n",
      "                       'package_name': '',\n",
      "                       'package_path': '',\n",
      "                       'subform_path': ''}},\n",
      " 'qua': {'activity': {'comment': '',\n",
      "                      'follow_up_ticket': '',\n",
      "                      'status': '',\n",
      "                      'ticket_id': '',\n",
      "                      'timestamp_finished': '',\n",
      "                      'timestamp_started': ''},\n",
      "         'agent': {'responsible_person': ''},\n",
      "         'entity out': {'checks_done': 'none',\n",
      "                        'form_name': '',\n",
      "                        'form_path': '',\n",
      "                        'form_repo_path': '',\n",
      "                        'package_name': '',\n",
      "                        'package_path': '',\n",
      "                        'subform_path': ''},\n",
      "         'entity_in': {'checks_done': 'none',\n",
      "                       'form_name': '',\n",
      "                       'form_path': '',\n",
      "                       'form_repo_path': '',\n",
      "                       'package_name': '',\n",
      "                       'package_path': '',\n",
      "                       'subform_path': ''}},\n",
      " 'rev': {'activity': {'review_comment': '', 'ticket_id': 0, 'ticket_url': ''},\n",
      "         'agent': {'responsible_person': ''},\n",
      "         'entity out': {'checks_done': 'none',\n",
      "                        'form_name': '',\n",
      "                        'form_path': '',\n",
      "                        'form_repo_path': '',\n",
      "                        'package_name': '',\n",
      "                        'package_path': '',\n",
      "                        'subform_path': ''},\n",
      "         'entity_in': {'checks_done': 'none',\n",
      "                       'form_name': '',\n",
      "                       'form_path': '',\n",
      "                       'form_repo_path': '',\n",
      "                       'package_name': '',\n",
      "                       'package_path': '',\n",
      "                       'subform_path': ''}},\n",
      " 'sub': {'activity': {'keyword': '1234',\n",
      "                      'pwd': 'test123',\n",
      "                      'submission_comment': '',\n",
      "                      'submission_method': ''},\n",
      "         'agent': {'email': 'stephan.kindermann@gmail.com',\n",
      "                   'first_name': 'unit_tester',\n",
      "                   'key_word': '',\n",
      "                   'last_name': 'testsuite'},\n",
      "         'entity_in': {'form_json': '/home/stephan/Repos/ENES-EUDAT/submission_forms/test/forms/test/test_testsuite_1234.json',\n",
      "                       'form_path': '/home/stephan/Repos/ENES-EUDAT/submission_forms/test/forms/test/test_testsuite_1234.ipynb',\n",
      "                       'form_version': '',\n",
      "                       'source_path': ''},\n",
      "         'entity_out': {'checks_done': 'none',\n",
      "                        'form_json': '/home/stephan/tmp/Repos/form_repo/test/test_testsuite_1234.json',\n",
      "                        'form_name': 'test_testsuite_1234',\n",
      "                        'form_path': '',\n",
      "                        'form_repo': ('/home/stephan/tmp/Repos/form_repo/test',),\n",
      "                        'form_repo_path': '/home/stephan/tmp/Repos/form_repo/test/test_testsuite_1234.ipynb',\n",
      "                        'package_name': '',\n",
      "                        'package_path': '',\n",
      "                        'subform_path': ''},\n",
      "         'id': '3107b274-2c2c-11e7-98bc-080027f178b4'},\n",
      " 'submission_repo': '/home/stephan/tmp/Repos/submission_repo/test',\n",
      " 'workflow': [('sub', 'data_submission'),\n",
      "              ('rev', 'data_submission_review'),\n",
      "              ('ing', 'data_ingest'),\n",
      "              ('qua', 'data_quality_assurance'),\n",
      "              ('pub', 'data_publication'),\n",
      "              ('da', 'data_archival')]}\n"
     ]
    }
   ],
   "source": [
    "### form generation\n",
    "import pprint\n",
    "test_steps.test_init_form()\n",
    "\n",
    "sf = test_steps.sf\n",
    "\n",
    "pprint.pprint(form_handler.form_to_dict(sf))"
   ]
  },
  {
   "cell_type": "markdown",
   "metadata": {},
   "source": [
    "### Retrieve the private template (pwd protected) and make changes form"
   ]
  },
  {
   "cell_type": "code",
   "execution_count": 5,
   "metadata": {
    "collapsed": false
   },
   "outputs": [
    {
     "name": "stdout",
     "output_type": "stream",
     "text": [
      "{'qua': DKRZ Form object, 'sub': DKRZ Form object, 'workflow': [('sub', 'data_submission'), ('rev', 'data_submission_review'), ('ing', 'data_ingest'), ('qua', 'data_quality_assurance'), ('pub', 'data_publication'), ('da', 'data_archival')], 'form_repo': '/home/stephan/tmp/Repos/form_repo/test', 'rev': DKRZ Form object, 'pub': DKRZ Form object, 'da': DKRZ Form object, 'project': 'test', 'form_dir': '/home/stephan/Repos/ENES-EUDAT/submission_forms/test/forms/test', 'ing': DKRZ Form object, 'submission_repo': '/home/stephan/tmp/Repos/submission_repo/test'}\n",
      "Form Handler: Initialized form for project: test\n",
      "--------------------------------------------------------------------\n",
      "   A submission form was created for you, please visit the following link:\n",
      "http://localhost:8888/notebooks/Repos/ENES-EUDAT/submission_forms/test/forms/test/test_testsuite_1234.ipynb\n",
      "--------------------------------------------------------------------\n",
      "  !!  current version saved in repository\n",
      "  !!  the above link is only valid for the next 5 hours\n",
      "  !!  to retrieve the form after this use the following link: \n",
      "       http://localhost:888/notebooks.tst \n",
      "       with the password: test123\n"
     ]
    }
   ],
   "source": [
    "test_steps.test_generate_submission_form()"
   ]
  },
  {
   "cell_type": "markdown",
   "metadata": {
    "collapsed": true
   },
   "source": [
    "### Retrieve a partially filled form and complete it"
   ]
  },
  {
   "cell_type": "code",
   "execution_count": 6,
   "metadata": {
    "collapsed": false
   },
   "outputs": [
    {
     "name": "stdout",
     "output_type": "stream",
     "text": [
      "\n",
      "\n",
      "Form Handler - save form status message:\n",
      " --- form stored in transfer format in: /home/stephan/tmp/Repos/form_repo/test/test_testsuite_1234.json\n",
      " --- commit message:[master f07da8d] Form Handler: submission form for user testsuite saved using prefix test_testsuite_1234 ## test: formcompletion()\n",
      " 1 file changed, 5 insertions(+), 2 deletions(-)\n",
      "DKRZ Form object\n"
     ]
    }
   ],
   "source": [
    "test_steps.test_form_completion()\n",
    "\n",
    "print test_steps.sf"
   ]
  },
  {
   "cell_type": "markdown",
   "metadata": {},
   "source": [
    "### Submit a completed form"
   ]
  },
  {
   "cell_type": "code",
   "execution_count": 7,
   "metadata": {
    "collapsed": false,
    "scrolled": true
   },
   "outputs": [
    {
     "name": "stdout",
     "output_type": "stream",
     "text": [
      "No global submission repo !!!\n",
      "Push to global submission repo failed !\n",
      "Please send form: /home/stephan/Repos/ENES-EUDAT/submission_forms/test/forms/test/test_testsuite_1234.ipynb\n",
      "\n",
      "to data@dkrz.de with subject \"DKRZ data submission form for project\" test\n"
     ]
    }
   ],
   "source": [
    "test_steps.test_form_submission()"
   ]
  },
  {
   "cell_type": "markdown",
   "metadata": {
    "collapsed": true
   },
   "source": [
    "### Admin workflow step 1: form validation"
   ]
  },
  {
   "cell_type": "code",
   "execution_count": null,
   "metadata": {
    "collapsed": true
   },
   "outputs": [],
   "source": []
  }
 ],
 "metadata": {
  "anaconda-cloud": {},
  "kernelspec": {
   "display_name": "Python [conda env:generic1]",
   "language": "python",
   "name": "conda-env-generic1-py"
  },
  "language_info": {
   "codemirror_mode": {
    "name": "ipython",
    "version": 2
   },
   "file_extension": ".py",
   "mimetype": "text/x-python",
   "name": "python",
   "nbconvert_exporter": "python",
   "pygments_lexer": "ipython2",
   "version": "2.7.11"
  }
 },
 "nbformat": 4,
 "nbformat_minor": 0
}
