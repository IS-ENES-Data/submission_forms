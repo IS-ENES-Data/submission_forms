{
 "cells": [
  {
   "cell_type": "markdown",
   "metadata": {},
   "source": [
    "# Generic DKRZ national archive form \n",
    "\n",
    "\n",
    "This form is intended to provide a generic template for interactive forms e.g. for testing \n",
    "\n",
    "... to be finalized ..."
   ]
  },
  {
   "cell_type": "code",
   "execution_count": null,
   "metadata": {
    "collapsed": true
   },
   "outputs": [],
   "source": [
    "# please edit the (red) information below: Name, email and project the data belongs to\n",
    "from dkrz_forms import form_handler\n",
    "my_project = \"DKRZ_CDP\"\n",
    "\n",
    "my_first_name = \"....\"  # example: sf.first_name = \"Harold\"\n",
    "my_last_name = \"....\"   # example: sf.last_name = \"Mitty\"\n",
    "my_email = \"....\"       # example: sf.email = \"Mr.Mitty@yahoo.com\"\n",
    "my_keyword = \"....\"     # example: sf.keyword = \"mymodel_myrunid\"\n",
    "\n",
    "sf = form_handler.init_form(my_project,my_first_name,my_last_name,my_email,my_keyword)"
   ]
  },
  {
   "cell_type": "markdown",
   "metadata": {},
   "source": [
    "# Edit form information"
   ]
  },
  {
   "cell_type": "code",
   "execution_count": null,
   "metadata": {
    "collapsed": true
   },
   "outputs": [],
   "source": [
    "sf.myattribute = \"myinformation\""
   ]
  },
  {
   "cell_type": "markdown",
   "metadata": {},
   "source": [
    "# Save your form\n",
    "\n",
    "your form will be stored (the form name consists of your last name plut your keyword)"
   ]
  },
  {
   "cell_type": "code",
   "execution_count": null,
   "metadata": {
    "collapsed": true
   },
   "outputs": [],
   "source": [
    "form_handler.save_form(sf,\"..my comment..\") # edit my comment info "
   ]
  },
  {
   "cell_type": "markdown",
   "metadata": {},
   "source": [
    "# officially submit your form\n",
    "the form will be submitted to the DKRZ team to process\n",
    "you also receive a confirmation email with a reference to your online form for future modifications "
   ]
  },
  {
   "cell_type": "code",
   "execution_count": null,
   "metadata": {
    "collapsed": true
   },
   "outputs": [],
   "source": [
    "form_handler.email_form_info(sf)\n",
    "form_handler.form_submission(sf)"
   ]
  }
 ],
 "metadata": {
  "anaconda-cloud": {},
  "kernelspec": {
   "display_name": "Python 3",
   "language": "python",
   "name": "python3"
  },
  "language_info": {
   "codemirror_mode": {
    "name": "ipython",
    "version": 3
   },
   "file_extension": ".py",
   "mimetype": "text/x-python",
   "name": "python",
   "nbconvert_exporter": "python",
   "pygments_lexer": "ipython3",
   "version": "3.4.5"
  }
 },
 "nbformat": 4,
 "nbformat_minor": 0
}
