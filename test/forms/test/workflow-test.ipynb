{
 "cells": [
  {
   "cell_type": "markdown",
   "metadata": {},
   "source": [
    "# Step by step workflow test notebook"
   ]
  },
  {
   "cell_type": "code",
   "execution_count": 1,
   "metadata": {
    "collapsed": true
   },
   "outputs": [],
   "source": [
    "%load_ext autoreload\n",
    "%autoreload 2"
   ]
  },
  {
   "cell_type": "code",
   "execution_count": 2,
   "metadata": {
    "collapsed": false,
    "scrolled": true
   },
   "outputs": [
    {
     "name": "stdout",
     "output_type": "stream",
     "text": [
      "Project directory:  /home/stephan/tmp/Repos/form_repo/test\n"
     ]
    }
   ],
   "source": [
    "import logging as log\n",
    "import os\n",
    "from dkrz_forms import form_handler\n",
    "from test import test_steps\n",
    "from dkrz_forms.config.project_config import FORM_REPO\n",
    "vprint = form_handler.vprint "
   ]
  },
  {
   "cell_type": "markdown",
   "metadata": {
    "collapsed": false
   },
   "source": [
    "## Generate a personal submission form based on a project template"
   ]
  },
  {
   "cell_type": "code",
   "execution_count": null,
   "metadata": {
    "collapsed": false
   },
   "outputs": [],
   "source": []
  },
  {
   "cell_type": "code",
   "execution_count": 3,
   "metadata": {
    "collapsed": false
   },
   "outputs": [
    {
     "name": "stdout",
     "output_type": "stream",
     "text": [
      "Form Handler: Initialized form for project: test\n",
      "submission form intitialized: sf\n",
      "(For the curious: the sf object is used in the following to store and manage all your information)\n",
      "{'da': {'activity': {'comment': '',\n",
      "                     'status': '',\n",
      "                     'ticket_id': '',\n",
      "                     'timestamp': ''},\n",
      "        'agent': {'responsible_person': ''},\n",
      "        'entities out': {'checks_done': 'none',\n",
      "                         'form_name': '',\n",
      "                         'form_path': '',\n",
      "                         'form_repo_path': '',\n",
      "                         'package_name': '',\n",
      "                         'package_path': '',\n",
      "                         'subform_path': ''},\n",
      "        'entities_in': {'checks_done': 'none',\n",
      "                        'form_name': '',\n",
      "                        'form_path': '',\n",
      "                        'form_repo_path': '',\n",
      "                        'package_name': '',\n",
      "                        'package_path': '',\n",
      "                        'subform_path': ''}},\n",
      " 'form_dir': '/home/stephan/Repos/ENES-EUDAT/submission_forms/test/forms/test',\n",
      " 'form_repo': '/home/stephan/tmp/Repos/form_repo/test',\n",
      " 'ing': {'activity': {'comment': '',\n",
      "                      'status': '',\n",
      "                      'ticket_id': '',\n",
      "                      'timestamp_finished': '',\n",
      "                      'timestamp_started': ''},\n",
      "         'agent': {'responsible_person': ''},\n",
      "         'entitiy_in': {'checks_done': 'none',\n",
      "                        'form_name': '',\n",
      "                        'form_path': '',\n",
      "                        'form_repo_path': '',\n",
      "                        'package_name': '',\n",
      "                        'package_path': '',\n",
      "                        'subform_path': ''},\n",
      "         'entitiy_out': {'checks_done': 'none',\n",
      "                         'form_name': '',\n",
      "                         'form_path': '',\n",
      "                         'form_repo_path': '',\n",
      "                         'package_name': '',\n",
      "                         'package_path': '',\n",
      "                         'subform_path': ''}},\n",
      " 'project': 'test',\n",
      " 'pub': {'activity': {'comment': '',\n",
      "                      'status': '',\n",
      "                      'ticket_id': '',\n",
      "                      'timestamp': ''},\n",
      "         'agent': {'responsible_person': ''},\n",
      "         'entity_in': {'checks_done': 'none',\n",
      "                       'form_name': '',\n",
      "                       'form_path': '',\n",
      "                       'form_repo_path': '',\n",
      "                       'package_name': '',\n",
      "                       'package_path': '',\n",
      "                       'subform_path': ''},\n",
      "         'entity_out': {'checks_done': 'none',\n",
      "                        'form_name': '',\n",
      "                        'form_path': '',\n",
      "                        'form_repo_path': '',\n",
      "                        'package_name': '',\n",
      "                        'package_path': '',\n",
      "                        'subform_path': ''}},\n",
      " 'qua': {'activity': {'comment': '',\n",
      "                      'follow_up_ticket': '',\n",
      "                      'status': '',\n",
      "                      'ticket_id': '',\n",
      "                      'timestamp_finished': '',\n",
      "                      'timestamp_started': ''},\n",
      "         'agent': {'responsible_person': ''},\n",
      "         'entity_in': {'checks_done': 'none',\n",
      "                       'form_name': '',\n",
      "                       'form_path': '',\n",
      "                       'form_repo_path': '',\n",
      "                       'package_name': '',\n",
      "                       'package_path': '',\n",
      "                       'subform_path': ''},\n",
      "         'entity_out': {'checks_done': 'none',\n",
      "                        'form_name': '',\n",
      "                        'form_path': '',\n",
      "                        'form_repo_path': '',\n",
      "                        'package_name': '',\n",
      "                        'package_path': '',\n",
      "                        'subform_path': ''}},\n",
      " 'rev': {'activity': {'review_comment': '', 'ticket_id': 0, 'ticket_url': ''},\n",
      "         'agent': {'responsible_person': ''},\n",
      "         'entity_in': {'checks_done': 'none',\n",
      "                       'form_name': '',\n",
      "                       'form_path': '',\n",
      "                       'form_repo_path': '',\n",
      "                       'package_name': '',\n",
      "                       'package_path': '',\n",
      "                       'subform_path': ''},\n",
      "         'entity_out': {'report_ticket_subject': '', 'review_summary': ''}},\n",
      " 'sub': {'activity': {'keyword': '1234',\n",
      "                      'pwd': 'test123',\n",
      "                      'submission_comment': '',\n",
      "                      'submission_method': ''},\n",
      "         'agent': {'email': 'stephan.kindermann@gmail.com',\n",
      "                   'first_name': 'unit_tester',\n",
      "                   'key_word': '',\n",
      "                   'last_name': 'testsuite'},\n",
      "         'entity_in': {'form_json': '/home/stephan/Repos/ENES-EUDAT/submission_forms/test/forms/test/test_testsuite_1234.json',\n",
      "                       'form_path': '/home/stephan/Repos/ENES-EUDAT/submission_forms/test/forms/test/test_testsuite_1234.ipynb',\n",
      "                       'form_version': '',\n",
      "                       'source_path': ''},\n",
      "         'entity_out': {'checks_done': 'none',\n",
      "                        'form_json': '/home/stephan/tmp/Repos/form_repo/test/test_testsuite_1234.json',\n",
      "                        'form_name': 'test_testsuite_1234',\n",
      "                        'form_path': '',\n",
      "                        'form_repo': ('/home/stephan/tmp/Repos/form_repo/test',),\n",
      "                        'form_repo_path': '/home/stephan/tmp/Repos/form_repo/test/test_testsuite_1234.ipynb',\n",
      "                        'package_name': '',\n",
      "                        'package_path': '',\n",
      "                        'subform_path': ''},\n",
      "         'id': 'b9664e0e-2f1b-11e7-aec3-080027f178b4'},\n",
      " 'submission_repo': '/home/stephan/tmp/Repos/submission_repo/test',\n",
      " 'workflow': [('sub', 'data_submission'),\n",
      "              ('rev', 'data_submission_review'),\n",
      "              ('ing', 'data_ingest'),\n",
      "              ('qua', 'data_quality_assurance'),\n",
      "              ('pub', 'data_publication'),\n",
      "              ('da', 'data_archival')]}\n"
     ]
    }
   ],
   "source": [
    "### form generation\n",
    "import pprint\n",
    "test_steps.test_init_form()\n",
    "\n",
    "sf = test_steps.sf\n",
    "\n",
    "pprint.pprint(form_handler.form_to_dict(sf))"
   ]
  },
  {
   "cell_type": "markdown",
   "metadata": {},
   "source": [
    "### Retrieve the private template (pwd protected) and make changes form"
   ]
  },
  {
   "cell_type": "code",
   "execution_count": 4,
   "metadata": {
    "collapsed": false
   },
   "outputs": [
    {
     "name": "stdout",
     "output_type": "stream",
     "text": [
      "Form Handler: Initialized form for project: test\n",
      "--------------------------------------------------------------------\n",
      "   A submission form was created for you, please visit the following link:\n",
      "http://localhost:8888/notebooks/Repos/ENES-EUDAT/submission_forms/test/forms/test/test_testsuite_1234.ipynb\n",
      "--------------------------------------------------------------------\n",
      "  !!  current version saved in repository\n",
      "  !!  the above link is only valid for the next 5 hours\n",
      "  !!  to retrieve the form after this use the following link: \n",
      "       http://localhost:888/notebooks.tst \n",
      "       with the password: test123\n"
     ]
    }
   ],
   "source": [
    "test_steps.test_generate_submission_form()"
   ]
  },
  {
   "cell_type": "markdown",
   "metadata": {
    "collapsed": true
   },
   "source": [
    "### Retrieve a partially filled form and complete it"
   ]
  },
  {
   "cell_type": "code",
   "execution_count": 5,
   "metadata": {
    "collapsed": false
   },
   "outputs": [
    {
     "name": "stdout",
     "output_type": "stream",
     "text": [
      "\n",
      "\n",
      "Form Handler - save form status message:\n",
      " --- form stored in transfer format in: /home/stephan/tmp/Repos/form_repo/test/test_testsuite_1234.json\n",
      " --- commit message:[master cb7d60d] Form Handler: submission form for user testsuite saved using prefix test_testsuite_1234 ## test: formcompletion()\n",
      " 1 file changed, 5 insertions(+), 2 deletions(-)\n",
      "DKRZ Form object\n"
     ]
    }
   ],
   "source": [
    "test_steps.test_form_completion()\n",
    "\n",
    "print test_steps.sf"
   ]
  },
  {
   "cell_type": "markdown",
   "metadata": {},
   "source": [
    "### Submit a completed form"
   ]
  },
  {
   "cell_type": "code",
   "execution_count": 6,
   "metadata": {
    "collapsed": false,
    "scrolled": true
   },
   "outputs": [
    {
     "name": "stdout",
     "output_type": "stream",
     "text": [
      "No global submission repo !!!\n",
      "Push to global submission repo failed !\n",
      "Please send form: /home/stephan/Repos/ENES-EUDAT/submission_forms/test/forms/test/test_testsuite_1234.ipynb\n",
      "\n",
      "to data@dkrz.de with subject \"DKRZ data submission form for project\" test\n"
     ]
    }
   ],
   "source": [
    "test_steps.test_form_submission()"
   ]
  },
  {
   "cell_type": "markdown",
   "metadata": {
    "collapsed": true
   },
   "source": [
    "### Admin workflow step 1: form validation"
   ]
  },
  {
   "cell_type": "code",
   "execution_count": 7,
   "metadata": {
    "collapsed": false
   },
   "outputs": [
    {
     "name": "stdout",
     "output_type": "stream",
     "text": [
      "\n",
      "\n",
      "Form Handler - save form status message:\n",
      " --- form stored in transfer format in: /home/stephan/tmp/Repos/form_repo/test/test_testsuite_1234.json\n",
      " --- commit message:[master d51a0c3] Form Handler: submission form for user testsuite saved using prefix test_testsuite_1234 ## test: form_review()\n",
      " 1 file changed, 5 insertions(+), 2 deletions(-)\n"
     ]
    }
   ],
   "source": [
    "test_steps.test_form_review()\n"
   ]
  },
  {
   "cell_type": "markdown",
   "metadata": {},
   "source": [
    "### step 2: data ingest"
   ]
  },
  {
   "cell_type": "code",
   "execution_count": 8,
   "metadata": {
    "collapsed": false
   },
   "outputs": [
    {
     "ename": "AttributeError",
     "evalue": "'Form' object has no attribute 'entity_out'",
     "output_type": "error",
     "traceback": [
      "\u001b[0;31m---------------------------------------------------------------------------\u001b[0m",
      "\u001b[0;31mAttributeError\u001b[0m                            Traceback (most recent call last)",
      "\u001b[0;32m<ipython-input-8-c8a9b183600c>\u001b[0m in \u001b[0;36m<module>\u001b[0;34m()\u001b[0m\n\u001b[0;32m----> 1\u001b[0;31m \u001b[0mtest_steps\u001b[0m\u001b[0;34m.\u001b[0m\u001b[0mtest_data_ingest\u001b[0m\u001b[0;34m(\u001b[0m\u001b[0;34m)\u001b[0m\u001b[0;34m\u001b[0m\u001b[0m\n\u001b[0m",
      "\u001b[0;32m/home/stephan/Repos/ENES-EUDAT/submission_forms/test/test_steps.py\u001b[0m in \u001b[0;36mtest_data_ingest\u001b[0;34m()\u001b[0m\n\u001b[1;32m    131\u001b[0m     \u001b[0mingest\u001b[0m\u001b[0;34m.\u001b[0m\u001b[0mactivity\u001b[0m\u001b[0;34m.\u001b[0m\u001b[0mresponsible_person\u001b[0m \u001b[0;34m=\u001b[0m \u001b[0;34m\"lenzen\"\u001b[0m\u001b[0;34m\u001b[0m\u001b[0m\n\u001b[1;32m    132\u001b[0m     \u001b[0mingest\u001b[0m\u001b[0;34m.\u001b[0m\u001b[0mactivity\u001b[0m\u001b[0;34m.\u001b[0m\u001b[0mcomment\u001b[0m \u001b[0;34m=\u001b[0m \u001b[0;34m\" copying data from ... to ... using ... \"\u001b[0m\u001b[0;34m\u001b[0m\u001b[0m\n\u001b[0;32m--> 133\u001b[0;31m     \u001b[0mingest\u001b[0m\u001b[0;34m.\u001b[0m\u001b[0mentity_out\u001b[0m\u001b[0;34m.\u001b[0m\u001b[0mdata_target_directory\u001b[0m \u001b[0;34m=\u001b[0m \u001b[0;34m\"/work/kd0956/cmip5/ingest/cmip5/mpi-m/test\"\u001b[0m\u001b[0;34m\u001b[0m\u001b[0m\n\u001b[0m\u001b[1;32m    134\u001b[0m     \u001b[0mingest\u001b[0m\u001b[0;34m.\u001b[0m\u001b[0mentity_out\u001b[0m\u001b[0;34m.\u001b[0m\u001b[0mdata_file_pattern\u001b[0m \u001b[0;34m=\u001b[0m \u001b[0;34m\"cmip5\"\u001b[0m\u001b[0;34m\u001b[0m\u001b[0m\n\u001b[1;32m    135\u001b[0m \u001b[0;34m\u001b[0m\u001b[0m\n",
      "\u001b[0;31mAttributeError\u001b[0m: 'Form' object has no attribute 'entity_out'"
     ]
    }
   ],
   "source": [
    "test_steps.test_data_ingest()"
   ]
  },
  {
   "cell_type": "markdown",
   "metadata": {},
   "source": [
    "### step 3: data quality assurance"
   ]
  },
  {
   "cell_type": "code",
   "execution_count": null,
   "metadata": {
    "collapsed": true
   },
   "outputs": [],
   "source": [
    "test_steps.test_data_quality_assurance()"
   ]
  },
  {
   "cell_type": "markdown",
   "metadata": {},
   "source": [
    "### step 4: data publication"
   ]
  },
  {
   "cell_type": "code",
   "execution_count": null,
   "metadata": {
    "collapsed": true
   },
   "outputs": [],
   "source": [
    "test_steps.test_data_publication()"
   ]
  },
  {
   "cell_type": "markdown",
   "metadata": {},
   "source": [
    "### step 5: data archival"
   ]
  },
  {
   "cell_type": "code",
   "execution_count": null,
   "metadata": {
    "collapsed": true
   },
   "outputs": [],
   "source": [
    "test_steps.test_data_archival()\n"
   ]
  }
 ],
 "metadata": {
  "anaconda-cloud": {},
  "kernelspec": {
   "display_name": "Python [conda env:generic1]",
   "language": "python",
   "name": "conda-env-generic1-py"
  },
  "language_info": {
   "codemirror_mode": {
    "name": "ipython",
    "version": 2
   },
   "file_extension": ".py",
   "mimetype": "text/x-python",
   "name": "python",
   "nbconvert_exporter": "python",
   "pygments_lexer": "ipython2",
   "version": "2.7.11"
  }
 },
 "nbformat": 4,
 "nbformat_minor": 0
}
