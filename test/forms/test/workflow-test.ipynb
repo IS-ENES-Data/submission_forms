{
 "cells": [
  {
   "cell_type": "markdown",
   "metadata": {},
   "source": [
    "# Step by step workflow test notebook"
   ]
  },
  {
   "cell_type": "code",
   "execution_count": 1,
   "metadata": {
    "collapsed": true
   },
   "outputs": [],
   "source": [
    "%load_ext autoreload\n",
    "%autoreload 2"
   ]
  },
  {
   "cell_type": "code",
   "execution_count": 3,
   "metadata": {
    "collapsed": false
   },
   "outputs": [
    {
     "name": "stdout",
     "output_type": "stream",
     "text": [
      "Project directory:  /home/stephan/tmp/Repos/form_repo/test\n"
     ]
    }
   ],
   "source": [
    "import logging as log\n",
    "import os\n",
    "from dkrz_forms import form_handler\n",
    "from test import test_steps\n",
    "from dkrz_forms.config.project_config import FORM_REPO\n",
    "vprint = form_handler.vprint "
   ]
  },
  {
   "cell_type": "markdown",
   "metadata": {
    "collapsed": false
   },
   "source": [
    "## Generate a personal submission form based on a project template"
   ]
  },
  {
   "cell_type": "code",
   "execution_count": 5,
   "metadata": {
    "collapsed": false
   },
   "outputs": [
    {
     "name": "stdout",
     "output_type": "stream",
     "text": [
      "Form Handler: Initialized form for project: test\n",
      "submission form intitialized: sf\n",
      "(For the curious: the sf object is used in the following to store and manage all your information)\n",
      "{'form_dir': '/home/stephan/Repos/ENES-EUDAT/submission_forms/test/forms/test',\n",
      " 'form_repo': '/home/stephan/tmp/Repos/form_repo/test',\n",
      " 'project': 'test',\n",
      " 'sub': {'activity': {'keyword': '1234',\n",
      "                      'pwd': 'test123',\n",
      "                      'submission_comment': '',\n",
      "                      'submission_method': ''},\n",
      "         'agent': {'email': 'stephan.kindermann@gmail.com',\n",
      "                   'first_name': 'unit_tester',\n",
      "                   'key_word': '',\n",
      "                   'last_name': 'testsuite'},\n",
      "         'entity_in': {'form_json': '/home/stephan/Repos/ENES-EUDAT/submission_forms/test/forms/test/test_testsuite_1234.json',\n",
      "                       'form_path': '/home/stephan/Repos/ENES-EUDAT/submission_forms/test/forms/test/test_testsuite_1234.ipynb',\n",
      "                       'form_version': '',\n",
      "                       'source_path': ''},\n",
      "         'entity_out': {'checks_done': 'none',\n",
      "                        'form_json': '/home/stephan/tmp/Repos/form_repo/test/test_testsuite_1234.json',\n",
      "                        'form_name': 'test_testsuite_1234',\n",
      "                        'form_path': '',\n",
      "                        'form_repo': ('/home/stephan/tmp/Repos/form_repo/test',),\n",
      "                        'form_repo_path': '/home/stephan/tmp/Repos/form_repo/test/test_testsuite_1234.ipynb',\n",
      "                        'package_name': '',\n",
      "                        'package_path': '',\n",
      "                        'subform_path': ''},\n",
      "         'id': '079958be-2a9e-11e7-87b3-080027f178b4'},\n",
      " 'submission_repo': '/home/stephan/tmp/Repos/submission_repo/test',\n",
      " 'workflow': ['sub', 'ing', 'qua', 'pub']}\n"
     ]
    }
   ],
   "source": [
    "### form generation\n",
    "import pprint\n",
    "test_steps.test_init_form()\n",
    "\n",
    "sf = test_steps.sf\n",
    "\n",
    "pprint.pprint(form_handler.form_to_dict(sf))"
   ]
  },
  {
   "cell_type": "markdown",
   "metadata": {},
   "source": [
    "### Retrieve the private template (pwd protected) and make changes form"
   ]
  },
  {
   "cell_type": "code",
   "execution_count": 6,
   "metadata": {
    "collapsed": false
   },
   "outputs": [
    {
     "name": "stdout",
     "output_type": "stream",
     "text": [
      "Form Handler: Initialized form for project: test\n",
      "--------------------------------------------------------------------\n",
      "   A submission form was created for you, please visit the following link:\n",
      "http://localhost:8888/notebooks/Repos/ENES-EUDAT/submission_forms/test/forms/test/test_testsuite_1234.ipynb\n",
      "--------------------------------------------------------------------\n",
      "  !!  current version saved in repository\n",
      "  !!  the above link is only valid for the next 5 hours\n",
      "  !!  to retrieve the form after this use the following link: \n",
      "       http://localhost:888/notebooks.tst \n",
      "       with the password: test123\n"
     ]
    }
   ],
   "source": [
    "test_steps.test_generate_submission_form()"
   ]
  },
  {
   "cell_type": "code",
   "execution_count": null,
   "metadata": {
    "collapsed": true
   },
   "outputs": [],
   "source": []
  },
  {
   "cell_type": "markdown",
   "metadata": {
    "collapsed": true
   },
   "source": [
    "### Retrieve a partially filled form and complete it"
   ]
  },
  {
   "cell_type": "code",
   "execution_count": null,
   "metadata": {
    "collapsed": false
   },
   "outputs": [],
   "source": [
    "print sf\n",
    "test_steps.test_formcompletion()\n",
    "\n"
   ]
  },
  {
   "cell_type": "code",
   "execution_count": null,
   "metadata": {
    "collapsed": true
   },
   "outputs": [],
   "source": [
    "!"
   ]
  }
 ],
 "metadata": {
  "anaconda-cloud": {},
  "kernelspec": {
   "display_name": "Python [conda env:generic1]",
   "language": "python",
   "name": "conda-env-generic1-py"
  },
  "language_info": {
   "codemirror_mode": {
    "name": "ipython",
    "version": 2
   },
   "file_extension": ".py",
   "mimetype": "text/x-python",
   "name": "python",
   "nbconvert_exporter": "python",
   "pygments_lexer": "ipython2",
   "version": "2.7.11"
  }
 },
 "nbformat": 4,
 "nbformat_minor": 0
}
