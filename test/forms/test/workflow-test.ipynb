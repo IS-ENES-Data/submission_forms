{
 "cells": [
  {
   "cell_type": "markdown",
   "metadata": {},
   "source": [
    "# Step by step workflow test notebook"
   ]
  },
  {
   "cell_type": "code",
   "execution_count": 1,
   "metadata": {
    "collapsed": true
   },
   "outputs": [],
   "source": [
    "%load_ext autoreload\n",
    "%autoreload 2"
   ]
  },
  {
   "cell_type": "code",
   "execution_count": 2,
   "metadata": {
    "collapsed": false,
    "scrolled": true
   },
   "outputs": [
    {
     "name": "stdout",
     "output_type": "stream",
     "text": [
      "Project directory:  /home/stephan/tmp/Repos/form_repo/test\n"
     ]
    }
   ],
   "source": [
    "import logging as log\n",
    "import os\n",
    "from dkrz_forms import form_handler\n",
    "from test import test_steps\n",
    "from dkrz_forms.config.project_config import FORM_REPO\n",
    "vprint = form_handler.vprint "
   ]
  },
  {
   "cell_type": "markdown",
   "metadata": {
    "collapsed": false
   },
   "source": [
    "## Generate a personal submission form based on a project template"
   ]
  },
  {
   "cell_type": "code",
   "execution_count": null,
   "metadata": {
    "collapsed": false
   },
   "outputs": [],
   "source": []
  },
  {
   "cell_type": "code",
   "execution_count": 3,
   "metadata": {
    "collapsed": false
   },
   "outputs": [
    {
     "name": "stdout",
     "output_type": "stream",
     "text": [
      "Form Handler: Initialized form for project: test\n",
      "submission form intitialized: sf\n",
      "(For the curious: the sf object is used in the following to store and manage all your information)\n",
      "{'da': {'activity': {'comment': '',\n",
      "                     'status': '',\n",
      "                     'ticket_id': '',\n",
      "                     'timestamp': ''},\n",
      "        'agent': {'responsible_person': ''},\n",
      "        'entities out': {'checks_done': 'none',\n",
      "                         'form_name': '',\n",
      "                         'form_path': '',\n",
      "                         'form_repo_path': '',\n",
      "                         'package_name': '',\n",
      "                         'package_path': '',\n",
      "                         'subform_path': ''},\n",
      "        'entities_in': {'checks_done': 'none',\n",
      "                        'form_name': '',\n",
      "                        'form_path': '',\n",
      "                        'form_repo_path': '',\n",
      "                        'package_name': '',\n",
      "                        'package_path': '',\n",
      "                        'subform_path': ''}},\n",
      " 'form_dir': '/home/stephan/Repos/ENES-EUDAT/submission_forms/test/forms/test',\n",
      " 'form_repo': '/home/stephan/tmp/Repos/form_repo/test',\n",
      " 'ing': {'activity': {'comment': '',\n",
      "                      'status': '',\n",
      "                      'ticket_id': '',\n",
      "                      'timestamp_finished': '',\n",
      "                      'timestamp_started': ''},\n",
      "         'agent': {'responsible_person': ''},\n",
      "         'entitiy_in': {'checks_done': 'none',\n",
      "                        'form_name': '',\n",
      "                        'form_path': '',\n",
      "                        'form_repo_path': '',\n",
      "                        'package_name': '',\n",
      "                        'package_path': '',\n",
      "                        'subform_path': ''},\n",
      "         'entity_out': {'checks_done': 'none',\n",
      "                        'form_name': '',\n",
      "                        'form_path': '',\n",
      "                        'form_repo_path': '',\n",
      "                        'package_name': '',\n",
      "                        'package_path': '',\n",
      "                        'subform_path': ''}},\n",
      " 'project': 'test',\n",
      " 'pub': {'activity': {'comment': '',\n",
      "                      'status': '',\n",
      "                      'ticket_id': '',\n",
      "                      'timestamp': ''},\n",
      "         'agent': {'responsible_person': ''},\n",
      "         'entity_in': {'checks_done': 'none',\n",
      "                       'form_name': '',\n",
      "                       'form_path': '',\n",
      "                       'form_repo_path': '',\n",
      "                       'package_name': '',\n",
      "                       'package_path': '',\n",
      "                       'subform_path': ''},\n",
      "         'entity_out': {'checks_done': 'none',\n",
      "                        'form_name': '',\n",
      "                        'form_path': '',\n",
      "                        'form_repo_path': '',\n",
      "                        'package_name': '',\n",
      "                        'package_path': '',\n",
      "                        'subform_path': ''}},\n",
      " 'qua': {'activity': {'comment': '',\n",
      "                      'follow_up_ticket': '',\n",
      "                      'status': '',\n",
      "                      'ticket_id': '',\n",
      "                      'timestamp_finished': '',\n",
      "                      'timestamp_started': ''},\n",
      "         'agent': {'responsible_person': ''},\n",
      "         'entity_in': {'checks_done': 'none',\n",
      "                       'form_name': '',\n",
      "                       'form_path': '',\n",
      "                       'form_repo_path': '',\n",
      "                       'package_name': '',\n",
      "                       'package_path': '',\n",
      "                       'subform_path': ''},\n",
      "         'entity_out': {'checks_done': 'none',\n",
      "                        'form_name': '',\n",
      "                        'form_path': '',\n",
      "                        'form_repo_path': '',\n",
      "                        'package_name': '',\n",
      "                        'package_path': '',\n",
      "                        'subform_path': ''}},\n",
      " 'rev': {'activity': {'review_comment': '', 'ticket_id': 0, 'ticket_url': ''},\n",
      "         'agent': {'responsible_person': ''},\n",
      "         'entity_in': {'checks_done': 'none',\n",
      "                       'form_name': '',\n",
      "                       'form_path': '',\n",
      "                       'form_repo_path': '',\n",
      "                       'package_name': '',\n",
      "                       'package_path': '',\n",
      "                       'subform_path': ''},\n",
      "         'entity_out': {'report_ticket_subject': '', 'review_summary': ''}},\n",
      " 'sub': {'activity': {'keyword': '1234',\n",
      "                      'pwd': 'test123',\n",
      "                      'submission_comment': '',\n",
      "                      'submission_method': ''},\n",
      "         'agent': {'email': 'stephan.kindermann@gmail.com',\n",
      "                   'first_name': 'unit_tester',\n",
      "                   'key_word': '',\n",
      "                   'last_name': 'testsuite'},\n",
      "         'entity_in': {'form_json': '/home/stephan/Repos/ENES-EUDAT/submission_forms/test/forms/test/test_testsuite_1234.json',\n",
      "                       'form_path': '/home/stephan/Repos/ENES-EUDAT/submission_forms/test/forms/test/test_testsuite_1234.ipynb',\n",
      "                       'form_version': '',\n",
      "                       'source_path': ''},\n",
      "         'entity_out': {'checks_done': 'none',\n",
      "                        'form_json': '/home/stephan/tmp/Repos/form_repo/test/test_testsuite_1234.json',\n",
      "                        'form_name': 'test_testsuite_1234',\n",
      "                        'form_path': '',\n",
      "                        'form_repo': ('/home/stephan/tmp/Repos/form_repo/test',),\n",
      "                        'form_repo_path': '/home/stephan/tmp/Repos/form_repo/test/test_testsuite_1234.ipynb',\n",
      "                        'package_name': '',\n",
      "                        'package_path': '',\n",
      "                        'subform_path': ''},\n",
      "         'id': '42f3a6e8-2f2c-11e7-a10f-080027f178b4'},\n",
      " 'submission_repo': '/home/stephan/tmp/Repos/submission_repo/test',\n",
      " 'workflow': [('sub', 'data_submission'),\n",
      "              ('rev', 'data_submission_review'),\n",
      "              ('ing', 'data_ingest'),\n",
      "              ('qua', 'data_quality_assurance'),\n",
      "              ('pub', 'data_publication'),\n",
      "              ('da', 'data_archival')]}\n"
     ]
    }
   ],
   "source": [
    "### form generation\n",
    "import pprint\n",
    "test_steps.test_init_form()\n",
    "\n",
    "sf = test_steps.sf\n",
    "\n",
    "pprint.pprint(form_handler.form_to_dict(sf))"
   ]
  },
  {
   "cell_type": "markdown",
   "metadata": {},
   "source": [
    "### Retrieve the private template (pwd protected) and make changes form"
   ]
  },
  {
   "cell_type": "code",
   "execution_count": 4,
   "metadata": {
    "collapsed": false
   },
   "outputs": [
    {
     "name": "stdout",
     "output_type": "stream",
     "text": [
      "Form Handler: Initialized form for project: test\n",
      "--------------------------------------------------------------------\n",
      "   A submission form was created for you, please visit the following link:\n",
      "http://localhost:8888/notebooks/Repos/ENES-EUDAT/submission_forms/test/forms/test/test_testsuite_1234.ipynb\n",
      "--------------------------------------------------------------------\n",
      "  !!  current version saved in repository\n",
      "  !!  the above link is only valid for the next 5 hours\n",
      "  !!  to retrieve the form after this use the following link: \n",
      "       http://localhost:888/notebooks.tst \n",
      "       with the password: test123\n"
     ]
    }
   ],
   "source": [
    "test_steps.test_generate_submission_form()"
   ]
  },
  {
   "cell_type": "markdown",
   "metadata": {
    "collapsed": true
   },
   "source": [
    "### Retrieve a partially filled form and complete it"
   ]
  },
  {
   "cell_type": "code",
   "execution_count": 5,
   "metadata": {
    "collapsed": false
   },
   "outputs": [
    {
     "name": "stdout",
     "output_type": "stream",
     "text": [
      "\n",
      "\n",
      "Form Handler - save form status message:\n",
      " --- form stored in transfer format in: /home/stephan/tmp/Repos/form_repo/test/test_testsuite_1234.json\n",
      " --- commit message:[master 5abf78d] Form Handler: submission form for user testsuite saved using prefix test_testsuite_1234 ## test: formcompletion()\n",
      " 1 file changed, 5 insertions(+), 2 deletions(-)\n",
      "DKRZ Form object\n"
     ]
    }
   ],
   "source": [
    "test_steps.test_form_completion()\n",
    "\n",
    "print test_steps.sf"
   ]
  },
  {
   "cell_type": "markdown",
   "metadata": {},
   "source": [
    "### Submit a completed form"
   ]
  },
  {
   "cell_type": "code",
   "execution_count": 6,
   "metadata": {
    "collapsed": false,
    "scrolled": true
   },
   "outputs": [
    {
     "name": "stdout",
     "output_type": "stream",
     "text": [
      "No global submission repo !!!\n",
      "Push to global submission repo failed !\n",
      "Please send form: /home/stephan/Repos/ENES-EUDAT/submission_forms/test/forms/test/test_testsuite_1234.ipynb\n",
      "\n",
      "to data@dkrz.de with subject \"DKRZ data submission form for project\" test\n"
     ]
    }
   ],
   "source": [
    "test_steps.test_form_submission()"
   ]
  },
  {
   "cell_type": "markdown",
   "metadata": {
    "collapsed": true
   },
   "source": [
    "### Admin workflow step 1: form validation"
   ]
  },
  {
   "cell_type": "code",
   "execution_count": 7,
   "metadata": {
    "collapsed": false
   },
   "outputs": [
    {
     "name": "stdout",
     "output_type": "stream",
     "text": [
      "\n",
      "\n",
      "Form Handler - save form status message:\n",
      " --- form stored in transfer format in: /home/stephan/tmp/Repos/form_repo/test/test_testsuite_1234.json\n",
      " --- commit message:[master 157c4dd] Form Handler: submission form for user testsuite saved using prefix test_testsuite_1234 ## test: form_review()\n",
      " 1 file changed, 5 insertions(+), 2 deletions(-)\n"
     ]
    }
   ],
   "source": [
    "test_steps.test_form_review()\n"
   ]
  },
  {
   "cell_type": "markdown",
   "metadata": {},
   "source": [
    "### step 2: data ingest"
   ]
  },
  {
   "cell_type": "code",
   "execution_count": 8,
   "metadata": {
    "collapsed": false
   },
   "outputs": [
    {
     "name": "stdout",
     "output_type": "stream",
     "text": [
      "\n",
      "\n",
      "Form Handler - save form status message:\n",
      " --- form stored in transfer format in: /home/stephan/tmp/Repos/form_repo/test/test_testsuite_1234.json\n",
      " --- commit message:[master ea0d58e] Form Handler: submission form for user testsuite saved using prefix test_testsuite_1234 ## test: data_ingest()\n",
      " 1 file changed, 7 insertions(+), 4 deletions(-)\n"
     ]
    }
   ],
   "source": [
    "test_steps.test_data_ingest()"
   ]
  },
  {
   "cell_type": "markdown",
   "metadata": {},
   "source": [
    "### step 3: data quality assurance"
   ]
  },
  {
   "cell_type": "code",
   "execution_count": 9,
   "metadata": {
    "collapsed": false
   },
   "outputs": [
    {
     "name": "stdout",
     "output_type": "stream",
     "text": [
      "\n",
      "\n",
      "Form Handler - save form status message:\n",
      " --- form stored in transfer format in: /home/stephan/tmp/Repos/form_repo/test/test_testsuite_1234.json\n",
      " --- commit message:[master 48bc717] Form Handler: submission form for user testsuite saved using prefix test_testsuite_1234 ## test: quality_assurance()\n",
      " 1 file changed, 39 insertions(+), 4 deletions(-)\n"
     ]
    }
   ],
   "source": [
    "test_steps.test_data_quality_assurance()"
   ]
  },
  {
   "cell_type": "markdown",
   "metadata": {},
   "source": [
    "### step 4: data publication"
   ]
  },
  {
   "cell_type": "code",
   "execution_count": 10,
   "metadata": {
    "collapsed": false
   },
   "outputs": [
    {
     "name": "stdout",
     "output_type": "stream",
     "text": [
      "\n",
      "\n",
      "Form Handler - save form status message:\n",
      " --- form stored in transfer format in: /home/stephan/tmp/Repos/form_repo/test/test_testsuite_1234.json\n",
      " --- commit message:[master a7bde62] Form Handler: submission form for user testsuite saved using prefix test_testsuite_1234 ## test: publication()\n",
      " 1 file changed, 8 insertions(+), 4 deletions(-)\n"
     ]
    }
   ],
   "source": [
    "test_steps.test_data_publication()"
   ]
  },
  {
   "cell_type": "markdown",
   "metadata": {},
   "source": [
    "### step 5: data archival"
   ]
  },
  {
   "cell_type": "code",
   "execution_count": 11,
   "metadata": {
    "collapsed": true
   },
   "outputs": [],
   "source": [
    "test_steps.test_data_archival()\n"
   ]
  },
  {
   "cell_type": "code",
   "execution_count": 26,
   "metadata": {
    "collapsed": false
   },
   "outputs": [
    {
     "name": "stdout",
     "output_type": "stream",
     "text": [
      "{u'activity': DKRZ Form object, u'entity_in': DKRZ Form object, u'timestamp': '2017-05-02 13:41:20.920260', u'entity_out': DKRZ Form object, u'id': '431f6f30-2f2c-11e7-a10f-080027f178b4', u'agent': DKRZ Form object, '__doc__': 'test test TEst'}\n"
     ]
    }
   ],
   "source": [
    "SUBMISSION_FORMTEMPLATE_ENTITY_DOC = \"\"\"\n",
    "        :param source_path: : \n",
    "                            a\n",
    "                            b\n",
    "                            c\n",
    "                            d\n",
    "                            ,\n",
    "          args:\n",
    "             form_version: : \n",
    "                            x\n",
    "                            y\n",
    "                            z\n",
    "                            \n",
    "               \"\"\"\n",
    "sf = test_steps.sf\n",
    "print sf.sub.__dict__\n",
    "sf.sub.__doc__ = \"test test TEst\"\n",
    "sf.sub.entity_out.__doc__=\"test entity_submission out doc\"\n",
    "sf.rev.entity_out.__doc__=SUBMISSION_FORMTEMPLATE_ENTITY_DOC\n"
   ]
  },
  {
   "cell_type": "code",
   "execution_count": 34,
   "metadata": {
    "collapsed": true
   },
   "outputs": [],
   "source": [
    "#?sf.rev.entity_out\n",
    "?sf.rev.entity_out"
   ]
  },
  {
   "cell_type": "code",
   "execution_count": 14,
   "metadata": {
    "collapsed": false,
    "scrolled": true
   },
   "outputs": [
    {
     "ename": "NameError",
     "evalue": "name 'co' is not defined",
     "output_type": "error",
     "traceback": [
      "\u001b[0;31m---------------------------------------------------------------------------\u001b[0m",
      "\u001b[0;31mNameError\u001b[0m                                 Traceback (most recent call last)",
      "\u001b[0;32m<ipython-input-14-b03f547e0cd5>\u001b[0m in \u001b[0;36m<module>\u001b[0;34m()\u001b[0m\n\u001b[1;32m     22\u001b[0m \u001b[0;31m#C.__doc__ = \"test test\"\u001b[0m\u001b[0;34m\u001b[0m\u001b[0;34m\u001b[0m\u001b[0m\n\u001b[1;32m     23\u001b[0m \u001b[0;34m\u001b[0m\u001b[0m\n\u001b[0;32m---> 24\u001b[0;31m \u001b[0mco\u001b[0m\u001b[0;34m.\u001b[0m\u001b[0mx\u001b[0m \u001b[0;34m=\u001b[0m \u001b[0;36m5\u001b[0m\u001b[0;34m\u001b[0m\u001b[0m\n\u001b[0m\u001b[1;32m     25\u001b[0m \u001b[0;34m\u001b[0m\u001b[0m\n\u001b[1;32m     26\u001b[0m \u001b[0mco\u001b[0m \u001b[0;34m=\u001b[0m \u001b[0mC\u001b[0m\u001b[0;34m(\u001b[0m\u001b[0;34m)\u001b[0m\u001b[0;34m\u001b[0m\u001b[0m\n",
      "\u001b[0;31mNameError\u001b[0m: name 'co' is not defined"
     ]
    }
   ],
   "source": [
    "#import abc\n",
    "\n",
    "def myprop(x, doc):\n",
    "    def getx(self):\n",
    "        return getattr(self, '_' + x)\n",
    "\n",
    "    def setx(self, val):\n",
    "        setattr(self, '_' + x, val)\n",
    "\n",
    "    def delx(self):\n",
    "        delattr(self, '_' + x)\n",
    "\n",
    "    return property(getx, setx, delx, doc)\n",
    "\n",
    "class C(object):\n",
    "    #__metaclass__=abc.ABCMeta\n",
    "    a = myprop(\"a\", \"Hi, I'm A!\")\n",
    "    b = myprop(\"b\", \"Hi, I'm B!\")\n",
    "    d = 5\n",
    "    \n",
    "C.d = myprop(\"d\",\"....DDDDDDDDDDDDDDDD......\")\n",
    "#C.__doc__ = \"test test\"\n",
    "\n",
    "co.x = 5\n",
    "    \n",
    "co = C()\n"
   ]
  },
  {
   "cell_type": "code",
   "execution_count": null,
   "metadata": {
    "collapsed": false
   },
   "outputs": [],
   "source": [
    "print C.d\n"
   ]
  },
  {
   "cell_type": "code",
   "execution_count": null,
   "metadata": {
    "collapsed": true
   },
   "outputs": [],
   "source": []
  }
 ],
 "metadata": {
  "anaconda-cloud": {},
  "kernelspec": {
   "display_name": "Python [conda env:generic1]",
   "language": "python",
   "name": "conda-env-generic1-py"
  },
  "language_info": {
   "codemirror_mode": {
    "name": "ipython",
    "version": 2
   },
   "file_extension": ".py",
   "mimetype": "text/x-python",
   "name": "python",
   "nbconvert_exporter": "python",
   "pygments_lexer": "ipython2",
   "version": "2.7.11"
  }
 },
 "nbformat": 4,
 "nbformat_minor": 0
}
