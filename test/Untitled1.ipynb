{
 "cells": [
  {
   "cell_type": "code",
   "execution_count": 1,
   "metadata": {},
   "outputs": [
    {
     "name": "stdout",
     "output_type": "stream",
     "text": [
      "init yyyyyyyyyy\n",
      "you initialized your environment already ! skipping initialization !\n",
      "Environment initialized, to create submission forms please open:\n",
      "http://localhost:8888/notebooks/Forms/Create_Submission_Form.ipynb\n",
      "__________________________________________________________________\n",
      "initialize:  /home/stephan/Forms/submission_repo\n",
      "initialize:  /home/stephan/Forms/form_directory/CORDEX\n",
      "initialize:  /home/stephan/Forms/form_directory/CMIP6\n",
      "initialize:  /home/stephan/Forms/form_directory/test\n",
      "initialize:  /home/stephan/Forms/form_directory/ESGF_replication\n",
      "initialize:  /home/stephan/Forms/form_directory/DKRZ_CDP\n",
      "git directories initialized\n",
      "---- Home Environment ready\n"
     ]
    }
   ],
   "source": [
    "from dkrz_forms import utils\n",
    "\n",
    "utils.init_home_env()\n",
    "\n",
    "print(\"---- Home Environment ready\")"
   ]
  },
  {
   "cell_type": "code",
   "execution_count": null,
   "metadata": {},
   "outputs": [],
   "source": [
    "\n",
    "\n",
    "project= \"ESGF_replication\"\n",
    "\n",
    "\n",
    "from dkrz_forms import form_handler, utils\n",
    "from dkrz_forms.config.project_config import PROJECT_DICT   \n",
    "from dkrz_forms.config import workflow_steps\n",
    "\n",
    "sf = utils.Form(PROJECT_DICT[project])\n",
    "form = utils.Form(PROJECT_DICT[project+'_FORM'])\n",
    "for (short_name,wflow_step) in sf.workflow:\n",
    "              setattr(sf,short_name ,utils.Form(workflow_steps.WORKFLOW_DICT[wflow_step]))"
   ]
  },
  {
   "cell_type": "code",
   "execution_count": null,
   "metadata": {},
   "outputs": [],
   "source": [
    "from dkrz_forms import form_handler, utils\n",
    "sf = utils.generate_project_form('ESGF_replication')\n",
    "utils.show_options(sf.sub.activity.status)"
   ]
  },
  {
   "cell_type": "code",
   "execution_count": null,
   "metadata": {},
   "outputs": [],
   "source": [
    "test = utils.Form({})"
   ]
  },
  {
   "cell_type": "code",
   "execution_count": null,
   "metadata": {
    "collapsed": true
   },
   "outputs": [],
   "source": []
  },
  {
   "cell_type": "code",
   "execution_count": null,
   "metadata": {
    "collapsed": true
   },
   "outputs": [],
   "source": [
    "?sf.sub.activity"
   ]
  },
  {
   "cell_type": "code",
   "execution_count": null,
   "metadata": {
    "collapsed": true
   },
   "outputs": [],
   "source": [
    "sf.sub.activity."
   ]
  }
 ],
 "metadata": {
  "kernelspec": {
   "display_name": "Python 3",
   "language": "python",
   "name": "python3"
  },
  "language_info": {
   "codemirror_mode": {
    "name": "ipython",
    "version": 3
   },
   "file_extension": ".py",
   "mimetype": "text/x-python",
   "name": "python",
   "nbconvert_exporter": "python",
   "pygments_lexer": "ipython3",
   "version": "3.6.6"
  }
 },
 "nbformat": 4,
 "nbformat_minor": 2
}
