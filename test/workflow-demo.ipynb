{
 "cells": [
  {
   "cell_type": "markdown",
   "metadata": {},
   "source": [
    "# DKRZ data ingest information handling\n",
    "\n",
    "This demo notebook is for data managers only !\n",
    "\n",
    "The submission_forms package provides a collection of components to support the management of information related to data ingest related activities (data transport, data checking, data publication and data archival):\n",
    "\n",
    "* data submission related information management\n",
    "  * who, when, what, for which project, data characteristics\n",
    "* data management related information management\n",
    "  * ingest, quality assurance, publication, archiving"
   ]
  },
  {
   "cell_type": "markdown",
   "metadata": {},
   "source": [
    "## Background: approaches at other sites\n",
    "\n",
    "example workflows in other data centers:\n",
    "* http://eidc.ceh.ac.uk/images/ingestion-workflow/view\n",
    "* http://www.mdpi.com/2220-9964/5/3/30/pdf\n",
    "* https://www.rd-alliance.org/sites/default/files/03%20Nurnberger%20-%20DataPublishingWorkflows-CollabMtg20151208_V03.pdf\n",
    "* http://ropercenter.cornell.edu/polls/deposit-data/\n",
    "* https://www.arm.gov/engineering/ingest\n",
    "* https://eosweb.larc.nasa.gov/GEWEX-RFA/documents/data_ingest.txt\n",
    "* https://eosweb.larc.nasa.gov/GEWEX-RFA/documents/how_to_participate.html\n",
    "* http://www.nodc.noaa.gov/submit/ online tool \n",
    "* https://www2.cisl.ucar.edu/resources/cmip-analysis-platform\n",
    "  * https://xras-submit-ncar.xsede.org/ \n",
    "* http://cmip5.whoi.edu/ \n",
    "* https://pypi.python.org/pypi/cmipdata/0.6"
   ]
  },
  {
   "cell_type": "markdown",
   "metadata": {},
   "source": [
    "## DKRZ ingest workflow system\n",
    "\n",
    "Data ingest request via\n",
    "* jupyter notebook on server (http://data-forms.dkrz.de:8080), or\n",
    "* jupyter notebook filled at home and sent to DKRZ (email, rt system)\n",
    "  * download form_template from: (tbd. github or redmine or recommend pypi installation only - which includes all templates .. )\n",
    "\n",
    "Data ingest request workflow:\n",
    "* ingest request related information is stored in json format in git repo\n",
    "* all workflow steps are reflected in json subfields\n",
    "* workflow json format has W3C prov aligned schema and can be transformed to W3C prov format (and visualized as a prov graph) \n",
    "* for search git repo can be indexed into a (in-memory) key-value DB"
   ]
  },
  {
   "cell_type": "code",
   "execution_count": 1,
   "metadata": {
    "scrolled": true
   },
   "outputs": [],
   "source": [
    "# do this in case you want to change imported module code while working with this notebook\n",
    "# -- (for development and testing puposes only)\n",
    "%load_ext autoreload\n",
    "%autoreload 2"
   ]
  },
  {
   "cell_type": "code",
   "execution_count": 16,
   "metadata": {},
   "outputs": [],
   "source": [
    "# to generate empyty project form including all options for variables\n",
    "# e.g.: \n",
    "ACTIVITY_STATUS = \"0:open, 1:in-progress ,2:action-required, 3:paused,4:closed\"          \n",
    "ERROR_STATUS = \"0:open,1:ok,2:error\"\n",
    "ENTITY_STATUS = \"0:open,1:stored,2:submitted,3:re-opened,4:closed\"\n",
    "CHECK_STATUS = \"0:open,1:warning, 2:error,3:ok\"\n",
    "import dkrz_forms\n",
    "#from dkrz_forms import form_handler, utils\n",
    "#sf_t = utils.generate_project_form('ESGF_replication')\n",
    "#print(checks.get_options(sf_t.sub.activity.status))"
   ]
  },
  {
   "cell_type": "markdown",
   "metadata": {},
   "source": [
    "## demo examples - step by step\n",
    "\n",
    "Data managers have two separate application scenarios for data ingest information management:\n",
    "* interactive information adaptation for specific individual data ingest activities\n",
    "* automatic information adaptation by integrating in own data management scripts (e.g. data qualitiy assurance or data publication)\n",
    "  * examples: successfull ESGF publication can update automatically the publication workflow step information"
   ]
  },
  {
   "cell_type": "markdown",
   "metadata": {},
   "source": [
    "### Step 1: find and load a specific data ingest activity related form\n",
    "\n",
    "* Alternative A)\n",
    "   * check out out git repo https://gitlab.dkrz.de/DKRZ-CMIP-Pool/data_forms_repo\n",
    "   * this repo contains all completed submission forms\n",
    "   * all data manager related changes are also committed there\n",
    "   * subdirectories in this repo relate to the individual projects (e.g. CMIP6, CORDEX, ESGF_replication, ..)\n",
    "   * each entry there contains the last name of the data submission originator  \n",
    "   \n",
    "* Alternative B) (not yet documented, only prototype) \n",
    "   * use search interface and API of search index on all submision forms\n",
    "  \n",
    "  "
   ]
  },
  {
   "cell_type": "code",
   "execution_count": 4,
   "metadata": {},
   "outputs": [],
   "source": [
    "## To do: include different examples how to query for data ingest activities based on different properties\n",
    "\n",
    "#info_file = \"/home/stephan/tmp/Repos/form_repo/test/test_testsuite_123.json\"\n",
    "#info_file = \"/home/stephan/Forms/local_repo/test/test_testsuite_1.json\"\n",
    "#info_file = \"/home/stephan/Forms/local_repo/CORDEX/CORDEX_kindermann_2.json\"\n",
    "info_file = \"/opt/jupyter/notebooks/form_directory/CORDEX/CORDEX_mm_mm.json\"\n",
    "\n",
    "from dkrz_forms import form_handler, utils,checks,wflow_handler\n",
    "from datetime import datetime\n",
    "\n",
    "my_form = utils.load_workflow_form(info_file)"
   ]
  },
  {
   "cell_type": "code",
   "execution_count": 5,
   "metadata": {},
   "outputs": [
    {
     "data": {
      "text/plain": [
       "['sub', 'rev', 'ing', 'qua', 'pub']"
      ]
     },
     "execution_count": 5,
     "metadata": {},
     "output_type": "execute_result"
    }
   ],
   "source": [
    "wflow_dict = wflow_handler.get_wflow_description(my_form)\n",
    "list(wflow_dict.values())"
   ]
  },
  {
   "cell_type": "code",
   "execution_count": 6,
   "metadata": {},
   "outputs": [
    {
     "data": {
      "text/plain": [
       "'rev'"
      ]
     },
     "execution_count": 6,
     "metadata": {},
     "output_type": "execute_result"
    }
   ],
   "source": [
    "wflow_handler.rename_action('data_submission_review',my_form)"
   ]
  },
  {
   "cell_type": "code",
   "execution_count": 7,
   "metadata": {},
   "outputs": [
    {
     "name": "stdout",
     "output_type": "stream",
     "text": [
      "\n",
      "\n",
      "Form Handler - save form status message:\n",
      "entity_in.form_path and entity_out.form_repo_path\n",
      "/home/stephan/Forms/CORDEX/CORDEX_mm_mm.ipynb\n",
      "/opt/jupyter/notebooks/form_directory/CORDEX/CORDEX_mm_mm.ipynb\n",
      " --- form stored in transfer format in: /opt/jupyter/notebooks/form_directory/CORDEX/CORDEX_mm_mm.json\n",
      " \n",
      " --- commit message:[master 855cc93] Form Handler: submission form for user mm saved using prefix CORDEX_mm_mm ## stephan kindermann: rev started\n",
      " 2 files changed, 184 insertions(+), 37 deletions(-)\n"
     ]
    }
   ],
   "source": [
    "my_form = wflow_handler.start_action('data_submission_review',my_form,\"stephan kindermann\")"
   ]
  },
  {
   "cell_type": "code",
   "execution_count": 8,
   "metadata": {},
   "outputs": [
    {
     "name": "stdout",
     "output_type": "stream",
     "text": [
      "\n",
      "\n",
      "Form Handler - save form status message:\n",
      "entity_in.form_path and entity_out.form_repo_path\n",
      "/home/stephan/Forms/CORDEX/CORDEX_mm_mm.ipynb\n",
      "/opt/jupyter/notebooks/form_directory/CORDEX/CORDEX_mm_mm.ipynb\n",
      " --- form stored in transfer format in: /opt/jupyter/notebooks/form_directory/CORDEX/CORDEX_mm_mm.json\n",
      " \n",
      " --- commit message:[master c9b9be5] Form Handler: submission form for user mm saved using prefix CORDEX_mm_mm ## stephan kindermann: rev updated\n",
      " 1 file changed, 3 insertions(+), 3 deletions(-)\n"
     ]
    }
   ],
   "source": [
    "myform = wflow_handler.update_action('data_submission_review',my_form,\"stephan kindermann\")"
   ]
  },
  {
   "cell_type": "code",
   "execution_count": 9,
   "metadata": {},
   "outputs": [
    {
     "name": "stdout",
     "output_type": "stream",
     "text": [
      "\n",
      "\n",
      "Form Handler - save form status message:\n",
      "entity_in.form_path and entity_out.form_repo_path\n",
      "/home/stephan/Forms/CORDEX/CORDEX_mm_mm.ipynb\n",
      "/opt/jupyter/notebooks/form_directory/CORDEX/CORDEX_mm_mm.ipynb\n",
      " --- form stored in transfer format in: /opt/jupyter/notebooks/form_directory/CORDEX/CORDEX_mm_mm.json\n",
      " \n",
      " --- commit message:[master efadd90] Form Handler: submission form for user mm saved using prefix CORDEX_mm_mm ## stephan kindermann: rev finished\n",
      " 1 file changed, 8 insertions(+), 8 deletions(-)\n"
     ]
    }
   ],
   "source": [
    "review_report = {}\n",
    "review_report['comment'] = 'needed to change and correct submission form'\n",
    "review_report['additional_info'] = \"mail exchange with a@b with respect to question ...\"\n",
    "\n",
    "myform = wflow_handler.finish_action('data_submission_review',my_form,\"stephan kindermann\",review_report)"
   ]
  },
  {
   "cell_type": "markdown",
   "metadata": {},
   "source": [
    "### interactive \"help\": use ?form.part and tab completion:"
   ]
  },
  {
   "cell_type": "code",
   "execution_count": 10,
   "metadata": {},
   "outputs": [],
   "source": [
    "?my_form\n"
   ]
  },
  {
   "cell_type": "code",
   "execution_count": 11,
   "metadata": {},
   "outputs": [],
   "source": [
    "?my_form.sub"
   ]
  },
  {
   "cell_type": "code",
   "execution_count": null,
   "metadata": {},
   "outputs": [],
   "source": [
    "my_form.sub.entity_out.report."
   ]
  },
  {
   "cell_type": "markdown",
   "metadata": {},
   "source": [
    "## Display status of report"
   ]
  },
  {
   "cell_type": "code",
   "execution_count": 12,
   "metadata": {},
   "outputs": [
    {
     "name": "stdout",
     "output_type": "stream",
     "text": [
      "\n",
      "\n",
      "Form Handler - save form status message:\n",
      "entity_in.form_path and entity_out.form_repo_path\n",
      "/home/stephan/Forms/CORDEX/CORDEX_mm_mm.ipynb\n",
      "/opt/jupyter/notebooks/form_directory/CORDEX/CORDEX_mm_mm.ipynb\n",
      " --- form stored in transfer format in: /opt/jupyter/notebooks/form_directory/CORDEX/CORDEX_mm_mm.json\n",
      " \n",
      " --- commit message:[master e8dd4ef] Form Handler: submission form for user mm saved using prefix CORDEX_mm_mm ## init\n",
      " 1 file changed, 3 insertions(+), 3 deletions(-)\n"
     ]
    }
   ],
   "source": [
    "sf = form_handler.save_form(my_form, \"init\")"
   ]
  },
  {
   "cell_type": "code",
   "execution_count": 138,
   "metadata": {},
   "outputs": [
    {
     "data": {
      "text/html": [
       "<p> Summary of check results </p><table width=100%><tr><td><b>Value<b></td><td><b>Check Result<b></td><td><b>Check Comment<b></td></tr><tr><td>collection_pid</td><td style=color:red;>NOT OK</td><td>Error: option parameter not set</td></tr><tr><td>comment</td><td style=color:green;>OK</td><td>Warning: optional parameter not set</td></tr><tr><td>scientific_context</td><td style=color:red;>NOT OK</td><td>Error: mandatory string not set</td></tr><tr><td>submission_type</td><td style=color:red;>NOT OK</td><td>Error: option parameter not set</td></tr><tr><td>update_notification</td><td style=color:red;>NOT OK</td><td>Error: option parameter not set</td></tr></table>"
      ],
      "text/plain": [
       "{'collection_pid': (0, 'Error: option parameter not set'),\n",
       " 'comment': (1, 'Warning: optional parameter not set'),\n",
       " 'scientific_context': (0, 'Error: mandatory string not set'),\n",
       " 'submission_type': (0, 'Error: option parameter not set'),\n",
       " 'update_notification': (0, 'Error: option parameter not set')}"
      ]
     },
     "metadata": {},
     "output_type": "display_data"
    }
   ],
   "source": [
    "report = checks.check_report(my_form,\"sub\")\n",
    "checks.display_report(report)"
   ]
  },
  {
   "cell_type": "code",
   "execution_count": 13,
   "metadata": {},
   "outputs": [
    {
     "data": {
      "text/plain": [
       "'0:open,1:warning, 2:error,3:ok'"
      ]
     },
     "execution_count": 13,
     "metadata": {},
     "output_type": "execute_result"
    }
   ],
   "source": [
    "my_form.rev.entity_in.check_status\n"
   ]
  },
  {
   "cell_type": "markdown",
   "metadata": {},
   "source": [
    "## Display status of form"
   ]
  },
  {
   "cell_type": "code",
   "execution_count": 14,
   "metadata": {},
   "outputs": [
    {
     "data": {
      "text/plain": [
       "'mandatory'"
      ]
     },
     "execution_count": 14,
     "metadata": {},
     "output_type": "execute_result"
    }
   ],
   "source": [
    "my_form.sub.activity.ticket_url"
   ]
  },
  {
   "cell_type": "code",
   "execution_count": 17,
   "metadata": {
    "scrolled": true
   },
   "outputs": [
    {
     "name": "stdout",
     "output_type": "stream",
     "text": [
      "=============================================================================\n",
      "Workflow step:  sub\n",
      "PROV entity:  agent\n"
     ]
    },
    {
     "data": {
      "text/html": [
       "<p> Summary of check results </p><table width=100%><tr><td><b>Value<b></td><td><b>Check Result<b></td><td><b>Check Comment<b></td></tr><tr><td>email</td><td style=color:green;>OK</td><td>mandatory string not empty</td></tr><tr><td>first_name</td><td style=color:green;>OK</td><td>mandatory string not empty</td></tr><tr><td>keyword</td><td style=color:green;>OK</td><td>mandatory string not empty</td></tr><tr><td>last_name</td><td style=color:green;>OK</td><td>mandatory string not empty</td></tr><tr><td>responsible_person</td><td style=color:green;>OK</td><td>mandatory string not empty</td></tr></table>"
      ],
      "text/plain": [
       "{'email': (1, 'mandatory string not empty'),\n",
       " 'first_name': (1, 'mandatory string not empty'),\n",
       " 'keyword': (1, 'mandatory string not empty'),\n",
       " 'last_name': (1, 'mandatory string not empty'),\n",
       " 'responsible_person': (1, 'mandatory string not empty')}"
      ]
     },
     "metadata": {},
     "output_type": "display_data"
    },
    {
     "name": "stdout",
     "output_type": "stream",
     "text": [
      "PROV entity:  entity_in\n"
     ]
    },
    {
     "data": {
      "text/html": [
       "<p> Summary of check results </p><table width=100%><tr><td><b>Value<b></td><td><b>Check Result<b></td><td><b>Check Comment<b></td></tr><tr><td>form_dir</td><td style=color:green;>OK</td><td>mandatory string not empty</td></tr><tr><td>form_path</td><td style=color:green;>OK</td><td>mandatory string not empty</td></tr><tr><td>source_path</td><td style=color:red;>NOT OK</td><td>Error: mandatory string not set</td></tr><tr><td>tag</td><td style=color:green;>OK</td><td>Warning: optional parameter not set</td></tr><tr><td>version</td><td style=color:green;>OK</td><td>Warning: optional parameter not set</td></tr></table>"
      ],
      "text/plain": [
       "{'form_dir': (1, 'mandatory string not empty'),\n",
       " 'form_path': (1, 'mandatory string not empty'),\n",
       " 'source_path': (0, 'Error: mandatory string not set'),\n",
       " 'tag': (1, 'Warning: optional parameter not set'),\n",
       " 'version': (1, 'Warning: optional parameter not set')}"
      ]
     },
     "metadata": {},
     "output_type": "display_data"
    },
    {
     "name": "stdout",
     "output_type": "stream",
     "text": [
      "PROV entity:  entity_out\n"
     ]
    },
    {
     "data": {
      "text/html": [
       "<p> Summary of check results </p><table width=100%><tr><td><b>Value<b></td><td><b>Check Result<b></td><td><b>Check Comment<b></td></tr><tr><td>check_status</td><td style=color:green;>OK</td><td>ok: Valid option setting</td></tr><tr><td>checks_done</td><td style=color:red;>NOT OK</td><td>Error: mandatory string not set</td></tr><tr><td>commit_message</td><td style=color:green;>OK</td><td>ok: parameter is optional</td></tr><tr><td>form_json</td><td style=color:green;>OK</td><td>mandatory string not empty</td></tr><tr><td>form_name</td><td style=color:green;>OK</td><td>mandatory string not empty</td></tr><tr><td>form_repo</td><td style=color:green;>OK</td><td>mandatory string not empty</td></tr><tr><td>form_repo_path</td><td style=color:green;>OK</td><td>mandatory string not empty</td></tr><tr><td>pwd</td><td style=color:green;>OK</td><td>mandatory string not empty</td></tr><tr><td>status</td><td style=color:green;>OK</td><td>ok: Valid option setting</td></tr><tr><td>submission_form</td><td style=color:red;>NOT OK</td><td>Error: mandatory string not set</td></tr><tr><td>submission_json</td><td style=color:red;>NOT OK</td><td>Error: mandatory string not set</td></tr><tr><td>submission_repo</td><td style=color:red;>NOT OK</td><td>Error: mandatory string not set</td></tr></table>"
      ],
      "text/plain": [
       "{'check_status': (1, 'ok: Valid option setting'),\n",
       " 'checks_done': (0, 'Error: mandatory string not set'),\n",
       " 'commit_message': (1, 'ok: parameter is optional'),\n",
       " 'form_json': (1, 'mandatory string not empty'),\n",
       " 'form_name': (1, 'mandatory string not empty'),\n",
       " 'form_repo': (1, 'mandatory string not empty'),\n",
       " 'form_repo_path': (1, 'mandatory string not empty'),\n",
       " 'pwd': (1, 'mandatory string not empty'),\n",
       " 'status': (1, 'ok: Valid option setting'),\n",
       " 'submission_form': (0, 'Error: mandatory string not set'),\n",
       " 'submission_json': (0, 'Error: mandatory string not set'),\n",
       " 'submission_repo': (0, 'Error: mandatory string not set')}"
      ]
     },
     "metadata": {},
     "output_type": "display_data"
    },
    {
     "name": "stdout",
     "output_type": "stream",
     "text": [
      "PROV entity:  activity\n"
     ]
    },
    {
     "data": {
      "text/html": [
       "<p> Summary of check results </p><table width=100%><tr><td><b>Value<b></td><td><b>Check Result<b></td><td><b>Check Comment<b></td></tr><tr><td>comment</td><td style=color:green;>OK</td><td>Warning: optional parameter not set</td></tr><tr><td>commit_hash</td><td style=color:green;>OK</td><td>Warning: optional parameter not set</td></tr><tr><td>end_time</td><td style=color:green;>OK</td><td>Warning: optional parameter not set</td></tr><tr><td>error_status</td><td style=color:red;>NOT OK</td><td>Error: option parameter not set</td></tr><tr><td>keyword</td><td style=color:green;>OK</td><td>mandatory string not empty</td></tr><tr><td>method</td><td style=color:red;>NOT OK</td><td>Error: mandatory string not set</td></tr><tr><td>pwd</td><td style=color:red;>NOT OK</td><td>Error: mandatory string not set</td></tr><tr><td>start_time</td><td style=color:green;>OK</td><td>mandatory string not empty</td></tr><tr><td>status</td><td style=color:green;>OK</td><td>ok: Valid option setting</td></tr><tr><td>ticket_id</td><td style=color:green;>OK</td><td>Warning: optional parameter not set</td></tr><tr><td>ticket_url</td><td style=color:red;>NOT OK</td><td>Error: mandatory string not set</td></tr><tr><td>timestamp</td><td style=color:green;>OK</td><td>ok: parameter is optional</td></tr></table>"
      ],
      "text/plain": [
       "{'comment': (1, 'Warning: optional parameter not set'),\n",
       " 'commit_hash': (1, 'Warning: optional parameter not set'),\n",
       " 'end_time': (1, 'Warning: optional parameter not set'),\n",
       " 'error_status': (0, 'Error: option parameter not set'),\n",
       " 'keyword': (1, 'mandatory string not empty'),\n",
       " 'method': (0, 'Error: mandatory string not set'),\n",
       " 'pwd': (0, 'Error: mandatory string not set'),\n",
       " 'start_time': (1, 'mandatory string not empty'),\n",
       " 'status': (1, 'ok: Valid option setting'),\n",
       " 'ticket_id': (1, 'Warning: optional parameter not set'),\n",
       " 'ticket_url': (0, 'Error: mandatory string not set'),\n",
       " 'timestamp': (1, 'ok: parameter is optional')}"
      ]
     },
     "metadata": {},
     "output_type": "display_data"
    }
   ],
   "source": [
    "part = dkrz_forms.checks.check_step_form(my_form,\"sub\")\n",
    "dkrz_forms.checks.display_check(part,\"sub\")\n"
   ]
  },
  {
   "cell_type": "code",
   "execution_count": 18,
   "metadata": {
    "scrolled": true
   },
   "outputs": [
    {
     "name": "stdout",
     "output_type": "stream",
     "text": [
      "=============================================================================\n",
      "Workflow step:  data_submission\n",
      "PROV entity:  agent\n"
     ]
    },
    {
     "data": {
      "text/html": [
       "<p> Summary of check results </p><table width=100%><tr><td><b>Value<b></td><td><b>Check Result<b></td><td><b>Check Comment<b></td></tr><tr><td>email</td><td style=color:green;>OK</td><td>mandatory string not empty</td></tr><tr><td>first_name</td><td style=color:green;>OK</td><td>mandatory string not empty</td></tr><tr><td>keyword</td><td style=color:green;>OK</td><td>mandatory string not empty</td></tr><tr><td>last_name</td><td style=color:green;>OK</td><td>mandatory string not empty</td></tr><tr><td>responsible_person</td><td style=color:green;>OK</td><td>mandatory string not empty</td></tr></table>"
      ],
      "text/plain": [
       "{'email': (1, 'mandatory string not empty'),\n",
       " 'first_name': (1, 'mandatory string not empty'),\n",
       " 'keyword': (1, 'mandatory string not empty'),\n",
       " 'last_name': (1, 'mandatory string not empty'),\n",
       " 'responsible_person': (1, 'mandatory string not empty')}"
      ]
     },
     "metadata": {},
     "output_type": "display_data"
    },
    {
     "name": "stdout",
     "output_type": "stream",
     "text": [
      "PROV entity:  entity_in\n"
     ]
    },
    {
     "data": {
      "text/html": [
       "<p> Summary of check results </p><table width=100%><tr><td><b>Value<b></td><td><b>Check Result<b></td><td><b>Check Comment<b></td></tr><tr><td>form_dir</td><td style=color:green;>OK</td><td>mandatory string not empty</td></tr><tr><td>form_path</td><td style=color:green;>OK</td><td>mandatory string not empty</td></tr><tr><td>source_path</td><td style=color:red;>NOT OK</td><td>Error: mandatory string not set</td></tr><tr><td>tag</td><td style=color:green;>OK</td><td>Warning: optional parameter not set</td></tr><tr><td>version</td><td style=color:green;>OK</td><td>Warning: optional parameter not set</td></tr></table>"
      ],
      "text/plain": [
       "{'form_dir': (1, 'mandatory string not empty'),\n",
       " 'form_path': (1, 'mandatory string not empty'),\n",
       " 'source_path': (0, 'Error: mandatory string not set'),\n",
       " 'tag': (1, 'Warning: optional parameter not set'),\n",
       " 'version': (1, 'Warning: optional parameter not set')}"
      ]
     },
     "metadata": {},
     "output_type": "display_data"
    },
    {
     "name": "stdout",
     "output_type": "stream",
     "text": [
      "PROV entity:  entity_out\n"
     ]
    },
    {
     "data": {
      "text/html": [
       "<p> Summary of check results </p><table width=100%><tr><td><b>Value<b></td><td><b>Check Result<b></td><td><b>Check Comment<b></td></tr><tr><td>check_status</td><td style=color:green;>OK</td><td>ok: Valid option setting</td></tr><tr><td>checks_done</td><td style=color:red;>NOT OK</td><td>Error: mandatory string not set</td></tr><tr><td>commit_message</td><td style=color:green;>OK</td><td>ok: parameter is optional</td></tr><tr><td>form_json</td><td style=color:green;>OK</td><td>mandatory string not empty</td></tr><tr><td>form_name</td><td style=color:green;>OK</td><td>mandatory string not empty</td></tr><tr><td>form_repo</td><td style=color:green;>OK</td><td>mandatory string not empty</td></tr><tr><td>form_repo_path</td><td style=color:green;>OK</td><td>mandatory string not empty</td></tr><tr><td>pwd</td><td style=color:green;>OK</td><td>mandatory string not empty</td></tr><tr><td>status</td><td style=color:green;>OK</td><td>ok: Valid option setting</td></tr><tr><td>submission_form</td><td style=color:red;>NOT OK</td><td>Error: mandatory string not set</td></tr><tr><td>submission_json</td><td style=color:red;>NOT OK</td><td>Error: mandatory string not set</td></tr><tr><td>submission_repo</td><td style=color:red;>NOT OK</td><td>Error: mandatory string not set</td></tr></table>"
      ],
      "text/plain": [
       "{'check_status': (1, 'ok: Valid option setting'),\n",
       " 'checks_done': (0, 'Error: mandatory string not set'),\n",
       " 'commit_message': (1, 'ok: parameter is optional'),\n",
       " 'form_json': (1, 'mandatory string not empty'),\n",
       " 'form_name': (1, 'mandatory string not empty'),\n",
       " 'form_repo': (1, 'mandatory string not empty'),\n",
       " 'form_repo_path': (1, 'mandatory string not empty'),\n",
       " 'pwd': (1, 'mandatory string not empty'),\n",
       " 'status': (1, 'ok: Valid option setting'),\n",
       " 'submission_form': (0, 'Error: mandatory string not set'),\n",
       " 'submission_json': (0, 'Error: mandatory string not set'),\n",
       " 'submission_repo': (0, 'Error: mandatory string not set')}"
      ]
     },
     "metadata": {},
     "output_type": "display_data"
    },
    {
     "name": "stdout",
     "output_type": "stream",
     "text": [
      "PROV entity:  activity\n"
     ]
    },
    {
     "data": {
      "text/html": [
       "<p> Summary of check results </p><table width=100%><tr><td><b>Value<b></td><td><b>Check Result<b></td><td><b>Check Comment<b></td></tr><tr><td>comment</td><td style=color:green;>OK</td><td>Warning: optional parameter not set</td></tr><tr><td>commit_hash</td><td style=color:green;>OK</td><td>Warning: optional parameter not set</td></tr><tr><td>end_time</td><td style=color:green;>OK</td><td>Warning: optional parameter not set</td></tr><tr><td>error_status</td><td style=color:red;>NOT OK</td><td>Error: option parameter not set</td></tr><tr><td>keyword</td><td style=color:green;>OK</td><td>mandatory string not empty</td></tr><tr><td>method</td><td style=color:red;>NOT OK</td><td>Error: mandatory string not set</td></tr><tr><td>pwd</td><td style=color:red;>NOT OK</td><td>Error: mandatory string not set</td></tr><tr><td>start_time</td><td style=color:green;>OK</td><td>mandatory string not empty</td></tr><tr><td>status</td><td style=color:green;>OK</td><td>ok: Valid option setting</td></tr><tr><td>ticket_id</td><td style=color:green;>OK</td><td>Warning: optional parameter not set</td></tr><tr><td>ticket_url</td><td style=color:red;>NOT OK</td><td>Error: mandatory string not set</td></tr><tr><td>timestamp</td><td style=color:green;>OK</td><td>ok: parameter is optional</td></tr></table>"
      ],
      "text/plain": [
       "{'comment': (1, 'Warning: optional parameter not set'),\n",
       " 'commit_hash': (1, 'Warning: optional parameter not set'),\n",
       " 'end_time': (1, 'Warning: optional parameter not set'),\n",
       " 'error_status': (0, 'Error: option parameter not set'),\n",
       " 'keyword': (1, 'mandatory string not empty'),\n",
       " 'method': (0, 'Error: mandatory string not set'),\n",
       " 'pwd': (0, 'Error: mandatory string not set'),\n",
       " 'start_time': (1, 'mandatory string not empty'),\n",
       " 'status': (1, 'ok: Valid option setting'),\n",
       " 'ticket_id': (1, 'Warning: optional parameter not set'),\n",
       " 'ticket_url': (0, 'Error: mandatory string not set'),\n",
       " 'timestamp': (1, 'ok: parameter is optional')}"
      ]
     },
     "metadata": {},
     "output_type": "display_data"
    },
    {
     "name": "stdout",
     "output_type": "stream",
     "text": [
      "=============================================================================\n",
      "Workflow step:  data_submission_review\n",
      "PROV entity:  agent\n"
     ]
    },
    {
     "data": {
      "text/html": [
       "<p> Summary of check results </p><table width=100%><tr><td><b>Value<b></td><td><b>Check Result<b></td><td><b>Check Comment<b></td></tr><tr><td>responsible_person</td><td style=color:green;>OK</td><td>mandatory string not empty</td></tr></table>"
      ],
      "text/plain": [
       "{'responsible_person': (1, 'mandatory string not empty')}"
      ]
     },
     "metadata": {},
     "output_type": "display_data"
    },
    {
     "name": "stdout",
     "output_type": "stream",
     "text": [
      "PROV entity:  entity_in\n"
     ]
    },
    {
     "data": {
      "text/html": [
       "<p> Summary of check results </p><table width=100%><tr><td><b>Value<b></td><td><b>Check Result<b></td><td><b>Check Comment<b></td></tr><tr><td>check_status</td><td style=color:red;>NOT OK</td><td>Error: option parameter not set</td></tr><tr><td>checks_done</td><td style=color:red;>NOT OK</td><td>Error: mandatory string not set</td></tr><tr><td>commit_message</td><td style=color:green;>OK</td><td>Warning: optional parameter not set</td></tr><tr><td>form_json</td><td style=color:red;>NOT OK</td><td>Error: mandatory string not set</td></tr><tr><td>form_name</td><td style=color:red;>NOT OK</td><td>Error: mandatory string not set</td></tr><tr><td>form_repo</td><td style=color:red;>NOT OK</td><td>Error: mandatory string not set</td></tr><tr><td>form_repo_path</td><td style=color:red;>NOT OK</td><td>Error: mandatory string not set</td></tr><tr><td>pwd</td><td style=color:red;>NOT OK</td><td>Error: mandatory string not set</td></tr><tr><td>status</td><td style=color:red;>NOT OK</td><td>Error: option parameter not set</td></tr><tr><td>submission_form</td><td style=color:red;>NOT OK</td><td>Error: mandatory string not set</td></tr><tr><td>submission_json</td><td style=color:red;>NOT OK</td><td>Error: mandatory string not set</td></tr><tr><td>submission_repo</td><td style=color:red;>NOT OK</td><td>Error: mandatory string not set</td></tr></table>"
      ],
      "text/plain": [
       "{'check_status': (0, 'Error: option parameter not set'),\n",
       " 'checks_done': (0, 'Error: mandatory string not set'),\n",
       " 'commit_message': (1, 'Warning: optional parameter not set'),\n",
       " 'form_json': (0, 'Error: mandatory string not set'),\n",
       " 'form_name': (0, 'Error: mandatory string not set'),\n",
       " 'form_repo': (0, 'Error: mandatory string not set'),\n",
       " 'form_repo_path': (0, 'Error: mandatory string not set'),\n",
       " 'pwd': (0, 'Error: mandatory string not set'),\n",
       " 'status': (0, 'Error: option parameter not set'),\n",
       " 'submission_form': (0, 'Error: mandatory string not set'),\n",
       " 'submission_json': (0, 'Error: mandatory string not set'),\n",
       " 'submission_repo': (0, 'Error: mandatory string not set')}"
      ]
     },
     "metadata": {},
     "output_type": "display_data"
    },
    {
     "name": "stdout",
     "output_type": "stream",
     "text": [
      "PROV entity:  entity_out\n"
     ]
    },
    {
     "data": {
      "text/html": [
       "<p> Summary of check results </p><table width=100%><tr><td><b>Value<b></td><td><b>Check Result<b></td><td><b>Check Comment<b></td></tr><tr><td>check_status</td><td style=color:green;>OK</td><td>ok: Valid option setting</td></tr><tr><td>comment</td><td style=color:green;>OK</td><td>Warning: optional parameter not set</td></tr><tr><td>date</td><td style=color:red;>NOT OK</td><td>Error: mandatory string not set</td></tr><tr><td>status</td><td style=color:green;>OK</td><td>ok: Valid option setting</td></tr><tr><td>tag</td><td style=color:green;>OK</td><td>Warning: optional parameter not set</td></tr></table>"
      ],
      "text/plain": [
       "{'check_status': (1, 'ok: Valid option setting'),\n",
       " 'comment': (1, 'Warning: optional parameter not set'),\n",
       " 'date': (0, 'Error: mandatory string not set'),\n",
       " 'status': (1, 'ok: Valid option setting'),\n",
       " 'tag': (1, 'Warning: optional parameter not set')}"
      ]
     },
     "metadata": {},
     "output_type": "display_data"
    },
    {
     "name": "stdout",
     "output_type": "stream",
     "text": [
      "PROV entity:  activity\n"
     ]
    },
    {
     "data": {
      "text/html": [
       "<p> Summary of check results </p><table width=100%><tr><td><b>Value<b></td><td><b>Check Result<b></td><td><b>Check Comment<b></td></tr><tr><td>comment</td><td style=color:green;>OK</td><td>Warning: optional parameter not set</td></tr><tr><td>end_time</td><td style=color:green;>OK</td><td>ok: parameter is optional</td></tr><tr><td>error_status</td><td style=color:green;>OK</td><td>ok: Valid option setting</td></tr><tr><td>start_time</td><td style=color:green;>OK</td><td>mandatory string not empty</td></tr><tr><td>status</td><td style=color:green;>OK</td><td>ok: Valid option setting</td></tr><tr><td>ticket_id</td><td style=color:red;>NOT OK</td><td>Error: mandatory string not set</td></tr><tr><td>ticket_url</td><td style=color:red;>NOT OK</td><td>Error: mandatory string not set</td></tr><tr><td>timestamp</td><td style=color:green;>OK</td><td>ok: parameter is optional</td></tr></table>"
      ],
      "text/plain": [
       "{'comment': (1, 'Warning: optional parameter not set'),\n",
       " 'end_time': (1, 'ok: parameter is optional'),\n",
       " 'error_status': (1, 'ok: Valid option setting'),\n",
       " 'start_time': (1, 'mandatory string not empty'),\n",
       " 'status': (1, 'ok: Valid option setting'),\n",
       " 'ticket_id': (0, 'Error: mandatory string not set'),\n",
       " 'ticket_url': (0, 'Error: mandatory string not set'),\n",
       " 'timestamp': (1, 'ok: parameter is optional')}"
      ]
     },
     "metadata": {},
     "output_type": "display_data"
    },
    {
     "name": "stdout",
     "output_type": "stream",
     "text": [
      "=============================================================================\n",
      "Workflow step:  data_ingest\n",
      "PROV entity:  agent\n"
     ]
    },
    {
     "data": {
      "text/html": [
       "<p> Summary of check results </p><table width=100%><tr><td><b>Value<b></td><td><b>Check Result<b></td><td><b>Check Comment<b></td></tr><tr><td>responsible_person</td><td style=color:red;>NOT OK</td><td>Error: mandatory string not set</td></tr></table>"
      ],
      "text/plain": [
       "{'responsible_person': (0, 'Error: mandatory string not set')}"
      ]
     },
     "metadata": {},
     "output_type": "display_data"
    },
    {
     "name": "stdout",
     "output_type": "stream",
     "text": [
      "PROV entity:  entity_in\n"
     ]
    },
    {
     "data": {
      "text/html": [
       "<p> Summary of check results </p><table width=100%><tr><td><b>Value<b></td><td><b>Check Result<b></td><td><b>Check Comment<b></td></tr><tr><td>check_status</td><td style=color:red;>NOT OK</td><td>Error: option parameter not set</td></tr><tr><td>comment</td><td style=color:green;>OK</td><td>Warning: optional parameter not set</td></tr><tr><td>date</td><td style=color:red;>NOT OK</td><td>Error: mandatory string not set</td></tr><tr><td>status</td><td style=color:red;>NOT OK</td><td>Error: option parameter not set</td></tr><tr><td>tag</td><td style=color:green;>OK</td><td>Warning: optional parameter not set</td></tr></table>"
      ],
      "text/plain": [
       "{'check_status': (0, 'Error: option parameter not set'),\n",
       " 'comment': (1, 'Warning: optional parameter not set'),\n",
       " 'date': (0, 'Error: mandatory string not set'),\n",
       " 'status': (0, 'Error: option parameter not set'),\n",
       " 'tag': (1, 'Warning: optional parameter not set')}"
      ]
     },
     "metadata": {},
     "output_type": "display_data"
    },
    {
     "name": "stdout",
     "output_type": "stream",
     "text": [
      "PROV entity:  entity_out\n"
     ]
    },
    {
     "data": {
      "text/html": [
       "<p> Summary of check results </p><table width=100%><tr><td><b>Value<b></td><td><b>Check Result<b></td><td><b>Check Comment<b></td></tr><tr><td>check_status</td><td style=color:red;>NOT OK</td><td>Error: option parameter not set</td></tr><tr><td>comment</td><td style=color:green;>OK</td><td>Warning: optional parameter not set</td></tr><tr><td>date</td><td style=color:red;>NOT OK</td><td>Error: mandatory string not set</td></tr><tr><td>status</td><td style=color:red;>NOT OK</td><td>Error: option parameter not set</td></tr><tr><td>tag</td><td style=color:green;>OK</td><td>Warning: optional parameter not set</td></tr></table>"
      ],
      "text/plain": [
       "{'check_status': (0, 'Error: option parameter not set'),\n",
       " 'comment': (1, 'Warning: optional parameter not set'),\n",
       " 'date': (0, 'Error: mandatory string not set'),\n",
       " 'status': (0, 'Error: option parameter not set'),\n",
       " 'tag': (1, 'Warning: optional parameter not set')}"
      ]
     },
     "metadata": {},
     "output_type": "display_data"
    },
    {
     "name": "stdout",
     "output_type": "stream",
     "text": [
      "PROV entity:  activity\n"
     ]
    },
    {
     "data": {
      "text/html": [
       "<p> Summary of check results </p><table width=100%><tr><td><b>Value<b></td><td><b>Check Result<b></td><td><b>Check Comment<b></td></tr><tr><td>comment</td><td style=color:green;>OK</td><td>Warning: optional parameter not set</td></tr><tr><td>end_time</td><td style=color:green;>OK</td><td>Warning: optional parameter not set</td></tr><tr><td>error_status</td><td style=color:red;>NOT OK</td><td>Error: option parameter not set</td></tr><tr><td>start_time</td><td style=color:red;>NOT OK</td><td>Error: mandatory string not set</td></tr><tr><td>status</td><td style=color:red;>NOT OK</td><td>Error: option parameter not set</td></tr><tr><td>ticket_id</td><td style=color:red;>NOT OK</td><td>Error: mandatory string not set</td></tr><tr><td>timestamp</td><td style=color:green;>OK</td><td>Warning: optional parameter not set</td></tr></table>"
      ],
      "text/plain": [
       "{'comment': (1, 'Warning: optional parameter not set'),\n",
       " 'end_time': (1, 'Warning: optional parameter not set'),\n",
       " 'error_status': (0, 'Error: option parameter not set'),\n",
       " 'start_time': (0, 'Error: mandatory string not set'),\n",
       " 'status': (0, 'Error: option parameter not set'),\n",
       " 'ticket_id': (0, 'Error: mandatory string not set'),\n",
       " 'timestamp': (1, 'Warning: optional parameter not set')}"
      ]
     },
     "metadata": {},
     "output_type": "display_data"
    },
    {
     "name": "stdout",
     "output_type": "stream",
     "text": [
      "=============================================================================\n",
      "Workflow step:  data_quality_assurance\n",
      "PROV entity:  agent\n"
     ]
    },
    {
     "data": {
      "text/html": [
       "<p> Summary of check results </p><table width=100%><tr><td><b>Value<b></td><td><b>Check Result<b></td><td><b>Check Comment<b></td></tr><tr><td>responsible_person</td><td style=color:red;>NOT OK</td><td>Error: mandatory string not set</td></tr></table>"
      ],
      "text/plain": [
       "{'responsible_person': (0, 'Error: mandatory string not set')}"
      ]
     },
     "metadata": {},
     "output_type": "display_data"
    },
    {
     "name": "stdout",
     "output_type": "stream",
     "text": [
      "PROV entity:  entity_in\n"
     ]
    },
    {
     "data": {
      "text/html": [
       "<p> Summary of check results </p><table width=100%><tr><td><b>Value<b></td><td><b>Check Result<b></td><td><b>Check Comment<b></td></tr><tr><td>check_status</td><td style=color:red;>NOT OK</td><td>Error: option parameter not set</td></tr><tr><td>comment</td><td style=color:green;>OK</td><td>Warning: optional parameter not set</td></tr><tr><td>date</td><td style=color:red;>NOT OK</td><td>Error: mandatory string not set</td></tr><tr><td>status</td><td style=color:red;>NOT OK</td><td>Error: option parameter not set</td></tr><tr><td>tag</td><td style=color:green;>OK</td><td>Warning: optional parameter not set</td></tr></table>"
      ],
      "text/plain": [
       "{'check_status': (0, 'Error: option parameter not set'),\n",
       " 'comment': (1, 'Warning: optional parameter not set'),\n",
       " 'date': (0, 'Error: mandatory string not set'),\n",
       " 'status': (0, 'Error: option parameter not set'),\n",
       " 'tag': (1, 'Warning: optional parameter not set')}"
      ]
     },
     "metadata": {},
     "output_type": "display_data"
    },
    {
     "name": "stdout",
     "output_type": "stream",
     "text": [
      "PROV entity:  entity_out\n"
     ]
    },
    {
     "data": {
      "text/html": [
       "<p> Summary of check results </p><table width=100%><tr><td><b>Value<b></td><td><b>Check Result<b></td><td><b>Check Comment<b></td></tr><tr><td>check_status</td><td style=color:red;>NOT OK</td><td>Error: option parameter not set</td></tr><tr><td>comment</td><td style=color:green;>OK</td><td>Warning: optional parameter not set</td></tr><tr><td>date</td><td style=color:red;>NOT OK</td><td>Error: mandatory string not set</td></tr><tr><td>status</td><td style=color:red;>NOT OK</td><td>Error: option parameter not set</td></tr><tr><td>tag</td><td style=color:green;>OK</td><td>Warning: optional parameter not set</td></tr></table>"
      ],
      "text/plain": [
       "{'check_status': (0, 'Error: option parameter not set'),\n",
       " 'comment': (1, 'Warning: optional parameter not set'),\n",
       " 'date': (0, 'Error: mandatory string not set'),\n",
       " 'status': (0, 'Error: option parameter not set'),\n",
       " 'tag': (1, 'Warning: optional parameter not set')}"
      ]
     },
     "metadata": {},
     "output_type": "display_data"
    },
    {
     "name": "stdout",
     "output_type": "stream",
     "text": [
      "PROV entity:  activity\n"
     ]
    },
    {
     "data": {
      "text/html": [
       "<p> Summary of check results </p><table width=100%><tr><td><b>Value<b></td><td><b>Check Result<b></td><td><b>Check Comment<b></td></tr><tr><td>comment</td><td style=color:green;>OK</td><td>Warning: optional parameter not set</td></tr><tr><td>end_time</td><td style=color:green;>OK</td><td>Warning: optional parameter not set</td></tr><tr><td>error_status</td><td style=color:red;>NOT OK</td><td>Error: option parameter not set</td></tr><tr><td>follow_up_ticket</td><td style=color:green;>OK</td><td>Warning: optional parameter not set</td></tr><tr><td>qua_tool_version</td><td style=color:red;>NOT OK</td><td>Error: mandatory string not set</td></tr><tr><td>start_time</td><td style=color:red;>NOT OK</td><td>Error: mandatory string not set</td></tr><tr><td>status</td><td style=color:red;>NOT OK</td><td>Error: option parameter not set</td></tr><tr><td>ticket_id</td><td style=color:red;>NOT OK</td><td>Error: mandatory string not set</td></tr></table>"
      ],
      "text/plain": [
       "{'comment': (1, 'Warning: optional parameter not set'),\n",
       " 'end_time': (1, 'Warning: optional parameter not set'),\n",
       " 'error_status': (0, 'Error: option parameter not set'),\n",
       " 'follow_up_ticket': (1, 'Warning: optional parameter not set'),\n",
       " 'qua_tool_version': (0, 'Error: mandatory string not set'),\n",
       " 'start_time': (0, 'Error: mandatory string not set'),\n",
       " 'status': (0, 'Error: option parameter not set'),\n",
       " 'ticket_id': (0, 'Error: mandatory string not set')}"
      ]
     },
     "metadata": {},
     "output_type": "display_data"
    },
    {
     "name": "stdout",
     "output_type": "stream",
     "text": [
      "=============================================================================\n",
      "Workflow step:  data_publication\n",
      "PROV entity:  agent\n"
     ]
    },
    {
     "data": {
      "text/html": [
       "<p> Summary of check results </p><table width=100%><tr><td><b>Value<b></td><td><b>Check Result<b></td><td><b>Check Comment<b></td></tr><tr><td>responsible_person</td><td style=color:red;>NOT OK</td><td>Error: mandatory string not set</td></tr><tr><td>trigger</td><td style=color:red;>NOT OK</td><td>Error: option parameter not set</td></tr></table>"
      ],
      "text/plain": [
       "{'responsible_person': (0, 'Error: mandatory string not set'),\n",
       " 'trigger': (0, 'Error: option parameter not set')}"
      ]
     },
     "metadata": {},
     "output_type": "display_data"
    },
    {
     "name": "stdout",
     "output_type": "stream",
     "text": [
      "PROV entity:  entity_in\n"
     ]
    },
    {
     "data": {
      "text/html": [
       "<p> Summary of check results </p><table width=100%><tr><td><b>Value<b></td><td><b>Check Result<b></td><td><b>Check Comment<b></td></tr><tr><td>check_status</td><td style=color:red;>NOT OK</td><td>Error: option parameter not set</td></tr><tr><td>comment</td><td style=color:green;>OK</td><td>Warning: optional parameter not set</td></tr><tr><td>date</td><td style=color:red;>NOT OK</td><td>Error: mandatory string not set</td></tr><tr><td>status</td><td style=color:red;>NOT OK</td><td>Error: option parameter not set</td></tr><tr><td>tag</td><td style=color:green;>OK</td><td>Warning: optional parameter not set</td></tr></table>"
      ],
      "text/plain": [
       "{'check_status': (0, 'Error: option parameter not set'),\n",
       " 'comment': (1, 'Warning: optional parameter not set'),\n",
       " 'date': (0, 'Error: mandatory string not set'),\n",
       " 'status': (0, 'Error: option parameter not set'),\n",
       " 'tag': (1, 'Warning: optional parameter not set')}"
      ]
     },
     "metadata": {},
     "output_type": "display_data"
    },
    {
     "name": "stdout",
     "output_type": "stream",
     "text": [
      "PROV entity:  entity_out\n"
     ]
    },
    {
     "data": {
      "text/html": [
       "<p> Summary of check results </p><table width=100%><tr><td><b>Value<b></td><td><b>Check Result<b></td><td><b>Check Comment<b></td></tr><tr><td>check_status</td><td style=color:red;>NOT OK</td><td>Error: option parameter not set</td></tr><tr><td>comment</td><td style=color:green;>OK</td><td>Warning: optional parameter not set</td></tr><tr><td>date</td><td style=color:red;>NOT OK</td><td>Error: mandatory string not set</td></tr><tr><td>search_string</td><td style=color:green;>OK</td><td>Warning: optional parameter not set</td></tr><tr><td>status</td><td style=color:red;>NOT OK</td><td>Error: option parameter not set</td></tr><tr><td>tag</td><td style=color:green;>OK</td><td>Warning: optional parameter not set</td></tr></table>"
      ],
      "text/plain": [
       "{'check_status': (0, 'Error: option parameter not set'),\n",
       " 'comment': (1, 'Warning: optional parameter not set'),\n",
       " 'date': (0, 'Error: mandatory string not set'),\n",
       " 'search_string': (1, 'Warning: optional parameter not set'),\n",
       " 'status': (0, 'Error: option parameter not set'),\n",
       " 'tag': (1, 'Warning: optional parameter not set')}"
      ]
     },
     "metadata": {},
     "output_type": "display_data"
    },
    {
     "name": "stdout",
     "output_type": "stream",
     "text": [
      "PROV entity:  activity\n"
     ]
    },
    {
     "data": {
      "text/html": [
       "<p> Summary of check results </p><table width=100%><tr><td><b>Value<b></td><td><b>Check Result<b></td><td><b>Check Comment<b></td></tr><tr><td>comment</td><td style=color:green;>OK</td><td>Warning: optional parameter not set</td></tr><tr><td>end_time</td><td style=color:green;>OK</td><td>Warning: optional parameter not set</td></tr><tr><td>error_status</td><td style=color:red;>NOT OK</td><td>Error: option parameter not set</td></tr><tr><td>follow_up_ticket</td><td style=color:green;>OK</td><td>Warning: optional parameter not set</td></tr><tr><td>start_time</td><td style=color:red;>NOT OK</td><td>Error: mandatory string not set</td></tr><tr><td>status</td><td style=color:red;>NOT OK</td><td>Error: option parameter not set</td></tr><tr><td>ticket_id</td><td style=color:red;>NOT OK</td><td>Error: mandatory string not set</td></tr><tr><td>timestamp</td><td style=color:green;>OK</td><td>Warning: optional parameter not set</td></tr></table>"
      ],
      "text/plain": [
       "{'comment': (1, 'Warning: optional parameter not set'),\n",
       " 'end_time': (1, 'Warning: optional parameter not set'),\n",
       " 'error_status': (0, 'Error: option parameter not set'),\n",
       " 'follow_up_ticket': (1, 'Warning: optional parameter not set'),\n",
       " 'start_time': (0, 'Error: mandatory string not set'),\n",
       " 'status': (0, 'Error: option parameter not set'),\n",
       " 'ticket_id': (0, 'Error: mandatory string not set'),\n",
       " 'timestamp': (1, 'Warning: optional parameter not set')}"
      ]
     },
     "metadata": {},
     "output_type": "display_data"
    }
   ],
   "source": [
    "## global check\n",
    "res  = checks.check_generic_form(my_form)\n",
    "checks.display_checks(my_form,res)\n"
   ]
  },
  {
   "cell_type": "code",
   "execution_count": 19,
   "metadata": {
    "scrolled": true
   },
   "outputs": [
    {
     "name": "stdout",
     "output_type": "stream",
     "text": [
      "0:open\n",
      "mandatory\n",
      "optional\n"
     ]
    }
   ],
   "source": [
    "print(my_form.sub.entity_out.status)\n",
    "print(my_form.rev.entity_in.form_json)\n",
    "print(my_form.sub.activity.ticket_id)"
   ]
  },
  {
   "cell_type": "markdown",
   "metadata": {},
   "source": [
    "### Step 2: complete information in specific workflow step\n",
    "\n",
    "* workflow steps of specific project are given in my_form.workflow\n",
    "* normally my_form.workflow is given as \n",
    "  * [[u'sub', u'data_submission'], [u'rev', u'data_submission_review'], [u'ing', u'data_ingest'], [u'qua', u'data_quality_assurance']]\n",
    "* thus my_form.sub would contain the data_submission related information, my_form.rev the review related one etc.\n",
    "   * the workflow step related information dictionaries are configured based on config/project_config.py\n",
    "   "
   ]
  },
  {
   "cell_type": "code",
   "execution_count": 20,
   "metadata": {},
   "outputs": [
    {
     "name": "stdout",
     "output_type": "stream",
     "text": [
      "[['sub', 'data_submission'], ['rev', 'data_submission_review'], ['ing', 'data_ingest'], ['qua', 'data_quality_assurance'], ['pub', 'data_publication']]\n"
     ]
    }
   ],
   "source": [
    "print(my_form.workflow)"
   ]
  },
  {
   "cell_type": "markdown",
   "metadata": {},
   "source": [
    "each workflow_step dictionary is structured consistently according to\n",
    "* activity: activity related information\n",
    "* agent: responsible person related info\n",
    "* entity_out: specific output information of this workflow step\n"
   ]
  },
  {
   "cell_type": "code",
   "execution_count": 21,
   "metadata": {},
   "outputs": [],
   "source": [
    "review = my_form.rev\n",
    "?review.activity\n"
   ]
  },
  {
   "cell_type": "markdown",
   "metadata": {},
   "source": [
    "### workflow step: submission review\n",
    "\n",
    "* ToDo: Split in start/end information update actions"
   ]
  },
  {
   "cell_type": "code",
   "execution_count": 22,
   "metadata": {},
   "outputs": [
    {
     "ename": "SyntaxError",
     "evalue": "invalid syntax (<ipython-input-22-c6b85c6f6d24>, line 1)",
     "output_type": "error",
     "traceback": [
      "\u001b[0;36m  File \u001b[0;32m\"<ipython-input-22-c6b85c6f6d24>\"\u001b[0;36m, line \u001b[0;32m1\u001b[0m\n\u001b[0;31m    my_form.rev.\u001b[0m\n\u001b[0m                ^\u001b[0m\n\u001b[0;31mSyntaxError\u001b[0m\u001b[0;31m:\u001b[0m invalid syntax\n"
     ]
    }
   ],
   "source": [
    "my_form.rev."
   ]
  },
  {
   "cell_type": "code",
   "execution_count": 23,
   "metadata": {},
   "outputs": [
    {
     "name": "stdout",
     "output_type": "stream",
     "text": [
      "\n",
      "\n",
      "Form Handler - save form status message:\n",
      "entity_in.form_path and entity_out.form_repo_path\n",
      "/home/stephan/Forms/CORDEX/CORDEX_mm_mm.ipynb\n",
      "/opt/jupyter/notebooks/form_directory/CORDEX/CORDEX_mm_mm.ipynb\n",
      " --- form stored in transfer format in: /opt/jupyter/notebooks/form_directory/CORDEX/CORDEX_mm_mm.json\n",
      " \n",
      " --- commit message:[master d49ce54] Form Handler: submission form for user mm saved using prefix CORDEX_mm_mm ## sk: review started\n",
      " 1 file changed, 6 insertions(+), 5 deletions(-)\n",
      "\n",
      "\n",
      "Form Handler - save form status message:\n",
      "entity_in.form_path and entity_out.form_repo_path\n",
      "/home/stephan/Forms/CORDEX/CORDEX_mm_mm.ipynb\n",
      "/opt/jupyter/notebooks/form_directory/CORDEX/CORDEX_mm_mm.ipynb\n",
      " --- form stored in transfer format in: /opt/jupyter/notebooks/form_directory/CORDEX/CORDEX_mm_mm.json\n",
      " \n",
      " --- commit message:[master 1c10c62] Form Handler: submission form for user mm saved using prefix CORDEX_mm_mm ## kindermann: form_review()\n",
      " 1 file changed, 11 insertions(+), 9 deletions(-)\n"
     ]
    }
   ],
   "source": [
    "workflow_form = utils.load_workflow_form(info_file)\n",
    "   \n",
    "review = workflow_form.rev\n",
    "\n",
    "# any additional information keys can be added,\n",
    "# yet they are invisible to generic information management tools ..\n",
    "workflow_form.status = \"review\"\n",
    "\n",
    "review.activity.status = \"1:in-review\"\n",
    "review.activity.start_time = str(datetime.now())\n",
    "review.activity.review_comment = \"data volume check to be done\"\n",
    "review.agent.responsible_person = \"sk\"\n",
    "\n",
    "sf = form_handler.save_form(workflow_form, \"sk: review started\")\n",
    "\n",
    "review.activity.status = \"3:accepted\"\n",
    "review.activity.ticket_id = \"25389\"\n",
    "review.activity.end_time = str(datetime.now())\n",
    "\n",
    "review.entity_out.comment = \"This submission is related to submission abc_cde\"\n",
    "review.entity_out.tag = \"sub:abc_cde\"  # tags are used to relate different forms to each other\n",
    "review.entity_out.report = {'x':'y'}   # result of validation in a dict (self defined properties)\n",
    "\n",
    "# ToDo: test and document save_form for data managers (config setting for repo)   \n",
    "sf = form_handler.save_form(workflow_form, \"kindermann: form_review()\")"
   ]
  },
  {
   "cell_type": "markdown",
   "metadata": {},
   "source": [
    "### add data ingest step related information"
   ]
  },
  {
   "cell_type": "markdown",
   "metadata": {},
   "source": [
    "__Comment:__ alternatively in tools workflow_step related information could also be \n",
    "directly given and assigned via dictionaries, yet this is only \n",
    "recommended for data managers making sure the structure is consistent with\n",
    "the preconfigured one given in config/project_config.py \n",
    "* example validation.activity.\\__dict\\__ = data_manager_generated_dict"
   ]
  },
  {
   "cell_type": "code",
   "execution_count": 24,
   "metadata": {},
   "outputs": [],
   "source": [
    "workflow_form = utils.load_workflow_form(info_file)\n",
    "   \n",
    "ingest = workflow_form.ing"
   ]
  },
  {
   "cell_type": "code",
   "execution_count": 25,
   "metadata": {},
   "outputs": [],
   "source": [
    "?ingest.entity_out"
   ]
  },
  {
   "cell_type": "code",
   "execution_count": 26,
   "metadata": {},
   "outputs": [
    {
     "name": "stdout",
     "output_type": "stream",
     "text": [
      "\n",
      "\n",
      "Form Handler - save form status message:\n",
      "entity_in.form_path and entity_out.form_repo_path\n",
      "/home/stephan/Forms/CORDEX/CORDEX_mm_mm.ipynb\n",
      "/opt/jupyter/notebooks/form_directory/CORDEX/CORDEX_mm_mm.ipynb\n",
      " --- form stored in transfer format in: /opt/jupyter/notebooks/form_directory/CORDEX/CORDEX_mm_mm.json\n",
      " \n",
      " --- commit message:[master 73c0689] Form Handler: submission form for user mm saved using prefix CORDEX_mm_mm ## kindermann: form_review()\n",
      " 1 file changed, 6 insertions(+), 6 deletions(-)\n"
     ]
    }
   ],
   "source": [
    "# agent related info\n",
    "workflow_form.status = \"ingest\"\n",
    "\n",
    "ingest.activity.status = \"started\"\n",
    "ingest.agent.responsible_person = \"hdh\"\n",
    "ingest.activity.start_time=str(datetime.now())\n",
    "\n",
    "# activity related info\n",
    "\n",
    "ingest.activity.comment = \"data pull: credentials needed for remote site\"\n",
    "sf = form_handler.save_form(workflow_form, \"kindermann: form_review()\")"
   ]
  },
  {
   "cell_type": "code",
   "execution_count": 27,
   "metadata": {
    "scrolled": true
   },
   "outputs": [
    {
     "name": "stdout",
     "output_type": "stream",
     "text": [
      "\n",
      "\n",
      "Form Handler - save form status message:\n",
      "entity_in.form_path and entity_out.form_repo_path\n",
      "/home/stephan/Forms/CORDEX/CORDEX_mm_mm.ipynb\n",
      "/opt/jupyter/notebooks/form_directory/CORDEX/CORDEX_mm_mm.ipynb\n",
      " --- form stored in transfer format in: /opt/jupyter/notebooks/form_directory/CORDEX/CORDEX_mm_mm.json\n",
      " \n",
      " --- commit message:[master 4c1bddb] Form Handler: submission form for user mm saved using prefix CORDEX_mm_mm ## kindermann: form_review()\n",
      " 1 file changed, 12 insertions(+), 8 deletions(-)\n"
     ]
    }
   ],
   "source": [
    "ingest.activity.status = \"completed\"\n",
    "ingest.activity.end_time = str(datetime.now())\n",
    "\n",
    "# report of the ingest process (entity_out of ingest workflow step)\n",
    "ingest_report = ingest.entity_out\n",
    "ingest_report.tag = \"a:b:c\"  # tag structure to be defined\n",
    "ingest_report.status = \"completed\"\n",
    "# free entries for detailed report information\n",
    "ingest_report.report.remote_server = \"gridftp.awi.de://export/data/CMIP6/test\"\n",
    "ingest_report.report.server_credentials = \"in server_cred.krb keypass\"\n",
    "ingest_report.report.target_path = \"..\"\n",
    "sf = form_handler.save_form(workflow_form, \"kindermann: form_review()\")"
   ]
  },
  {
   "cell_type": "code",
   "execution_count": null,
   "metadata": {
    "collapsed": true
   },
   "outputs": [],
   "source": [
    "ingest_report.report."
   ]
  },
  {
   "cell_type": "markdown",
   "metadata": {},
   "source": [
    "### workflow step: data quality assurance"
   ]
  },
  {
   "cell_type": "code",
   "execution_count": 28,
   "metadata": {},
   "outputs": [],
   "source": [
    "from datetime import datetime\n",
    "workflow_form = utils.load_workflow_form(info_file)\n",
    "   \n",
    "qua = workflow_form.qua"
   ]
  },
  {
   "cell_type": "code",
   "execution_count": 29,
   "metadata": {},
   "outputs": [
    {
     "name": "stdout",
     "output_type": "stream",
     "text": [
      "\n",
      "\n",
      "Form Handler - save form status message:\n",
      "entity_in.form_path and entity_out.form_repo_path\n",
      "/home/stephan/Forms/CORDEX/CORDEX_mm_mm.ipynb\n",
      "/opt/jupyter/notebooks/form_directory/CORDEX/CORDEX_mm_mm.ipynb\n",
      " --- form stored in transfer format in: /opt/jupyter/notebooks/form_directory/CORDEX/CORDEX_mm_mm.json\n",
      " \n",
      " --- commit message:[master bbe07bf] Form Handler: submission form for user mm saved using prefix CORDEX_mm_mm ## hdh: qa start\n",
      " 1 file changed, 5 insertions(+), 5 deletions(-)\n"
     ]
    }
   ],
   "source": [
    "workflow_form.status = \"quality assurance\"\n",
    "qua.agent.responsible_person = \"hdh\"\n",
    "\n",
    "qua.activity.status = \"starting\" \n",
    "qua.activity.start_time = str(datetime.now())\n",
    "\n",
    "sf = form_handler.save_form(workflow_form, \"hdh: qa start\")\n",
    "\n"
   ]
  },
  {
   "cell_type": "code",
   "execution_count": 30,
   "metadata": {},
   "outputs": [
    {
     "name": "stdout",
     "output_type": "stream",
     "text": [
      "\n",
      "\n",
      "Form Handler - save form status message:\n",
      "entity_in.form_path and entity_out.form_repo_path\n",
      "/home/stephan/Forms/CORDEX/CORDEX_mm_mm.ipynb\n",
      "/opt/jupyter/notebooks/form_directory/CORDEX/CORDEX_mm_mm.ipynb\n",
      " --- form stored in transfer format in: /opt/jupyter/notebooks/form_directory/CORDEX/CORDEX_mm_mm.json\n",
      " \n",
      " --- commit message:[master c187621] Form Handler: submission form for user mm saved using prefix CORDEX_mm_mm ## hdh: qua complete\n",
      " 1 file changed, 43 insertions(+), 5 deletions(-)\n"
     ]
    }
   ],
   "source": [
    "qua.entity_out.status = \"completed\"\n",
    "qua.entity_out.report = {\n",
    "    \"QA_conclusion\": \"PASS\",\n",
    "    \"project\": \"CORDEX\",\n",
    "    \"institute\": \"CLMcom\",\n",
    "    \"model\": \"CLMcom-CCLM4-8-17-CLM3-5\",\n",
    "    \"domain\": \"AUS-44\",\n",
    "    \"driving_experiment\":  [ \"ICHEC-EC-EARTH\"],\n",
    "    \"experiment\": [ \"history\", \"rcp45\", \"rcp85\"],\n",
    "    \"ensemble_member\": [ \"r12i1p1\" ],\n",
    "    \"frequency\": [ \"day\", \"mon\", \"sem\" ],\n",
    "    \"annotation\":\n",
    "    [\n",
    "        {\n",
    "            \"scope\": [\"mon\", \"sem\"],\n",
    "            \"variable\": [ \"tasmax\", \"tasmin\", \"sfcWindmax\" ],\n",
    "            \"caption\": \"attribute <variable>:cell_methods for climatologies requires <time>:climatology instead of time_bnds\",\n",
    "            \"comment\": \"due to the format of the data, climatology is equivalent to time_bnds\",\n",
    "            \"severity\": \"note\"\n",
    "        }\n",
    "    ]\n",
    "}\n",
    "sf = form_handler.save_form(workflow_form, \"hdh: qua complete\")\n"
   ]
  },
  {
   "cell_type": "markdown",
   "metadata": {},
   "source": [
    "### workflow step: data publication"
   ]
  },
  {
   "cell_type": "code",
   "execution_count": 31,
   "metadata": {},
   "outputs": [
    {
     "name": "stdout",
     "output_type": "stream",
     "text": [
      "\n",
      "\n",
      "Form Handler - save form status message:\n",
      "entity_in.form_path and entity_out.form_repo_path\n",
      "/home/stephan/Forms/CORDEX/CORDEX_mm_mm.ipynb\n",
      "/opt/jupyter/notebooks/form_directory/CORDEX/CORDEX_mm_mm.ipynb\n",
      " --- form stored in transfer format in: /opt/jupyter/notebooks/form_directory/CORDEX/CORDEX_mm_mm.json\n",
      " \n",
      " --- commit message:[master 4ce028d] Form Handler: submission form for user mm saved using prefix CORDEX_mm_mm ## kb: publishing\n",
      " 1 file changed, 5 insertions(+), 5 deletions(-)\n"
     ]
    }
   ],
   "source": [
    "workflow_form = utils.load_workflow_form(info_file)\n",
    "\n",
    "workflow_form.status = \"publishing\"\n",
    "\n",
    "pub = workflow_form.pub\n",
    "pub.agent.responsible_person = \"katharina\"\n",
    "pub.activity.status = \"starting\"\n",
    "pub.activity.start_time = str(datetime.now())\n",
    "\n",
    "sf = form_handler.save_form(workflow_form, \"kb: publishing\")"
   ]
  },
  {
   "cell_type": "code",
   "execution_count": 32,
   "metadata": {},
   "outputs": [
    {
     "name": "stdout",
     "output_type": "stream",
     "text": [
      "\n",
      "\n",
      "Form Handler - save form status message:\n",
      "entity_in.form_path and entity_out.form_repo_path\n",
      "/home/stephan/Forms/CORDEX/CORDEX_mm_mm.ipynb\n",
      "/opt/jupyter/notebooks/form_directory/CORDEX/CORDEX_mm_mm.ipynb\n",
      " --- form stored in transfer format in: /opt/jupyter/notebooks/form_directory/CORDEX/CORDEX_mm_mm.json\n",
      " \n",
      " --- commit message:[master 3caec11] Form Handler: submission form for user mm saved using prefix CORDEX_mm_mm ## kb: published\n",
      " 1 file changed, 12 insertions(+), 8 deletions(-)\n"
     ]
    }
   ],
   "source": [
    "pub.activity.status = \"completed\"\n",
    "pub.activity.comment = \"...\"\n",
    "pub.activity.end_time = \"..\"\n",
    "pub.activity.report = {'model':\"MPI-M\"}   # activity related report information\n",
    "\n",
    "pub.entity_out.report = {'model':\"MPI-M\"} # the report of the publication action - all info characterizing the publication\n",
    "sf = form_handler.save_form(workflow_form, \"kb: published\")\n"
   ]
  },
  {
   "cell_type": "code",
   "execution_count": 33,
   "metadata": {
    "scrolled": true
   },
   "outputs": [
    {
     "name": "stdout",
     "output_type": "stream",
     "text": [
      "\n",
      "\n",
      "Form Handler - save form status message:\n",
      "entity_in.form_path and entity_out.form_repo_path\n",
      "/home/stephan/Forms/CORDEX/CORDEX_mm_mm.ipynb\n",
      "/opt/jupyter/notebooks/form_directory/CORDEX/CORDEX_mm_mm.ipynb\n",
      " --- form stored in transfer format in: /opt/jupyter/notebooks/form_directory/CORDEX/CORDEX_mm_mm.json\n",
      " \n",
      " --- commit message:[master 71e4e81] Form Handler: submission form for user mm saved using prefix CORDEX_mm_mm ## kindermann: form demo run 1\n",
      " 1 file changed, 3 insertions(+), 3 deletions(-)\n"
     ]
    }
   ],
   "source": [
    "sf = form_handler.save_form(workflow_form, \"kindermann: form demo run 1\")"
   ]
  },
  {
   "cell_type": "code",
   "execution_count": 34,
   "metadata": {},
   "outputs": [
    {
     "data": {
      "text/plain": [
       "'optional'"
      ]
     },
     "execution_count": 34,
     "metadata": {},
     "output_type": "execute_result"
    }
   ],
   "source": [
    "sf.sub.activity.commit_hash\n"
   ]
  },
  {
   "cell_type": "code",
   "execution_count": null,
   "metadata": {
    "collapsed": true
   },
   "outputs": [],
   "source": []
  }
 ],
 "metadata": {
  "anaconda-cloud": {},
  "kernelspec": {
   "display_name": "Python 3",
   "language": "python",
   "name": "python3"
  },
  "language_info": {
   "codemirror_mode": {
    "name": "ipython",
    "version": 3
   },
   "file_extension": ".py",
   "mimetype": "text/x-python",
   "name": "python",
   "nbconvert_exporter": "python",
   "pygments_lexer": "ipython3",
   "version": "3.6.4"
  }
 },
 "nbformat": 4,
 "nbformat_minor": 1
}
