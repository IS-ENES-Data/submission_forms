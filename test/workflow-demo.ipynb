{
 "cells": [
  {
   "cell_type": "markdown",
   "metadata": {},
   "source": [
    "# DKRZ data ingest information handling\n",
    "\n",
    "This demo notebook is for data managers only !\n",
    "\n",
    "The submission_forms package provides a collection of components to support the management of information related to data ingest related activities (data transport, data checking, data publication and data archival):\n",
    "\n",
    "* data submission related information management\n",
    "  * who, when, what, for which project, data characteristics\n",
    "* data management related information management\n",
    "  * ingest, quality assurance, publication, archiving"
   ]
  },
  {
   "cell_type": "markdown",
   "metadata": {},
   "source": [
    "## Background: approaches at other sites\n",
    "\n",
    "example workflows in other data centers:\n",
    "* http://eidc.ceh.ac.uk/images/ingestion-workflow/view\n",
    "* http://www.mdpi.com/2220-9964/5/3/30/pdf\n",
    "* https://www.rd-alliance.org/sites/default/files/03%20Nurnberger%20-%20DataPublishingWorkflows-CollabMtg20151208_V03.pdf\n",
    "* http://ropercenter.cornell.edu/polls/deposit-data/\n",
    "* https://www.arm.gov/engineering/ingest\n",
    "* https://eosweb.larc.nasa.gov/GEWEX-RFA/documents/data_ingest.txt\n",
    "* https://eosweb.larc.nasa.gov/GEWEX-RFA/documents/how_to_participate.html\n",
    "* http://www.nodc.noaa.gov/submit/ online tool \n",
    "* https://www2.cisl.ucar.edu/resources/cmip-analysis-platform\n",
    "  * https://xras-submit-ncar.xsede.org/ \n",
    "* http://cmip5.whoi.edu/ \n",
    "* https://pypi.python.org/pypi/cmipdata/0.6"
   ]
  },
  {
   "cell_type": "markdown",
   "metadata": {},
   "source": [
    "## DKRZ ingest workflow system\n",
    "\n",
    "Data ingest request via\n",
    "* jupyter notebook on server (http://data-forms.dkrz.de:8080), or\n",
    "* jupyter notebook filled at home and sent to DKRZ (email, rt system)\n",
    "  * download form_template from: (tbd. github or redmine or recommend pypi installation only - which includes all templates .. )\n",
    "\n",
    "Data ingest request workflow:\n",
    "* ingest request related information is stored in json format in git repo\n",
    "* all workflow steps are reflected in json subfields\n",
    "* workflow json format has W3C prov aligned schema and can be transformed to W3C prov format (and visualized as a prov graph) \n",
    "* for search git repo can be indexed into a (in-memory) key-value DB"
   ]
  },
  {
   "cell_type": "code",
   "execution_count": 1,
   "metadata": {
    "collapsed": true
   },
   "outputs": [],
   "source": [
    "# do this in case you want to change imported module code while working with this notebook\n",
    "# -- (for development and testing puposes only)\n",
    "%load_ext autoreload\n",
    "%autoreload 2"
   ]
  },
  {
   "cell_type": "code",
   "execution_count": 15,
   "metadata": {},
   "outputs": [
    {
     "name": "stdout",
     "output_type": "stream",
     "text": [
      "['0:initialized', '1:generated', '2:checked', '2:incomplete', '3:submitted', '4:re-opened', '5:re-submitted']\n",
      "['0:open', '1:in-review', '2:adaption-needed', '3:accepted']\n",
      "['0:open', '1:in-progress', '2:ready', '2:delayed']\n",
      "['0:open', '1:in-progress', '2:published', '2:delayed', '3:republished']\n"
     ]
    }
   ],
   "source": [
    "# to generate empyty project form including all options for variables\n",
    "# e.g.: \n",
    "\n",
    "from dkrz_forms import form_handler, utils\n",
    "sf_t = utils.generate_project_form('ESGF_replication')\n",
    "print(utils.show_options(sf_t.sub.activity.status))\n",
    "print(utils.show_options(sf_t.rev.activity.status))\n",
    "print(utils.show_options(sf_t.ing.activity.status))\n",
    "print(utils.show_options(sf_t.pub.activity.status))"
   ]
  },
  {
   "cell_type": "markdown",
   "metadata": {},
   "source": [
    "## demo examples - step by step\n",
    "\n",
    "Data managers have two separate application scenarios for data ingest information management:\n",
    "* interactive information adaptation for specific individual data ingest activities\n",
    "* automatic information adaptation by integrating in own data management scripts (e.g. data qualitiy assurance or data publication)\n",
    "  * examples: successfull ESGF publication can update automatically the publication workflow step information"
   ]
  },
  {
   "cell_type": "markdown",
   "metadata": {},
   "source": [
    "### Step 1: find and load a specific data ingest activity related form\n",
    "\n",
    "* Alternative A)\n",
    "   * check out out git repo https://gitlab.dkrz.de/DKRZ-CMIP-Pool/data_forms_repo\n",
    "   * this repo contains all completed submission forms\n",
    "   * all data manager related changes are also committed there\n",
    "   * subdirectories in this repo relate to the individual projects (e.g. CMIP6, CORDEX, ESGF_replication, ..)\n",
    "   * each entry there contains the last name of the data submission originator  \n",
    "   \n",
    "* Alternative B) (not yet documented, only prototype) \n",
    "   * use search interface and API of search index on all submision forms\n",
    "  \n",
    "  "
   ]
  },
  {
   "cell_type": "code",
   "execution_count": 2,
   "metadata": {
    "collapsed": true
   },
   "outputs": [],
   "source": [
    "## To do: include different examples how to query for data ingest activities based on different properties\n",
    "\n",
    "#info_file = \"/home/stephan/tmp/Repos/form_repo/test/test_testsuite_123.json\"\n",
    "info_file = \"/home/stephan/Forms/local_repo/test/test_testsuite_1.json\"\n",
    "from dkrz_forms import form_handler, utils\n",
    "from datetime import datetime\n",
    "\n",
    "my_form = utils.load_workflow_form(info_file)"
   ]
  },
  {
   "cell_type": "markdown",
   "metadata": {},
   "source": [
    "### interactive \"help\": use ?form.part and tab completion:"
   ]
  },
  {
   "cell_type": "code",
   "execution_count": 3,
   "metadata": {
    "collapsed": true
   },
   "outputs": [],
   "source": [
    "?my_form\n"
   ]
  },
  {
   "cell_type": "code",
   "execution_count": 5,
   "metadata": {
    "collapsed": true
   },
   "outputs": [],
   "source": [
    "?my_form.sub"
   ]
  },
  {
   "cell_type": "code",
   "execution_count": null,
   "metadata": {
    "collapsed": true
   },
   "outputs": [],
   "source": [
    "# move cursor after \".\" location and press \"Tab\"\n",
    "my_form."
   ]
  },
  {
   "cell_type": "markdown",
   "metadata": {},
   "source": [
    "### Step 2: complete information in specific workflow step\n",
    "\n",
    "* workflow steps of specific project are given in my_form.workflow\n",
    "* normally my_form.workflow is given as \n",
    "  * [[u'sub', u'data_submission'], [u'rev', u'data_submission_review'], [u'ing', u'data_ingest'], [u'qua', u'data_quality_assurance']]\n",
    "* thus my_form.sub would contain the data_submission related information, my_form.rev the review related one etc.\n",
    "   * the workflow step related information dictionaries are configured based on config/project_config.py\n",
    "   "
   ]
  },
  {
   "cell_type": "code",
   "execution_count": 7,
   "metadata": {},
   "outputs": [
    {
     "name": "stdout",
     "output_type": "stream",
     "text": [
      "[['sub', 'data_submission'], ['rev', 'data_submission_review'], ['ing', 'data_ingest'], ['qua', 'data_quality_assurance'], ['pub', 'data_publication']]\n"
     ]
    }
   ],
   "source": [
    "print(my_form.workflow)"
   ]
  },
  {
   "cell_type": "markdown",
   "metadata": {},
   "source": [
    "each workflow_step dictionary is structured consistently according to\n",
    "* activity: activity related information\n",
    "* agent: responsible person related info\n",
    "* entity_out: specific output information of this workflow step\n"
   ]
  },
  {
   "cell_type": "code",
   "execution_count": null,
   "metadata": {
    "collapsed": true
   },
   "outputs": [],
   "source": [
    "review = my_form.rev\n",
    "?review.activity\n"
   ]
  },
  {
   "cell_type": "markdown",
   "metadata": {},
   "source": [
    "### workflow step: submission review\n",
    "\n",
    "* ToDo: Split in start/end information update actions"
   ]
  },
  {
   "cell_type": "code",
   "execution_count": 11,
   "metadata": {},
   "outputs": [
    {
     "data": {
      "text/plain": [
       "['finished']"
      ]
     },
     "execution_count": 11,
     "metadata": {},
     "output_type": "execute_result"
    }
   ],
   "source": [
    "# status: ['0:open', '1:in-review', '2:adaption-needed', '3:accepted']\n",
    "workflow_form = utils.load_workflow_form(info_file)\n",
    "   \n",
    "review = workflow_form.rev\n",
    "\n",
    "utils.show_options(review.activity.status)"
   ]
  },
  {
   "cell_type": "code",
   "execution_count": 17,
   "metadata": {},
   "outputs": [
    {
     "name": "stdout",
     "output_type": "stream",
     "text": [
      "\n",
      "\n",
      "Form Handler - save form status message:\n",
      " --- form stored in transfer format in: /home/stephan/Forms/local_repo/test/test_testsuite_1.json\n",
      " --- commit message:[master e2c7b33] Form Handler: submission form for user testsuite saved using prefix test_testsuite_1 ## sk: review started\n",
      " 1 file changed, 3 insertions(+), 3 deletions(-)\n",
      "\n",
      "\n",
      "Form Handler - save form status message:\n",
      " --- form stored in transfer format in: /home/stephan/Forms/local_repo/test/test_testsuite_1.json\n",
      " --- commit message:[master 7912fda] Form Handler: submission form for user testsuite saved using prefix test_testsuite_1 ## kindermann: form_review()\n",
      " 1 file changed, 4 insertions(+), 4 deletions(-)\n"
     ]
    }
   ],
   "source": [
    "workflow_form = utils.load_workflow_form(info_file)\n",
    "   \n",
    "review = workflow_form.rev\n",
    "\n",
    "# any additional information keys can be added,\n",
    "# yet they are invisible to generic information management tools ..\n",
    "workflow_form.status = \"review\"\n",
    "\n",
    "review.activity.status = \"1:in-review\"\n",
    "review.activity.start_time = str(datetime.now())\n",
    "review.activity.review_comment = \"data volume check to be done\"\n",
    "review.agent.responsible_person = \"sk\"\n",
    "\n",
    "sf = form_handler.save_form(workflow_form, \"sk: review started\")\n",
    "\n",
    "review.activity.status = \"3:accepted\"\n",
    "review.activity.ticket_id = \"25389\"\n",
    "review.activity.end_time = str(datetime.now())\n",
    "\n",
    "review.entity_out.comment = \"This submission is related to submission abc_cde\"\n",
    "review.entity_out.tag = \"sub:abc_cde\"  # tags are used to relate different forms to each other\n",
    "review.entity_out.report = {'x':'y'}   # result of validation in a dict (self defined properties)\n",
    "\n",
    "# ToDo: test and document save_form for data managers (config setting for repo)   \n",
    "sf = form_handler.save_form(workflow_form, \"kindermann: form_review()\")"
   ]
  },
  {
   "cell_type": "markdown",
   "metadata": {},
   "source": [
    "### add data ingest step related information"
   ]
  },
  {
   "cell_type": "markdown",
   "metadata": {},
   "source": [
    "__Comment:__ alternatively in tools workflow_step related information could also be \n",
    "directly given and assigned via dictionaries, yet this is only \n",
    "recommended for data managers making sure the structure is consistent with\n",
    "the preconfigured one given in config/project_config.py \n",
    "* example validation.activity.\\__dict\\__ = data_manager_generated_dict"
   ]
  },
  {
   "cell_type": "code",
   "execution_count": 13,
   "metadata": {
    "collapsed": true
   },
   "outputs": [],
   "source": [
    "workflow_form = utils.load_workflow_form(info_file)\n",
    "   \n",
    "ingest = workflow_form.ing"
   ]
  },
  {
   "cell_type": "code",
   "execution_count": 14,
   "metadata": {
    "collapsed": true
   },
   "outputs": [],
   "source": [
    "?ingest.entity_out"
   ]
  },
  {
   "cell_type": "code",
   "execution_count": 16,
   "metadata": {},
   "outputs": [
    {
     "name": "stdout",
     "output_type": "stream",
     "text": [
      "\n",
      "\n",
      "Form Handler - save form status message:\n",
      "/home/stephan/Repos/ENES-EUDAT/submission_forms/test/forms/test/test_testsuite_123.ipynb\n",
      "/home/stephan/tmp/Repos/form_repo/test/test_testsuite_123.ipynb\n",
      " --- form stored in transfer format in: /home/stephan/tmp/Repos/form_repo/test/test_testsuite_123.json\n",
      " \n",
      " --- commit message:[master 3920957] Form Handler: submission form for user testsuite saved using prefix test_testsuite_123 ## kindermann: form_review()\n",
      " 1 file changed, 6 insertions(+), 6 deletions(-)\n"
     ]
    }
   ],
   "source": [
    "# agent related info\n",
    "workflow_form.status = \"ingest\"\n",
    "\n",
    "ingest.activity.status = \"started\"\n",
    "ingest.agent.responsible_person = \"hdh\"\n",
    "ingest.activity.start_time=str(datetime.now())\n",
    "\n",
    "# activity related info\n",
    "\n",
    "ingest.activity.comment = \"data pull: credentials needed for remote site\"\n",
    "sf = form_handler.save_form(workflow_form, \"kindermann: form_review()\")"
   ]
  },
  {
   "cell_type": "code",
   "execution_count": 18,
   "metadata": {
    "scrolled": true
   },
   "outputs": [
    {
     "name": "stdout",
     "output_type": "stream",
     "text": [
      "\n",
      "\n",
      "Form Handler - save form status message:\n",
      "/home/stephan/Repos/ENES-EUDAT/submission_forms/test/forms/test/test_testsuite_123.ipynb\n",
      "/home/stephan/tmp/Repos/form_repo/test/test_testsuite_123.ipynb\n",
      " --- form stored in transfer format in: /home/stephan/tmp/Repos/form_repo/test/test_testsuite_123.json\n",
      " \n",
      " --- commit message:[master 935cc25] Form Handler: submission form for user testsuite saved using prefix test_testsuite_123 ## kindermann: form_review()\n",
      " 1 file changed, 11 insertions(+), 7 deletions(-)\n"
     ]
    }
   ],
   "source": [
    "ingest.activity.status = \"completed\"\n",
    "ingest.activity.end_time = str(datetime.now())\n",
    "\n",
    "# report of the ingest process (entity_out of ingest workflow step)\n",
    "ingest_report = ingest.entity_out\n",
    "ingest_report.tag = \"a:b:c\"  # tag structure to be defined\n",
    "ingest_report.status = \"completed\"\n",
    "# free entries for detailed report information\n",
    "ingest_report.report.remote_server = \"gridftp.awi.de://export/data/CMIP6/test\"\n",
    "ingest_report.report.server_credentials = \"in server_cred.krb keypass\"\n",
    "ingest_report.report.target_path = \"..\"\n",
    "sf = form_handler.save_form(workflow_form, \"kindermann: form_review()\")"
   ]
  },
  {
   "cell_type": "code",
   "execution_count": null,
   "metadata": {
    "collapsed": true
   },
   "outputs": [],
   "source": [
    "ingest_report.report."
   ]
  },
  {
   "cell_type": "markdown",
   "metadata": {},
   "source": [
    "### workflow step: data quality assurance"
   ]
  },
  {
   "cell_type": "code",
   "execution_count": 20,
   "metadata": {
    "collapsed": true
   },
   "outputs": [],
   "source": [
    "from datetime import datetime\n",
    "workflow_form = utils.load_workflow_form(info_file)\n",
    "   \n",
    "qua = workflow_form.qua"
   ]
  },
  {
   "cell_type": "code",
   "execution_count": 24,
   "metadata": {},
   "outputs": [
    {
     "name": "stdout",
     "output_type": "stream",
     "text": [
      "\n",
      "\n",
      "Form Handler - save form status message:\n",
      "/home/stephan/Repos/ENES-EUDAT/submission_forms/test/forms/test/test_testsuite_123.ipynb\n",
      "/home/stephan/tmp/Repos/form_repo/test/test_testsuite_123.ipynb\n",
      " --- form stored in transfer format in: /home/stephan/tmp/Repos/form_repo/test/test_testsuite_123.json\n",
      " \n",
      " --- commit message:[master 9cee8bd] Form Handler: submission form for user testsuite saved using prefix test_testsuite_123 ## hdh: qa start\n",
      " 1 file changed, 3 insertions(+), 3 deletions(-)\n"
     ]
    }
   ],
   "source": [
    "workflow_form.status = \"quality assurance\"\n",
    "qua.agent.responsible_person = \"hdh\"\n",
    "\n",
    "qua.activity.status = \"starting\" \n",
    "qua.activity.start_time = str(datetime.now())\n",
    "\n",
    "sf = form_handler.save_form(workflow_form, \"hdh: qa start\")\n",
    "\n"
   ]
  },
  {
   "cell_type": "code",
   "execution_count": 25,
   "metadata": {},
   "outputs": [
    {
     "name": "stdout",
     "output_type": "stream",
     "text": [
      "\n",
      "\n",
      "Form Handler - save form status message:\n",
      "/home/stephan/Repos/ENES-EUDAT/submission_forms/test/forms/test/test_testsuite_123.ipynb\n",
      "/home/stephan/tmp/Repos/form_repo/test/test_testsuite_123.ipynb\n",
      " --- form stored in transfer format in: /home/stephan/tmp/Repos/form_repo/test/test_testsuite_123.json\n",
      " \n",
      " --- commit message:[master a5a5f46] Form Handler: submission form for user testsuite saved using prefix test_testsuite_123 ## hdh: qua complete\n",
      " 1 file changed, 2 insertions(+), 2 deletions(-)\n"
     ]
    }
   ],
   "source": [
    "qua.entity_out.status = \"completed\"\n",
    "qua.entity_out.report = {\n",
    "    \"QA_conclusion\": \"PASS\",\n",
    "    \"project\": \"CORDEX\",\n",
    "    \"institute\": \"CLMcom\",\n",
    "    \"model\": \"CLMcom-CCLM4-8-17-CLM3-5\",\n",
    "    \"domain\": \"AUS-44\",\n",
    "    \"driving_experiment\":  [ \"ICHEC-EC-EARTH\"],\n",
    "    \"experiment\": [ \"history\", \"rcp45\", \"rcp85\"],\n",
    "    \"ensemble_member\": [ \"r12i1p1\" ],\n",
    "    \"frequency\": [ \"day\", \"mon\", \"sem\" ],\n",
    "    \"annotation\":\n",
    "    [\n",
    "        {\n",
    "            \"scope\": [\"mon\", \"sem\"],\n",
    "            \"variable\": [ \"tasmax\", \"tasmin\", \"sfcWindmax\" ],\n",
    "            \"caption\": \"attribute <variable>:cell_methods for climatologies requires <time>:climatology instead of time_bnds\",\n",
    "            \"comment\": \"due to the format of the data, climatology is equivalent to time_bnds\",\n",
    "            \"severity\": \"note\"\n",
    "        }\n",
    "    ]\n",
    "}\n",
    "sf = form_handler.save_form(workflow_form, \"hdh: qua complete\")\n"
   ]
  },
  {
   "cell_type": "markdown",
   "metadata": {},
   "source": [
    "### workflow step: data publication"
   ]
  },
  {
   "cell_type": "code",
   "execution_count": 27,
   "metadata": {},
   "outputs": [
    {
     "name": "stdout",
     "output_type": "stream",
     "text": [
      "\n",
      "\n",
      "Form Handler - save form status message:\n",
      "/home/stephan/Repos/ENES-EUDAT/submission_forms/test/forms/test/test_testsuite_123.ipynb\n",
      "/home/stephan/tmp/Repos/form_repo/test/test_testsuite_123.ipynb\n",
      " --- form stored in transfer format in: /home/stephan/tmp/Repos/form_repo/test/test_testsuite_123.json\n",
      " \n",
      " --- commit message:[master 5b2506b] Form Handler: submission form for user testsuite saved using prefix test_testsuite_123 ## hdh: qua complete\n",
      " 1 file changed, 4 insertions(+), 4 deletions(-)\n"
     ]
    }
   ],
   "source": [
    "workflow_form = utils.load_workflow_form(info_file)\n",
    "\n",
    "workflow_form.status = \"publishing\"\n",
    "\n",
    "pub = workflow_form.pub\n",
    "pub.agent.responsible_person = \"katharina\"\n",
    "pub.activity.status = \"starting\"\n",
    "pub.activity.start_time = str(datetime.now())\n",
    "\n",
    "sf = form_handler.save_form(workflow_form, \"kb: publishing\")"
   ]
  },
  {
   "cell_type": "code",
   "execution_count": 28,
   "metadata": {},
   "outputs": [
    {
     "name": "stdout",
     "output_type": "stream",
     "text": [
      "\n",
      "\n",
      "Form Handler - save form status message:\n",
      "/home/stephan/Repos/ENES-EUDAT/submission_forms/test/forms/test/test_testsuite_123.ipynb\n",
      "/home/stephan/tmp/Repos/form_repo/test/test_testsuite_123.ipynb\n",
      " --- form stored in transfer format in: /home/stephan/tmp/Repos/form_repo/test/test_testsuite_123.json\n",
      " \n",
      " --- commit message:[master 64ad592] Form Handler: submission form for user testsuite saved using prefix test_testsuite_123 ## kb: published\n",
      " 1 file changed, 11 insertions(+), 7 deletions(-)\n"
     ]
    }
   ],
   "source": [
    "pub.activity.status = \"completed\"\n",
    "pub.activity.comment = \"...\"\n",
    "pub.activity.end_time = \"..\"\n",
    "pub.activity.report = {'model':\"MPI-M\"}   # activity related report information\n",
    "\n",
    "pub.entity_out.report = {'model':\"MPI-M\"} # the report of the publication action - all info characterizing the publication\n",
    "sf = form_handler.save_form(workflow_form, \"kb: published\")\n"
   ]
  },
  {
   "cell_type": "code",
   "execution_count": 29,
   "metadata": {
    "scrolled": true
   },
   "outputs": [
    {
     "name": "stdout",
     "output_type": "stream",
     "text": [
      "\n",
      "\n",
      "Form Handler - save form status message:\n",
      "/home/stephan/Repos/ENES-EUDAT/submission_forms/test/forms/test/test_testsuite_123.ipynb\n",
      "/home/stephan/tmp/Repos/form_repo/test/test_testsuite_123.ipynb\n",
      " --- form stored in transfer format in: /home/stephan/tmp/Repos/form_repo/test/test_testsuite_123.json\n",
      " \n",
      " --- commit message:[master 50d3b45] Form Handler: submission form for user testsuite saved using prefix test_testsuite_123 ## kindermann: form demo run 1\n",
      " 1 file changed, 2 insertions(+), 2 deletions(-)\n"
     ]
    }
   ],
   "source": [
    "sf = form_handler.save_form(workflow_form, \"kindermann: form demo run 1\")"
   ]
  },
  {
   "cell_type": "code",
   "execution_count": 30,
   "metadata": {},
   "outputs": [
    {
     "data": {
      "text/plain": [
       "u'ae5322685506df134d3915f3050a3c375d0e12e4'"
      ]
     },
     "execution_count": 30,
     "metadata": {},
     "output_type": "execute_result"
    }
   ],
   "source": [
    "sf.sub.activity.commit_hash\n"
   ]
  },
  {
   "cell_type": "code",
   "execution_count": null,
   "metadata": {
    "collapsed": true
   },
   "outputs": [],
   "source": []
  }
 ],
 "metadata": {
  "anaconda-cloud": {},
  "kernelspec": {
   "display_name": "Python 3",
   "language": "python",
   "name": "python3"
  },
  "language_info": {
   "codemirror_mode": {
    "name": "ipython",
    "version": 3
   },
   "file_extension": ".py",
   "mimetype": "text/x-python",
   "name": "python",
   "nbconvert_exporter": "python",
   "pygments_lexer": "ipython3",
   "version": "3.6.1"
  }
 },
 "nbformat": 4,
 "nbformat_minor": 1
}
