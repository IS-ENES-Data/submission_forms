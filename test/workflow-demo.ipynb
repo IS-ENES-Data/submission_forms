{
 "cells": [
  {
   "cell_type": "markdown",
   "metadata": {},
   "source": [
    "# DKRZ data ingest information handling\n",
    "\n",
    "This demo notebook is for data managers only !\n",
    "\n",
    "The submission_forms package provides a collection of components to support the management of information related to data ingest related activities (data transport, data checking, data publication and data archival):\n",
    "\n",
    "* data submission related information management\n",
    "  * who, when, what, for which project, data characteristics\n",
    "* data management related information management\n",
    "  * ingest, quality assurance, publication, archiving"
   ]
  },
  {
   "cell_type": "markdown",
   "metadata": {},
   "source": [
    "## Background: approaches at other sites\n",
    "\n",
    "example workflows in other data centers:\n",
    "* http://eidc.ceh.ac.uk/images/ingestion-workflow/view\n",
    "* http://www.mdpi.com/2220-9964/5/3/30/pdf\n",
    "* https://www.rd-alliance.org/sites/default/files/03%20Nurnberger%20-%20DataPublishingWorkflows-CollabMtg20151208_V03.pdf\n",
    "* http://ropercenter.cornell.edu/polls/deposit-data/\n",
    "* https://www.arm.gov/engineering/ingest\n",
    "* https://eosweb.larc.nasa.gov/GEWEX-RFA/documents/data_ingest.txt\n",
    "* https://eosweb.larc.nasa.gov/GEWEX-RFA/documents/how_to_participate.html\n",
    "* http://www.nodc.noaa.gov/submit/ online tool \n",
    "* https://www2.cisl.ucar.edu/resources/cmip-analysis-platform\n",
    "  * https://xras-submit-ncar.xsede.org/ \n",
    "* http://cmip5.whoi.edu/ \n",
    "* https://pypi.python.org/pypi/cmipdata/0.6"
   ]
  },
  {
   "cell_type": "markdown",
   "metadata": {},
   "source": [
    "## DKRZ ingest workflow system\n",
    "\n",
    "Data ingest request via\n",
    "* jupyter notebook on server (http://data-forms.dkrz.de:8080), or\n",
    "* jupyter notebook filled at home and sent to DKRZ (email, rt system)\n",
    "  * download form_template from: (tbd. github or redmine or recommend pypi installation only - which includes all templates .. )\n",
    "\n",
    "Data ingest request workflow:\n",
    "* ingest request related information is stored in json format in git repo\n",
    "* all workflow steps are reflected in json subfields\n",
    "* workflow json format has W3C prov aligned schema and can be transformed to W3C prov format (and visualized as a prov graph) \n",
    "* for search git repo can be indexed into a (in-memory) key-value DB"
   ]
  },
  {
   "cell_type": "code",
   "execution_count": 17,
   "metadata": {
    "collapsed": false
   },
   "outputs": [
    {
     "name": "stdout",
     "output_type": "stream",
     "text": [
      "The autoreload extension is already loaded. To reload it, use:\n",
      "  %reload_ext autoreload\n"
     ]
    }
   ],
   "source": [
    "# do this in case you want to change imported module code while working with this notebook\n",
    "# -- (for development and testing puposes only)\n",
    "%load_ext autoreload\n",
    "%autoreload 2"
   ]
  },
  {
   "cell_type": "markdown",
   "metadata": {},
   "source": [
    "## demo examples - step by step\n",
    "\n",
    "Data managers have two separate application scenarios for data ingest information management:\n",
    "* interactive information adaptation for specific individual data ingest activities\n",
    "* automatic information adaptation by integrating in own data management scripts (e.g. data qualitiy assurance or data publication)\n",
    "  * examples: successfull ESGF publication can update automatically the publication workflow step information"
   ]
  },
  {
   "cell_type": "markdown",
   "metadata": {},
   "source": [
    "### Step 1: find and load a specific data ingest activity related form\n",
    "\n",
    "* Alternative A)\n",
    "   * check out out git repo https://gitlab.dkrz.de/DKRZ-CMIP-Pool/data_forms_repo\n",
    "   * this repo contains all completed submission forms\n",
    "   * all data manager related changes are also committed there\n",
    "   * subdirectories in this repo relate to the individual projects (e.g. CMIP6, CORDEX, ESGF_replication, ..)\n",
    "   * each entry there contains the last name of the data submission originator  \n",
    "   \n",
    "* Alternative B) (not yet documented, only prototype) \n",
    "   * use search interface and API of search index on all submision forms\n",
    "  \n",
    "  "
   ]
  },
  {
   "cell_type": "code",
   "execution_count": 23,
   "metadata": {
    "collapsed": false
   },
   "outputs": [],
   "source": [
    "## To do: include different examples how to query for data ingest activities based on different properties\n",
    "\n",
    "info_file = \"/home/stephan/tmp/Repos/form_repo/test/test_testsuite_1234.json\"\n",
    "\n",
    "from dkrz_forms import form_handler\n",
    "\n",
    "my_form = form_handler.load_workflow_form(info_file)"
   ]
  },
  {
   "cell_type": "markdown",
   "metadata": {},
   "source": [
    "### interactive \"help\": use ?form.part and tab completion:"
   ]
  },
  {
   "cell_type": "code",
   "execution_count": null,
   "metadata": {
    "collapsed": false
   },
   "outputs": [],
   "source": [
    "?my_form\n"
   ]
  },
  {
   "cell_type": "code",
   "execution_count": null,
   "metadata": {
    "collapsed": false
   },
   "outputs": [],
   "source": [
    "?my_form.sub"
   ]
  },
  {
   "cell_type": "code",
   "execution_count": null,
   "metadata": {
    "collapsed": false
   },
   "outputs": [],
   "source": [
    "# move cursor after \".\" location and press \"Tab\"\n",
    "my_form."
   ]
  },
  {
   "cell_type": "markdown",
   "metadata": {},
   "source": [
    "### Step 2: complete information in specific workflow step\n",
    "\n",
    "* workflow steps of specific project are given in my_form.workflow\n",
    "* normally my_form.workflow is given as \n",
    "  * [[u'sub', u'data_submission'], [u'rev', u'data_submission_review'], [u'ing', u'data_ingest'], [u'qua', u'data_quality_assurance']]\n",
    "* thus my_form.sub would contain the data_submission related information, my_form.rev the review related one etc.\n",
    "   * the workflow step related information dictionaries are configured based on config/project_config.py\n",
    "   "
   ]
  },
  {
   "cell_type": "code",
   "execution_count": 24,
   "metadata": {
    "collapsed": false
   },
   "outputs": [
    {
     "name": "stdout",
     "output_type": "stream",
     "text": [
      "[[u'sub', u'data_submission'], [u'rev', u'data_submission_review'], [u'ing', u'data_ingest'], [u'qua', u'data_quality_assurance'], [u'pub', u'data_publication']]\n"
     ]
    }
   ],
   "source": [
    "print my_form.workflow "
   ]
  },
  {
   "cell_type": "markdown",
   "metadata": {},
   "source": [
    "each workflow_step dictionary is structured consistently according to\n",
    "* activity: activity related information\n",
    "* agent: responsible person related info\n",
    "* entity_out: specific output information of this workflow step\n"
   ]
  },
  {
   "cell_type": "code",
   "execution_count": null,
   "metadata": {
    "collapsed": false
   },
   "outputs": [],
   "source": [
    "review = my_form.rev\n",
    "?review.activity\n"
   ]
  },
  {
   "cell_type": "markdown",
   "metadata": {},
   "source": [
    "### workflow step: submission validation\n",
    "\n",
    "* ToDo: Split in start/end information update actions"
   ]
  },
  {
   "cell_type": "code",
   "execution_count": 25,
   "metadata": {
    "collapsed": false
   },
   "outputs": [
    {
     "name": "stdout",
     "output_type": "stream",
     "text": [
      "[u'comment', u'status', u'start_time', u'i_name', u'ticket_url', u'end_time', u'report', u'__doc__', u'ticket_id']\n",
      "[u'responsible_person', u'i_name', u'__doc__']\n",
      "[u'comment', u'status', u'i_name', u'repo', u'date', u'tag', u'report', u'__doc__']\n",
      "\n",
      "\n",
      "Form Handler - save form status message:\n",
      "/home/stephan/Repos/ENES-EUDAT/submission_forms/test/forms/test/test_testsuite_1234.ipynb\n",
      "/home/stephan/tmp/Repos/form_repo/test/test_testsuite_1234.ipynb\n",
      " --- form stored in transfer format in: /home/stephan/tmp/Repos/form_repo/test/test_testsuite_1234.json\n",
      " \n",
      " --- commit message:[master (root-commit) 3e684bc] Form Handler: submission form for user testsuite saved using prefix test_testsuite_1234 ## kindermann: form_review()\n",
      " 2 files changed, 489 insertions(+)\n",
      " create mode 100644 test_testsuite_1234.ipynb\n",
      " create mode 100644 test_testsuite_1234.json\n"
     ]
    }
   ],
   "source": [
    "workflow_form = form_handler.load_workflow_form(info_file)\n",
    "   \n",
    "review = workflow_form.rev\n",
    "# print predefined information keys:\n",
    "print review.activity.__dict__.keys()\n",
    "print review.agent.__dict__.keys()\n",
    "print review.entity_out.__dict__.keys()\n",
    "\n",
    "# any additional information keys can be added,\n",
    "# yet they are invisible to generic information management tools ..\n",
    "\n",
    "review.activity.review_comment = \"corrected information related to quality of submitted data\"\n",
    "review.activity.review_status = \"reviewed\"\n",
    "review.activity.ticket_id = \"25389\"\n",
    "review.activity.start_time = \"...\"\n",
    "review.activity.end_time = \"...\"\n",
    "    \n",
    "review.agent.responsible_person = \"stephan\"\n",
    "\n",
    "review.entity_out.comment = \"This submission is related to submission abc_cde\"\n",
    "review.entity_out.tag = \"abc_cde\"\n",
    "review.entity_out.report = {'x':'y'}   # result of validation in a dict (self defined properties)\n",
    "review.entity_out.date = \"...\"\n",
    "\n",
    "# ToDo: test and document save_form for data managers (config setting for repo)   \n",
    "sf = form_handler.save_form(workflow_form, \"kindermann: form_review()\")"
   ]
  },
  {
   "cell_type": "markdown",
   "metadata": {},
   "source": [
    "### add data ingest step related information"
   ]
  },
  {
   "cell_type": "markdown",
   "metadata": {},
   "source": [
    "__Comment:__ alternatively in tools workflow_step related information could also be \n",
    "directly given and assigned via dictionaries, yet this is only \n",
    "recommended for data managers making sure the structure is consistent with\n",
    "the preconfigured one given in config/project_config.py \n",
    "* example validation.activity.\\__dict\\__ = data_manager_generated_dict"
   ]
  },
  {
   "cell_type": "code",
   "execution_count": 26,
   "metadata": {
    "collapsed": true
   },
   "outputs": [],
   "source": [
    "workflow_form = form_handler.load_workflow_form(info_file)\n",
    "   \n",
    "ingest = workflow_form.ing"
   ]
  },
  {
   "cell_type": "code",
   "execution_count": null,
   "metadata": {
    "collapsed": true
   },
   "outputs": [],
   "source": [
    "?ingest.entity_out"
   ]
  },
  {
   "cell_type": "code",
   "execution_count": 27,
   "metadata": {
    "collapsed": false
   },
   "outputs": [],
   "source": [
    "# agent related info\n",
    "\n",
    "ingest.agent.responsible_person = \"hdh\"\n",
    "\n",
    "# activity related info\n",
    "\n",
    "ingest.activity.comment = \"data pull: credentials needed for remote site\"\n",
    "ingest.activity.status = \"complete\"\n",
    "ingest.activity.start_time = \"\"\n",
    "ingest.activity.end_time = \"\"\n",
    "\n",
    "# detailed info in free report dictionary/sub_form\n",
    "my_activity_report = ingest.activity.report\n",
    "my_activity_report.__doc__=\"data ingest protocol\"\n",
    "my_activity_report.anykey = \"anyinfo\"\n",
    "\n",
    "# report of the ingest process (entity_out of ingest workflow step)\n",
    "ingest_report = ingest.entity_out\n",
    "from datetime import datetime\n",
    "ingest_report.date = str(datetime.now())\n",
    "ingest_report.tag = \"a:b:c\"  # tag structure to be defined\n",
    "ingest_report.status = \"complete\"\n",
    "# free entries for detailed report information\n",
    "ingest_report.report.remote_server = \"gridftp.awi.de://export/data/CMIP6/test\"\n",
    "ingest_report.report.server_credentials = \"in server_cred.krb keypass\"\n",
    "ingest_report.report.target_path = \"..\"\n"
   ]
  },
  {
   "cell_type": "code",
   "execution_count": null,
   "metadata": {
    "collapsed": true
   },
   "outputs": [],
   "source": [
    "ingest_report.report."
   ]
  },
  {
   "cell_type": "markdown",
   "metadata": {},
   "source": [
    "### workflow step: data quality assurance"
   ]
  },
  {
   "cell_type": "code",
   "execution_count": 28,
   "metadata": {
    "collapsed": false
   },
   "outputs": [],
   "source": [
    "from datetime import datetime\n",
    "workflow_form = form_handler.load_workflow_form(info_file)\n",
    "   \n",
    "qua = workflow_form.qua"
   ]
  },
  {
   "cell_type": "code",
   "execution_count": 29,
   "metadata": {
    "collapsed": false
   },
   "outputs": [],
   "source": [
    "qua.agent.responsible_person = \"hdh\"\n",
    "\n",
    "qua.activity.comment = \" .. \"\n",
    "qua.activity.status = \"ok\"\n",
    "\n",
    "qua.entity_out.date = str(datetime.now())\n",
    "qua.entity_out.status = \"dkrz_qua:esgf_ready\"\n",
    "qua.entity_out.report = {\n",
    "    \"QA_conclusion\": \"PASS\",\n",
    "    \"project\": \"CORDEX\",\n",
    "    \"institute\": \"CLMcom\",\n",
    "    \"model\": \"CLMcom-CCLM4-8-17-CLM3-5\",\n",
    "    \"domain\": \"AUS-44\",\n",
    "    \"driving_experiment\":  [ \"ICHEC-EC-EARTH\"],\n",
    "    \"experiment\": [ \"history\", \"rcp45\", \"rcp85\"],\n",
    "    \"ensemble_member\": [ \"r12i1p1\" ],\n",
    "    \"frequency\": [ \"day\", \"mon\", \"sem\" ],\n",
    "    \"annotation\":\n",
    "    [\n",
    "        {\n",
    "            \"scope\": [\"mon\", \"sem\"],\n",
    "            \"variable\": [ \"tasmax\", \"tasmin\", \"sfcWindmax\" ],\n",
    "            \"caption\": \"attribute <variable>:cell_methods for climatologies requires <time>:climatology instead of time_bnds\",\n",
    "            \"comment\": \"due to the format of the data, climatology is equivalent to time_bnds\",\n",
    "            \"severity\": \"note\"\n",
    "        }\n",
    "    ]\n",
    "}\n"
   ]
  },
  {
   "cell_type": "markdown",
   "metadata": {
    "collapsed": false
   },
   "source": [
    "### workflow step: data publication"
   ]
  },
  {
   "cell_type": "code",
   "execution_count": 30,
   "metadata": {
    "collapsed": false
   },
   "outputs": [],
   "source": [
    "workflow_form = form_handler.load_workflow_form(info_file)\n",
    "   \n",
    "pub = workflow_form.pub\n",
    "\n",
    "pub.agent.responsible_person = \"katharina\"\n",
    "\n",
    "pub.activity.comment = \"...\"\n",
    "pub.activity.end_time = \"..\"\n",
    "pub.activity.report = {}   # activity related report information\n",
    "\n",
    "pub.entity_out.report = {} # the report of the publication action - all info characterizing the publication"
   ]
  },
  {
   "cell_type": "code",
   "execution_count": 31,
   "metadata": {
    "collapsed": false
   },
   "outputs": [
    {
     "name": "stdout",
     "output_type": "stream",
     "text": [
      "\n",
      "\n",
      "Form Handler - save form status message:\n",
      "/home/stephan/Repos/ENES-EUDAT/submission_forms/test/forms/test/test_testsuite_1234.ipynb\n",
      "/home/stephan/tmp/Repos/form_repo/test/test_testsuite_1234.ipynb\n",
      " --- form stored in transfer format in: /home/stephan/tmp/Repos/form_repo/test/test_testsuite_1234.json\n",
      " \n",
      " --- commit message:[master 5118bf4] Form Handler: submission form for user testsuite saved using prefix test_testsuite_1234 ## kindermann: form demo run 1\n",
      " 1 file changed, 4 insertions(+), 4 deletions(-)\n"
     ]
    }
   ],
   "source": [
    "sf = form_handler.save_form(workflow_form, \"kindermann: form demo run 1\")"
   ]
  },
  {
   "cell_type": "code",
   "execution_count": null,
   "metadata": {
    "collapsed": true
   },
   "outputs": [],
   "source": []
  }
 ],
 "metadata": {
  "anaconda-cloud": {},
  "kernelspec": {
   "display_name": "Python 2",
   "language": "python",
   "name": "python2"
  },
  "language_info": {
   "codemirror_mode": {
    "name": "ipython",
    "version": 2
   },
   "file_extension": ".py",
   "mimetype": "text/x-python",
   "name": "python",
   "nbconvert_exporter": "python",
   "pygments_lexer": "ipython2",
   "version": "2.7.13"
  }
 },
 "nbformat": 4,
 "nbformat_minor": 0
}
