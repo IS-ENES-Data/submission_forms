{
 "cells": [
  {
   "cell_type": "markdown",
   "metadata": {},
   "source": [
    "# Data ingest information handling\n",
    "\n",
    "* data submission related information management\n",
    "  * who, when, what, for which project, data characteristics\n",
    "* data management related information management\n",
    "  * ingest, quality assurance, publication, archiving"
   ]
  },
  {
   "cell_type": "markdown",
   "metadata": {},
   "source": [
    "## Background: approaches at other sites\n",
    "\n",
    "example workflows in other data centers:\n",
    "* http://eidc.ceh.ac.uk/images/ingestion-workflow/view\n",
    "* www.mdpi.com/2220-9964/5/3/30/pdf\n",
    "* https://www.rd-alliance.org/sites/default/files/03%20Nurnberger%20-%20DataPublishingWorkflows-CollabMtg20151208_V03.pdf\n",
    "* http://ropercenter.cornell.edu/polls/deposit-data/\n",
    "* https://www.arm.gov/engineering/ingest\n",
    "* https://eosweb.larc.nasa.gov/GEWEX-RFA/documents/data_ingest.txt\n",
    "* https://eosweb.larc.nasa.gov/GEWEX-RFA/documents/how_to_participate.html\n",
    "* http://www.nodc.noaa.gov/submit/ online tool \n",
    "\n",
    "Processing\n",
    "* https://www2.cisl.ucar.edu/resources/cmip-analysis-platform\n",
    "  * https://xras-submit-ncar.xsede.org/\n",
    "  \n",
    "* http://cmip5.whoi.edu/ \n",
    "* https://pypi.python.org/pypi/cmipdata/0.6"
   ]
  },
  {
   "cell_type": "markdown",
   "metadata": {},
   "source": [
    "## DKRZ ingest workflow system\n",
    "\n",
    "Data ingest request via\n",
    "* jupyter notebook on server (http://data-forms.dkrz.de:8080), or\n",
    "* jupyter notebook filled at home and sent to DKRZ (email, rt system)\n",
    "  * download form_template from: http://github... \n",
    "\n",
    "Data ingest request workflow:\n",
    "* ingest request is stored in json format in git repo\n",
    "* all workflow steps are reflected in json subfields\n",
    "* workflow json format has W3C prov aligned schema and can be transformed to W3C prov format (and visualized as a prov graph) \n",
    "* for search git repo can be indexed into a (in-memory) key-value DB"
   ]
  },
  {
   "cell_type": "code",
   "execution_count": 2,
   "metadata": {
    "collapsed": true
   },
   "outputs": [],
   "source": [
    "%load_ext autoreload\n",
    "%autoreload 2"
   ]
  },
  {
   "cell_type": "markdown",
   "metadata": {},
   "source": [
    "## demo examples \n",
    "\n",
    "* load form - get information"
   ]
  },
  {
   "cell_type": "code",
   "execution_count": 3,
   "metadata": {
    "collapsed": false
   },
   "outputs": [],
   "source": [
    "## To do: include different examples how to query for info_files based on different properties\n",
    "\n",
    "info_file = \"/home/stephan/tmp/Repos/form_repo/test/test_testsuite_1234.json\"\n",
    "\n",
    "from dkrz_forms import form_handler\n",
    "\n",
    "my_form = form_handler.load_workflow_form(info_file)"
   ]
  },
  {
   "cell_type": "markdown",
   "metadata": {},
   "source": [
    "### interactive \"help\": use ?form.part and tab completion:"
   ]
  },
  {
   "cell_type": "code",
   "execution_count": 4,
   "metadata": {
    "collapsed": false
   },
   "outputs": [],
   "source": [
    "?my_form\n"
   ]
  },
  {
   "cell_type": "code",
   "execution_count": 5,
   "metadata": {
    "collapsed": false
   },
   "outputs": [],
   "source": [
    "?my_form.sub"
   ]
  },
  {
   "cell_type": "code",
   "execution_count": 11,
   "metadata": {
    "collapsed": false
   },
   "outputs": [
    {
     "name": "stdout",
     "output_type": "stream",
     "text": [
      "\n",
      "\n",
      " Status message:\n",
      "-- your submission form Kindermann_test1 was stored in repository \n"
     ]
    }
   ],
   "source": [
    "my_form.sub.activity."
   ]
  },
  {
   "cell_type": "markdown",
   "metadata": {},
   "source": [
    "### add submission check related information "
   ]
  },
  {
   "cell_type": "markdown",
   "metadata": {},
   "source": [
    "### add data ingest step related information"
   ]
  },
  {
   "cell_type": "markdown",
   "metadata": {},
   "source": [
    "### add data quality assurance step related information"
   ]
  },
  {
   "cell_type": "code",
   "execution_count": 13,
   "metadata": {
    "collapsed": false
   },
   "outputs": [
    {
     "name": "stdout",
     "output_type": "stream",
     "text": [
      "\n",
      "\n",
      " Status message:\n",
      "-- your submission form Kindermann_test1 was stored in repository \n"
     ]
    }
   ],
   "source": [
    "sf.status = \"submitted\"\n",
    "\n",
    "sf.sub['ticket_id']=22252\n",
    "sf.sub['checks_done']=\"cordex form check v0.1\"\n",
    "sf.sub['ticket_url']='https://dm-rt.dkrz.de/Ticket/Display.html?id=22252'\n",
    "form_handler.form_save(sf)"
   ]
  },
  {
   "cell_type": "code",
   "execution_count": 14,
   "metadata": {
    "collapsed": false
   },
   "outputs": [
    {
     "name": "stdout",
     "output_type": "stream",
     "text": [
      "\n",
      "\n",
      " Status message:\n",
      "-- your submission form Kindermann_test1 was stored in repository \n"
     ]
    }
   ],
   "source": [
    "sf.status = \"submission_processing\"\n",
    "sf.sub['responsible_person']= \"pl\"\n",
    "form_handler.form_save(sf)"
   ]
  },
  {
   "cell_type": "code",
   "execution_count": 15,
   "metadata": {
    "collapsed": false
   },
   "outputs": [
    {
     "name": "stdout",
     "output_type": "stream",
     "text": [
      "\n",
      "\n",
      " Status message:\n",
      "-- your submission form Kindermann_test1 was stored in repository \n"
     ]
    }
   ],
   "source": [
    "from datetime import datetime\n",
    "sf.status = \"ingesting\"\n",
    "#sf.check = {}\n",
    "sf.ing = {'responsible_person': 'pl',\n",
    "            'started' : str(datetime.now())}\n",
    "form_handler.form_save(sf)                            \n",
    "                            "
   ]
  },
  {
   "cell_type": "code",
   "execution_count": 16,
   "metadata": {
    "collapsed": false
   },
   "outputs": [
    {
     "name": "stdout",
     "output_type": "stream",
     "text": [
      "\n",
      "\n",
      " Status message:\n",
      "-- your submission form Kindermann_test1 was stored in repository \n"
     ]
    }
   ],
   "source": [
    "sf.status = \"ingested\"\n",
    "sf.ing['finished']= str(datetime.now())\n",
    "sf.ing['target_path']='/scratch/bb0303/data/cordex/test1'\n",
    "form_handler.form_save(sf)"
   ]
  },
  {
   "cell_type": "code",
   "execution_count": 17,
   "metadata": {
    "collapsed": false
   },
   "outputs": [
    {
     "name": "stdout",
     "output_type": "stream",
     "text": [
      "\n",
      "\n",
      " Status message:\n",
      "-- your submission form Kindermann_test1 was stored in repository \n"
     ]
    }
   ],
   "source": [
    "sf.status = \"checking\"\n",
    "sf.che = {'responsible_person':'hdh',\n",
    "          'started':str(datetime.now()),\n",
    "          'tool_version':'qa_dkrz_v1.1'\n",
    "            }\n",
    "form_handler.form_save(sf)        "
   ]
  },
  {
   "cell_type": "code",
   "execution_count": 21,
   "metadata": {
    "collapsed": false
   },
   "outputs": [
    {
     "name": "stdout",
     "output_type": "stream",
     "text": [
      "\n",
      "\n",
      " Status message:\n",
      "-- your submission form Kindermann_test1 was stored in repository \n"
     ]
    }
   ],
   "source": [
    "sf.status = 'checked'\n",
    "\n",
    "sf.che['results']= '/path/to/results'\n",
    "sf.che['finished']= str(datetime.now())\n",
    "form_handler.form_save(sf)\n"
   ]
  },
  {
   "cell_type": "code",
   "execution_count": 22,
   "metadata": {
    "collapsed": false
   },
   "outputs": [
    {
     "name": "stdout",
     "output_type": "stream",
     "text": [
      "\n",
      "\n",
      " Status message:\n",
      "-- your submission form Kindermann_test1 was stored in repository \n"
     ]
    }
   ],
   "source": [
    "sf.status = 'publishing'\n",
    "\n",
    "sf.pub  = {'responsible_person':'kberger',\n",
    "            'started':str(datetime.now())        \n",
    "           }\n",
    "form_handler.form_save(sf)"
   ]
  },
  {
   "cell_type": "code",
   "execution_count": 23,
   "metadata": {
    "collapsed": false
   },
   "outputs": [
    {
     "name": "stdout",
     "output_type": "stream",
     "text": [
      "\n",
      "\n",
      " Status message:\n",
      "-- your submission form Kindermann_test1 was stored in repository \n"
     ]
    }
   ],
   "source": [
    "sf.status = 'published'\n",
    "\n",
    "sf.pub['finished']  = str(datetime.now()) \n",
    "sf.pub['search_string'] = \"project=cordex&model=hmoc&institute=MPI-M\"\n",
    "           \n",
    "form_handler.form_save(sf)"
   ]
  },
  {
   "cell_type": "code",
   "execution_count": 28,
   "metadata": {
    "collapsed": false
   },
   "outputs": [],
   "source": [
    "import json\n",
    "form_file = open('/home/stephan/tmp/CORDEX/Kindermann_test1.json',\"r\")\n",
    "json_info = form_file.read()\n",
    "#json_info[\"__type__\"] = \"sf\",\n",
    "form_file.close()\n",
    "sf_dict = json.loads(json_info)"
   ]
  },
  {
   "cell_type": "code",
   "execution_count": 29,
   "metadata": {
    "collapsed": false
   },
   "outputs": [
    {
     "name": "stdout",
     "output_type": "stream",
     "text": [
      "{u'status': u'published', u'sub': {u'status': [u'stored'], u'package_name': u'Kindermann_test1.json', u'timestamp': u'2016-03-28 19:25:28.340678', u'ticket_url': u'https://dm-rt.dkrz.de/Ticket/Display.html?id=22252', u'checks_done': u'cordex form check v0.1', u'repo': u'/home/stephan/tmp/CORDEX', u'ticket_id': 22252, u'package_path': u'/home/stephan/tmp/CORDEX/Kindermann_test1.json', u'form_name': u'Kindermann_test1', u'responsible_person': u'pl'}, u'first_name': u'Stephan', u'last_name': u'Kindermann', u'che': {u'started': u'2016-03-28 19:22:40.212107', u'finished': u'2016-03-28 19:24:13.371716', u'tool_version': u'qa_dkrz_v1.1', u'responsible_person': u'hdh', u'results': u'/path/to/results'}, u'keyword': u'test1', u'data_path': u'/scratch/b20030/data/cordex/', u'pub': {u'started': u'2016-03-28 19:24:52.312040', u'search_string': u'project=cordex&model=hmoc&institute=MPI-M', u'finished': u'2016-03-28 19:25:28.340155', u'responsible_person': u'kberger'}, u'institution': u'DKRZ', u'check_status': u'not checked', u'ing': {u'started': u'2016-03-28 19:17:10.601303', u'target_path': u'/scratch/bb0303/data/cordex/test1', u'finished': u'2016-03-28 19:18:11.767079', u'responsible_person': u'pl'}, u'submission_type': u'test', u'email': u'snkinder@freenet.de', u'institute_id': u'MPI-M'}\n"
     ]
    }
   ],
   "source": [
    "\n"
   ]
  },
  {
   "cell_type": "code",
   "execution_count": null,
   "metadata": {
    "collapsed": true
   },
   "outputs": [],
   "source": []
  }
 ],
 "metadata": {
  "anaconda-cloud": {},
  "kernelspec": {
   "display_name": "Python [default]",
   "language": "python",
   "name": "python2"
  },
  "language_info": {
   "codemirror_mode": {
    "name": "ipython",
    "version": 2
   },
   "file_extension": ".py",
   "mimetype": "text/x-python",
   "name": "python",
   "nbconvert_exporter": "python",
   "pygments_lexer": "ipython2",
   "version": "2.7.11"
  }
 },
 "nbformat": 4,
 "nbformat_minor": 0
}
