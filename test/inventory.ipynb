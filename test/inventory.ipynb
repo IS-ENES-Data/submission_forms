{
 "cells": [
  {
   "cell_type": "markdown",
   "metadata": {
    "collapsed": true
   },
   "source": [
    "### References to project directories\n",
    "* dependencies:\n",
    "    * tinydb: pip install tinydb"
   ]
  },
  {
   "cell_type": "code",
   "execution_count": 1,
   "metadata": {
    "collapsed": false
   },
   "outputs": [
    {
     "name": "stdout",
     "output_type": "stream",
     "text": [
      "/home/stephan/tmp/CORDEX/\n"
     ]
    }
   ],
   "source": [
    "cordex_dir = \"/home/stephan/tmp/CORDEX/\"\n",
    "print cordex_dir"
   ]
  },
  {
   "cell_type": "code",
   "execution_count": 2,
   "metadata": {
    "collapsed": false
   },
   "outputs": [],
   "source": [
    "from tinydb import TinyDB,Query\n",
    "#from os import listdir, walk\n",
    "import glob\n",
    "import json"
   ]
  },
  {
   "cell_type": "code",
   "execution_count": 3,
   "metadata": {
    "collapsed": false
   },
   "outputs": [
    {
     "name": "stdout",
     "output_type": "stream",
     "text": [
      "['/home/stephan/tmp/CORDEX/Kindermann_tst2.json', '/home/stephan/tmp/CORDEX/stasi_s@freenet.de.ipynb.json', '/home/stephan/tmp/CORDEX/ki_stk1.ipynb.json', '/home/stephan/tmp/CORDEX/stasi_snkinder@freenet.de.ipynb.json', '/home/stephan/tmp/CORDEX/ki_sk1.ipynb.json', '/home/stephan/tmp/CORDEX/Kindermann_tst2.ipynb.json']\n"
     ]
    }
   ],
   "source": [
    "json_files = glob.glob(cordex_dir+\"*.json\")\n",
    "print json_files"
   ]
  },
  {
   "cell_type": "code",
   "execution_count": 6,
   "metadata": {
    "collapsed": false
   },
   "outputs": [],
   "source": [
    "json_dicts = []\n",
    "for json_file in json_files:\n",
    "    with open(json_file) as j_file:\n",
    "        json_dicts.append(json.load(j_file))\n",
    "                          \n",
    "#print json_dicts                          "
   ]
  },
  {
   "cell_type": "code",
   "execution_count": 4,
   "metadata": {
    "collapsed": true
   },
   "outputs": [],
   "source": [
    "db = TinyDB(\"/home/stephan/tmp/db.json\")"
   ]
  },
  {
   "cell_type": "code",
   "execution_count": 7,
   "metadata": {
    "collapsed": false
   },
   "outputs": [],
   "source": [
    "for my_dict in json_dicts:\n",
    "    db.insert(my_dict)"
   ]
  },
  {
   "cell_type": "code",
   "execution_count": 9,
   "metadata": {
    "collapsed": false
   },
   "outputs": [],
   "source": [
    "#db.all()\n"
   ]
  },
  {
   "cell_type": "code",
   "execution_count": 24,
   "metadata": {
    "collapsed": false
   },
   "outputs": [],
   "source": [
    "Test = Query()\n",
    "results = db.search(Test.sub.last_name == 'Kindermann')\n",
    "\n",
    "results = db.all()"
   ]
  },
  {
   "cell_type": "code",
   "execution_count": 26,
   "metadata": {
    "collapsed": false
   },
   "outputs": [
    {
     "data": {
      "text/html": [
       "<table width=100%><tr><td><b>form name<b></td><td><b>keyword<b></td><td><b>timestamp<b></td><td><b>model / exp<b></td><td><b>status</td></tr><tr><td>Kindermann_tst2</td><td>tst2</td><td>2016-04-26 15:51:41.445454</td><td>MPI-M</td><td>stored</td></tr><tr><td>stasi_s@freenet.de.ipynb</td><td>s@freenet.de</td><td>2016-04-26 13:20:32.817468</td><td></td><td>[u'stored']</td></tr><tr><td>ki_stk1.ipynb</td><td>stk1</td><td>2016-04-26 12:55:50.944793</td><td></td><td>[u'stored']</td></tr><tr><td>stasi_snkinder@freenet.de.ipynb</td><td>snkinder@freenet.de</td><td>2016-04-26 13:11:02.865114</td><td></td><td>[u'stored']</td></tr><tr><td>ki_sk1.ipynb</td><td>sk1</td><td>2016-04-26 13:24:41.238144</td><td></td><td>[u'stored']</td></tr><tr><td>Kindermann_tst2.ipynb</td><td>tst2</td><td>2016-04-26 14:44:23.696508</td><td></td><td>[u'stored']</td></tr></table>"
      ],
      "text/plain": [
       "<IPython.core.display.HTML object>"
      ]
     },
     "execution_count": 26,
     "metadata": {},
     "output_type": "execute_result"
    }
   ],
   "source": [
    "from IPython.display import HTML\n",
    "\n",
    "def summary_html(mylist):\n",
    "        html = []\n",
    "            \n",
    "        html.append(\"<table width=100%>\")\n",
    "        html.append(\"<tr>\")\n",
    "        html.append(\"<td><b>form name<b></td>\")\n",
    "        html.append(\"<td><b>keyword<b></td>\")\n",
    "        html.append(\"<td><b>timestamp<b></td>\")\n",
    "        html.append(\"<td><b>model / exp<b></td>\")   \n",
    "        html.append(\"<td><b>status</td>\")\n",
    "        html.append(\"</tr>\")\n",
    "        \n",
    "        for entry in mylist:\n",
    "          #print entry['sub']\n",
    "          html.append(\"<tr>\")\n",
    "          html.append(\"<td>{0}</td>\".format(entry['sub']['form_name']))\n",
    "          html.append(\"<td>{0}</td>\".format(entry['sub']['keyword']))\n",
    "          html.append(\"<td>{0}</td>\".format(entry['sub']['timestamp']))\n",
    "          html.append(\"<td>{0}</td>\".format(entry['model_id']))\n",
    "          html.append(\"<td>{0}</td>\".format(entry['sub']['status']))\n",
    "          html.append(\"</tr>\")\n",
    "        \n",
    "        html.append(\"</table>\")\n",
    "        return ''.join(html)\n",
    "\n",
    "HTML(summary_html(results))\n",
    "    "
   ]
  },
  {
   "cell_type": "code",
   "execution_count": 28,
   "metadata": {
    "collapsed": false
   },
   "outputs": [],
   "source": [
    "#from IPython.display import FileLink, FileLinks\n",
    "\n",
    "#FileLinks(\"/home/stephan/tmp/CORDEX\")"
   ]
  },
  {
   "cell_type": "code",
   "execution_count": null,
   "metadata": {
    "collapsed": true
   },
   "outputs": [],
   "source": []
  }
 ],
 "metadata": {
  "kernelspec": {
   "display_name": "Python 2",
   "language": "python",
   "name": "python2"
  },
  "language_info": {
   "codemirror_mode": {
    "name": "ipython",
    "version": 2
   },
   "file_extension": ".py",
   "mimetype": "text/x-python",
   "name": "python",
   "nbconvert_exporter": "python",
   "pygments_lexer": "ipython2",
   "version": "2.7.11"
  }
 },
 "nbformat": 4,
 "nbformat_minor": 0
}
