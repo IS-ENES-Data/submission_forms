{
 "cells": [
  {
   "cell_type": "markdown",
   "metadata": {
    "collapsed": true
   },
   "source": [
    "### References to project directories\n",
    "* dependencies:\n",
    "    * tinydb: pip install tinydb"
   ]
  },
  {
   "cell_type": "code",
   "execution_count": 1,
   "metadata": {
    "collapsed": false
   },
   "outputs": [
    {
     "name": "stdout",
     "output_type": "stream",
     "text": [
      "/home/stephan/tmp/CORDEX/\n"
     ]
    }
   ],
   "source": [
    "cordex_dir = \"/home/stephan/tmp/CORDEX/\"\n",
    "print cordex_dir"
   ]
  },
  {
   "cell_type": "code",
   "execution_count": 2,
   "metadata": {
    "collapsed": false
   },
   "outputs": [],
   "source": [
    "from tinydb import TinyDB,Query\n",
    "#from os import listdir, walk\n",
    "import glob\n",
    "import json"
   ]
  },
  {
   "cell_type": "code",
   "execution_count": 3,
   "metadata": {
    "collapsed": false
   },
   "outputs": [
    {
     "name": "stdout",
     "output_type": "stream",
     "text": [
      "['/home/stephan/tmp/CORDEX/Kindermann_tst2.json', '/home/stephan/tmp/CORDEX/stasi_s@freenet.de.ipynb.json', '/home/stephan/tmp/CORDEX/ki_stk1.ipynb.json', '/home/stephan/tmp/CORDEX/stasi_snkinder@freenet.de.ipynb.json', '/home/stephan/tmp/CORDEX/ki_sk1.ipynb.json', '/home/stephan/tmp/CORDEX/Kindermann_tst2.ipynb.json']\n"
     ]
    }
   ],
   "source": [
    "json_files = glob.glob(cordex_dir+\"*.json\")\n",
    "print json_files"
   ]
  },
  {
   "cell_type": "code",
   "execution_count": 6,
   "metadata": {
    "collapsed": false
   },
   "outputs": [],
   "source": [
    "json_dicts = []\n",
    "for json_file in json_files:\n",
    "    with open(json_file) as j_file:\n",
    "        json_dicts.append(json.load(j_file))\n",
    "                          \n",
    "#print json_dicts                          "
   ]
  },
  {
   "cell_type": "code",
   "execution_count": 4,
   "metadata": {
    "collapsed": true
   },
   "outputs": [],
   "source": [
    "db = TinyDB(\"/home/stephan/tmp/db.json\")"
   ]
  },
  {
   "cell_type": "code",
   "execution_count": 7,
   "metadata": {
    "collapsed": false
   },
   "outputs": [],
   "source": [
    "for my_dict in json_dicts:\n",
    "    db.insert(my_dict)"
   ]
  },
  {
   "cell_type": "code",
   "execution_count": 9,
   "metadata": {
    "collapsed": false
   },
   "outputs": [],
   "source": [
    "#db.all()\n"
   ]
  },
  {
   "cell_type": "code",
   "execution_count": 8,
   "metadata": {
    "collapsed": false
   },
   "outputs": [
    {
     "name": "stdout",
     "output_type": "stream",
     "text": [
      "[{u'model_id': u'MPI-M', u'last_name': u'', u'experiment_id': u'', u'data_qc_status': u'', u'variable_list_mon': [u'clt', u'evspsbl', u'hfls', u'hfss', u'hurs', u'huss', u'hus850', u'mrfso', u'mrro', u'mrros', u'mrso', u'pr', u'psl', u'rlds', u'rlus', u'rlut', u'rsds', u'rsdt', u'rsus', u'rsut', u'sfcWind', u'sfcWindmax', u'sic', u'snc', u'snd', u'snm', u'snw', u'sund', u'tas', u'tasmax', u'tasmin', u'ta200', u'ta500', u'ta850', u'uas', u'ua200', u'ua500', u'ua850', u'vas', u'va200', u'va500', u'va850', u'zg200', u'zg500'], u'data_path': u'', u'uniqueness_of_tracking_id': u'yes', u'directory_structure': u'', u'exclude_variables_list': u'', u'example_file_name': u'tas_AFR-44_MPI-M-MPI-ESM-LR_rcp26_r1i1p1_MPI-CSC-REMO2009_v1_mon_yyyymm-yyyymm.nc', u'time_period': u'', u'ing': {u'responsible_person': u'pl', u'target_directory': u'', u'ticket_id': u''}, u'grid_as_specified_if_rotated_pole': u'', u'institution': u'DKRZ', u'sub': {u'status': u'stored', u'last_name': u'Kindermann', u'package_name': u'Kindermann_tst2.json', u'keyword': u'tst2', u'timestamp': u'2016-04-26 15:51:41.445454', u'form_path': u'/home/stephan/tmp/CORDEX/Kindermann_tst2.ipynb', u'email': u'stephan.kindermann@gmail.com', u'repo': u'/home/stephan/tmp/CORDEX', u'status_flag_validity': 0, u'ticket_id': u'', u'package_path': u'/home/stephan/tmp/CORDEX/Kindermann_tst2.json', u'form_name': u'Kindermann_tst2', u'check_status': u'not checked', u'responsible_person': u'pl', u'id': u'416b048a-0bae-11e6-8bdc-080027f178b4'}, u'variable_list_day': [u'clh', u'clivi', u'cll', u'clm', u'clt', u'clwvi', u'evspsbl', u'evspsblpot', u'hfls', u'hfss', u'hurs', u'huss', u'hus850', u'mrfso', u'mrro', u'mrros', u'mrso', u'pr', u'prc', u'prhmax', u'prsn', u'prw', u'ps', u'psl', u'rlds', u'rlus', u'rlut', u'rsds', u'rsdt', u'rsus', u'rsut', u'sfcWind', u'sfcWindmax', u'sic', u'snc', u'snd', u'snm', u'snw', u'sund', u'tas', u'tasmax', u'tasmin', u'tauu', u'tauv', u'ta200', u'ta500', u'ta850', u'ts', u'uas', u'ua200', u'ua500', u'ua850', u'vas', u'va200', u'va500', u'va850', u'wsgsmax', u'zg200', u'zg500', u'zmla'], u'first_name': u'', u'che': {u'report_dir': u'', u'status': u'', u'responsible_person': u'hdh', u'ticket_id': u''}, u'data_qc_comment': u'', u'pup': {u'status': u'', u'responsible_person': u'kb', u'ticket_id': u'', u'facet_search_string': u''}, u'variable_list_sem': [u'clt', u'evspsbl', u'hfls', u'hfss', u'hurs', u'huss', u'hus850', u'mrfso', u'mrro', u'mrros', u'mrso', u'pr', u'psl', u'rlds', u'rlus', u'rlut', u'rsds', u'rsdt', u'rsus', u'rsut', u'sfcWind', u'sfcWindmax', u'sic', u'snc', u'snd', u'snm', u'snw', u'sund', u'tas', u'tasmax', u'tasmin', u'ta200', u'ta500', u'ta850', u'uas', u'ua200', u'ua500', u'ua850', u'vas', u'va200', u'va500', u'va850', u'zg200', u'zg500'], u'terms_of_use': u'', u'project': u'CORDEX', u'variable_list_fx': [u'areacella', u'mrsofc', u'orog', u'rootd', u'sftgif', u'sftlf'], u'grid_mapping_name': u'', u'data_information': u'', u'submission_type': u'initial_version', u'email': u'', u'institute_id': u'DKRZ'}, {u'model_id': u'', u'last_name': u'stasi', u'experiment_id': u'', u'data_qc_status': u'', u'variable_list_mon': u'', u'data_path': u'', u'uniqueness_of_tracking_id': u'', u'directory_structure': u'', u'exclude_variables_list': u'', u'example_file_name': u'', u'time_period': u'', u'ing': {u'responsible_person': u'pl', u'target_directory': u'', u'ticket_id': u''}, u'grid_as_specified_if_rotated_pole': u'', u'institution': u'', u'sub': {u'status': [u'stored'], u'package_name': u'stasi_s@freenet.de.ipynb.json', u'keyword': u's@freenet.de', u'timestamp': u'2016-04-26 13:20:32.817468', u'source_path': u'/home/stephan/Repos/ENES-EUDAT/submission_forms/dkrz_forms/Templates/CORDEX_submission_form.ipynb', u'form_path': u'/home/stephan/tmp/CORDEX/stasi_s@freenet.de.ipynb', u'repo': u'/home/stephan/tmp/CORDEX', u'commit_hash': u'bc94260d8e396a22f9f34f5e956ed35e9f0b5361', u'package_path': u'/home/stephan/tmp/CORDEX/stasi_s@freenet.de.ipynb.json', u'check_status': u'not checked', u'form_name': u'stasi_s@freenet.de.ipynb', u'responsible_person': u'pl', u'id': u'e3deec4e-0ba0-11e6-ab96-080027f178b4', u'ticket_id': u''}, u'variable_list_day': u'', u'first_name': u'', u'che': {u'report_dir': u'', u'status': u'', u'responsible_person': u'hdh', u'ticket_id': u''}, u'data_qc_comment': u'', u'pup': {u'status': u'', u'responsible_person': u'kb', u'ticket_id': u'', u'facet_search_string': u''}, u'variable_list_sem': u'', u'terms_of_use': u'', u'project': u'CORDEX', u'variable_list_fx': u'', u'grid_mapping_name': u'', u'data_information': u'', u'submission_type': u'', u'email': u'ki', u'institute_id': u''}, {u'model_id': u'', u'last_name': u'ki', u'experiment_id': u'', u'data_qc_status': u'', u'variable_list_mon': u'', u'data_path': u'', u'uniqueness_of_tracking_id': u'', u'directory_structure': u'', u'exclude_variables_list': u'', u'example_file_name': u'', u'time_period': u'', u'ing': {u'responsible_person': u'pl', u'target_directory': u'', u'ticket_id': u''}, u'grid_as_specified_if_rotated_pole': u'', u'institution': u'', u'sub': {u'status': [u'stored'], u'package_name': u'ki_stk1.ipynb.json', u'keyword': u'stk1', u'timestamp': u'2016-04-26 12:55:50.944793', u'source_path': u'/home/stephan/Repos/ENES-EUDAT/submission_forms/dkrz_forms/Templates/CORDEX_submission_form.ipynb', u'form_path': u'/home/stephan/tmp/CORDEX/ki_stk1.ipynb', u'repo': u'/home/stephan/tmp/CORDEX', u'commit_hash': u'03fca98d5d7f8cad2a77a8bd158c7c18b58c7daa', u'package_path': u'/home/stephan/tmp/CORDEX/ki_stk1.ipynb.json', u'form_name': u'ki_stk1.ipynb', u'check_status': u'not checked', u'responsible_person': u'pl', u'id': u'70a02822-0b9d-11e6-96e1-080027f178b4', u'ticket_id': u''}, u'variable_list_day': u'', u'first_name': u'', u'che': {u'report_dir': u'', u'status': u'', u'responsible_person': u'hdh', u'ticket_id': u''}, u'data_qc_comment': u'', u'pup': {u'status': u'', u'responsible_person': u'kb', u'ticket_id': u'', u'facet_search_string': u''}, u'variable_list_sem': u'', u'terms_of_use': u'', u'project': u'CORDEX', u'variable_list_fx': u'', u'grid_mapping_name': u'', u'data_information': u'', u'submission_type': u'', u'email': u'st@freenet.de', u'institute_id': u''}, {u'model_id': u'', u'last_name': u'stasi', u'experiment_id': u'', u'data_qc_status': u'', u'variable_list_mon': u'', u'data_path': u'', u'uniqueness_of_tracking_id': u'', u'directory_structure': u'', u'exclude_variables_list': u'', u'example_file_name': u'', u'time_period': u'', u'ing': {u'responsible_person': u'pl', u'target_directory': u'', u'ticket_id': u''}, u'grid_as_specified_if_rotated_pole': u'', u'institution': u'', u'sub': {u'status': [u'stored'], u'package_name': u'stasi_snkinder@freenet.de.ipynb.json', u'keyword': u'snkinder@freenet.de', u'timestamp': u'2016-04-26 13:11:02.865114', u'source_path': u'/home/stephan/Repos/ENES-EUDAT/submission_forms/dkrz_forms/Templates/CORDEX_submission_form.ipynb', u'form_path': u'/home/stephan/tmp/CORDEX/stasi_snkinder@freenet.de.ipynb', u'repo': u'/home/stephan/tmp/CORDEX', u'commit_hash': u'f2f0341531738567207a70f7851e56f29aca6d59', u'package_path': u'/home/stephan/tmp/CORDEX/stasi_snkinder@freenet.de.ipynb.json', u'check_status': u'not checked', u'form_name': u'stasi_snkinder@freenet.de.ipynb', u'responsible_person': u'pl', u'id': u'902cf3da-0b9f-11e6-a1b0-080027f178b4', u'ticket_id': u''}, u'variable_list_day': u'', u'first_name': u'', u'che': {u'report_dir': u'', u'status': u'', u'responsible_person': u'hdh', u'ticket_id': u''}, u'data_qc_comment': u'', u'pup': {u'status': u'', u'responsible_person': u'kb', u'ticket_id': u'', u'facet_search_string': u''}, u'variable_list_sem': u'', u'terms_of_use': u'', u'project': u'CORDEX', u'variable_list_fx': u'', u'grid_mapping_name': u'', u'data_information': u'', u'submission_type': u'', u'email': u'ki', u'institute_id': u''}, {u'model_id': u'', u'last_name': u'ki', u'experiment_id': u'', u'data_qc_status': u'', u'variable_list_mon': u'', u'data_path': u'', u'uniqueness_of_tracking_id': u'', u'directory_structure': u'', u'exclude_variables_list': u'', u'example_file_name': u'', u'time_period': u'', u'ing': {u'responsible_person': u'pl', u'target_directory': u'', u'ticket_id': u''}, u'grid_as_specified_if_rotated_pole': u'', u'institution': u'', u'sub': {u'status': [u'stored'], u'package_name': u'ki_sk1.ipynb.json', u'keyword': u'sk1', u'timestamp': u'2016-04-26 13:24:41.238144', u'source_path': u'/home/stephan/Repos/ENES-EUDAT/submission_forms/dkrz_forms/Templates/CORDEX_submission_form.ipynb', u'form_path': u'/home/stephan/tmp/CORDEX/ki_sk1.ipynb', u'repo': u'/home/stephan/tmp/CORDEX', u'commit_hash': u'c58cdf81a9175a0987d2dc1dd214125f3b2dedbe', u'package_path': u'/home/stephan/tmp/CORDEX/ki_sk1.ipynb.json', u'form_name': u'ki_sk1.ipynb', u'check_status': u'not checked', u'responsible_person': u'pl', u'id': u'77f77cde-0ba1-11e6-8709-080027f178b4', u'ticket_id': u''}, u'variable_list_day': u'', u'first_name': u'', u'che': {u'report_dir': u'', u'status': u'', u'responsible_person': u'hdh', u'ticket_id': u''}, u'data_qc_comment': u'', u'pup': {u'status': u'', u'responsible_person': u'kb', u'ticket_id': u'', u'facet_search_string': u''}, u'variable_list_sem': u'', u'terms_of_use': u'', u'project': u'CORDEX', u'variable_list_fx': u'', u'grid_mapping_name': u'', u'data_information': u'', u'submission_type': u'', u'email': u's@freenet.de', u'institute_id': u''}, {u'model_id': u'', u'last_name': u'', u'experiment_id': u'', u'data_qc_status': u'', u'variable_list_mon': [u'clt', u'evspsbl', u'hfls', u'hfss', u'hurs', u'huss', u'hus850', u'mrfso', u'mrro', u'mrros', u'mrso', u'pr', u'psl', u'rlds', u'rlus', u'rlut', u'rsds', u'rsdt', u'rsus', u'rsut', u'sfcWind', u'sfcWindmax', u'sic', u'snc', u'snd', u'snm', u'snw', u'sund', u'tas', u'tasmax', u'tasmin', u'ta200', u'ta500', u'ta850', u'uas', u'ua200', u'ua500', u'ua850', u'vas', u'va200', u'va500', u'va850', u'zg200', u'zg500'], u'data_path': u'', u'uniqueness_of_tracking_id': u'', u'directory_structure': u'', u'exclude_variables_list': u'', u'example_file_name': u'', u'time_period': u'', u'ing': {u'responsible_person': u'pl', u'target_directory': u'', u'ticket_id': u''}, u'grid_as_specified_if_rotated_pole': u'', u'institution': u'', u'sub': {u'status': [u'stored'], u'last_name': u'Kindermann', u'package_name': u'', u'keyword': u'tst2', u'timestamp': u'2016-04-26 14:44:23.696508', u'form_path': u'/home/stephan/tmp/CORDEX/Kindermann_tst2.ipynb', u'id': u'85360ce8-0bac-11e6-9fa7-080027f178b4', u'repo': u'/home/stephan/tmp/CORDEX', u'ticket_id': u'', u'package_path': u'', u'check_status': u'not checked', u'form_name': u'Kindermann_tst2.ipynb', u'responsible_person': u'pl', u'email': u'stephan.kindermann@gmail.com'}, u'variable_list_day': [u'clh', u'clivi', u'cll', u'clm', u'clt', u'clwvi', u'evspsbl', u'evspsblpot', u'hfls', u'hfss', u'hurs', u'huss', u'hus850', u'mrfso', u'mrro', u'mrros', u'mrso', u'pr', u'prc', u'prhmax', u'prsn', u'prw', u'ps', u'psl', u'rlds', u'rlus', u'rlut', u'rsds', u'rsdt', u'rsus', u'rsut', u'sfcWind', u'sfcWindmax', u'sic', u'snc', u'snd', u'snm', u'snw', u'sund', u'tas', u'tasmax', u'tasmin', u'tauu', u'tauv', u'ta200', u'ta500', u'ta850', u'ts', u'uas', u'ua200', u'ua500', u'ua850', u'vas', u'va200', u'va500', u'va850', u'wsgsmax', u'zg200', u'zg500', u'zmla'], u'first_name': u'', u'che': {u'report_dir': u'', u'status': u'', u'responsible_person': u'hdh', u'ticket_id': u''}, u'data_qc_comment': u'', u'pup': {u'status': u'', u'responsible_person': u'kb', u'ticket_id': u'', u'facet_search_string': u''}, u'variable_list_sem': [u'clt', u'evspsbl', u'hfls', u'hfss', u'hurs', u'huss', u'hus850', u'mrfso', u'mrro', u'mrros', u'mrso', u'pr', u'psl', u'rlds', u'rlus', u'rlut', u'rsds', u'rsdt', u'rsus', u'rsut', u'sfcWind', u'sfcWindmax', u'sic', u'snc', u'snd', u'snm', u'snw', u'sund', u'tas', u'tasmax', u'tasmin', u'ta200', u'ta500', u'ta850', u'uas', u'ua200', u'ua500', u'ua850', u'vas', u'va200', u'va500', u'va850', u'zg200', u'zg500'], u'terms_of_use': u'', u'project': u'CORDEX', u'variable_list_fx': [u'areacella', u'mrsofc', u'orog', u'rootd', u'sftgif', u'sftlf'], u'grid_mapping_name': u'', u'data_information': u'', u'submission_type': u'', u'email': u'', u'institute_id': u''}]\n"
     ]
    }
   ],
   "source": [
    "Test = Query()\n",
    "results = db.search(Test.sub.last_name == 'Kindermann')\n",
    "\n",
    "results = db.all()\n",
    "print results"
   ]
  },
  {
   "cell_type": "code",
   "execution_count": 26,
   "metadata": {
    "collapsed": false
   },
   "outputs": [
    {
     "data": {
      "text/html": [
       "<table width=100%><tr><td><b>form name<b></td><td><b>keyword<b></td><td><b>timestamp<b></td><td><b>model / exp<b></td><td><b>status</td></tr><tr><td>Kindermann_tst2</td><td>tst2</td><td>2016-04-26 15:51:41.445454</td><td>MPI-M</td><td>stored</td></tr><tr><td>stasi_s@freenet.de.ipynb</td><td>s@freenet.de</td><td>2016-04-26 13:20:32.817468</td><td></td><td>[u'stored']</td></tr><tr><td>ki_stk1.ipynb</td><td>stk1</td><td>2016-04-26 12:55:50.944793</td><td></td><td>[u'stored']</td></tr><tr><td>stasi_snkinder@freenet.de.ipynb</td><td>snkinder@freenet.de</td><td>2016-04-26 13:11:02.865114</td><td></td><td>[u'stored']</td></tr><tr><td>ki_sk1.ipynb</td><td>sk1</td><td>2016-04-26 13:24:41.238144</td><td></td><td>[u'stored']</td></tr><tr><td>Kindermann_tst2.ipynb</td><td>tst2</td><td>2016-04-26 14:44:23.696508</td><td></td><td>[u'stored']</td></tr></table>"
      ],
      "text/plain": [
       "<IPython.core.display.HTML object>"
      ]
     },
     "execution_count": 26,
     "metadata": {},
     "output_type": "execute_result"
    }
   ],
   "source": [
    "from IPython.display import HTML\n",
    "\n",
    "def summary_html(mylist):\n",
    "        html = []\n",
    "            \n",
    "        html.append(\"<table width=100%>\")\n",
    "        html.append(\"<tr>\")\n",
    "        html.append(\"<td><b>form name<b></td>\")\n",
    "        html.append(\"<td><b>keyword<b></td>\")\n",
    "        html.append(\"<td><b>timestamp<b></td>\")\n",
    "        html.append(\"<td><b>model / exp<b></td>\")   \n",
    "        html.append(\"<td><b>status</td>\")\n",
    "        html.append(\"</tr>\")\n",
    "        \n",
    "        for entry in mylist:\n",
    "          #print entry['sub']\n",
    "          html.append(\"<tr>\")\n",
    "          html.append(\"<td>{0}</td>\".format(entry['sub']['form_name']))\n",
    "          html.append(\"<td>{0}</td>\".format(entry['sub']['keyword']))\n",
    "          html.append(\"<td>{0}</td>\".format(entry['sub']['timestamp']))\n",
    "          html.append(\"<td>{0}</td>\".format(entry['model_id']))\n",
    "          html.append(\"<td>{0}</td>\".format(entry['sub']['status']))\n",
    "          html.append(\"</tr>\")\n",
    "        \n",
    "        html.append(\"</table>\")\n",
    "        return ''.join(html)\n",
    "\n",
    "HTML(summary_html(results))\n",
    "    "
   ]
  },
  {
   "cell_type": "code",
   "execution_count": 28,
   "metadata": {
    "collapsed": false
   },
   "outputs": [],
   "source": [
    "#from IPython.display import FileLink, FileLinks\n",
    "\n",
    "#FileLinks(\"/home/stephan/tmp/CORDEX\")"
   ]
  },
  {
   "cell_type": "code",
   "execution_count": null,
   "metadata": {
    "collapsed": true
   },
   "outputs": [],
   "source": []
  }
 ],
 "metadata": {
  "kernelspec": {
   "display_name": "Python 2",
   "language": "python",
   "name": "python2"
  },
  "language_info": {
   "codemirror_mode": {
    "name": "ipython",
    "version": 2
   },
   "file_extension": ".py",
   "mimetype": "text/x-python",
   "name": "python",
   "nbconvert_exporter": "python",
   "pygments_lexer": "ipython2",
   "version": "2.7.11"
  }
 },
 "nbformat": 4,
 "nbformat_minor": 0
}
