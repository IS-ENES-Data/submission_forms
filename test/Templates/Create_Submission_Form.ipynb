{
 "cells": [
  {
   "cell_type": "markdown",
   "metadata": {},
   "source": [
    "# Create your DKRZ data ingest request form \n",
    "\n",
    "To generate a data submission form for you, please edit the cell below to include your name, email as well as the project your data belogs to\n",
    "\n",
    "Then please press *\"Shift\" + Enter* to evaluate the cell\n",
    "\n",
    "a link to the newly generated data submission form will be provided\n",
    "\n",
    "please follow this link to edit your personal form\n",
    "\n",
    "### Attention: remember the form password provided to you\n",
    "\n",
    "the password is needed to retrieve your form at a later point e.g. for completion"
   ]
  },
  {
   "cell_type": "markdown",
   "metadata": {},
   "source": [
    "### Currently the following ingest requests are supported:\n",
    "- **\"CORDEX\"**: CORDEX data ingest requests - CORDEX data to be published in ESGF, the form is aligned to the original CORDEX data ingest exel sheet used for ingest requests at DKRZ\n",
    "- **\"CMIP6\"**:  CMIP6 data ingest request form for data providers - CMIP6 data to be ingested and published in ESGF and which will be long term archived as part of the WDCC\n",
    "- **\"ESGF_replication\"** : CMIP6 data request form for data users - request for CMIP6 data to be replicated and made available as part of the DKRZ national archive \n",
    "- **\"DKRZ_CDP\"**: data ingest request for (CMIP6 related) data collections to be included in the DKRZ CMIP data pool (CDP) e.g. for model evaluation purposes    \n",
    "- **\"test\"**: for demo and testing puposes"
   ]
  },
  {
   "cell_type": "code",
   "execution_count": null,
   "metadata": {
    "collapsed": false,
    "scrolled": true
   },
   "outputs": [],
   "source": [
    "from dkrz_forms import form_widgets\n",
    "form_widgets.show_status('form-generation')"
   ]
  },
  {
   "cell_type": "markdown",
   "metadata": {},
   "source": [
    "## Create a data form\n",
    "\n",
    "#### Evaluate the cell below (\"Shift-Enter\") in case no input fields are visible\n",
    "\n",
    "The form will be created as soon as you press \"Enter\" in the last input field below \n",
    "<br />To fill the form follow the url shown as as result of the form generation.\n",
    "<br />In case you want to retrieve and complete the form later on, please follow the steps outlined below in \"Retrieve your DKRZ data form\""
   ]
  },
  {
   "cell_type": "code",
   "execution_count": 1,
   "metadata": {
    "collapsed": false
   },
   "outputs": [
    {
     "name": "stdout",
     "output_type": "stream",
     "text": [
      "Detected FORM_URL_PATH:  http://localhost:8888/notebooks/test/forms\n",
      "Detected FORM_URL_PATH:  http://localhost:8888/notebooks/test/forms\n",
      "Form Handler: Initialized form for project: CORDEX\n",
      "CORDEX\n",
      "/home/stephan/tmp/Repos/form_repo/CORDEX\n",
      "CORDEX_bb_bb1.ipynb\n",
      "entity_in.form_path /home/stephan/Repos/ENES-EUDAT/submission_forms/test/forms/CORDEX\n",
      "TTT:  store key in keystore 7AXT2W /home/stephan/tmp/Repos/form_repo/keystore\n",
      "taking pip installed template files\n",
      "--- copy from: /home/stephan/Repos/ENES-EUDAT/submission_forms/dkrz_forms/Templates/CORDEX_submission_form.ipynb\n",
      "--- to:   /home/stephan/tmp/Repos/form_repo/CORDEX/CORDEX_bb_bb1.ipynb\n",
      "--- and to:  /home/stephan/Repos/ENES-EUDAT/submission_forms/test/forms/CORDEX/CORDEX_bb_bb1.ipynb\n",
      "--------------------------------------------------------------------\n",
      "   A submission form was created for you, please visit the following link:\n",
      "http://localhost:8888/notebooks/test/forms/CORDEX/CORDEX_bb_bb1.ipynb\n",
      "--------------------------------------------------------------------\n",
      "/home/stephan/Repos/ENES-EUDAT/submission_forms/test/forms/CORDEX/CORDEX_bb_bb1.ipynb\n",
      "/home/stephan/tmp/Repos/form_repo/CORDEX/CORDEX_bb_bb1.ipynb\n",
      " \n",
      " ......  initial version saved ...\n",
      "/home/stephan/Repos/ENES-EUDAT/submission_forms/test/forms/CORDEX/CORDEX_bb_bb1.ipynb\n",
      "/home/stephan/tmp/Repos/form_repo/CORDEX/CORDEX_bb_bb1.ipynb\n",
      " \n",
      "  !!  current version saved in repository\n",
      "  !!  the above link is only valid for the next 5 hours\n",
      "  !!  to retrieve the form after this use the following link: \n",
      "http://localhost:8888/notebooks/test/forms/Create_Submission_Form.ipynb\n",
      "       with the password: 7AXT2W\n"
     ]
    }
   ],
   "source": [
    "from dkrz_forms import form_widgets\n",
    "form_widgets.create_form()"
   ]
  },
  {
   "cell_type": "markdown",
   "metadata": {},
   "source": [
    "# Retrieve your DKRZ data form \n",
    "\n",
    "\n",
    "Via this form you can retrieve previously generated data forms and make them accessible via the Web again for completion.\n",
    "<br/> Additionally you can get information on the data ingest process status related to your form based request."
   ]
  },
  {
   "cell_type": "code",
   "execution_count": null,
   "metadata": {
    "collapsed": false
   },
   "outputs": [],
   "source": [
    "from dkrz_forms import form_widgets\n",
    "form_widgets.show_status('form-retrieval')"
   ]
  },
  {
   "cell_type": "markdown",
   "metadata": {},
   "source": [
    "### Please provide your last name\n",
    "\n",
    "please set your last name in the cell below and evaluate the cell (press \"Shift-Return\")\n",
    "- when entering the key identifying your form the form is retrieved and accessible via the url presented. (The identifying key was provided to you as part of the form generation step)"
   ]
  },
  {
   "cell_type": "code",
   "execution_count": null,
   "metadata": {
    "collapsed": false
   },
   "outputs": [],
   "source": [
    "MY_LAST_NAME = \"aa\"   # e.gl MY_LAST_NAME = \"schulz\" \n",
    "\n",
    "\n",
    "#-------------------------------------------------\n",
    "from dkrz_forms import form_handler, form_widgets\n",
    "form_info = form_widgets.check_and_retrieve(MY_LAST_NAME)"
   ]
  },
  {
   "cell_type": "code",
   "execution_count": null,
   "metadata": {
    "collapsed": true
   },
   "outputs": [],
   "source": []
  }
 ],
 "metadata": {
  "anaconda-cloud": {},
  "kernelspec": {
   "display_name": "Python [default]",
   "language": "python",
   "name": "python2"
  },
  "language_info": {
   "codemirror_mode": {
    "name": "ipython",
    "version": 2
   },
   "file_extension": ".py",
   "mimetype": "text/x-python",
   "name": "python",
   "nbconvert_exporter": "python",
   "pygments_lexer": "ipython2",
   "version": "2.7.11"
  }
 },
 "nbformat": 4,
 "nbformat_minor": 0
}
