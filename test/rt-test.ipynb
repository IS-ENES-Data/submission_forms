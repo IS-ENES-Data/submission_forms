{
 "cells": [
  {
   "cell_type": "code",
   "execution_count": 2,
   "metadata": {
    "collapsed": false
   },
   "outputs": [
    {
     "name": "stdout",
     "output_type": "stream",
     "text": [
      ".dkrz_forms myconfig imported\n",
      "Settings from ~/.dkrz_forms imported\n"
     ]
    }
   ],
   "source": [
    "import sys\n",
    "\n",
    "sys.path.append('/home/stephan/Repos/ENES-EUDAT/submission_forms')\n",
    "from dkrz_forms import rt_handler\n"
   ]
  },
  {
   "cell_type": "code",
   "execution_count": null,
   "metadata": {
    "collapsed": false
   },
   "outputs": [],
   "source": []
  },
  {
   "cell_type": "code",
   "execution_count": 3,
   "metadata": {
    "collapsed": false
   },
   "outputs": [
    {
     "name": "stdout",
     "output_type": "stream",
     "text": [
      "True\n"
     ]
    }
   ],
   "source": [
    "print rt_handler.rt_module_present\n"
   ]
  },
  {
   "cell_type": "code",
   "execution_count": 6,
   "metadata": {
    "collapsed": false
   },
   "outputs": [],
   "source": [
    "info_db =rt_handler.get_info_db(rt_handler.info_db_path)"
   ]
  },
  {
   "cell_type": "code",
   "execution_count": 11,
   "metadata": {
    "collapsed": false
   },
   "outputs": [],
   "source": [
    "results = rt_handler.db_get_name(info_db,'Kindermann')\n",
    "\n",
    "vis_results = rt_handler.summary_html(results)"
   ]
  },
  {
   "cell_type": "code",
   "execution_count": 12,
   "metadata": {
    "collapsed": false
   },
   "outputs": [
    {
     "data": {
      "text/html": [
       "<table width=100%><tr><td><b>form name<b></td><td><b>keyword<b></td><td><b>timestamp<b></td><td><b>model / exp<b></td><td><b>status</td></tr><tr><td>Kindermann_tst2</td><td>tst2</td><td>2016-04-26 15:51:41.445454</td><td>MPI-M</td><td>stored</td></tr><tr><td>Kindermann_tst2.ipynb</td><td>tst2</td><td>2016-04-26 14:44:23.696508</td><td></td><td>[u'stored']</td></tr></table>"
      ],
      "text/plain": [
       "<IPython.core.display.HTML object>"
      ]
     },
     "execution_count": 12,
     "metadata": {},
     "output_type": "execute_result"
    }
   ],
   "source": [
    "from IPython.core.display import HTML\n",
    "\n",
    "HTML(vis_results)"
   ]
  },
  {
   "cell_type": "code",
   "execution_count": null,
   "metadata": {
    "collapsed": false
   },
   "outputs": [],
   "source": [
    "res = tracker.search(Queue='CORDEX', Status='open')"
   ]
  },
  {
   "cell_type": "code",
   "execution_count": null,
   "metadata": {
    "collapsed": true
   },
   "outputs": [],
   "source": [
    "rest = tracker.search(Queue='TestQueue')"
   ]
  },
  {
   "cell_type": "code",
   "execution_count": null,
   "metadata": {
    "collapsed": false
   },
   "outputs": [],
   "source": [
    "print rest\n"
   ]
  },
  {
   "cell_type": "code",
   "execution_count": null,
   "metadata": {
    "collapsed": true
   },
   "outputs": [],
   "source": [
    "?tracker.create_ticket"
   ]
  },
  {
   "cell_type": "code",
   "execution_count": null,
   "metadata": {
    "collapsed": false
   },
   "outputs": [],
   "source": [
    "import ConfigParser\n",
    "import io\n",
    "config = ConfigParser.ConfigParser(allow_no_value=True)\n",
    "\n",
    "myticket = tracker.get_history(22950)\n",
    "\n",
    "message = myticket[-1]['Content']\n",
    "print message\n",
    "\n",
    "\n",
    "config.readfp(io.StringIO(message))\n",
    "\n",
    "config.sections()"
   ]
  },
  {
   "cell_type": "code",
   "execution_count": null,
   "metadata": {
    "collapsed": false
   },
   "outputs": [],
   "source": [
    "message = u\"\"\"\n",
    "\n",
    "# comment\n",
    "[section1]\n",
    "aber: test\n",
    "\n",
    "[section2]\n",
    "b = 3\n",
    "\n",
    "comment: lasjflasjf\n",
    "      lasakljflasfj\n",
    "\n",
    "\"\"\"\n",
    "config.readfp(io.StringIO(message))\n",
    "\n",
    "config.sections()\n",
    "\n",
    "print config.get('section2','comment')"
   ]
  },
  {
   "cell_type": "code",
   "execution_count": null,
   "metadata": {
    "collapsed": false
   },
   "outputs": [],
   "source": [
    "val = config.get('test','test1')\n",
    "print val"
   ]
  },
  {
   "cell_type": "code",
   "execution_count": null,
   "metadata": {
    "collapsed": false
   },
   "outputs": [],
   "source": [
    "myticket = tracker.get_history(22372)\n",
    "print myticket[-1]['Content']\n"
   ]
  },
  {
   "cell_type": "code",
   "execution_count": null,
   "metadata": {
    "collapsed": false
   },
   "outputs": [],
   "source": [
    "\n"
   ]
  },
  {
   "cell_type": "code",
   "execution_count": null,
   "metadata": {
    "collapsed": false
   },
   "outputs": [],
   "source": [
    "mytext = r\"\"\"kkkkkk  nnnn \n",
    "    1111\n",
    "    2222\n",
    "    3333\n",
    "\"\"\"\n",
    "\n",
    "\n",
    "print mytext\n",
    "\n",
    "tracker.create_ticket(Queue=\"TestQueue\", Subject=\"configparser test\", \n",
    "                      Text=mytext,\n",
    "                      Requestors=\"test-data-submitter@test.de\",\n",
    "                      Owner=u\"kindermann\")"
   ]
  },
  {
   "cell_type": "code",
   "execution_count": null,
   "metadata": {
    "collapsed": false
   },
   "outputs": [],
   "source": [
    "myticket = tracker.get_ticket(22949)\n",
    "#print myticket\n",
    "print tracker.get_history(22949)\n",
    "print myticket.keys()\n",
    "myatts = tracker.get_attachments(22949)\n",
    "print myatts"
   ]
  },
  {
   "cell_type": "code",
   "execution_count": null,
   "metadata": {
    "collapsed": true
   },
   "outputs": [],
   "source": []
  },
  {
   "cell_type": "code",
   "execution_count": null,
   "metadata": {
    "collapsed": false
   },
   "outputs": [],
   "source": [
    "tracker.comment(22252, text=\"\"\" upgedatet, ticket id \\n === { \"var1\" : 22252, \"var2\" : 'test2' }\\n  \"\"\")\n",
    "                    "
   ]
  },
  {
   "cell_type": "code",
   "execution_count": null,
   "metadata": {
    "collapsed": false
   },
   "outputs": [],
   "source": [
    "tracker.edit_ticket(22252, Owner=u\"kindermann\", Subject = \"updated - test --aa-- {b,b} ## [c,d]\")"
   ]
  },
  {
   "cell_type": "code",
   "execution_count": null,
   "metadata": {
    "collapsed": false
   },
   "outputs": [],
   "source": [
    "tracker.edit_ticket(22252, Requestors= [u'stephan.kindermann@gmail.com',u'snkinder@freenet.de'])"
   ]
  },
  {
   "cell_type": "code",
   "execution_count": null,
   "metadata": {
    "collapsed": false
   },
   "outputs": [],
   "source": [
    "tracker.comment(22252, text=u' es geht um a')"
   ]
  },
  {
   "cell_type": "code",
   "execution_count": null,
   "metadata": {
    "collapsed": false
   },
   "outputs": [],
   "source": [
    "tracker.reply(22252, text=u'Antwort zurück ...')"
   ]
  },
  {
   "cell_type": "code",
   "execution_count": null,
   "metadata": {
    "collapsed": false
   },
   "outputs": [],
   "source": [
    "?tracker.reply\n"
   ]
  },
  {
   "cell_type": "code",
   "execution_count": null,
   "metadata": {
    "collapsed": true
   },
   "outputs": [],
   "source": [
    "my_file = open(\"testfile.txt\")"
   ]
  },
  {
   "cell_type": "code",
   "execution_count": null,
   "metadata": {
    "collapsed": false
   },
   "outputs": [],
   "source": [
    "tracker.reply(22252,text=u'nun mit Anhang',files=[('tst.txt',my_file)])"
   ]
  },
  {
   "cell_type": "code",
   "execution_count": null,
   "metadata": {
    "collapsed": false
   },
   "outputs": [],
   "source": [
    "tracker.get_attachments(22252)"
   ]
  },
  {
   "cell_type": "code",
   "execution_count": null,
   "metadata": {
    "collapsed": true
   },
   "outputs": [],
   "source": [
    "#attachment = tracker.get_attachment_content(22252,140183)\n",
    "attachment = tracker.get_attachment_content(22252,140170)"
   ]
  },
  {
   "cell_type": "code",
   "execution_count": null,
   "metadata": {
    "collapsed": false
   },
   "outputs": [],
   "source": [
    "print attachment"
   ]
  },
  {
   "cell_type": "code",
   "execution_count": null,
   "metadata": {
    "collapsed": false
   },
   "outputs": [],
   "source": [
    "tracker.create_ticket(Queue=\"CORDEX\", Subject=\"tool generated Test-Ticket through REST API: please ignore\", Priority= 10,Owner=\"kindermann\")"
   ]
  },
  {
   "cell_type": "code",
   "execution_count": null,
   "metadata": {
    "collapsed": false
   },
   "outputs": [],
   "source": [
    "tracker.edit_ticket(22080,Status=\"open\")"
   ]
  },
  {
   "cell_type": "code",
   "execution_count": null,
   "metadata": {
    "collapsed": false
   },
   "outputs": [],
   "source": [
    "tracker.edit_ticket(22080,Status=\"rejected\")"
   ]
  },
  {
   "cell_type": "code",
   "execution_count": null,
   "metadata": {
    "collapsed": false
   },
   "outputs": [],
   "source": [
    "tracker.edit_ticket(22080,Status=\"open\",Subject=\"ticket re-opened\")"
   ]
  },
  {
   "cell_type": "code",
   "execution_count": null,
   "metadata": {
    "collapsed": false
   },
   "outputs": [],
   "source": [
    "tracker.reply(22080,text=\"test answer\")"
   ]
  },
  {
   "cell_type": "code",
   "execution_count": null,
   "metadata": {
    "collapsed": true
   },
   "outputs": [],
   "source": [
    "my_file = open(\"testfile.txt\")"
   ]
  },
  {
   "cell_type": "code",
   "execution_count": null,
   "metadata": {
    "collapsed": false
   },
   "outputs": [],
   "source": [
    "ret = tracker.comment(22080,text=\"comment text\",files=[(\"testfile.txt\",my_file)])"
   ]
  },
  {
   "cell_type": "code",
   "execution_count": null,
   "metadata": {
    "collapsed": false
   },
   "outputs": [],
   "source": [
    "print ret\n"
   ]
  },
  {
   "cell_type": "code",
   "execution_count": null,
   "metadata": {
    "collapsed": false
   },
   "outputs": [],
   "source": [
    "tracker.create_ticket(Queue=\"CORDEX\", Subject=\"test json CORDEX data submission: \")"
   ]
  },
  {
   "cell_type": "code",
   "execution_count": null,
   "metadata": {
    "collapsed": false
   },
   "outputs": [],
   "source": [
    "tst = tracker.get_attachment(22080,u'139196')"
   ]
  },
  {
   "cell_type": "code",
   "execution_count": null,
   "metadata": {
    "collapsed": false
   },
   "outputs": [],
   "source": [
    "print tst\n"
   ]
  },
  {
   "cell_type": "code",
   "execution_count": null,
   "metadata": {
    "collapsed": false
   },
   "outputs": [],
   "source": [
    "tracker.get_attachments(22080)"
   ]
  },
  {
   "cell_type": "code",
   "execution_count": null,
   "metadata": {
    "collapsed": false
   },
   "outputs": [],
   "source": [
    "try:\n",
    "  from myconfig import cordex_directory\n",
    "  from myconfig import rt_pwd\n",
    "  print \"Settings from ~/.dkrz_forms imported\"\n",
    "except ImportError:\n",
    "  print \"Info: myconfig not found - taking default config \"\n",
    "  from config import cordex_directory\n",
    "    \n",
    "def get_tracker():\n",
    "    tracker = rt.Rt('https://dm-rt.dkrz.de/REST/1.0/','kindermann',rt_pwd)\n",
    "    tracker.login()\n",
    "    return tracker"
   ]
  },
  {
   "cell_type": "code",
   "execution_count": null,
   "metadata": {
    "collapsed": false
   },
   "outputs": [],
   "source": [
    "myt = get_tracker()"
   ]
  },
  {
   "cell_type": "code",
   "execution_count": null,
   "metadata": {
    "collapsed": false
   },
   "outputs": [],
   "source": [
    "print myt.get_history(22372)[-1]['Content']"
   ]
  },
  {
   "cell_type": "code",
   "execution_count": null,
   "metadata": {
    "collapsed": true
   },
   "outputs": [],
   "source": []
  }
 ],
 "metadata": {
  "kernelspec": {
   "display_name": "Python 2",
   "language": "python",
   "name": "python2"
  },
  "language_info": {
   "codemirror_mode": {
    "name": "ipython",
    "version": 2
   },
   "file_extension": ".py",
   "mimetype": "text/x-python",
   "name": "python",
   "nbconvert_exporter": "python",
   "pygments_lexer": "ipython2",
   "version": "2.7.11"
  }
 },
 "nbformat": 4,
 "nbformat_minor": 0
}
