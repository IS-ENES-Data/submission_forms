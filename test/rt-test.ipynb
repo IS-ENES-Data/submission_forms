{
 "cells": [
  {
   "cell_type": "code",
   "execution_count": 3,
   "metadata": {
    "collapsed": false
   },
   "outputs": [
    {
     "name": "stdout",
     "output_type": "stream",
     "text": [
      ".dkrz_forms myconfig imported\n",
      "Settings from ~/.dkrz_forms imported\n",
      "Your submission form repository: /home/stephan/tmp/CORDEX\n"
     ]
    },
    {
     "data": {
      "text/plain": [
       "True"
      ]
     },
     "execution_count": 3,
     "metadata": {},
     "output_type": "execute_result"
    }
   ],
   "source": [
    "import sys\n",
    "\n",
    "sys.path.append('/home/stephan/Repos/ENES-EUDAT/submission_forms')\n",
    "from dkrz_forms import form_handler\n",
    "\n",
    "import rt\n",
    "import base64\n",
    "tracker = rt.Rt('https://dm-rt.dkrz.de/REST/1.0/','kindermann',form_handler.rt_pwd)\n",
    "tracker.login()"
   ]
  },
  {
   "cell_type": "code",
   "execution_count": 49,
   "metadata": {
    "collapsed": false
   },
   "outputs": [],
   "source": [
    "rt_module_present = False\n",
    "try:\n",
    "   import rt\n",
    "   rt_module_present = True\n",
    "except ImportError, e:\n",
    "   pass"
   ]
  },
  {
   "cell_type": "code",
   "execution_count": 50,
   "metadata": {
    "collapsed": false
   },
   "outputs": [
    {
     "name": "stdout",
     "output_type": "stream",
     "text": [
      "True\n"
     ]
    }
   ],
   "source": [
    "print rt_module_present\n"
   ]
  },
  {
   "cell_type": "code",
   "execution_count": 2,
   "metadata": {
    "collapsed": false
   },
   "outputs": [],
   "source": [
    "res = tracker.search(Queue='CORDEX', Status='open')"
   ]
  },
  {
   "cell_type": "code",
   "execution_count": 4,
   "metadata": {
    "collapsed": true
   },
   "outputs": [],
   "source": [
    "rest = tracker.search(Queue='TestQueue')"
   ]
  },
  {
   "cell_type": "code",
   "execution_count": 5,
   "metadata": {
    "collapsed": false
   },
   "outputs": [
    {
     "name": "stdout",
     "output_type": "stream",
     "text": [
      "[{u'Status': u'open', u'Priority': u'0', u'Resolved': u'Not set', u'TimeLeft': u'0', u'Creator': u'kindermann', u'Started': u'Wed Mar 16 17:36:12 2016', u'Starts': u'Not set', u'Created': u'Wed Mar 16 17:23:24 2016', u'Due': u'Not set', u'LastUpdated': u'Wed Mar 16 18:55:05 2016', u'FinalPriority': u'0', u'Queue': u'TestQueue', 'Requestors': [u'snkinder@freenet.de', u'stephan.kindermann@gmail.com'], u'Owner': u'kindermann', u'Told': u'Wed Mar 16 18:55:05 2016', u'TimeEstimated': u'0', u'InitialPriority': u'0', u'id': u'ticket/22252', u'TimeWorked': u'0', u'Subject': u'R\\xfcckmeldung an Anforderer 1'}, {u'Status': u'resolved', u'Priority': u'0', u'Resolved': u'Thu Dec 05 11:16:39 2013', u'TimeLeft': u'0', u'Creator': u'thiemann', u'Started': u'Fri Sep 21 09:44:58 2012', u'Starts': u'Not set', u'Created': u'Wed Jul 04 09:01:10 2012', u'Due': u'Not set', u'LastUpdated': u'Thu Dec 05 11:16:39 2013', u'FinalPriority': u'0', u'Queue': u'TestQueue', 'Requestors': [u'thiemann@dkrz.de'], u'Owner': u'thiemann', u'Told': u'Not set', u'TimeEstimated': u'0', u'InitialPriority': u'0', u'id': u'ticket/10536', u'TimeWorked': u'0', u'Subject': u'Test1'}, {u'Status': u'resolved', u'Priority': u'0', u'Resolved': u'Fri Sep 21 09:45:08 2012', u'TimeLeft': u'0', u'Creator': u'thiemann', u'Started': u'Fri Sep 21 09:45:08 2012', u'Starts': u'Not set', u'Created': u'Wed Jul 04 09:03:22 2012', u'Due': u'Not set', u'LastUpdated': u'Fri Sep 21 09:45:09 2012', u'FinalPriority': u'0', u'Queue': u'TestQueue', 'Requestors': [u'thiemann@dkrz.de'], u'Owner': u'thiemann', u'Told': u'Not set', u'TimeEstimated': u'0', u'InitialPriority': u'0', u'id': u'ticket/10537', u'TimeWorked': u'0', u'Subject': u'Test2'}, {u'Status': u'resolved', u'Priority': u'0', u'Resolved': u'Fri Sep 21 09:45:19 2012', u'TimeLeft': u'0', u'Creator': u'thiemann', u'Started': u'Fri Sep 21 09:45:19 2012', u'Starts': u'Not set', u'Created': u'Wed Jul 04 09:07:47 2012', u'Due': u'Not set', u'LastUpdated': u'Fri Sep 21 09:45:19 2012', u'FinalPriority': u'0', u'Queue': u'TestQueue', 'Requestors': [u'thiemann@dkrz.de'], u'Owner': u'thiemann', u'Told': u'Not set', u'TimeEstimated': u'0', u'InitialPriority': u'0', u'id': u'ticket/10538', u'TimeWorked': u'0', u'Subject': u'Test3 group als Watcher'}, {u'Status': u'resolved', u'Priority': u'0', u'Resolved': u'Mon Nov 25 16:26:56 2013', u'TimeLeft': u'0', u'Creator': u'thiemann', u'Started': u'Mon Nov 25 15:53:54 2013', u'Starts': u'Not set', u'Created': u'Mon Nov 25 15:44:08 2013', u'Due': u'Not set', u'LastUpdated': u'Mon Nov 25 16:26:56 2013', u'FinalPriority': u'0', u'Queue': u'TestQueue', 'Requestors': [u'thiemann@dkrz.de'], u'Owner': u'rathmann', u'Told': u'Mon Nov 25 15:58:58 2013', u'TimeEstimated': u'0', u'InitialPriority': u'0', u'id': u'ticket/13790', u'TimeWorked': u'0', u'Subject': u'Dummy'}]\n"
     ]
    }
   ],
   "source": [
    "print rest\n"
   ]
  },
  {
   "cell_type": "code",
   "execution_count": 33,
   "metadata": {
    "collapsed": true
   },
   "outputs": [],
   "source": [
    "?tracker.create_ticket"
   ]
  },
  {
   "cell_type": "code",
   "execution_count": 48,
   "metadata": {
    "collapsed": false
   },
   "outputs": [
    {
     "name": "stdout",
     "output_type": "stream",
     "text": [
      "[test]\n",
      "test1 = bla\n",
      "\n",
      "[status]\n",
      "status = ready\n",
      "\n"
     ]
    },
    {
     "data": {
      "text/plain": [
       "[u'test', u'status']"
      ]
     },
     "execution_count": 48,
     "metadata": {},
     "output_type": "execute_result"
    }
   ],
   "source": [
    "import ConfigParser\n",
    "import io\n",
    "config = ConfigParser.ConfigParser(allow_no_value=True)\n",
    "\n",
    "myticket = tracker.get_history(22950)\n",
    "\n",
    "message = myticket[-1]['Content']\n",
    "print message\n",
    "\n",
    "\n",
    "config.readfp(io.StringIO(message))\n",
    "\n",
    "config.sections()"
   ]
  },
  {
   "cell_type": "code",
   "execution_count": 55,
   "metadata": {
    "collapsed": false
   },
   "outputs": [
    {
     "name": "stdout",
     "output_type": "stream",
     "text": [
      "lasjflasjf\n",
      "lasakljflasfj\n"
     ]
    }
   ],
   "source": [
    "message = u\"\"\"\n",
    "\n",
    "# comment\n",
    "[section1]\n",
    "aber: test\n",
    "\n",
    "[section2]\n",
    "b = 3\n",
    "\n",
    "comment: lasjflasjf\n",
    "      lasakljflasfj\n",
    "\n",
    "\"\"\"\n",
    "config.readfp(io.StringIO(message))\n",
    "\n",
    "config.sections()\n",
    "\n",
    "print config.get('section2','comment')"
   ]
  },
  {
   "cell_type": "code",
   "execution_count": 45,
   "metadata": {
    "collapsed": false
   },
   "outputs": [
    {
     "name": "stdout",
     "output_type": "stream",
     "text": [
      "bla\n"
     ]
    }
   ],
   "source": [
    "val = config.get('test','test1')\n",
    "print val"
   ]
  },
  {
   "cell_type": "code",
   "execution_count": 38,
   "metadata": {
    "collapsed": false
   },
   "outputs": [
    {
     "name": "stdout",
     "output_type": "stream",
     "text": [
      "To Katharina,\n",
      "\n",
      "QA PASS\n",
      "\n",
      "Projekt: CORDEX\n",
      "Model: GERICS-REMO2009\n",
      "Domain: AFR-44\n",
      "\n",
      "a)\n",
      "driving_experiment_name: IPSL-IPSL-CM5A-LR\n",
      "Experiments: historical, rcp26, rcp85\n",
      "Ensemble Members: r0i0p0, r1i1p1\n",
      "\n",
      "b)\n",
      "driving_experiment_name: NOAA-GFDL-GFDL-ESM2G\n",
      "Experiments: historical, rcp26\n",
      "Ensemble Members: r0i0p0, r1i1p1\n",
      "\n",
      "\n",
      "Path:\n",
      "/work/kd0956/CORDEX/data/cordex/output/AFR-44/GERICS\n",
      "\n",
      "Annotations:\n",
      "\n",
      "Most severe:\n",
      "The domain is shifted westwards and northwards by the width of a cell\n",
      "\n",
      "\n",
      "Annotation summary of QA-DKRZ: 2016-05-03 01:40:49\n",
      "\n",
      "Path to the annotations in YAML format:\n",
      "/work/kd0956/QA_Results/cordex/GERICS/check_logs/Annotations\n",
      "\n",
      "==== Missing Variables ==================\n",
      "\n",
      "Variable-frequency cases listed in CORDEX_variables_requirement,\n",
      "but not found in available data frequencies.\n",
      "   freq.: sem\n",
      "    hurs, sund, mrfso, snc\n",
      " \n",
      "\n",
      "driving_model = IPSL-IPSL-CM5A-LR, NOAA-GFDL-GFDL-ESM2G\n",
      "experiment    = historical, rcp26, rcp85\n",
      "\n",
      "\n",
      "==== Annotation: L1-7_11 =========================\n",
      "\n",
      "   path: /work/kd0956/CORDEX/data/cordex/output/AFR-44/GERICS/driving-model/rcp85/r1i1p1/GERICS-REMO2009/v1\n",
      "   experiment:\n",
      "     AFR-44_driving-model_..._r1i1p1_GERICS-REMO2009_v1_day\n",
      "     AFR-44_driving-model_..._r1i1p1_GERICS-REMO2009_v1_mon\n",
      "     AFR-44_driving-model_..._r1i1p1_GERICS-REMO2009_v1_sem\n",
      "\n",
      "   annotation:\n",
      "     caption: 'Unmatched CORDEX boundaries for the Table 1 domain, found East=<59.84>, North=<41.8>, required East=60.28, North=42.24.'\n",
      "     impact: L1\n",
      "     tag: '7_11'\n",
      " \n",
      "\n",
      "==== Annotation: L1-3_2 =========================\n",
      "\n",
      "   path: /work/kd0956/CORDEX/data/cordex/output/AFR-44/GERICS/driving-model/rcp85/r1i1p1/GERICS-REMO2009/v1\n",
      "   experiment:\n",
      "     AFR-44_driving-model_..._r1i1p1_GERICS-REMO2009_v1_day\n",
      "     AFR-44_driving-model_..._r1i1p1_GERICS-REMO2009_v1_mon\n",
      "     AFR-44_driving-model_..._r1i1p1_GERICS-REMO2009_v1_sem\n",
      "\n",
      "   annotation:\n",
      "     caption: 'Auxiliary variable <lat_vertices> has wrong data type, found <float>, expected <double>.'\n",
      "     impact: L1\n",
      "     tag: '3_2'\n",
      "   annotation:\n",
      "     caption: 'Auxiliary variable <lat> has wrong data type, found <float>, expected <double>.'\n",
      "     impact: L1\n",
      "     tag: '3_2'\n",
      "   annotation:\n",
      "     caption: 'Auxiliary variable <lon_vertices> has wrong data type, found <float>, expected <double>.'\n",
      "     impact: L1\n",
      "     tag: '3_2'\n",
      "   annotation:\n",
      "     caption: 'Auxiliary variable <lon> has wrong data type, found <float>, expected <double>.'\n",
      "     impact: L1\n",
      "     tag: '3_2'\n",
      " \n",
      "\n",
      "==== Annotation: L1-CF_74e =========================\n",
      "\n",
      "   path: /work/kd0956/CORDEX/data/cordex/output/AFR-44/GERICS/driving-model\n",
      "   variable:\n",
      "     sfcWindmax_AFR-44_driving-model_rcp85_r1i1p1_GERICS-REMO2009_v1_mon\n",
      "     sfcWindmax_AFR-44_driving-model_rcp85_r1i1p1_GERICS-REMO2009_v1_sem\n",
      "     tasmin_AFR-44_driving-model_rcp85_r1i1p1_GERICS-REMO2009_v1_mon\n",
      "     tasmin_AFR-44_driving-model_rcp85_r1i1p1_GERICS-REMO2009_v1_sem\n",
      "     tasmin_AFR-44_driving-model_rcp85_r1i1p1_GERICS-REMO2009_v1_mon\n",
      "     tasmin_AFR-44_driving-model_rcp85_r1i1p1_GERICS-REMO2009_v1_sem\n",
      "\n",
      "\n",
      "\n"
     ]
    }
   ],
   "source": [
    "myticket = tracker.get_history(22372)\n",
    "print myticket[-1]['Content']\n"
   ]
  },
  {
   "cell_type": "code",
   "execution_count": 36,
   "metadata": {
    "collapsed": false
   },
   "outputs": [],
   "source": [
    "\n"
   ]
  },
  {
   "cell_type": "code",
   "execution_count": 24,
   "metadata": {
    "collapsed": false
   },
   "outputs": [
    {
     "name": "stdout",
     "output_type": "stream",
     "text": [
      "kkkkkk \\n nnnn \"\n",
      "nnnn\n",
      "\n"
     ]
    },
    {
     "data": {
      "text/plain": [
       "22949"
      ]
     },
     "execution_count": 24,
     "metadata": {},
     "output_type": "execute_result"
    }
   ],
   "source": [
    "mytext = r\"\"\"kkkkkk  nnnn \n",
    "    1111\n",
    "    2222\n",
    "    3333\n",
    "\"\"\"\n",
    "\n",
    "\n",
    "print mytext\n",
    "\n",
    "tracker.create_ticket(Queue=\"TestQueue\", Subject=\"configparser test\", \n",
    "                      Text=mytext,\n",
    "                      Requestors=\"test-data-submitter@test.de\",\n",
    "                      Owner=u\"kindermann\")"
   ]
  },
  {
   "cell_type": "code",
   "execution_count": 28,
   "metadata": {
    "collapsed": false
   },
   "outputs": [
    {
     "name": "stdout",
     "output_type": "stream",
     "text": [
      "[{u'Description': u'Ticket created by kindermann', u'Creator': u'kindermann', u'Data': u'', u'Created': u'2016-05-03 13:35:16', u'TimeTaken': u'0', u'NewValue': u'', 'Content': u'kkkkkk \\\\n nnnn \"', u'Field': u'', u'OldValue': u'', u'Ticket': u'22949', u'Type': u'Create', u'id': u'279736', 'Attachments': [(143752, u'untitled (16b)')]}, {u'Description': u'Requestor <test-data-submitter@test.de> added by kindermann', u'Creator': u'kindermann', u'Data': u'', u'Created': u'2016-05-03 13:35:16', u'TimeTaken': u'0', u'NewValue': u'112462', 'Content': u'This transaction appears to have no content', u'Field': u'Requestor', u'OldValue': u'', u'Ticket': u'22949', u'Type': u'AddWatcher', u'id': u'279737', 'Attachments': []}]\n",
      "[u'Status', u'Priority', u'Resolved', u'TimeLeft', u'Creator', u'Started', u'Starts', u'Created', u'Due', u'LastUpdated', u'FinalPriority', u'Queue', 'Requestors', u'Owner', u'Told', u'TimeEstimated', u'InitialPriority', u'id', u'TimeWorked', u'Subject']\n",
      "[]\n"
     ]
    }
   ],
   "source": [
    "myticket = tracker.get_ticket(22949)\n",
    "#print myticket\n",
    "print tracker.get_history(22949)\n",
    "print myticket.keys()\n",
    "myatts = tracker.get_attachments(22949)\n",
    "print myatts"
   ]
  },
  {
   "cell_type": "code",
   "execution_count": null,
   "metadata": {
    "collapsed": true
   },
   "outputs": [],
   "source": []
  },
  {
   "cell_type": "code",
   "execution_count": 15,
   "metadata": {
    "collapsed": false
   },
   "outputs": [
    {
     "data": {
      "text/plain": [
       "True"
      ]
     },
     "execution_count": 15,
     "metadata": {},
     "output_type": "execute_result"
    }
   ],
   "source": [
    "tracker.comment(22252, text=\"\"\" upgedatet, ticket id \\n === { \"var1\" : 22252, \"var2\" : 'test2' }\\n  \"\"\")\n",
    "                    "
   ]
  },
  {
   "cell_type": "code",
   "execution_count": 16,
   "metadata": {
    "collapsed": false
   },
   "outputs": [
    {
     "data": {
      "text/plain": [
       "True"
      ]
     },
     "execution_count": 16,
     "metadata": {},
     "output_type": "execute_result"
    }
   ],
   "source": [
    "tracker.edit_ticket(22252, Owner=u\"kindermann\", Subject = \"updated - test --aa-- {b,b} ## [c,d]\")"
   ]
  },
  {
   "cell_type": "code",
   "execution_count": 17,
   "metadata": {
    "collapsed": false
   },
   "outputs": [
    {
     "data": {
      "text/plain": [
       "True"
      ]
     },
     "execution_count": 17,
     "metadata": {},
     "output_type": "execute_result"
    }
   ],
   "source": [
    "tracker.edit_ticket(22252, Requestors= [u'stephan.kindermann@gmail.com',u'snkinder@freenet.de'])"
   ]
  },
  {
   "cell_type": "code",
   "execution_count": 21,
   "metadata": {
    "collapsed": false
   },
   "outputs": [
    {
     "data": {
      "text/plain": [
       "True"
      ]
     },
     "execution_count": 21,
     "metadata": {},
     "output_type": "execute_result"
    }
   ],
   "source": [
    "tracker.comment(22252, text=u' es geht um a')"
   ]
  },
  {
   "cell_type": "code",
   "execution_count": 28,
   "metadata": {
    "collapsed": false
   },
   "outputs": [
    {
     "data": {
      "text/plain": [
       "True"
      ]
     },
     "execution_count": 28,
     "metadata": {},
     "output_type": "execute_result"
    }
   ],
   "source": [
    "tracker.reply(22252, text=u'Antwort zurück ...')"
   ]
  },
  {
   "cell_type": "code",
   "execution_count": 29,
   "metadata": {
    "collapsed": false
   },
   "outputs": [],
   "source": [
    "?tracker.reply\n"
   ]
  },
  {
   "cell_type": "code",
   "execution_count": 31,
   "metadata": {
    "collapsed": true
   },
   "outputs": [],
   "source": [
    "my_file = open(\"testfile.txt\")"
   ]
  },
  {
   "cell_type": "code",
   "execution_count": 32,
   "metadata": {
    "collapsed": false
   },
   "outputs": [
    {
     "data": {
      "text/plain": [
       "True"
      ]
     },
     "execution_count": 32,
     "metadata": {},
     "output_type": "execute_result"
    }
   ],
   "source": [
    "tracker.reply(22252,text=u'nun mit Anhang',files=[('tst.txt',my_file)])"
   ]
  },
  {
   "cell_type": "code",
   "execution_count": 38,
   "metadata": {
    "collapsed": false
   },
   "outputs": [
    {
     "data": {
      "text/plain": [
       "[(u'140166', u'(Unnamed)', u'text/plain', u'60b'),\n",
       " (u'140167', u'(Unnamed)', u'text/plain', u'381b'),\n",
       " (u'140168', u'(Unnamed)', u'text/plain', u'381b'),\n",
       " (u'140169', u'(Unnamed)', u'text/plain', u'64b'),\n",
       " (u'140170', u'(Unnamed)', u'text/plain', u'396b'),\n",
       " (u'140171', u'(Unnamed)', u'text/plain', u'396b'),\n",
       " (u'140172', u'(Unnamed)', u'text/plain', u'38b'),\n",
       " (u'140173', u'(Unnamed)', u'text/plain', u'18b'),\n",
       " (u'140174', u'(Unnamed)', u'text/plain', u'19b'),\n",
       " (u'140177', u'(Unnamed)', u'multipart/mixed', u'0b'),\n",
       " (u'140178', u'(Unnamed)', u'text/plain', u'14b'),\n",
       " (u'140179', u'attachment_1', u'text/plain', u'21b'),\n",
       " (u'140180', u'(Unnamed)', u'text/plain', u'15b'),\n",
       " (u'140181', u'(Unnamed)', u'multipart/mixed', u'0b'),\n",
       " (u'140182', u'(Unnamed)', u'text/plain', u'14b'),\n",
       " (u'140183', u'tst.txt', u'text/plain', u'21b'),\n",
       " (u'140184', u'(Unnamed)', u'text/plain', u'15b')]"
      ]
     },
     "execution_count": 38,
     "metadata": {},
     "output_type": "execute_result"
    }
   ],
   "source": [
    "tracker.get_attachments(22252)"
   ]
  },
  {
   "cell_type": "code",
   "execution_count": 51,
   "metadata": {
    "collapsed": true
   },
   "outputs": [],
   "source": [
    "#attachment = tracker.get_attachment_content(22252,140183)\n",
    "attachment = tracker.get_attachment_content(22252,140170)"
   ]
  },
  {
   "cell_type": "code",
   "execution_count": 52,
   "metadata": {
    "collapsed": false
   },
   "outputs": [
    {
     "name": "stdout",
     "output_type": "stream",
     "text": [
      "\n",
      "Wed Mar 16 17:53:12 2016: Request 22252 was acted upon.\n",
      "Transaction: Stolen from thiemann (Hannes Thiemann) by kindermann\n",
      "       Queue: TestQueue\n",
      "     Subject: prefix + test --aa-- {b,b} ## [c,d]\n",
      "       Owner: kindermann\n",
      "  Requestors: test-data-submitter@test.de\n",
      "      Status: open\n",
      " Ticket <URL: https://dm-rt.dkrz.de/Ticket/Display.html?id=22252 >\n",
      "\n",
      "\n",
      "This transaction appears to have no content\n"
     ]
    }
   ],
   "source": [
    "print attachment"
   ]
  },
  {
   "cell_type": "code",
   "execution_count": 7,
   "metadata": {
    "collapsed": false
   },
   "outputs": [
    {
     "data": {
      "text/plain": [
       "22080"
      ]
     },
     "execution_count": 7,
     "metadata": {},
     "output_type": "execute_result"
    }
   ],
   "source": [
    "tracker.create_ticket(Queue=\"CORDEX\", Subject=\"tool generated Test-Ticket through REST API: please ignore\", Priority= 10,Owner=\"kindermann\")"
   ]
  },
  {
   "cell_type": "code",
   "execution_count": 16,
   "metadata": {
    "collapsed": false
   },
   "outputs": [
    {
     "data": {
      "text/plain": [
       "True"
      ]
     },
     "execution_count": 16,
     "metadata": {},
     "output_type": "execute_result"
    }
   ],
   "source": [
    "tracker.edit_ticket(22080,Status=\"open\")"
   ]
  },
  {
   "cell_type": "code",
   "execution_count": 29,
   "metadata": {
    "collapsed": false
   },
   "outputs": [
    {
     "data": {
      "text/plain": [
       "True"
      ]
     },
     "execution_count": 29,
     "metadata": {},
     "output_type": "execute_result"
    }
   ],
   "source": [
    "tracker.edit_ticket(22080,Status=\"rejected\")"
   ]
  },
  {
   "cell_type": "code",
   "execution_count": 32,
   "metadata": {
    "collapsed": false
   },
   "outputs": [
    {
     "data": {
      "text/plain": [
       "True"
      ]
     },
     "execution_count": 32,
     "metadata": {},
     "output_type": "execute_result"
    }
   ],
   "source": [
    "tracker.edit_ticket(22080,Status=\"open\",Subject=\"ticket re-opened\")"
   ]
  },
  {
   "cell_type": "code",
   "execution_count": 37,
   "metadata": {
    "collapsed": false
   },
   "outputs": [
    {
     "data": {
      "text/plain": [
       "True"
      ]
     },
     "execution_count": 37,
     "metadata": {},
     "output_type": "execute_result"
    }
   ],
   "source": [
    "tracker.reply(22080,text=\"test answer\")"
   ]
  },
  {
   "cell_type": "code",
   "execution_count": 38,
   "metadata": {
    "collapsed": true
   },
   "outputs": [],
   "source": [
    "my_file = open(\"testfile.txt\")"
   ]
  },
  {
   "cell_type": "code",
   "execution_count": 61,
   "metadata": {
    "collapsed": false
   },
   "outputs": [],
   "source": [
    "ret = tracker.comment(22080,text=\"comment text\",files=[(\"testfile.txt\",my_file)])"
   ]
  },
  {
   "cell_type": "code",
   "execution_count": 62,
   "metadata": {
    "collapsed": false
   },
   "outputs": [
    {
     "name": "stdout",
     "output_type": "stream",
     "text": [
      "True\n"
     ]
    }
   ],
   "source": [
    "print ret\n"
   ]
  },
  {
   "cell_type": "code",
   "execution_count": 60,
   "metadata": {
    "collapsed": false
   },
   "outputs": [
    {
     "data": {
      "text/plain": [
       "22084"
      ]
     },
     "execution_count": 60,
     "metadata": {},
     "output_type": "execute_result"
    }
   ],
   "source": [
    "tracker.create_ticket(Queue=\"CORDEX\", Subject=\"test json CORDEX data submission: \")"
   ]
  },
  {
   "cell_type": "code",
   "execution_count": 82,
   "metadata": {
    "collapsed": false
   },
   "outputs": [],
   "source": [
    "tst = tracker.get_attachment(22080,u'139196')"
   ]
  },
  {
   "cell_type": "code",
   "execution_count": 83,
   "metadata": {
    "collapsed": false
   },
   "outputs": [
    {
     "name": "stdout",
     "output_type": "stream",
     "text": [
      "{u'Transaction': u'271051', u'ContentType': u'text/plain', u'Parent': u'139194', u'Creator': u'56057', u'Created': u'2016-03-03 15:06:29', u'Filename': u'testfile.txt', 'Content': 'test\\n\\ntest\\n\\n{ json }', 'Headers': {u'Content-Transfer-Encoding': u'binary', u'Content-Length': u'21', u'Content-Type': u'text/plain; charset=\"utf-8\"; name=\"testfile.txt\"', u'Content-Disposition': u'form-data; filename=\"testfile.txt\"; name=\"attachment_1\"', u'X-RT-Original-Encoding': u'ascii'}, u'MessageId': u'', u'ContentEncoding': u'none', u'id': u'139196', u'Subject': u''}\n"
     ]
    }
   ],
   "source": [
    "print tst\n"
   ]
  },
  {
   "cell_type": "code",
   "execution_count": 68,
   "metadata": {
    "collapsed": false
   },
   "outputs": [
    {
     "data": {
      "text/plain": [
       "[(u'139171', u'(Unnamed)', u'text/plain', u'364b'),\n",
       " (u'139176', u'(Unnamed)', u'text/plain', u'11b'),\n",
       " (u'139177', u'(Unnamed)', u'text/plain', u'73b'),\n",
       " (u'139179', u'(Unnamed)', u'multipart/mixed', u'0b'),\n",
       " (u'139180', u'(Unnamed)', u'text/plain', u'12b'),\n",
       " (u'139181', u't', u'text/plain', u'19b'),\n",
       " (u'139191', u'(Unnamed)', u'multipart/mixed', u'0b'),\n",
       " (u'139192', u'(Unnamed)', u'text/plain', u'12b'),\n",
       " (u'139193', u't', u'text/plain', u'19b'),\n",
       " (u'139194', u'(Unnamed)', u'multipart/mixed', u'0b'),\n",
       " (u'139195', u'(Unnamed)', u'text/plain', u'12b'),\n",
       " (u'139196', u'testfile.txt', u'text/plain', u'21b'),\n",
       " (u'139207', u'(Unnamed)', u'multipart/mixed', u'0b'),\n",
       " (u'139208', u'(Unnamed)', u'text/plain', u'12b'),\n",
       " (u'139209', u'testfile.txt', u'text/plain', u'0b')]"
      ]
     },
     "execution_count": 68,
     "metadata": {},
     "output_type": "execute_result"
    }
   ],
   "source": [
    "tracker.get_attachments(22080)"
   ]
  },
  {
   "cell_type": "code",
   "execution_count": null,
   "metadata": {
    "collapsed": true
   },
   "outputs": [],
   "source": []
  }
 ],
 "metadata": {
  "kernelspec": {
   "display_name": "Python 2",
   "language": "python",
   "name": "python2"
  },
  "language_info": {
   "codemirror_mode": {
    "name": "ipython",
    "version": 2
   },
   "file_extension": ".py",
   "mimetype": "text/x-python",
   "name": "python",
   "nbconvert_exporter": "python",
   "pygments_lexer": "ipython2",
   "version": "2.7.11"
  }
 },
 "nbformat": 4,
 "nbformat_minor": 0
}
