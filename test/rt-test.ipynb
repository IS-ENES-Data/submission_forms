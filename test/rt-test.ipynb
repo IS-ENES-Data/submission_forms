{
 "cells": [
  {
   "cell_type": "code",
   "execution_count": 1,
   "metadata": {
    "collapsed": false
   },
   "outputs": [
    {
     "data": {
      "text/plain": [
       "True"
      ]
     },
     "execution_count": 1,
     "metadata": {},
     "output_type": "execute_result"
    }
   ],
   "source": [
    "import rt\n",
    "import base64\n",
    "tracker = rt.Rt('https://dm-rt.dkrz.de/REST/1.0/','kindermann',base64.b64decode(\"Y2Y3RHI2dlM=\"))\n",
    "tracker.login()"
   ]
  },
  {
   "cell_type": "code",
   "execution_count": 49,
   "metadata": {
    "collapsed": false
   },
   "outputs": [],
   "source": [
    "rt_module_present = False\n",
    "try:\n",
    "   import rt\n",
    "   rt_module_present = True\n",
    "except ImportError, e:\n",
    "   pass"
   ]
  },
  {
   "cell_type": "code",
   "execution_count": 50,
   "metadata": {
    "collapsed": false
   },
   "outputs": [
    {
     "name": "stdout",
     "output_type": "stream",
     "text": [
      "True\n"
     ]
    }
   ],
   "source": [
    "print rt_module_present\n"
   ]
  },
  {
   "cell_type": "code",
   "execution_count": 2,
   "metadata": {
    "collapsed": false
   },
   "outputs": [
    {
     "data": {
      "text/plain": [
       "[{u'Created': u'Thu Jul 25 11:52:38 2013',\n",
       "  u'Creator': u'Raquel.Romera@uclm.es',\n",
       "  u'Due': u'Not set',\n",
       "  u'FinalPriority': u'0',\n",
       "  u'InitialPriority': u'0',\n",
       "  u'LastUpdated': u'Thu Jan 21 13:30:08 2016',\n",
       "  u'Owner': u'kindermann',\n",
       "  u'Priority': u'0',\n",
       "  u'Queue': u'cordex',\n",
       "  'Requestors': [u'Raquel.Romera@uclm.es',\n",
       "   u'legutke@dkrz.de',\n",
       "   u'marta.dominguez@uclm.es'],\n",
       "  u'Resolved': u'Not set',\n",
       "  u'Started': u'Not set',\n",
       "  u'Starts': u'Not set',\n",
       "  u'Status': u'open',\n",
       "  u'Subject': u'UCLM-PROMES EuroCORDEX',\n",
       "  u'TimeEstimated': u'0',\n",
       "  u'TimeLeft': u'0',\n",
       "  u'TimeWorked': u'0',\n",
       "  u'Told': u'Mon Mar 23 14:34:43 2015',\n",
       "  u'id': u'ticket/13082'},\n",
       " {u'AdminCc': u'hannes.thiemann@dkrz.de',\n",
       "  u'Cc': u'ramthun@dkrz.de, winter@dkrz.de',\n",
       "  u'Created': u'Wed Apr 15 13:21:16 2015',\n",
       "  u'Creator': u'lenzen',\n",
       "  u'Due': u'Not set',\n",
       "  u'FinalPriority': u'0',\n",
       "  u'InitialPriority': u'0',\n",
       "  u'LastUpdated': u'Wed Jun 10 13:11:31 2015',\n",
       "  u'Owner': u'legutke',\n",
       "  u'Priority': u'0',\n",
       "  u'Queue': u'cordex',\n",
       "  'Requestors': [u'lenzen@dkrz.de'],\n",
       "  u'Resolved': u'Not set',\n",
       "  u'Started': u'Wed Apr 15 13:21:16 2015',\n",
       "  u'Starts': u'Not set',\n",
       "  u'Status': u'open',\n",
       "  u'Subject': u'CORDEX EUR-11 KNMI -> LTA',\n",
       "  u'TimeEstimated': u'0',\n",
       "  u'TimeLeft': u'0',\n",
       "  u'TimeWorked': u'0',\n",
       "  u'Told': u'Wed Jun 10 13:11:31 2015',\n",
       "  u'id': u'ticket/17829'},\n",
       " {u'Created': u'Thu Jul 02 11:48:14 2015',\n",
       "  u'Creator': u'hans-juergen.panitz@kit.edu',\n",
       "  u'Due': u'Not set',\n",
       "  u'FinalPriority': u'0',\n",
       "  u'InitialPriority': u'0',\n",
       "  u'LastUpdated': u'Tue Jul 21 11:25:29 2015',\n",
       "  u'Owner': u'Nobody',\n",
       "  u'Priority': u'0',\n",
       "  u'Queue': u'cordex',\n",
       "  'Requestors': [u'hans-juergen.panitz@kit.edu', u'stockhause@dkrz.de'],\n",
       "  u'Resolved': u'Not set',\n",
       "  u'Started': u'Fri Jul 03 15:01:10 2015',\n",
       "  u'Starts': u'Not set',\n",
       "  u'Status': u'open',\n",
       "  u'Subject': u'Re: DOI f\\xfcr Afrika Daten  DOI, AFR-44, CCLM-4-8-17',\n",
       "  u'TimeEstimated': u'0',\n",
       "  u'TimeLeft': u'0',\n",
       "  u'TimeWorked': u'0',\n",
       "  u'Told': u'Fri Jul 03 15:01:10 2015',\n",
       "  u'id': u'ticket/18518'},\n",
       " {u'Created': u'Fri Oct 30 11:26:04 2015',\n",
       "  u'Creator': u'marco.kulueke@hzg.de',\n",
       "  u'Due': u'Not set',\n",
       "  u'FinalPriority': u'0',\n",
       "  u'InitialPriority': u'0',\n",
       "  u'LastUpdated': u'Tue Mar 01 15:05:24 2016',\n",
       "  u'Owner': u'lenzen',\n",
       "  u'Priority': u'0',\n",
       "  u'Queue': u'cordex',\n",
       "  'Requestors': [u'marco.kulueke@hzg.de'],\n",
       "  u'Resolved': u'Not set',\n",
       "  u'Started': u'Fri Oct 30 15:16:00 2015',\n",
       "  u'Starts': u'Not set',\n",
       "  u'Status': u'open',\n",
       "  u'Subject': u'Einreichung der Afrika Daten',\n",
       "  u'TimeEstimated': u'0',\n",
       "  u'TimeLeft': u'0',\n",
       "  u'TimeWorked': u'0',\n",
       "  u'Told': u'Tue Mar 01 15:05:24 2016',\n",
       "  u'id': u'ticket/19939'},\n",
       " {u'Created': u'Mon Jan 18 14:03:52 2016',\n",
       "  u'Creator': u'beratung@dkrz.de',\n",
       "  u'Due': u'Not set',\n",
       "  u'FinalPriority': u'0',\n",
       "  u'InitialPriority': u'0',\n",
       "  u'LastUpdated': u'Tue Jan 19 15:28:30 2016',\n",
       "  u'Owner': u'Nobody',\n",
       "  u'Priority': u'0',\n",
       "  u'Queue': u'cordex',\n",
       "  'Requestors': [u'beratung@dkrz.de'],\n",
       "  u'Resolved': u'Not set',\n",
       "  u'Started': u'Mon Jan 18 14:20:39 2016',\n",
       "  u'Starts': u'Not set',\n",
       "  u'Status': u'open',\n",
       "  u'Subject': u'Fwd: access to /hpss/arch/ik0555/cordex/...',\n",
       "  u'TimeEstimated': u'0',\n",
       "  u'TimeLeft': u'0',\n",
       "  u'TimeWorked': u'0',\n",
       "  u'Told': u'Tue Jan 19 15:28:30 2016',\n",
       "  u'id': u'ticket/21470'},\n",
       " {u'Created': u'Tue Feb 02 12:24:02 2016',\n",
       "  u'Creator': u'gerics-cordex@hzg.de',\n",
       "  u'Due': u'Not set',\n",
       "  u'FinalPriority': u'0',\n",
       "  u'InitialPriority': u'0',\n",
       "  u'LastUpdated': u'Thu Feb 04 14:19:17 2016',\n",
       "  u'Owner': u'Nobody',\n",
       "  u'Priority': u'0',\n",
       "  u'Queue': u'cordex',\n",
       "  'Requestors': [u'gerics-cordex@hzg.de'],\n",
       "  u'Resolved': u'Not set',\n",
       "  u'Started': u'Tue Feb 02 16:58:39 2016',\n",
       "  u'Starts': u'Not set',\n",
       "  u'Status': u'open',\n",
       "  u'Subject': u'Einreichung von Cordex Daten',\n",
       "  u'TimeEstimated': u'0',\n",
       "  u'TimeLeft': u'0',\n",
       "  u'TimeWorked': u'0',\n",
       "  u'Told': u'Tue Feb 02 16:58:39 2016',\n",
       "  u'id': u'ticket/21650'},\n",
       " {u'Created': u'Thu Mar 03 13:11:51 2016',\n",
       "  u'Creator': u'kindermann',\n",
       "  u'Due': u'Not set',\n",
       "  u'FinalPriority': u'0',\n",
       "  u'InitialPriority': u'0',\n",
       "  u'LastUpdated': u'Thu Mar 03 16:17:10 2016',\n",
       "  u'Owner': u'kindermann',\n",
       "  u'Priority': u'10',\n",
       "  u'Queue': u'cordex',\n",
       "  'Requestors': [u''],\n",
       "  u'Resolved': u'Thu Mar 03 13:41:21 2016',\n",
       "  u'Started': u'Thu Mar 03 13:25:09 2016',\n",
       "  u'Starts': u'Not set',\n",
       "  u'Status': u'open',\n",
       "  u'Subject': u'ticket re-opened',\n",
       "  u'TimeEstimated': u'0',\n",
       "  u'TimeLeft': u'0',\n",
       "  u'TimeWorked': u'0',\n",
       "  u'Told': u'Not set',\n",
       "  u'id': u'ticket/22080'}]"
      ]
     },
     "execution_count": 2,
     "metadata": {},
     "output_type": "execute_result"
    }
   ],
   "source": [
    "tracker.search(Queue='CORDEX', Status='open')"
   ]
  },
  {
   "cell_type": "code",
   "execution_count": 7,
   "metadata": {
    "collapsed": false
   },
   "outputs": [
    {
     "data": {
      "text/plain": [
       "22080"
      ]
     },
     "execution_count": 7,
     "metadata": {},
     "output_type": "execute_result"
    }
   ],
   "source": [
    "tracker.create_ticket(Queue=\"CORDEX\", Subject=\"tool generated Test-Ticket through REST API: please ignore\", Priority= 10,Owner=\"kindermann\")"
   ]
  },
  {
   "cell_type": "code",
   "execution_count": 16,
   "metadata": {
    "collapsed": false
   },
   "outputs": [
    {
     "data": {
      "text/plain": [
       "True"
      ]
     },
     "execution_count": 16,
     "metadata": {},
     "output_type": "execute_result"
    }
   ],
   "source": [
    "tracker.edit_ticket(22080,Status=\"open\")"
   ]
  },
  {
   "cell_type": "code",
   "execution_count": 29,
   "metadata": {
    "collapsed": false
   },
   "outputs": [
    {
     "data": {
      "text/plain": [
       "True"
      ]
     },
     "execution_count": 29,
     "metadata": {},
     "output_type": "execute_result"
    }
   ],
   "source": [
    "tracker.edit_ticket(22080,Status=\"rejected\")"
   ]
  },
  {
   "cell_type": "code",
   "execution_count": 32,
   "metadata": {
    "collapsed": false
   },
   "outputs": [
    {
     "data": {
      "text/plain": [
       "True"
      ]
     },
     "execution_count": 32,
     "metadata": {},
     "output_type": "execute_result"
    }
   ],
   "source": [
    "tracker.edit_ticket(22080,Status=\"open\",Subject=\"ticket re-opened\")"
   ]
  },
  {
   "cell_type": "code",
   "execution_count": 37,
   "metadata": {
    "collapsed": false
   },
   "outputs": [
    {
     "data": {
      "text/plain": [
       "True"
      ]
     },
     "execution_count": 37,
     "metadata": {},
     "output_type": "execute_result"
    }
   ],
   "source": [
    "tracker.reply(22080,text=\"test answer\")"
   ]
  },
  {
   "cell_type": "code",
   "execution_count": 38,
   "metadata": {
    "collapsed": true
   },
   "outputs": [],
   "source": [
    "my_file = open(\"testfile.txt\")"
   ]
  },
  {
   "cell_type": "code",
   "execution_count": 61,
   "metadata": {
    "collapsed": false
   },
   "outputs": [],
   "source": [
    "ret = tracker.comment(22080,text=\"comment text\",files=[(\"testfile.txt\",my_file)])"
   ]
  },
  {
   "cell_type": "code",
   "execution_count": 62,
   "metadata": {
    "collapsed": false
   },
   "outputs": [
    {
     "name": "stdout",
     "output_type": "stream",
     "text": [
      "True\n"
     ]
    }
   ],
   "source": [
    "print ret\n"
   ]
  },
  {
   "cell_type": "code",
   "execution_count": 60,
   "metadata": {
    "collapsed": false
   },
   "outputs": [
    {
     "data": {
      "text/plain": [
       "22084"
      ]
     },
     "execution_count": 60,
     "metadata": {},
     "output_type": "execute_result"
    }
   ],
   "source": [
    "tracker.create_ticket(Queue=\"CORDEX\", Subject=\"test json CORDEX data submission: \")"
   ]
  },
  {
   "cell_type": "code",
   "execution_count": 82,
   "metadata": {
    "collapsed": false
   },
   "outputs": [],
   "source": [
    "tst = tracker.get_attachment(22080,u'139196')"
   ]
  },
  {
   "cell_type": "code",
   "execution_count": 83,
   "metadata": {
    "collapsed": false
   },
   "outputs": [
    {
     "name": "stdout",
     "output_type": "stream",
     "text": [
      "{u'Transaction': u'271051', u'ContentType': u'text/plain', u'Parent': u'139194', u'Creator': u'56057', u'Created': u'2016-03-03 15:06:29', u'Filename': u'testfile.txt', 'Content': 'test\\n\\ntest\\n\\n{ json }', 'Headers': {u'Content-Transfer-Encoding': u'binary', u'Content-Length': u'21', u'Content-Type': u'text/plain; charset=\"utf-8\"; name=\"testfile.txt\"', u'Content-Disposition': u'form-data; filename=\"testfile.txt\"; name=\"attachment_1\"', u'X-RT-Original-Encoding': u'ascii'}, u'MessageId': u'', u'ContentEncoding': u'none', u'id': u'139196', u'Subject': u''}\n"
     ]
    }
   ],
   "source": [
    "print tst\n"
   ]
  },
  {
   "cell_type": "code",
   "execution_count": 68,
   "metadata": {
    "collapsed": false
   },
   "outputs": [
    {
     "data": {
      "text/plain": [
       "[(u'139171', u'(Unnamed)', u'text/plain', u'364b'),\n",
       " (u'139176', u'(Unnamed)', u'text/plain', u'11b'),\n",
       " (u'139177', u'(Unnamed)', u'text/plain', u'73b'),\n",
       " (u'139179', u'(Unnamed)', u'multipart/mixed', u'0b'),\n",
       " (u'139180', u'(Unnamed)', u'text/plain', u'12b'),\n",
       " (u'139181', u't', u'text/plain', u'19b'),\n",
       " (u'139191', u'(Unnamed)', u'multipart/mixed', u'0b'),\n",
       " (u'139192', u'(Unnamed)', u'text/plain', u'12b'),\n",
       " (u'139193', u't', u'text/plain', u'19b'),\n",
       " (u'139194', u'(Unnamed)', u'multipart/mixed', u'0b'),\n",
       " (u'139195', u'(Unnamed)', u'text/plain', u'12b'),\n",
       " (u'139196', u'testfile.txt', u'text/plain', u'21b'),\n",
       " (u'139207', u'(Unnamed)', u'multipart/mixed', u'0b'),\n",
       " (u'139208', u'(Unnamed)', u'text/plain', u'12b'),\n",
       " (u'139209', u'testfile.txt', u'text/plain', u'0b')]"
      ]
     },
     "execution_count": 68,
     "metadata": {},
     "output_type": "execute_result"
    }
   ],
   "source": [
    "tracker.get_attachments(22080)"
   ]
  },
  {
   "cell_type": "code",
   "execution_count": null,
   "metadata": {
    "collapsed": true
   },
   "outputs": [],
   "source": []
  }
 ],
 "metadata": {
  "kernelspec": {
   "display_name": "Python 2",
   "language": "python",
   "name": "python2"
  },
  "language_info": {
   "codemirror_mode": {
    "name": "ipython",
    "version": 2
   },
   "file_extension": ".py",
   "mimetype": "text/x-python",
   "name": "python",
   "nbconvert_exporter": "python",
   "pygments_lexer": "ipython2",
   "version": "2.7.11"
  }
 },
 "nbformat": 4,
 "nbformat_minor": 0
}
