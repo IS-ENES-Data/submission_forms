{
 "cells": [
  {
   "cell_type": "markdown",
   "metadata": {},
   "source": [
    "# Data ingest workflow and tools to support the (semi-automatic) workflow steps\n",
    "\n",
    "example workflows in other data centers:\n",
    "* http://eidc.ceh.ac.uk/images/ingestion-workflow/view\n",
    "* www.mdpi.com/2220-9964/5/3/30/pdf\n",
    "* https://www.rd-alliance.org/sites/default/files/03%20Nurnberger%20-%20DataPublishingWorkflows-CollabMtg20151208_V03.pdf\n",
    "* http://ropercenter.cornell.edu/polls/deposit-data/\n",
    "* https://www.arm.gov/engineering/ingest\n",
    "* https://eosweb.larc.nasa.gov/GEWEX-RFA/documents/data_ingest.txt\n",
    "* https://eosweb.larc.nasa.gov/GEWEX-RFA/documents/how_to_participate.html\n",
    "* http://www.nodc.noaa.gov/submit/ online tool \n",
    "\n",
    "Processing\n",
    "* https://www2.cisl.ucar.edu/resources/cmip-analysis-platform\n",
    "  * https://xras-submit-ncar.xsede.org/\n",
    "  \n",
    "* http://cmip5.whoi.edu/ \n",
    "* https://pypi.python.org/pypi/cmipdata/0.6"
   ]
  },
  {
   "cell_type": "markdown",
   "metadata": {},
   "source": [
    "# DKRZ ingest workflow test system\n",
    "\n",
    "Data ingest request:\n",
    "* ipython notebook based web form, or\n",
    "* client side python library (pip installable)\n",
    "\n",
    "Data ingest request workflow:\n",
    "* ingest request is stored in json format in git repo\n",
    "* all workflow steps are reflected in git repo\n",
    "* specific workflow steps interact with request tracker\n",
    "\n",
    "Data provenance:\n",
    "* workflow information (in git versioned json) is transformed to W3CProv Document"
   ]
  },
  {
   "cell_type": "code",
   "execution_count": 1,
   "metadata": {
    "collapsed": true
   },
   "outputs": [],
   "source": [
    "%load_ext autoreload\n",
    "%autoreload 2"
   ]
  },
  {
   "cell_type": "markdown",
   "metadata": {},
   "source": [
    "# Example - demonstrating git usage for submission form provenance capture\n",
    "\n",
    "* json file (with namespace pre-fixed keys) is maintained in git repo\n",
    "* stages (workflow steps are indicated by using different namespaces)\n",
    "* helper function integrate stage-changes with information exchange via the RT request tracker .."
   ]
  },
  {
   "cell_type": "code",
   "execution_count": 9,
   "metadata": {
    "collapsed": false
   },
   "outputs": [
    {
     "name": "stdout",
     "output_type": "stream",
     "text": [
      "{'test': {'project': 'test', 'qua': {'status': '', 'comment': '', 'timestamp_started': '', 'follow_up_ticket': '', 'target_directory': '', 'qua_status': '', 'ticket_id': '', 'qa_tool_version': '', 'responsible_person': '', 'timestamp_finished': '', 'qua_comment': ''}, 'ing': {'status': '', 'comment': '', 'timestamp_started': '', 'ticket_id': '', 'drsdir_file_pattern': '', 'responsible_person': '', 'timestamp_finished': '', 'target_directory': ''}, 'sub': {'first_name': '', 'last_name': '', 'package_name': '', 'review_summary': '', 'key_word': '', 'ticket_url': '', 'report_ticket_subject': '', 'source_path': '', 'form_path': '', 'checks_done': 'none', 'repo': '', 'email': '', 'submission_comment': '', 'ticket_id': 0, 'package_path': '', 'form_name': '', 'review_comment': '', 'form_version': '', 'submission_method': ''}, 'pub': {'status': '', 'comment': '', 'pid_collections': '', 'timestamp': '', 'facet_string': '', 'search_string': '', 'publish_date': '', 'ticket_id': '', 'responsible_person': ''}}, 'DKRZ_CDP': {'project': 'CMIP6_CDP', 'qua': {'status': '', 'comment': '', 'timestamp_started': '', 'follow_up_ticket': '', 'target_directory': '', 'qua_status': '', 'ticket_id': '', 'qa_tool_version': '', 'responsible_person': '', 'timestamp_finished': '', 'qua_comment': ''}, 'ing': {'status': '', 'comment': '', 'timestamp_started': '', 'ticket_id': '', 'drsdir_file_pattern': '', 'responsible_person': '', 'timestamp_finished': '', 'target_directory': ''}, 'sub': {'first_name': '', 'last_name': '', 'package_name': '', 'review_summary': '', 'key_word': '', 'ticket_url': '', 'report_ticket_subject': '', 'source_path': '', 'form_path': '', 'checks_done': 'none', 'repo': '', 'email': '', 'submission_comment': '', 'ticket_id': 0, 'package_path': '', 'form_name': '', 'review_comment': '', 'form_version': '', 'submission_method': ''}, 'pub': {'status': '', 'comment': '', 'pid_collections': '', 'timestamp': '', 'facet_string': '', 'search_string': '', 'publish_date': '', 'ticket_id': '', 'responsible_person': ''}}, 'ESGF_replication': {'project': 'CMIP6_replication', 'qua': {'status': '', 'comment': '', 'timestamp_started': '', 'follow_up_ticket': '', 'target_directory': '', 'qua_status': '', 'ticket_id': '', 'qa_tool_version': '', 'responsible_person': '', 'timestamp_finished': '', 'qua_comment': ''}, 'ing': {'status': '', 'comment': '', 'timestamp_started': '', 'ticket_id': '', 'drsdir_file_pattern': '', 'responsible_person': '', 'timestamp_finished': '', 'target_directory': ''}, 'sub': {'first_name': '', 'last_name': '', 'package_name': '', 'review_summary': '', 'key_word': '', 'ticket_url': '', 'report_ticket_subject': '', 'source_path': '', 'form_path': '', 'checks_done': 'none', 'repo': '', 'email': '', 'submission_comment': '', 'ticket_id': 0, 'package_path': '', 'form_name': '', 'review_comment': '', 'form_version': '', 'submission_method': ''}, 'pub': {'status': '', 'comment': '', 'pid_collections': '', 'timestamp': '', 'facet_string': '', 'search_string': '', 'publish_date': '', 'ticket_id': '', 'responsible_person': ''}}, 'CORDEX': {'last_name': '', 'data_qc_status': '', 'variable_list_mon': '', 'data_path': '', 'uniqueness_of_tracking_id': '', 'ing': {'status': '', 'comment': '', 'timestamp_started': '', 'ticket_id': '', 'drsdir_file_pattern': '', 'responsible_person': '', 'timestamp_finished': '', 'target_directory': ''}, 'variable_list_day': '', 'first_name': '', 'sub': {'first_name': '', 'last_name': '', 'package_name': '', 'review_summary': '', 'key_word': '', 'ticket_url': '', 'report_ticket_subject': '', 'source_path': '', 'form_path': '', 'checks_done': 'none', 'repo': '', 'email': '', 'submission_comment': '', 'ticket_id': 0, 'package_path': '', 'form_name': '', 'review_comment': '', 'form_version': '', 'submission_method': ''}, 'variable_list_fx': '', 'grid_mapping_name': '', 'email': '', 'institute_id': '', 'model_id': '', 'pub': {'status': '', 'comment': '', 'pid_collections': '', 'timestamp': '', 'facet_string': '', 'search_string': '', 'publish_date': '', 'ticket_id': '', 'responsible_person': ''}, 'directory_structure': '', 'exclude_variables_list': '', 'example_file_name': '', 'time_period': '', 'grid_as_specified_if_rotated_pole': '', 'institution': '', 'qua': {'status': '', 'comment': '', 'timestamp_started': '', 'follow_up_ticket': '', 'target_directory': '', 'qua_status': '', 'ticket_id': '', 'qa_tool_version': '', 'responsible_person': '', 'timestamp_finished': '', 'qua_comment': ''}, 'data_qc_comment': '', 'variable_list_sem': '', 'terms_of_use': '', 'experiment_id': '', 'data_information': '', 'submission_type': ''}, 'CMIP6': {'project': 'CMIP6', 'qua': {'status': '', 'comment': '', 'timestamp_started': '', 'follow_up_ticket': '', 'target_directory': '', 'qua_status': '', 'ticket_id': '', 'qa_tool_version': '', 'responsible_person': '', 'timestamp_finished': '', 'qua_comment': ''}, 'ing': {'status': '', 'comment': '', 'timestamp_started': '', 'ticket_id': '', 'drsdir_file_pattern': '', 'responsible_person': '', 'timestamp_finished': '', 'target_directory': ''}, 'sub': {'first_name': '', 'last_name': '', 'package_name': '', 'review_summary': '', 'key_word': '', 'ticket_url': '', 'report_ticket_subject': '', 'source_path': '', 'form_path': '', 'checks_done': 'none', 'repo': '', 'email': '', 'submission_comment': '', 'ticket_id': 0, 'package_path': '', 'form_name': '', 'review_comment': '', 'form_version': '', 'submission_method': ''}, 'pub': {'status': '', 'comment': '', 'pid_collections': '', 'timestamp': '', 'facet_string': '', 'search_string': '', 'publish_date': '', 'ticket_id': '', 'responsible_person': ''}}}\n"
     ]
    }
   ],
   "source": [
    "# import develop tree (not egg installed version) of form handler\n",
    "# setup rt interaction (rt_pwd in ~/.dkrz_form/myconfig.py needed)\n",
    "\n",
    "import sys\n",
    "\n",
    "sys.path.append('/home/stephan/Repos/ENES-EUDAT/submission_forms')\n",
    "from dkrz_forms import form_handler\n",
    "from dkrz_forms.config.project_config import project_dicts, rt_pwd\n",
    "import dkrz_forms.rt_handler \n",
    "print project_dicts\n",
    "\n",
    "my_project=\"test\"\n",
    "generate hierarchical python object from hierarchical dictionary\n",
    "sf = form_handler.Form(project_dicts[my_project])    \n",
    "\n",
    "#import rt\n",
    "# use of __slots__ = ['',''] in the future\n",
    "#tracker = rt.Rt('https://dm-rt.dkrz.de/REST/1.0/','kindermann',rt_pwd)\n",
    "#tracker.login()"
   ]
  },
  {
   "cell_type": "code",
   "execution_count": 10,
   "metadata": {
    "collapsed": false
   },
   "outputs": [
    {
     "data": {
      "text/plain": [
       "'test'"
      ]
     },
     "execution_count": 10,
     "metadata": {},
     "output_type": "execute_result"
    }
   ],
   "source": [
    "sf.pub.\n"
   ]
  },
  {
   "cell_type": "code",
   "execution_count": null,
   "metadata": {
    "collapsed": false
   },
   "outputs": [],
   "source": [
    "print sub_dict"
   ]
  },
  {
   "cell_type": "code",
   "execution_count": 11,
   "metadata": {
    "collapsed": false
   },
   "outputs": [
    {
     "name": "stdout",
     "output_type": "stream",
     "text": [
      "\n",
      "\n",
      " Status message:\n",
      "-- your submission form Kindermann_test1 was stored in repository \n"
     ]
    }
   ],
   "source": [
    "form_handler.form_save(sf)  # put json representation into repo"
   ]
  },
  {
   "cell_type": "code",
   "execution_count": 13,
   "metadata": {
    "collapsed": false
   },
   "outputs": [
    {
     "name": "stdout",
     "output_type": "stream",
     "text": [
      "\n",
      "\n",
      " Status message:\n",
      "-- your submission form Kindermann_test1 was stored in repository \n"
     ]
    }
   ],
   "source": [
    "sf.status = \"submitted\"\n",
    "\n",
    "sf.sub['ticket_id']=22252\n",
    "sf.sub['checks_done']=\"cordex form check v0.1\"\n",
    "sf.sub['ticket_url']='https://dm-rt.dkrz.de/Ticket/Display.html?id=22252'\n",
    "form_handler.form_save(sf)"
   ]
  },
  {
   "cell_type": "code",
   "execution_count": 14,
   "metadata": {
    "collapsed": false
   },
   "outputs": [
    {
     "name": "stdout",
     "output_type": "stream",
     "text": [
      "\n",
      "\n",
      " Status message:\n",
      "-- your submission form Kindermann_test1 was stored in repository \n"
     ]
    }
   ],
   "source": [
    "sf.status = \"submission_processing\"\n",
    "sf.sub['responsible_person']= \"pl\"\n",
    "form_handler.form_save(sf)"
   ]
  },
  {
   "cell_type": "code",
   "execution_count": 15,
   "metadata": {
    "collapsed": false
   },
   "outputs": [
    {
     "name": "stdout",
     "output_type": "stream",
     "text": [
      "\n",
      "\n",
      " Status message:\n",
      "-- your submission form Kindermann_test1 was stored in repository \n"
     ]
    }
   ],
   "source": [
    "from datetime import datetime\n",
    "sf.status = \"ingesting\"\n",
    "#sf.check = {}\n",
    "sf.ing = {'responsible_person': 'pl',\n",
    "            'started' : str(datetime.now())}\n",
    "form_handler.form_save(sf)                            \n",
    "                            "
   ]
  },
  {
   "cell_type": "code",
   "execution_count": 16,
   "metadata": {
    "collapsed": false
   },
   "outputs": [
    {
     "name": "stdout",
     "output_type": "stream",
     "text": [
      "\n",
      "\n",
      " Status message:\n",
      "-- your submission form Kindermann_test1 was stored in repository \n"
     ]
    }
   ],
   "source": [
    "sf.status = \"ingested\"\n",
    "sf.ing['finished']= str(datetime.now())\n",
    "sf.ing['target_path']='/scratch/bb0303/data/cordex/test1'\n",
    "form_handler.form_save(sf)"
   ]
  },
  {
   "cell_type": "code",
   "execution_count": 17,
   "metadata": {
    "collapsed": false
   },
   "outputs": [
    {
     "name": "stdout",
     "output_type": "stream",
     "text": [
      "\n",
      "\n",
      " Status message:\n",
      "-- your submission form Kindermann_test1 was stored in repository \n"
     ]
    }
   ],
   "source": [
    "sf.status = \"checking\"\n",
    "sf.che = {'responsible_person':'hdh',\n",
    "          'started':str(datetime.now()),\n",
    "          'tool_version':'qa_dkrz_v1.1'\n",
    "            }\n",
    "form_handler.form_save(sf)        "
   ]
  },
  {
   "cell_type": "code",
   "execution_count": 21,
   "metadata": {
    "collapsed": false
   },
   "outputs": [
    {
     "name": "stdout",
     "output_type": "stream",
     "text": [
      "\n",
      "\n",
      " Status message:\n",
      "-- your submission form Kindermann_test1 was stored in repository \n"
     ]
    }
   ],
   "source": [
    "sf.status = 'checked'\n",
    "\n",
    "sf.che['results']= '/path/to/results'\n",
    "sf.che['finished']= str(datetime.now())\n",
    "form_handler.form_save(sf)\n"
   ]
  },
  {
   "cell_type": "code",
   "execution_count": 22,
   "metadata": {
    "collapsed": false
   },
   "outputs": [
    {
     "name": "stdout",
     "output_type": "stream",
     "text": [
      "\n",
      "\n",
      " Status message:\n",
      "-- your submission form Kindermann_test1 was stored in repository \n"
     ]
    }
   ],
   "source": [
    "sf.status = 'publishing'\n",
    "\n",
    "sf.pub  = {'responsible_person':'kberger',\n",
    "            'started':str(datetime.now())        \n",
    "           }\n",
    "form_handler.form_save(sf)"
   ]
  },
  {
   "cell_type": "code",
   "execution_count": 23,
   "metadata": {
    "collapsed": false
   },
   "outputs": [
    {
     "name": "stdout",
     "output_type": "stream",
     "text": [
      "\n",
      "\n",
      " Status message:\n",
      "-- your submission form Kindermann_test1 was stored in repository \n"
     ]
    }
   ],
   "source": [
    "sf.status = 'published'\n",
    "\n",
    "sf.pub['finished']  = str(datetime.now()) \n",
    "sf.pub['search_string'] = \"project=cordex&model=hmoc&institute=MPI-M\"\n",
    "           \n",
    "form_handler.form_save(sf)"
   ]
  },
  {
   "cell_type": "code",
   "execution_count": 28,
   "metadata": {
    "collapsed": false
   },
   "outputs": [],
   "source": [
    "import json\n",
    "form_file = open('/home/stephan/tmp/CORDEX/Kindermann_test1.json',\"r\")\n",
    "json_info = form_file.read()\n",
    "#json_info[\"__type__\"] = \"sf\",\n",
    "form_file.close()\n",
    "sf_dict = json.loads(json_info)"
   ]
  },
  {
   "cell_type": "code",
   "execution_count": 29,
   "metadata": {
    "collapsed": false
   },
   "outputs": [
    {
     "name": "stdout",
     "output_type": "stream",
     "text": [
      "{u'status': u'published', u'sub': {u'status': [u'stored'], u'package_name': u'Kindermann_test1.json', u'timestamp': u'2016-03-28 19:25:28.340678', u'ticket_url': u'https://dm-rt.dkrz.de/Ticket/Display.html?id=22252', u'checks_done': u'cordex form check v0.1', u'repo': u'/home/stephan/tmp/CORDEX', u'ticket_id': 22252, u'package_path': u'/home/stephan/tmp/CORDEX/Kindermann_test1.json', u'form_name': u'Kindermann_test1', u'responsible_person': u'pl'}, u'first_name': u'Stephan', u'last_name': u'Kindermann', u'che': {u'started': u'2016-03-28 19:22:40.212107', u'finished': u'2016-03-28 19:24:13.371716', u'tool_version': u'qa_dkrz_v1.1', u'responsible_person': u'hdh', u'results': u'/path/to/results'}, u'keyword': u'test1', u'data_path': u'/scratch/b20030/data/cordex/', u'pub': {u'started': u'2016-03-28 19:24:52.312040', u'search_string': u'project=cordex&model=hmoc&institute=MPI-M', u'finished': u'2016-03-28 19:25:28.340155', u'responsible_person': u'kberger'}, u'institution': u'DKRZ', u'check_status': u'not checked', u'ing': {u'started': u'2016-03-28 19:17:10.601303', u'target_path': u'/scratch/bb0303/data/cordex/test1', u'finished': u'2016-03-28 19:18:11.767079', u'responsible_person': u'pl'}, u'submission_type': u'test', u'email': u'snkinder@freenet.de', u'institute_id': u'MPI-M'}\n"
     ]
    }
   ],
   "source": [
    "\n"
   ]
  },
  {
   "cell_type": "code",
   "execution_count": null,
   "metadata": {
    "collapsed": true
   },
   "outputs": [],
   "source": []
  }
 ],
 "metadata": {
  "anaconda-cloud": {},
  "kernelspec": {
   "display_name": "Python 2",
   "language": "python",
   "name": "python2"
  },
  "language_info": {
   "codemirror_mode": {
    "name": "ipython",
    "version": 2
   },
   "file_extension": ".py",
   "mimetype": "text/x-python",
   "name": "python",
   "nbconvert_exporter": "python",
   "pygments_lexer": "ipython2",
   "version": "2.7.13"
  }
 },
 "nbformat": 4,
 "nbformat_minor": 0
}
