{
 "cells": [
  {
   "cell_type": "markdown",
   "metadata": {},
   "source": [
    "# Example - demonstrating git usage for submission form provenance capture\n",
    "\n",
    "* json file (with namespace pre-fixed keys) is maintained in git repo\n",
    "* stages (workflow steps are indicated by using different namespaces)\n",
    "* helper function integrate stage-changes with information exchange via the RT request tracker .."
   ]
  },
  {
   "cell_type": "code",
   "execution_count": 1,
   "metadata": {
    "collapsed": false
   },
   "outputs": [
    {
     "name": "stdout",
     "output_type": "stream",
     "text": [
      "Settings from ~/.dkrz_forms imported\n",
      "Project directories: /home/stephan/tmp/CORDEX\n",
      "Cordex submission form intitialized ......\n",
      "(technically a submission form (sf) object as well as a repository (repo object) are created to store the submission form)\n"
     ]
    },
    {
     "data": {
      "text/plain": [
       "True"
      ]
     },
     "execution_count": 1,
     "metadata": {},
     "output_type": "execute_result"
    }
   ],
   "source": [
    "# import develop tree (not egg installed version) of form handler\n",
    "# setup rt interaction (rt_pwd in ~/.dkrz_form/myconfig.py needed)\n",
    "\n",
    "import sys\n",
    "\n",
    "sys.path.append('/home/stephan/Repos/ENES-EUDAT/submission_forms')\n",
    "from dkrz_forms import form_handler\n",
    "\n",
    "#from myconfig import test_project\n",
    "\n",
    "\n",
    "sf,repo = form_handler.init_form(\"test\")\n",
    "\n",
    "\n",
    "#init_dict = sf.__dict__ \n",
    "#sub_form = form_handler.prefix(sf,'subm',sf.__dict__.keys())            \n",
    "\n",
    "sub_dict = sf.__dict__\n",
    "\n",
    "import rt\n",
    "\n",
    "tracker = rt.Rt('https://dm-rt.dkrz.de/REST/1.0/','kindermann',form_handler.rt_pwd)\n",
    "tracker.login()"
   ]
  },
  {
   "cell_type": "code",
   "execution_count": null,
   "metadata": {
    "collapsed": false
   },
   "outputs": [],
   "source": [
    "print sub_dict"
   ]
  },
  {
   "cell_type": "code",
   "execution_count": 2,
   "metadata": {
    "collapsed": false
   },
   "outputs": [
    {
     "name": "stdout",
     "output_type": "stream",
     "text": [
      "<dkrz_forms.form_handler.submission_form object at 0x7fb01e7bb790>\n"
     ]
    }
   ],
   "source": [
    "test = form_handler.package_submission(sf)  # put json representation into repo\n",
    "print test"
   ]
  },
  {
   "cell_type": "code",
   "execution_count": 3,
   "metadata": {
    "collapsed": true
   },
   "outputs": [],
   "source": [
    "from git import Repo,GitCommandError\n",
    "def form_commit(sf,repo):\n",
    "    \"\"\"\n",
    "     Commit form and associated json data package to git repo \n",
    "    \"\"\"\n",
    "    #sf = package_submission(sf)\n",
    "    if form_handler.check_form_name(sf):\n",
    "       try: \n",
    "           repo.git.add(sf.form_name+'.json')\n",
    "           repo.git.commit(message='Submission form for user '+sf.first_name+\"_\"+sf.last_name+' saved in git repository:'+sf.form_name)\n",
    "           print \"submission form \"+sf.form_name+\"\\n stored in local git repository \"\n",
    "       except GitCommandError:\n",
    "           print \"Error ! Please correct the form name:\",sf.form_name"
   ]
  },
  {
   "cell_type": "code",
   "execution_count": 4,
   "metadata": {
    "collapsed": false
   },
   "outputs": [
    {
     "name": "stdout",
     "output_type": "stream",
     "text": [
      "submission form sk_subm_1\n",
      " stored in local git repository \n"
     ]
    }
   ],
   "source": [
    "form_commit(sf,repo)"
   ]
  },
  {
   "cell_type": "code",
   "execution_count": 5,
   "metadata": {
    "collapsed": false
   },
   "outputs": [],
   "source": [
    "from datetime import datetime\n",
    "# print str(datetime.now())\n",
    "sf.status = \"ready_for_submission\"\n",
    "sf.submission['sub_time']= str(datetime.now())"
   ]
  },
  {
   "cell_type": "code",
   "execution_count": 9,
   "metadata": {
    "collapsed": true
   },
   "outputs": [],
   "source": [
    "\n",
    "def form_commit(sf,repo,message_text):\n",
    "    \"\"\"\n",
    "     Commit form and associated json data package to git repo \n",
    "    \"\"\"\n",
    "    #sf = package_submission(sf)\n",
    "    if form_handler.check_form_name(sf):\n",
    "       try: \n",
    "           repo.git.add(sf.form_name+'.json')\n",
    "           repo.git.commit(message=message_text)\n",
    "           print \"submission form \"+sf.form_name+\"\\n stored in local git repository \"\n",
    "       except GitCommandError:\n",
    "           print \"Error ! Please correct the form name:\",sf.form_name"
   ]
  },
  {
   "cell_type": "code",
   "execution_count": 10,
   "metadata": {
    "collapsed": false
   },
   "outputs": [
    {
     "data": {
      "text/plain": [
       "<dkrz_forms.form_handler.submission_form at 0x7fb01e7bb790>"
      ]
     },
     "execution_count": 10,
     "metadata": {},
     "output_type": "execute_result"
    }
   ],
   "source": [
    "sf.status = \"submitted\"\n",
    "sf.submission['sub_time']=str(datetime.now())\n",
    "sf.submission['ticket_id']=22252\n",
    "sf.submission['ticket_url']='https://dm-rt.dkrz.de/Ticket/Display.html?id=22252'\n",
    "form_handler.package_submission(sf)"
   ]
  },
  {
   "cell_type": "code",
   "execution_count": 12,
   "metadata": {
    "collapsed": false
   },
   "outputs": [
    {
     "name": "stdout",
     "output_type": "stream",
     "text": [
      "submission form sk_subm_1\n",
      " stored in local git repository \n"
     ]
    }
   ],
   "source": [
    "message = sf.package_name+': submitted, ticket_id = '+str(sf.submission['ticket_id'])\n",
    "form_commit(sf,repo,message)"
   ]
  },
  {
   "cell_type": "code",
   "execution_count": 18,
   "metadata": {
    "collapsed": false
   },
   "outputs": [
    {
     "data": {
      "text/plain": [
       "<dkrz_forms.form_handler.submission_form at 0x7fb01e7bb790>"
      ]
     },
     "execution_count": 18,
     "metadata": {},
     "output_type": "execute_result"
    }
   ],
   "source": [
    "sf.status = \"ingesting\"\n",
    "#sf.check = {}\n",
    "sf.ingest = {'person': 'plenzen',\n",
    "            'started' : str(datetime.now())}\n",
    "form_handler.package_submission(sf)                            \n",
    "                            "
   ]
  },
  {
   "cell_type": "code",
   "execution_count": 19,
   "metadata": {
    "collapsed": false
   },
   "outputs": [
    {
     "name": "stdout",
     "output_type": "stream",
     "text": [
      "submission form sk_subm_1\n",
      " stored in local git repository \n"
     ]
    }
   ],
   "source": [
    "message = sf.package_name+': ingesting'\n",
    "form_commit(sf,repo,message)"
   ]
  },
  {
   "cell_type": "code",
   "execution_count": 21,
   "metadata": {
    "collapsed": false
   },
   "outputs": [],
   "source": [
    "sf.status = \"ingested\"\n",
    "sf.ingest['date']= str(datetime.now())\n",
    "sf.ingest['target_path']='/scratch/bb0303/data/cordex/test1'\n"
   ]
  },
  {
   "cell_type": "code",
   "execution_count": 22,
   "metadata": {
    "collapsed": false
   },
   "outputs": [
    {
     "name": "stdout",
     "output_type": "stream",
     "text": [
      "submission form sk_subm_1\n",
      " stored in local git repository \n"
     ]
    }
   ],
   "source": [
    "form_handler.package_submission(sf) \n",
    "message = sf.package_name+': checking'\n",
    "form_commit(sf,repo,message)"
   ]
  },
  {
   "cell_type": "code",
   "execution_count": 23,
   "metadata": {
    "collapsed": false
   },
   "outputs": [
    {
     "name": "stdout",
     "output_type": "stream",
     "text": [
      "submission form sk_subm_1\n",
      " stored in local git repository \n"
     ]
    }
   ],
   "source": [
    "sf.status = \"checking\"\n",
    "sf.check = {'person':'hdh',\n",
    "            'started':str(datetime.now()),\n",
    "            'tool_version':'qa_dkrz_v1.1'\n",
    "            }\n",
    "form_handler.package_submission(sf)\n",
    "message = sf.package_name+': checking'\n",
    "form_commit(sf,repo,message)            "
   ]
  },
  {
   "cell_type": "code",
   "execution_count": 28,
   "metadata": {
    "collapsed": false
   },
   "outputs": [
    {
     "name": "stdout",
     "output_type": "stream",
     "text": [
      "submission form sk_subm_1\n",
      " stored in local git repository \n"
     ]
    }
   ],
   "source": [
    "sf.status = 'checked'\n",
    "\n",
    "sf.check['results']= '/path/to/results'\n",
    "\n",
    "form_handler.package_submission(sf)\n",
    "message = sf.package_name+': checked'\n",
    "form_commit(sf,repo,message)"
   ]
  },
  {
   "cell_type": "code",
   "execution_count": 29,
   "metadata": {
    "collapsed": false
   },
   "outputs": [
    {
     "name": "stdout",
     "output_type": "stream",
     "text": [
      "submission form sk_subm_1\n",
      " stored in local git repository \n"
     ]
    }
   ],
   "source": [
    "sf.status = 'publishing'\n",
    "\n",
    "sf.pub  = {'person':'kberger',\n",
    "            'started':str(datetime.now())        \n",
    "           }\n",
    "\n",
    "form_handler.package_submission(sf)\n",
    "message = sf.package_name+': publishing'\n",
    "form_commit(sf,repo,message)"
   ]
  },
  {
   "cell_type": "code",
   "execution_count": 31,
   "metadata": {
    "collapsed": false
   },
   "outputs": [
    {
     "name": "stdout",
     "output_type": "stream",
     "text": [
      "submission form sk_subm_1\n",
      " stored in local git repository \n"
     ]
    }
   ],
   "source": [
    "sf.status = 'published'\n",
    "\n",
    "sf.pub['date']  = str(datetime.now()) \n",
    "sf.pub['search_string'] = \"project=cordex&model=hmoc&institute=MPI-M\"\n",
    "           \n",
    "\n",
    "form_handler.package_submission(sf)\n",
    "message = sf.package_name+': published'\n",
    "form_commit(sf,repo,message)"
   ]
  },
  {
   "cell_type": "code",
   "execution_count": null,
   "metadata": {
    "collapsed": true
   },
   "outputs": [],
   "source": []
  }
 ],
 "metadata": {
  "kernelspec": {
   "display_name": "Python 2",
   "language": "python",
   "name": "python2"
  },
  "language_info": {
   "codemirror_mode": {
    "name": "ipython",
    "version": 2
   },
   "file_extension": ".py",
   "mimetype": "text/x-python",
   "name": "python",
   "nbconvert_exporter": "python",
   "pygments_lexer": "ipython2",
   "version": "2.7.11"
  }
 },
 "nbformat": 4,
 "nbformat_minor": 0
}
