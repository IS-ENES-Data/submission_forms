{
 "cells": [
  {
   "cell_type": "markdown",
   "metadata": {},
   "source": [
    "# Data Submission Forms for DKRZ data ingest requests\n",
    "\n",
    "To generate a data submission form for you, please edit the cell below to include your name, email as well as the project your data belogs to\n",
    "\n",
    "Then please press *\"Shift\" + Enter* to evaluate the cell\n",
    "\n",
    "a link to the newly generated data submission form will be provided\n",
    "\n",
    "please follow this link to edit your personal form"
   ]
  },
  {
   "cell_type": "markdown",
   "metadata": {},
   "source": [
    "### Currently the following ingest requests are supported:\n",
    "- **\"CORDEX\"**: CORDEX data ingest requests - CORDEX data to be published in ESGF, the form is aligned to the original CORDEX data ingest exel sheet used for ingest requests at DKRZ\n",
    "- **\"CMIP6\"**:  CMIP6 data ingest request form for data providers - CMIP6 data to be ingested and published in ESGF and which will be long term archived as part of the WDCC\n",
    "- **\"CMIP6_replica\"** : CMIP6 data request form for data users - request for CMIP6 data to be replicated and made available as part of the DKRZ national archive \n",
    "- **\"DKRZ_National_Archive\"**: data ingest request for (CMIP6 related) data collections to be included in the DKRZ national archive e.g. for model evaluation purposes    \n",
    "- **\"Test\"**: for demo and testing puposes"
   ]
  },
  {
   "cell_type": "code",
   "execution_count": 5,
   "metadata": {
    "collapsed": false
   },
   "outputs": [
    {
     "name": "stdout",
     "output_type": "stream",
     "text": [
      "The autoreload extension is already loaded. To reload it, use:\n",
      "  %reload_ext autoreload\n"
     ]
    }
   ],
   "source": [
    "%load_ext autoreload\n",
    "%autoreload 2\n",
    "\n",
    "import os, sys\n",
    "# import_path = os.path.abspath('..')   not necessary ?\n",
    "sys.path.append('..')"
   ]
  },
  {
   "cell_type": "code",
   "execution_count": 6,
   "metadata": {
    "collapsed": false
   },
   "outputs": [
    {
     "ename": "ImportError",
     "evalue": "No module named project_cordex",
     "output_type": "error",
     "traceback": [
      "\u001b[1;31m---------------------------------------------------------------------------\u001b[0m",
      "\u001b[1;31mImportError\u001b[0m                               Traceback (most recent call last)",
      "\u001b[1;32m<ipython-input-6-36c2df1fe59e>\u001b[0m in \u001b[0;36m<module>\u001b[1;34m()\u001b[0m\n\u001b[0;32m     12\u001b[0m \u001b[1;33m\u001b[0m\u001b[0m\n\u001b[0;32m     13\u001b[0m \u001b[1;33m\u001b[0m\u001b[0m\n\u001b[1;32m---> 14\u001b[1;33m \u001b[0mform_handler\u001b[0m\u001b[1;33m.\u001b[0m\u001b[0mgenerate_submission_form\u001b[0m\u001b[1;33m(\u001b[0m\u001b[0mmy_first_name\u001b[0m\u001b[1;33m,\u001b[0m\u001b[0mmy_last_name\u001b[0m\u001b[1;33m,\u001b[0m\u001b[0mmy_email\u001b[0m\u001b[1;33m,\u001b[0m\u001b[0mmy_project\u001b[0m\u001b[1;33m,\u001b[0m\u001b[0mmy_keyword\u001b[0m\u001b[1;33m)\u001b[0m\u001b[1;33m\u001b[0m\u001b[0m\n\u001b[0m",
      "\u001b[1;32mC:\\Users\\Stephan Kindermann\\Documents\\GitHub\\submission_forms\\dkrz_forms\\form_handler.pyc\u001b[0m in \u001b[0;36mgenerate_submission_form\u001b[1;34m(my_first_name, my_last_name, my_email, my_project, my_keyword)\u001b[0m\n\u001b[0;32m    155\u001b[0m     \u001b[1;32mif\u001b[0m \u001b[0mmy_project\u001b[0m \u001b[1;33m==\u001b[0m \u001b[1;34m\"CORDEX\"\u001b[0m\u001b[1;33m:\u001b[0m\u001b[1;33m\u001b[0m\u001b[0m\n\u001b[0;32m    156\u001b[0m \u001b[1;33m\u001b[0m\u001b[0m\n\u001b[1;32m--> 157\u001b[1;33m           \u001b[1;32mfrom\u001b[0m \u001b[0mproject_cordex\u001b[0m \u001b[1;32mimport\u001b[0m \u001b[0mcordex_dict\u001b[0m\u001b[1;33m\u001b[0m\u001b[0m\n\u001b[0m\u001b[0;32m    158\u001b[0m \u001b[1;33m\u001b[0m\u001b[0m\n\u001b[0;32m    159\u001b[0m           \u001b[0msf\u001b[0m \u001b[1;33m=\u001b[0m \u001b[0mForm\u001b[0m\u001b[1;33m(\u001b[0m\u001b[0mcordex_dict\u001b[0m\u001b[1;33m)\u001b[0m\u001b[1;33m\u001b[0m\u001b[0m\n",
      "\u001b[1;31mImportError\u001b[0m: No module named project_cordex"
     ]
    }
   ],
   "source": [
    "# please edit the (red) information below: Name, email and project the data belongs to\n",
    "from dkrz_forms import form_handler\n",
    "\n",
    "my_first_name = \"stasi2\"  # example: my_first_name = \"Alf\"\n",
    "my_last_name = \"ki2\"   # example: my_last_name = \"Mitty\"\n",
    "\n",
    "my_email = \"s@freenet.de\"       # example: email = \"alf.mitty@gmail.com\"\n",
    "\n",
    "my_project = \"CORDEX\"  # available alternatives: \"Test\", \"CORDEX\",\"CMIP6\",\"Other\"\n",
    "\n",
    "my_keyword = \"sk2\"     # please remember your personal keyword to identify your submission\n",
    "                      \n",
    "\n",
    "form_handler.generate_submission_form(my_first_name,my_last_name,my_email,my_project,my_keyword)\n"
   ]
  },
  {
   "cell_type": "code",
   "execution_count": null,
   "metadata": {
    "collapsed": false
   },
   "outputs": [],
   "source": []
  },
  {
   "cell_type": "code",
   "execution_count": null,
   "metadata": {
    "collapsed": true
   },
   "outputs": [],
   "source": []
  }
 ],
 "metadata": {
  "kernelspec": {
   "display_name": "Python 2",
   "language": "python",
   "name": "python2"
  },
  "language_info": {
   "codemirror_mode": {
    "name": "ipython",
    "version": 2
   },
   "file_extension": ".py",
   "mimetype": "text/x-python",
   "name": "python",
   "nbconvert_exporter": "python",
   "pygments_lexer": "ipython2",
   "version": "2.7.11"
  }
 },
 "nbformat": 4,
 "nbformat_minor": 0
}
