{
 "cells": [
  {
   "cell_type": "markdown",
   "metadata": {},
   "source": [
    "# Data ingest forms for DKRZ \n",
    "\n",
    "To generate a data submission form for you, please edit the cell below to include your name, email as well as the project your data belogs to\n",
    "\n",
    "Then please press *\"Shift\" + Enter* to evaluate the cell\n",
    "\n",
    "a link to the newly generated data submission form will be provided\n",
    "\n",
    "please follow this link to edit your personal form"
   ]
  },
  {
   "cell_type": "markdown",
   "metadata": {},
   "source": [
    "### Currently the following ingest requests are supported:\n",
    "- **\"CORDEX\"**: CORDEX data ingest requests - CORDEX data to be published in ESGF, the form is aligned to the original CORDEX data ingest exel sheet used for ingest requests at DKRZ\n",
    "- **\"CMIP6\"**:  CMIP6 data ingest request form for data providers - CMIP6 data to be ingested and published in ESGF and which will be long term archived as part of the WDCC\n",
    "- **\"ESGF_replication\"** : CMIP6 data request form for data users - request for CMIP6 data to be replicated and made available as part of the DKRZ national archive \n",
    "- **\"DKRZ_CDP\"**: data ingest request for (CMIP6 related) data collections to be included in the DKRZ CMIP data pool (CDP) e.g. for model evaluation purposes    \n",
    "- **\"test\"**: for demo and testing puposes"
   ]
  },
  {
   "cell_type": "code",
   "execution_count": 1,
   "metadata": {
    "collapsed": true
   },
   "outputs": [],
   "source": [
    "import os, sys\n",
    "sys.path.append('/home/stephan/Repos/ENES-EUDAT/submission_forms') "
   ]
  },
  {
   "cell_type": "code",
   "execution_count": 2,
   "metadata": {
    "collapsed": false
   },
   "outputs": [],
   "source": [
    "%load_ext autoreload\n",
    "%autoreload 2"
   ]
  },
  {
   "cell_type": "code",
   "execution_count": 20,
   "metadata": {
    "collapsed": false,
    "scrolled": true
   },
   "outputs": [
    {
     "name": "stdout",
     "output_type": "stream",
     "text": [
      "Info: myconfig not found - taking default config \n",
      "Form Handler: Initialized form for project: CORDEX\n",
      "CORDEX\n",
      "/home/stephan/tmp/Repos/form_repo/CORDEX\n",
      "CORDEX_kindermann_ttt.ipynb\n",
      "Keystore:  {'JO0GZ9': ['kindermann', 'CORDEX_kindermann_ttt', '/home/stephan/tmp/Repos/form_repo/CORDEX', '/home/stephan/tmp/Repos/form_repo/CORDEX/CORDEX_kindermann_ttt.json']}\n",
      "--- copy from: /home/stephan/Repos/ENES-EUDAT/submission_forms/dkrz_forms/Templates/CORDEX_submission_form.ipynb\n",
      "--- to:  /home/stephan/Repos/ENES-EUDAT/submission_forms/test/forms/CORDEX/CORDEX_kindermann_ttt.ipynb /home/stephan/tmp/Repos/form_repo/CORDEX/CORDEX_kindermann_ttt.ipynb\n",
      "--------------------------------------------------------------------\n",
      "   A submission form was created for you, please visit the following link:\n",
      "--------------------------------------------------------------------\n",
      "/home/stephan/tmp/Repos/form_repo/CORDEX/CORDEX_kindermann_ttt.ipynb\n",
      " ......  initial version saved ...\n",
      "/home/stephan/tmp/Repos/form_repo/CORDEX/CORDEX_kindermann_ttt.ipynb\n",
      " ....... finalised version saved ...\n",
      "id:  JO0GZ9\n"
     ]
    },
    {
     "data": {
      "text/plain": [
       "<dkrz_forms.form_handler.Form at 0x7feeb7fd1e50>"
      ]
     },
     "execution_count": 20,
     "metadata": {},
     "output_type": "execute_result"
    }
   ],
   "source": [
    "# please edit the (red) information below: Name, email and project the data belongs to\n",
    "from dkrz_forms import form_handler\n",
    "\n",
    "MY_FIRST_NAME = \"stephan\"  # example: my_first_name = \"Alf\"\n",
    "MY_LAST_NAME =  \"kindermann\"   # example: my_last_name = \"Mitty\"\n",
    "\n",
    "MY_EMAIL =      \"kindermann@dkrz.de\"       # example: email = \"alf.mitty@gmail.com\"\n",
    "\n",
    "MY_PROJECT =    \"CORDEX\"  # available alternatives: CORDEX\",\"CMIP6\",\"DKRZ_CDP\", \"test\"\n",
    "                   \n",
    "\n",
    "MY_KEYWORD = \"ttt\"  # your keyword to identify the generated form\n",
    "\n",
    "init = [MY_FIRST_NAME,MY_LAST_NAME,MY_PROJECT,MY_KEYWORD,MY_EMAIL]\n",
    "form_handler.generate_submission_form(*init)"
   ]
  },
  {
   "cell_type": "markdown",
   "metadata": {},
   "source": [
    "## Retrieve form"
   ]
  },
  {
   "cell_type": "code",
   "execution_count": 30,
   "metadata": {
    "collapsed": false
   },
   "outputs": [],
   "source": [
    "def check_pwd(pwd,my_last_name, form_info):\n",
    "    form_info = form_handler.get_persisted_info('forms_pwd','/home/stephan/tmp/Repos/form_repo/CORDEX/keystore')\n",
    "    import getpass\n",
    "    my_last_name = getpass.getpass(\"Enter your last name: \")\n",
    "    my_pwd = getpass.getpass(\"Enter your form key: \")\n",
    "    \n",
    "    if form_info[pwd][0] == my_last_name:\n",
    "        ## \n",
    "        print \"ok\"\n",
    "        print form_info\n",
    "        return True\n",
    "    else:\n",
    "        print \"Error: incorrect key or incorrcect last name (case sensitive !)\" \n",
    "        return False "
   ]
  },
  {
   "cell_type": "code",
   "execution_count": 31,
   "metadata": {
    "collapsed": false
   },
   "outputs": [
    {
     "name": "stdout",
     "output_type": "stream",
     "text": [
      "Enter your last name: ········\n",
      "Enter your form key: ········\n",
      "ok\n",
      "{'JO0GZ9': ['kindermann', 'CORDEX_kindermann_ttt', '/home/stephan/tmp/Repos/form_repo/CORDEX', '/home/stephan/tmp/Repos/form_repo/CORDEX/CORDEX_kindermann_ttt.json']}\n"
     ]
    },
    {
     "data": {
      "text/plain": [
       "True"
      ]
     },
     "execution_count": 31,
     "metadata": {},
     "output_type": "execute_result"
    }
   ],
   "source": [
    "check_pwd(my_pwd,my_last_name,form_info)"
   ]
  },
  {
   "cell_type": "code",
   "execution_count": 75,
   "metadata": {
    "collapsed": false
   },
   "outputs": [],
   "source": [
    "from ipywidgets import widgets\n",
    "from IPython.display import display\n",
    "\n",
    "def test():\n",
    "    global text \n",
    "    text = widgets.Text(value=\"Your last name:     \",description=\"Test Test\")\n",
    "    display(text)\n",
    "\n",
    "    def handle_submit(sender):\n",
    "        print text.value      \n",
    "\n",
    "    text.on_submit(handle_submit) \n",
    "  "
   ]
  },
  {
   "cell_type": "code",
   "execution_count": 76,
   "metadata": {
    "collapsed": false
   },
   "outputs": [],
   "source": [
    "my = test()\n"
   ]
  },
  {
   "cell_type": "code",
   "execution_count": 67,
   "metadata": {
    "collapsed": false
   },
   "outputs": [
    {
     "name": "stdout",
     "output_type": "stream",
     "text": [
      "test test\n"
     ]
    }
   ],
   "source": [
    "print text.value\n",
    "\n"
   ]
  },
  {
   "cell_type": "code",
   "execution_count": 101,
   "metadata": {
    "collapsed": true
   },
   "outputs": [],
   "source": [
    "from dkrz_forms import form_widgets"
   ]
  },
  {
   "cell_type": "code",
   "execution_count": 102,
   "metadata": {
    "collapsed": false
   },
   "outputs": [],
   "source": [
    "form_widgets.ask()"
   ]
  },
  {
   "cell_type": "code",
   "execution_count": 103,
   "metadata": {
    "collapsed": false
   },
   "outputs": [
    {
     "name": "stdout",
     "output_type": "stream",
     "text": [
      "kkk\n"
     ]
    }
   ],
   "source": [
    "print form_widgets.LAST_NAME.value"
   ]
  },
  {
   "cell_type": "code",
   "execution_count": 98,
   "metadata": {
    "collapsed": false
   },
   "outputs": [
    {
     "ename": "AttributeError",
     "evalue": "'function' object has no attribute 'testtt'",
     "output_type": "error",
     "traceback": [
      "\u001b[0;31m---------------------------------------------------------------------------\u001b[0m",
      "\u001b[0;31mAttributeError\u001b[0m                            Traceback (most recent call last)",
      "\u001b[0;32m<ipython-input-98-636486ae6bc1>\u001b[0m in \u001b[0;36m<module>\u001b[0;34m()\u001b[0m\n\u001b[0;32m----> 1\u001b[0;31m \u001b[0;32mprint\u001b[0m \u001b[0mform_widgets\u001b[0m\u001b[0;34m.\u001b[0m\u001b[0mask\u001b[0m\u001b[0;34m.\u001b[0m\u001b[0mtesttt\u001b[0m\u001b[0;34m\u001b[0m\u001b[0m\n\u001b[0m",
      "\u001b[0;31mAttributeError\u001b[0m: 'function' object has no attribute 'testtt'"
     ]
    }
   ],
   "source": [
    "print form_widgets.testtt"
   ]
  },
  {
   "cell_type": "code",
   "execution_count": null,
   "metadata": {
    "collapsed": true
   },
   "outputs": [],
   "source": []
  }
 ],
 "metadata": {
  "anaconda-cloud": {},
  "kernelspec": {
   "display_name": "Python [conda env:generic1]",
   "language": "python",
   "name": "conda-env-generic1-py"
  },
  "language_info": {
   "codemirror_mode": {
    "name": "ipython",
    "version": 2
   },
   "file_extension": ".py",
   "mimetype": "text/x-python",
   "name": "python",
   "nbconvert_exporter": "python",
   "pygments_lexer": "ipython2",
   "version": "2.7.11"
  }
 },
 "nbformat": 4,
 "nbformat_minor": 0
}
