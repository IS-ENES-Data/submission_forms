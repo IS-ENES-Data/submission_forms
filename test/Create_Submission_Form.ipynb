{
 "cells": [
  {
   "cell_type": "markdown",
   "metadata": {},
   "source": [
    "# Data Submission Forms for DKRZ data ingest requests\n",
    "\n",
    "To generate a data submission form for you, please edit the cell below to include your name, email as well as the project your data belogs to\n",
    "\n",
    "Then please press *\"Shift\" + Enter* to evaluate the cell\n",
    "\n",
    "a link to the newly generated data submission form will be provided\n",
    "\n",
    "please follow this link to edit your personal form"
   ]
  },
  {
   "cell_type": "markdown",
   "metadata": {},
   "source": [
    "### Currently the following ingest requests are supported:\n",
    "- **\"CORDEX\"**: CORDEX data ingest requests - CORDEX data to be published in ESGF, the form is aligned to the original CORDEX data ingest exel sheet used for ingest requests at DKRZ\n",
    "- **\"CMIP6\"**:  CMIP6 data ingest request form for data providers - CMIP6 data to be ingested and published in ESGF and which will be long term archived as part of the WDCC\n",
    "- **\"CMIP6_replica\"** : CMIP6 data request form for data users - request for CMIP6 data to be replicated and made available as part of the DKRZ national archive \n",
    "- **\"DKRZ_CDP\"**: data ingest request for (CMIP6 related) data collections to be included in the DKRZ national archive e.g. for model evaluation purposes    \n",
    "- **\"test\"**: for demo and testing puposes"
   ]
  },
  {
   "cell_type": "code",
   "execution_count": 1,
   "metadata": {
    "collapsed": false
   },
   "outputs": [],
   "source": [
    "%load_ext autoreload\n",
    "%autoreload 2"
   ]
  },
  {
   "cell_type": "code",
   "execution_count": 3,
   "metadata": {
    "collapsed": false,
    "scrolled": true
   },
   "outputs": [],
   "source": [
    "import os, sys\n",
    "# import_path = os.path.abspath('..')   not necessary ?\n",
    "sys.path.append('/home/stephan/Repos/ENES-EUDAT/submission_forms/')\n"
   ]
  },
  {
   "cell_type": "code",
   "execution_count": 4,
   "metadata": {
    "collapsed": false
   },
   "outputs": [
    {
     "name": "stdout",
     "output_type": "stream",
     "text": [
      "Form Handler: Initialized form for project: DKRZ_CDP\n",
      "--------------------------------------------------------------------\n",
      "   A submission form was created for you, please visit the following link:\n",
      "    https://data-forms.dkrz.de:8080/notebooks/DKRZ_CDP/DKRZ_CDP_ki2_sk2.ipynb\n",
      "--------------------------------------------------------------------\n"
     ]
    }
   ],
   "source": [
    "# please edit the (red) information below: Name, email and project the data belongs to\n",
    "from dkrz_forms import form_handler\n",
    "\n",
    "my_first_name = \"stasi2\"  # example: my_first_name = \"Alf\"\n",
    "my_last_name = \"ki2\"   # example: my_last_name = \"Mitty\"\n",
    "\n",
    "my_email = \"stephan.kindermann@gmail.de\"       # example: email = \"alf.mitty@gmail.com\"\n",
    "\n",
    "my_project = \"DKRZ_CDP\"  # available alternatives: \"Test\", \"CORDEX\",\"CMIP6\",\"Other\"\n",
    "\n",
    "my_keyword = \"sk2\"     # please remember your personal keyword to identify your submission\n",
    "                      \n",
    "\n",
    "form_handler.generate_submission_form(my_first_name,my_last_name,my_email,my_project,my_keyword)\n"
   ]
  },
  {
   "cell_type": "code",
   "execution_count": null,
   "metadata": {
    "collapsed": true
   },
   "outputs": [],
   "source": []
  }
 ],
 "metadata": {
  "kernelspec": {
   "display_name": "Python 2",
   "language": "python",
   "name": "python2"
  },
  "language_info": {
   "codemirror_mode": {
    "name": "ipython",
    "version": 2
   },
   "file_extension": ".py",
   "mimetype": "text/x-python",
   "name": "python",
   "nbconvert_exporter": "python",
   "pygments_lexer": "ipython2",
   "version": "2.7.12"
  }
 },
 "nbformat": 4,
 "nbformat_minor": 0
}
