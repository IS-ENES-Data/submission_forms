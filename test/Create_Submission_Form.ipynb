{
 "cells": [
  {
   "cell_type": "markdown",
   "metadata": {},
   "source": [
    "# Data Submission Forms for DKRZ data ingest requests\n",
    "\n",
    "To generate a data submission form for you, please edit the cell below to include your name, email as well as the project your data belogs to\n",
    "\n",
    "Then please press *\"Shift\" + Enter* to evaluate the cell\n",
    "\n",
    "a link to the newly generated data submission form will be provided\n",
    "\n",
    "please follow this link to edit your personal form"
   ]
  },
  {
   "cell_type": "code",
   "execution_count": 1,
   "metadata": {
    "collapsed": false
   },
   "outputs": [],
   "source": [
    "%load_ext autoreload\n",
    "%autoreload 2\n",
    "\n",
    "import os, sys\n",
    "# import_path = os.path.abspath('..')   not necessary ?\n",
    "sys.path.append('..')"
   ]
  },
  {
   "cell_type": "code",
   "execution_count": 2,
   "metadata": {
    "collapsed": false
   },
   "outputs": [
    {
     "name": "stdout",
     "output_type": "stream",
     "text": [
      ".dkrz_forms myconfig imported\n",
      "Settings from ~/.dkrz_forms imported\n",
      "Your submission form repository: /home/stephan/tmp/CORDEX\n",
      "Attention: non standard source for submission forms, taking: /home/stephan/Repos/ENES-EUDAT/submission_forms/dkrz_forms/Templates/CORDEX_submission_form.ipynb\n",
      "copy from: /home/stephan/Repos/ENES-EUDAT/submission_forms/dkrz_forms/Templates/CORDEX_submission_form.ipynb\n",
      "to:  /home/stephan/tmp/CORDEX/ki_sk1.ipynb\n",
      "--------------------------------------------------\n",
      "submission form created, please visit the following link:\n",
      "https://qc.dkrz.de:8080/notebooks/CORDEX/ki_sk1\n",
      "--------------------------------------------------\n",
      "form stored in transfer format in: /home/stephan/tmp/CORDEX/ki_sk1.json\n",
      "\n",
      "\n",
      " Status message:\n",
      "-- your submission form ki_sk1 was stored in repository \n",
      "form stored in transfer format in: /home/stephan/tmp/CORDEX/ki_sk1.json\n",
      "\n",
      "\n",
      " Status message:\n",
      "-- your submission form ki_sk1 was stored in repository \n"
     ]
    }
   ],
   "source": [
    "# please edit the (red) information below: Name, email and project the data belongs to\n",
    "from dkrz_forms import form_handler\n",
    "\n",
    "my_first_name = \"stasi\"  # example: my_first_name = \"Alf\"\n",
    "my_last_name = \"ki\"   # example: my_last_name = \"Mitty\"\n",
    "\n",
    "my_email = \"s@freenet.de\"       # example: email = \"alf.mitty@gmail.com\"\n",
    "\n",
    "my_project = \"CORDEX\"  # available alternatives: \"Test\", \"CORDEX\",\"CMIP6\",\"Other\"\n",
    "\n",
    "my_keyword = \"sk1\"     # please remember your personal keyword to identify your submission\n",
    "                      \n",
    "\n",
    "form_handler.generate_submission_form(my_first_name,my_last_name,my_email,my_project,my_keyword)\n"
   ]
  },
  {
   "cell_type": "code",
   "execution_count": 11,
   "metadata": {
    "collapsed": false
   },
   "outputs": [],
   "source": []
  },
  {
   "cell_type": "code",
   "execution_count": null,
   "metadata": {
    "collapsed": true
   },
   "outputs": [],
   "source": []
  }
 ],
 "metadata": {
  "kernelspec": {
   "display_name": "Python 2",
   "language": "python",
   "name": "python2"
  },
  "language_info": {
   "codemirror_mode": {
    "name": "ipython",
    "version": 2
   },
   "file_extension": ".py",
   "mimetype": "text/x-python",
   "name": "python",
   "nbconvert_exporter": "python",
   "pygments_lexer": "ipython2",
   "version": "2.7.11"
  }
 },
 "nbformat": 4,
 "nbformat_minor": 0
}
