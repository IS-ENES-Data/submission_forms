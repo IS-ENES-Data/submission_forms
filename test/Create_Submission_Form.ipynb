{
 "cells": [
  {
   "cell_type": "markdown",
   "metadata": {},
   "source": [
    "# Data Submission Forms for DKRZ data ingest requests\n",
    "\n",
    "To generate a data submission form for you, please edit the cell below to include your name, email as well as the project your data belogs to\n",
    "\n",
    "Then please press *\"Shift\" + Enter* to evaluate the cell\n",
    "\n",
    "a link to the newly generated data submission form will be provided\n",
    "\n",
    "please follow this link to edit your personal form"
   ]
  },
  {
   "cell_type": "code",
   "execution_count": 1,
   "metadata": {
    "collapsed": false
   },
   "outputs": [
    {
     "name": "stdout",
     "output_type": "stream",
     "text": [
      "Project directories: /home/stephan/tmp/CORDEX\n"
     ]
    }
   ],
   "source": [
    "import sys\n",
    "sys.path.append('/home/stephan/Repos/ENES-EUDAT/submission_forms')\n",
    "from dkrz_forms import form_handler"
   ]
  },
  {
   "cell_type": "code",
   "execution_count": 2,
   "metadata": {
    "collapsed": false
   },
   "outputs": [
    {
     "name": "stdout",
     "output_type": "stream",
     "text": [
      " Attention: non standard source form submission forms\n",
      "--------------------------------------------------\n",
      "submission form created, please visit the following link:\n",
      "https://qc.dkrz.de:8080/notebooks/CORDEX/CORDEX__test_tst__submission__383b4348-e4a8-11e5-9e45-080027f178b4.ipynb\n"
     ]
    }
   ],
   "source": [
    "# please edit the (red) information below: Name, email and project the data belongs to\n",
    "\n",
    "my_first_name = \"test\"  # example: my_first_name = \"Alf\"\n",
    "my_last_name = \"tst\"   # example: my_last_name = \"Mitty\"\n",
    "my_email = \"st@freenet.de\"       # example: email = \"alf.mitty@gmail.com\"\n",
    "\n",
    "my_project = \"CORDEX\" # available alternatives: \"Test\", \"CORDEX\",\"CMIP6\",\"Other\"\n",
    "\n",
    "form_handler.generate_submission_form(my_first_name,my_last_name,my_email,my_project)\n"
   ]
  },
  {
   "cell_type": "code",
   "execution_count": null,
   "metadata": {
    "collapsed": true
   },
   "outputs": [],
   "source": []
  }
 ],
 "metadata": {
  "kernelspec": {
   "display_name": "Python 2",
   "language": "python",
   "name": "python2"
  },
  "language_info": {
   "codemirror_mode": {
    "name": "ipython",
    "version": 2
   },
   "file_extension": ".py",
   "mimetype": "text/x-python",
   "name": "python",
   "nbconvert_exporter": "python",
   "pygments_lexer": "ipython2",
   "version": "2.7.11"
  }
 },
 "nbformat": 4,
 "nbformat_minor": 0
}
