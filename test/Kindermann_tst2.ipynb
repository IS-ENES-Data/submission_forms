{
 "cells": [
  {
   "cell_type": "markdown",
   "metadata": {},
   "source": [
    "\n",
    "## CORDEX ESGF submission form\n",
    "\n",
    "#### General Information\n",
    "\n",
    "Data to be submitted for ESGF data publication must follow the rules outlined in the   Cordex Archive Design Document <br />  (https://verc.enes.org/data/projects/documents/cordex-archive-design) \n",
    "\n",
    "Thus file names have to follow the pattern:<br />\n",
    "> *VariableName_Domain_GCMModelName_CMIP5ExperimentName_CMIP5EnsembleMember_RCMModelName_RCMVersionID_Frequency[_StartTime-EndTime].nc* <br />\n",
    "**Example:** *tas_AFR-44_MPI-M-MPI-ESM-LR_rcp26_r1i1p1_MPI-CSC-REMO2009_v1_mon_yyyymm-yyyymm.nc*\n",
    "\n",
    "The directory structure in which these files are stored follow the pattern:<br />\n",
    "> *activity/product/Domain/Institution/\n",
    "> GCMModelName/CMIP5ExperimentName/CMIP5EnsembleMember/\n",
    "> RCMModelName/RCMVersionID/Frequency/VariableName* <br />\n",
    "**Example:** *CORDEX/output/AFR-44/MPI-CSC/MPI-M-MPI-ESM-LR/rcp26/r1i1p1/MPI-CSC-REMO2009/v1/mon/tas/tas_AFR-44_MPI-M-MPI-ESM-LR_rcp26_r1i1p1_MPI-CSC-REMO2009_v1_mon_yyyymm-yyyymm.nc*\n",
    "\n",
    "**Notice:** If your model is not yet registered, please contact contact **cordex-registration@cordex.org** \n",
    "specifying: Full institution name, Short institution name (acronym), Contact person and \n",
    "e-mail, RCM Name (acronym), Terms of Use (unrestricted or non-commercial only) and the CORDEX  domains in which you are interested.\n",
    "\n",
    "At some CORDEX ESGF data centers a 'data submission form' is in use in order to improve initial information exchange between data providers and the data center. The form has to be filled before the publication process can be started. In case you have questions pleas contact the individual data centers:\t\t\n",
    "o at DKRZ:\tcordex@dkrz.de\t\n",
    "o at SMHI:\trossby.cordex@smhi.se\n",
    "\n",
    "---\n"
   ]
  },
  {
   "cell_type": "code",
   "execution_count": 1,
   "metadata": {
    "collapsed": false
   },
   "outputs": [],
   "source": [
    "%load_ext autoreload\n",
    "%autoreload 2"
   ]
  },
  {
   "cell_type": "markdown",
   "metadata": {},
   "source": [
    "# Start submission procedure\n",
    "The submission is based on this interactive document consisting of \"cells\" you can modify and then evaluate\n",
    "\n",
    "evaluation of cells is done by selecting the cell and then press the keys \"Shift\" + \"Enter\"\n",
    "<br /> please evaluate the following cell to initialize your form"
   ]
  },
  {
   "cell_type": "code",
   "execution_count": 3,
   "metadata": {
    "collapsed": false
   },
   "outputs": [
    {
     "name": "stdout",
     "output_type": "stream",
     "text": [
      "Settings from ~/.dkrz_forms imported\n",
      "Your submission form repository: /home/stephan/tmp/CORDEX\n"
     ]
    }
   ],
   "source": [
    "# initialize your CORDEX submission form template\n",
    "import sys\n",
    "sys.path.append('/home/stephan/Repos/ENES-EUDAT/submission_forms')\n",
    "from dkrz_forms import form_handler\n",
    "from dkrz_forms import checks\n"
   ]
  },
  {
   "cell_type": "markdown",
   "metadata": {},
   "source": [
    "please provide information on the contact person for this CORDEX data submission request"
   ]
  },
  {
   "cell_type": "code",
   "execution_count": 4,
   "metadata": {
    "collapsed": false
   },
   "outputs": [
    {
     "name": "stdout",
     "output_type": "stream",
     "text": [
      "Cordex submission form intitialized: sf\n",
      "(For the curious: sf is used to store and manage all your information)\n"
     ]
    }
   ],
   "source": [
    "my_email = \"stephan.kindermann@gmail.com\"       # example: sf.email = \"Mr.Mitty@yahoo.com\"\n",
    "my_first_name = \"Stephan\"  # example: sf.first_name = \"Harold\"\n",
    "my_last_name = \"Kindermann\"   # example: sf.last_name = \"Mitty\"\n",
    "my_keyword = \"tst2\"\n",
    "\n",
    "sf = form_handler.init_form(\"CORDEX\",my_first_name,my_last_name,my_email,my_keyword)"
   ]
  },
  {
   "cell_type": "markdown",
   "metadata": {},
   "source": [
    "#### Type of submission\n",
    "please specify the type of this data submission:\n",
    "- \"initial_version\" for first submission of data\n",
    "- \"new _version\" for a re-submission of previousliy submitted data\n",
    "- \"retract\" for the request to retract previously submitted data"
   ]
  },
  {
   "cell_type": "code",
   "execution_count": 9,
   "metadata": {
    "collapsed": true
   },
   "outputs": [],
   "source": [
    "sf.submission_type = \"initial_version\"  # example: sf.submission_type = \"initial_version\""
   ]
  },
  {
   "cell_type": "markdown",
   "metadata": {},
   "source": [
    "## Requested general information"
   ]
  },
  {
   "cell_type": "markdown",
   "metadata": {},
   "source": [
    "## Please provide model and institution info as well as an example of a file name\n",
    "#### institution\n",
    "The value of this field has to equal the value of the optional NetCDF attribute 'institution' \n",
    "(long version) in the data files if the latter is used."
   ]
  },
  {
   "cell_type": "code",
   "execution_count": 5,
   "metadata": {
    "collapsed": true
   },
   "outputs": [],
   "source": [
    "sf.institution = \"DKRZ\" # example: sf.institution = \"Alfred Wegener Institute\""
   ]
  },
  {
   "cell_type": "markdown",
   "metadata": {},
   "source": [
    "##### institute_id\n",
    "The value of this field has to equal the value of the global NetCDF attribute 'institute_id' \n",
    "in the data files and must equal the 4th directory level. It is needed before the publication \n",
    "process is started in order that the value can be added to the relevant CORDEX list of CV1 \n",
    "if not yet there. Note that 'institute_id' has to be the first part of 'model_id'"
   ]
  },
  {
   "cell_type": "code",
   "execution_count": 6,
   "metadata": {
    "collapsed": true
   },
   "outputs": [],
   "source": [
    "sf.institute_id = \"DKRZ\" # example: sf.institute_id = \"AWI\""
   ]
  },
  {
   "cell_type": "markdown",
   "metadata": {},
   "source": [
    "##### model_id\n",
    "The value of this field has to be the value of the global NetCDF attribute 'model_id' \n",
    "in the data files. It is needed before the publication process is started in order that \n",
    "the value can be added to the relevant CORDEX list of CV1 if not yet there.\n",
    "Note that it must be composed by the 'institute_id' follwed by the RCM CORDEX model name, \n",
    "separated by a dash. It is part of the file name and the directory structure."
   ]
  },
  {
   "cell_type": "code",
   "execution_count": 7,
   "metadata": {
    "collapsed": true
   },
   "outputs": [],
   "source": [
    "sf.model_id = \"MPI-M\" # example: sf.model_id = \"AWI-HIRHAM5\""
   ]
  },
  {
   "cell_type": "markdown",
   "metadata": {},
   "source": [
    "#### experiment_id and time_period\n",
    "Experiment has to equal the value of the global NetCDF attribute 'experiment_id' \n",
    "in the data files. Time_period gives the period of data for which the publication \n",
    "request is submitted. If you intend to submit data from multiple experiments you may \n",
    "add one line for each additional experiment or send in additional publication request sheets."
   ]
  },
  {
   "cell_type": "code",
   "execution_count": 8,
   "metadata": {
    "collapsed": true
   },
   "outputs": [],
   "source": [
    "sf.experiment_id = \"...\"  # example: sf.experiment_id = \"evaluation\"\n",
    "                          # [\"value_a\",\"value_b\"] in case of multiple experiments\n",
    "sf.time_period = \"...\" # example: sf.time_period = \"197901-201412\" \n",
    "                       # [\"time_period_a\",\"time_period_b\"] in case of multiple values"
   ]
  },
  {
   "cell_type": "markdown",
   "metadata": {},
   "source": [
    "#### Example file name  (optional)\n",
    "Please provide an example file name of a file in your data collection, \n",
    "this name will be used to derive the other "
   ]
  },
  {
   "cell_type": "code",
   "execution_count": 11,
   "metadata": {
    "collapsed": false
   },
   "outputs": [
    {
     "name": "stdout",
     "output_type": "stream",
     "text": [
      "Structure: -------\n",
      "DRS key: DRS value\n",
      "------------------\n",
      "VariableName : tas\n",
      "Domain : AFR-44\n",
      "GCMModelName : MPI-M-MPI-ESM-LR\n",
      "CMIP5ExperimentName : rcp26\n",
      "CMIP5EnsembleMember : r1i1p1\n",
      "RCMModelName : MPI-CSC-REMO2009\n",
      "RCMVersionID : v1\n",
      "Frequency : mon\n",
      "TimeRange : yyyymm-yyyymm.nc\n"
     ]
    }
   ],
   "source": [
    "# Please run this cell to check your file name structure \n",
    "# please provide an example file name for the data to be submitted\n",
    "\n",
    "sf.example_file_name = \"tas_AFR-44_MPI-M-MPI-ESM-LR_rcp26_r1i1p1_MPI-CSC-REMO2009_v1_mon_yyyymm-yyyymm.nc\" # example: sf.example_file_name = \"tas_AFR-44_MPI-M-MPI-ESM-LR_rcp26_r1i1p1_MPI-CSC-REMO2009_v1_mon_yyyymm-yyyymm.nc\"\n",
    "\n",
    "checks.check_file_structure(sf,sf.example_file_name)"
   ]
  },
  {
   "cell_type": "markdown",
   "metadata": {},
   "source": [
    "#### information on the grid_mapping\n",
    "\n",
    "the NetCDF/CF name of the data grid ('rotated_latitude_longitude', 'lambert_conformal_conic', etc.), \n",
    "i.e. either that of the native model grid, or 'latitude_longitude' for the regular -XXi grids"
   ]
  },
  {
   "cell_type": "code",
   "execution_count": null,
   "metadata": {
    "collapsed": true
   },
   "outputs": [],
   "source": [
    "sf.grid_mapping_name = \"...\" # example: sf.grid_mapping_name = \"rotated_latitude_longitude\""
   ]
  },
  {
   "cell_type": "markdown",
   "metadata": {},
   "source": [
    "Does the grid configuration exactly follow the specifications in ADD2 (Table 1) \n",
    "in case the native grid  is 'rotated_pole'? If not, comment on the differences; otherwise write 'yes' or 'N/A'. If the data is not delivered on the computational grid it has to be noted here as well."
   ]
  },
  {
   "cell_type": "code",
   "execution_count": null,
   "metadata": {
    "collapsed": true
   },
   "outputs": [],
   "source": [
    "sf.grid_as_specified_if_rotated_pole = \"...\" # example: sf.grid_as_specified_if_rotated_pole = \"yes\""
   ]
  },
  {
   "cell_type": "markdown",
   "metadata": {},
   "source": [
    "### Please provide information on quality check performed on the data you plan to submit\n",
    "Please answer 'no', 'QC1', 'QC2-all', 'QC2-CORDEX', or 'other'.\n",
    "\n",
    "'QC1' refers to the compliancy checker that can be downloaded at http://cordex.dmi.dk. \n",
    "'QC2' refers to the quality checker developed at DKRZ. \n",
    "\n",
    "If your answer is 'other' give some informations."
   ]
  },
  {
   "cell_type": "code",
   "execution_count": 12,
   "metadata": {
    "collapsed": true
   },
   "outputs": [],
   "source": [
    "sf.data_qc_status = \"QC2-CORDEX\"  # example: sf.data_qc_status = \"QC2-CORDEX\"\n",
    "sf.data_qc_comment = \"...\" # any comment of quality status of the files"
   ]
  },
  {
   "cell_type": "markdown",
   "metadata": {},
   "source": [
    "### Terms of use\n",
    "Please give the terms of use that shall be asigned to the data.\n",
    "The options are 'unrestricted' and 'non-commercial only'.\n",
    "For the full text 'Terms of Use' of CORDEX data refer to\n",
    "http://cordex.dmi.dk/joomla/images/CORDEX/cordex_terms_of_use.pdf "
   ]
  },
  {
   "cell_type": "code",
   "execution_count": null,
   "metadata": {
    "collapsed": true
   },
   "outputs": [],
   "source": [
    "sf.terms_of_use = \"non-commercial\" # example: sf.terms_of_use = \"non-commercial\""
   ]
  },
  {
   "cell_type": "markdown",
   "metadata": {},
   "source": [
    "## Information on directory structure and data access path \n",
    "(and other information needed for data transport and data publication)"
   ]
  },
  {
   "cell_type": "markdown",
   "metadata": {},
   "source": [
    "\n",
    "If there is any directory structure deviation from the CORDEX standard please specify here. \n",
    "Otherwise enter 'compliant'. Please note that deviations MAY imply that data can not be accepted."
   ]
  },
  {
   "cell_type": "code",
   "execution_count": null,
   "metadata": {
    "collapsed": true
   },
   "outputs": [],
   "source": [
    "sf.directory_structure = \"...\" # example: sf.directory_structure = \"compliant\""
   ]
  },
  {
   "cell_type": "markdown",
   "metadata": {},
   "source": [
    "Give the path where the data reside, for example:\n",
    "blizzard.dkrz.de:/scratch/b/b364034/. If not applicable write N/A and give data access information in the data_information string"
   ]
  },
  {
   "cell_type": "code",
   "execution_count": null,
   "metadata": {
    "collapsed": true
   },
   "outputs": [],
   "source": [
    "sf.data_path = \"...\" # example: sf.data_path = \"mistral.dkrz.de:/mnt/lustre01/work/bm0021/k204016/CORDEX/archive/\"\n",
    "sf.data_information = \"...\" # ...any info where data can be accessed and transfered to the data center ... \""
   ]
  },
  {
   "cell_type": "markdown",
   "metadata": {},
   "source": [
    "#### Exclude variable list\n",
    "\n",
    "In each CORDEX file there may be only one variable which shall be published and searchable at the ESGF portal (target variable). In order to facilitate publication, all non-target variables are included in a list used by the publisher to avoid publication. A list of known non-target variables is [time, time_bnds, lon, lat, rlon ,rlat ,x ,y ,z ,height, plev, Lambert_Conformal, rotated_pole]. Please enter other variables into the left field if applicable (e.g. grid description variables), otherwise write 'N/A'.\n",
    "\n"
   ]
  },
  {
   "cell_type": "code",
   "execution_count": null,
   "metadata": {
    "collapsed": true
   },
   "outputs": [],
   "source": [
    "sf.exclude_variables_list = \"...\" # example: sf.exclude_variables_list=[\"bnds\", \"vertices\"]"
   ]
  },
  {
   "cell_type": "markdown",
   "metadata": {},
   "source": [
    "#### Uniqueness of tracking_id and creation_date\n",
    "In case any of your files is replacing a file already published, it must not have the same tracking_id nor \n",
    "the same creation_date as the file it replaces. \n",
    "Did you make sure that that this is not the case ? \n",
    "Reply 'yes'; otherwise adapt the new file versions.\n"
   ]
  },
  {
   "cell_type": "code",
   "execution_count": null,
   "metadata": {
    "collapsed": true
   },
   "outputs": [],
   "source": [
    "sf.uniqueness_of_tracking_id = \"yes\" # example: sf.uniqueness_of_tracking_id = \"yes\""
   ]
  },
  {
   "cell_type": "markdown",
   "metadata": {},
   "source": [
    "## Variable list\n",
    "list of variables submitted -- please remove the ones you do not provide:"
   ]
  },
  {
   "cell_type": "code",
   "execution_count": 13,
   "metadata": {
    "collapsed": false
   },
   "outputs": [],
   "source": [
    "\n",
    "sf.variable_list_day = [\n",
    "\"clh\",\"clivi\",\"cll\",\"clm\",\"clt\",\"clwvi\",\n",
    "\"evspsbl\",\"evspsblpot\",\n",
    "\"hfls\",\"hfss\",\"hurs\",\"huss\",\"hus850\",\n",
    "\"mrfso\",\"mrro\",\"mrros\",\"mrso\",\n",
    "\"pr\",\"prc\",\"prhmax\",\"prsn\",\"prw\",\"ps\",\"psl\",\n",
    "\"rlds\",\"rlus\",\"rlut\",\"rsds\",\"rsdt\",\"rsus\",\"rsut\",\n",
    "\"sfcWind\",\"sfcWindmax\",\"sic\",\"snc\",\"snd\",\"snm\",\"snw\",\"sund\",\n",
    "\"tas\",\"tasmax\",\"tasmin\",\"tauu\",\"tauv\",\"ta200\",\"ta500\",\"ta850\",\"ts\",\n",
    "\"uas\",\"ua200\",\"ua500\",\"ua850\",\n",
    "\"vas\",\"va200\",\"va500\",\"va850\",\"wsgsmax\",\n",
    "\"zg200\",\"zg500\",\"zmla\"\n",
    "]\n",
    "\n",
    "sf.variable_list_mon = [\n",
    "\"clt\",\n",
    "\"evspsbl\",\n",
    "\"hfls\",\"hfss\",\"hurs\",\"huss\",\"hus850\",\n",
    "\"mrfso\",\"mrro\",\"mrros\",\"mrso\",\n",
    "\"pr\",\"psl\",\n",
    "\"rlds\",\"rlus\",\"rlut\",\"rsds\",\"rsdt\",\"rsus\",\"rsut\",\n",
    "\"sfcWind\",\"sfcWindmax\",\"sic\",\"snc\",\"snd\",\"snm\",\"snw\",\"sund\",\n",
    "\"tas\",\"tasmax\",\"tasmin\",\"ta200\",\n",
    "\"ta500\",\"ta850\",\n",
    "\"uas\",\"ua200\",\"ua500\",\"ua850\",\n",
    "\"vas\",\"va200\",\"va500\",\"va850\",\n",
    "\"zg200\",\"zg500\"\n",
    "]\n",
    "sf.variable_list_sem = [\n",
    "\"clt\",\n",
    "\"evspsbl\",\n",
    "\"hfls\",\"hfss\",\"hurs\",\"huss\",\"hus850\",\n",
    "\"mrfso\",\"mrro\",\"mrros\",\"mrso\",\n",
    "\"pr\",\"psl\",\n",
    "\"rlds\",\"rlus\",\"rlut\",\"rsds\",\"rsdt\",\"rsus\",\"rsut\",\n",
    "\"sfcWind\",\"sfcWindmax\",\"sic\",\"snc\",\"snd\",\"snm\",\"snw\",\"sund\",\n",
    "\"tas\",\"tasmax\",\"tasmin\",\"ta200\",\"ta500\",\"ta850\",\n",
    "\"uas\",\"ua200\",\"ua500\",\"ua850\",\n",
    "\"vas\",\"va200\",\"va500\",\"va850\",\n",
    "\"zg200\",\"zg500\"  \n",
    "]\n",
    "\n",
    "sf.variable_list_fx = [\n",
    "\"areacella\",\n",
    "\"mrsofc\",\n",
    "\"orog\",\n",
    "\"rootd\",\n",
    "\"sftgif\",\"sftlf\"   \n",
    "]\n"
   ]
  },
  {
   "cell_type": "markdown",
   "metadata": {},
   "source": [
    "## Check your submission\n",
    "\n",
    "Please evaluate the following cell to check your submission, a summary is given with your submitted values and corresponding check results\n",
    "\n",
    "Please adapt the values above in case of a negative check result\n",
    "\n",
    "Only checked submission can be submitted"
   ]
  },
  {
   "cell_type": "code",
   "execution_count": 14,
   "metadata": {
    "collapsed": false
   },
   "outputs": [
    {
     "data": {
      "text/html": [
       "<p style=color:red;> Attention: your submission is incomplete and not yet ready for submission </p><p> Please see the following check summary: </p><table width=100%><tr><td><b>Value<b></td><td><b>Check<b>Result</td></tr><tr><td>data_qc_status</td><td style=color:red;>ERROR</td></tr><tr><td>directory_structure</td><td style=color:red;>ERROR</td></tr><tr><td>email</td><td style=color:red;>ERROR</td></tr><tr><td>exclude_variables_list</td><td style=color:red;>ERROR</td></tr><tr><td>experiment_id</td><td style=color:red;>ERROR</td></tr><tr><td>first name</td><td style=color:red;>ERROR</td></tr><tr><td>grid_as_specified_if_rotated_pole</td><td style=color:red;>ERROR</td></tr><tr><td>grid_mapping_name</td><td style=color:red;>ERROR</td></tr><tr><td>institute_id</td><td style=color:green;>OK</td></tr><tr><td>institution</td><td style=color:green;>OK</td></tr><tr><td>last name</td><td style=color:red;>ERROR</td></tr><tr><td>model_id</td><td style=color:green;>OK</td></tr><tr><td>submission_type</td><td style=color:red;>ERROR</td></tr><tr><td>terms_of_use</td><td style=color:red;>ERROR</td></tr><tr><td>time_period</td><td style=color:red;>ERROR</td></tr><tr><td>uniqueness_of_tracking_id</td><td style=color:red;>ERROR</td></tr><tr><td>valid_submission</td><td style=color:red;>ERROR</td></tr><tr><td>variable_list_day</td><td style=color:green;>OK</td></tr><tr><td>variable_list_fx</td><td style=color:green;>OK</td></tr><tr><td>variable_list_mon</td><td style=color:green;>OK</td></tr><tr><td>variable_list_sem</td><td style=color:green;>OK</td></tr></table>"
      ],
      "text/plain": [
       "{'data_qc_status': 0,\n",
       " 'directory_structure': 0,\n",
       " 'email': 0,\n",
       " 'exclude_variables_list': 0,\n",
       " 'experiment_id': 0,\n",
       " 'first name': 0,\n",
       " 'grid_as_specified_if_rotated_pole': 0,\n",
       " 'grid_mapping_name': 0,\n",
       " 'institute_id': 1,\n",
       " 'institution': 1,\n",
       " 'last name': 0,\n",
       " 'model_id': 1,\n",
       " 'submission_type': 0,\n",
       " 'terms_of_use': 0,\n",
       " 'time_period': 0,\n",
       " 'uniqueness_of_tracking_id': 0,\n",
       " 'valid_submission': 0,\n",
       " 'variable_list_day': True,\n",
       " 'variable_list_fx': True,\n",
       " 'variable_list_mon': True,\n",
       " 'variable_list_sem': True}"
      ]
     },
     "execution_count": 14,
     "metadata": {},
     "output_type": "execute_result"
    }
   ],
   "source": [
    "# simple consistency checks for your submission\n",
    "res = form_handler.check_submission(sf)\n",
    "#print res\n",
    "form_handler.DictTable(res)"
   ]
  },
  {
   "cell_type": "markdown",
   "metadata": {},
   "source": [
    "# Name and save your form\n",
    "The temporary name of your form is displayed at the top of this page\n",
    "Select \"File\" (top left corner) and \"Save and Checkpoint\" to preserve any changes\n",
    "Copy and past the name into the cell below (\"...\")"
   ]
  },
  {
   "cell_type": "code",
   "execution_count": 14,
   "metadata": {
    "collapsed": false
   },
   "outputs": [
    {
     "name": "stdout",
     "output_type": "stream",
     "text": [
      "form stored in transfer format in: /home/stephan/tmp/CORDEX/Kindermann_tst2.json\n",
      "\n",
      "\n",
      " Status message:\n",
      "-- your submission form Kindermann_tst2 was stored in repository \n"
     ]
    }
   ],
   "source": [
    "#sf.form_name=\"Kindermann-test1\"\n",
    "#form_handler.check_form_name(sf,sf.form_name)\n",
    "form_handler.form_save(sf)"
   ]
  },
  {
   "cell_type": "code",
   "execution_count": null,
   "metadata": {
    "collapsed": false,
    "scrolled": true
   },
   "outputs": [],
   "source": [
    "#evaluate this cell if you want a reference to the saved form emailed to you\n",
    "# (only available if you access this form via the DKRZ form hosting service)\n",
    "form_handler.email_form_info(sf)"
   ]
  },
  {
   "cell_type": "markdown",
   "metadata": {},
   "source": [
    "# officially submit your form\n",
    "the form will be submitted to the DKRZ team to process\n",
    "you also receive a confirmation email with a reference to your online form for future modifications "
   ]
  },
  {
   "cell_type": "code",
   "execution_count": null,
   "metadata": {
    "collapsed": false
   },
   "outputs": [],
   "source": [
    "form_handler.email_form_info(sf)\n",
    "form_handler.form_submission(sf)"
   ]
  }
 ],
 "metadata": {
  "kernelspec": {
   "display_name": "Python 2",
   "language": "python",
   "name": "python2"
  },
  "language_info": {
   "codemirror_mode": {
    "name": "ipython",
    "version": 2
   },
   "file_extension": ".py",
   "mimetype": "text/x-python",
   "name": "python",
   "nbconvert_exporter": "python",
   "pygments_lexer": "ipython2",
   "version": "2.7.11"
  }
 },
 "nbformat": 4,
 "nbformat_minor": 0
}
