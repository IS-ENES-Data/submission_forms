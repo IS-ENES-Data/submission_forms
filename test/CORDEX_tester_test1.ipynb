{
 "cells": [
  {
   "cell_type": "markdown",
   "metadata": {},
   "source": [
    "\n",
    "## ... submission form\n",
    "\n",
    "#### General Information\n",
    "\n",
    ".....\n"
   ]
  },
  {
   "cell_type": "markdown",
   "metadata": {},
   "source": [
    "# Start submission procedure\n",
    "The submission is based on this interactive document consisting of \"cells\" you can modify and then evaluate\n",
    "\n",
    "evaluation of cells is done by selecting the cell and then press the keys \"Shift\" + \"Enter\"\n",
    "<br /> please evaluate the following cell to initialize your form"
   ]
  },
  {
   "cell_type": "code",
   "execution_count": 1,
   "metadata": {
    "collapsed": true
   },
   "outputs": [],
   "source": [
    "%load_ext autoreload\n",
    "%autoreload 2import os, sys\n",
    "#sys.path.append('/home/stephan/Repos/ENES-EUDAT/submission_forms') \n"
   ]
  },
  {
   "cell_type": "code",
   "execution_count": 2,
   "metadata": {
    "collapsed": false
   },
   "outputs": [],
   "source": [
    "# initialize your CORDEX submission form template\n",
    "from dkrz_forms import form_handler, form_widgets\n",
    "from dkrz_forms import checks"
   ]
  },
  {
   "cell_type": "markdown",
   "metadata": {},
   "source": [
    "## check password and initialize submission template"
   ]
  },
  {
   "cell_type": "code",
   "execution_count": null,
   "metadata": {
    "collapsed": true
   },
   "outputs": [],
   "source": [
    "MY_LAST_NAME = \"kindermann\" \n",
    "\n",
    "# put your last name here\n",
    "form_info = form_widgets.check_pwd(MY_LAST_NAME)\n",
    "\n",
    "# sf = form_handler.init_form(\"CORDEX\",my_first_name,my_last_name,my_email,my_keyword)"
   ]
  },
  {
   "cell_type": "code",
   "execution_count": null,
   "metadata": {
    "collapsed": true
   },
   "outputs": [],
   "source": [
    "print form_widgets.LAST_NAME.value"
   ]
  },
  {
   "cell_type": "code",
   "execution_count": 28,
   "metadata": {
    "collapsed": false
   },
   "outputs": [
    {
     "name": "stdout",
     "output_type": "stream",
     "text": [
      "Enter your form key: ········\n",
      "---- Your Name:  test tester\n",
      "---- Your email:  tester\n",
      "---- Name of this submission form:  CORDEX_tester_test1\n",
      "     --->  This name should correspond to the title at the top of this form !!\n",
      "           otherwise you mixed your form password with another form !!\n"
     ]
    }
   ],
   "source": [
    "get_info = form_widgets.check_pwd(\"tester\")"
   ]
  },
  {
   "cell_type": "code",
   "execution_count": 29,
   "metadata": {
    "collapsed": false
   },
   "outputs": [
    {
     "name": "stdout",
     "output_type": "stream",
     "text": [
      "{'first_name': u'test', 'last_name': u'tester', 'form_repo': '/home/stephan/tmp/Repos/form_repo/CORDEX', 'project': 'CORDEX', 'pwd': '95G2UT', 'key': u'test1', 'form_name': u'CORDEX_tester_test1', 'form_json': u'/home/stephan/tmp/Repos/form_repo/CORDEX/CORDEX_tester_test1.json', 'email': u'snkinder@freenet.de'}\n"
     ]
    }
   ],
   "source": [
    "print get_info\n"
   ]
  },
  {
   "cell_type": "code",
   "execution_count": 31,
   "metadata": {
    "collapsed": false
   },
   "outputs": [
    {
     "name": "stdout",
     "output_type": "stream",
     "text": [
      "Info: myconfig not found - taking default config \n",
      "Form Handler: Initialized form for project: CORDEX\n",
      "CORDEX\n",
      "/home/stephan/tmp/Repos/form_repo/CORDEX\n",
      "CORDEX_tester_test1.ipynb\n",
      "/home/stephan/tmp/Repos/form_repo/CORDEX/CORDEX_tester_test1.ipynb\n",
      "submission form intitialized: sf\n",
      "(For the curious: the sf object is used in the following to store and manage all your information)\n"
     ]
    }
   ],
   "source": [
    "sf = form_handler.init_form(get_info)"
   ]
  },
  {
   "cell_type": "markdown",
   "metadata": {},
   "source": [
    "#### Type of submission\n",
    "please specify the type of this data submission:\n",
    "- \"initial_version\" for first submission of data\n",
    "- \"new _version\" for a re-submission of previousliy submitted data\n",
    "- \"retract\" for the request to retract previously submitted data"
   ]
  },
  {
   "cell_type": "code",
   "execution_count": 13,
   "metadata": {
    "collapsed": true
   },
   "outputs": [],
   "source": [
    "?form_widgets.show_status"
   ]
  },
  {
   "cell_type": "code",
   "execution_count": 10,
   "metadata": {
    "collapsed": true
   },
   "outputs": [],
   "source": [
    "form_widgets.display(form_widgets.submission_type)"
   ]
  },
  {
   "cell_type": "code",
   "execution_count": 11,
   "metadata": {
    "collapsed": false
   },
   "outputs": [
    {
     "name": "stdout",
     "output_type": "stream",
     "text": [
      "new_version\n"
     ]
    }
   ],
   "source": [
    "af.submission_tpye =  form_widgets.submission_type.value"
   ]
  },
  {
   "cell_type": "markdown",
   "metadata": {},
   "source": [
    "## Requested general information"
   ]
  },
  {
   "cell_type": "markdown",
   "metadata": {},
   "source": [
    "## Please provide model and institution info as well as an example of a file name\n",
    "#### institution\n",
    "The value of this field has to equal the value of the optional NetCDF attribute 'institution' \n",
    "(long version) in the data files if the latter is used."
   ]
  },
  {
   "cell_type": "code",
   "execution_count": null,
   "metadata": {
    "collapsed": true
   },
   "outputs": [],
   "source": [
    "sf.institution = \"...\" # example: sf.institution = \"Alfred Wegener Institute\""
   ]
  },
  {
   "cell_type": "markdown",
   "metadata": {},
   "source": [
    "##### institute_id\n",
    "The value of this field has to equal the value of the global NetCDF attribute 'institute_id' \n",
    "in the data files and must equal the 4th directory level. It is needed before the publication \n",
    "process is started in order that the value can be added to the relevant CORDEX list of CV1 \n",
    "if not yet there. Note that 'institute_id' has to be the first part of 'model_id'"
   ]
  },
  {
   "cell_type": "code",
   "execution_count": null,
   "metadata": {
    "collapsed": true
   },
   "outputs": [],
   "source": [
    "sf.institute_id = \"...\" # example: sf.institute_id = \"AWI\""
   ]
  },
  {
   "cell_type": "markdown",
   "metadata": {},
   "source": [
    "##### model_id\n",
    "The value of this field has to be the value of the global NetCDF attribute 'model_id' \n",
    "in the data files. It is needed before the publication process is started in order that \n",
    "the value can be added to the relevant CORDEX list of CV1 if not yet there.\n",
    "Note that it must be composed by the 'institute_id' follwed by the RCM CORDEX model name, \n",
    "separated by a dash. It is part of the file name and the directory structure."
   ]
  },
  {
   "cell_type": "code",
   "execution_count": null,
   "metadata": {
    "collapsed": true
   },
   "outputs": [],
   "source": [
    "sf.model_id = \"...\" # example: sf.model_id = \"AWI-HIRHAM5\""
   ]
  },
  {
   "cell_type": "markdown",
   "metadata": {},
   "source": [
    "#### experiment_id and time_period\n",
    "Experiment has to equal the value of the global NetCDF attribute 'experiment_id' \n",
    "in the data files. Time_period gives the period of data for which the publication \n",
    "request is submitted. If you intend to submit data from multiple experiments you may \n",
    "add one line for each additional experiment or send in additional publication request sheets."
   ]
  },
  {
   "cell_type": "code",
   "execution_count": null,
   "metadata": {
    "collapsed": true
   },
   "outputs": [],
   "source": [
    "sf.experiment_id = \"...\"  # example: sf.experiment_id = \"evaluation\"\n",
    "                          # [\"value_a\",\"value_b\"] in case of multiple experiments\n",
    "sf.time_period = \"...\" # example: sf.time_period = \"197901-201412\" \n",
    "                       # [\"time_period_a\",\"time_period_b\"] in case of multiple values"
   ]
  },
  {
   "cell_type": "markdown",
   "metadata": {},
   "source": [
    "#### Example file name \n",
    "Please provide an example file name of a file in your data collection, \n",
    "this name will be used to derive the other "
   ]
  },
  {
   "cell_type": "code",
   "execution_count": null,
   "metadata": {
    "collapsed": false
   },
   "outputs": [],
   "source": [
    "sf.example_file_name = \"...\" # example: sf.example_file_name = \"tas_AFR-44_MPI-M-MPI-ESM-LR_rcp26_r1i1p1_MPI-CSC-REMO2009_v1_mon_yyyymm-yyyymm.nc\""
   ]
  },
  {
   "cell_type": "code",
   "execution_count": null,
   "metadata": {
    "collapsed": false
   },
   "outputs": [],
   "source": [
    "# Please run this cell as it is to check your example file name structure \n",
    "# to_do: implement submission_form_check_file function - output result (attributes + check_result)\n",
    "form_handler.cordex_file_info(sf,sf.example_file_name)"
   ]
  },
  {
   "cell_type": "markdown",
   "metadata": {},
   "source": [
    "#### information on the grid_mapping\n",
    "\n",
    "the NetCDF/CF name of the data grid ('rotated_latitude_longitude', 'lambert_conformal_conic', etc.), \n",
    "i.e. either that of the native model grid, or 'latitude_longitude' for the regular -XXi grids"
   ]
  },
  {
   "cell_type": "code",
   "execution_count": null,
   "metadata": {
    "collapsed": true
   },
   "outputs": [],
   "source": [
    "sf.grid_mapping_name = \"...\" # example: sf.grid_mapping_name = \"rotated_latitude_longitude\""
   ]
  },
  {
   "cell_type": "markdown",
   "metadata": {},
   "source": [
    "Does the grid configuration exactly follow the specifications in ADD2 (Table 1) \n",
    "in case the native grid  is 'rotated_pole'? If not, comment on the differences; otherwise write 'yes' or 'N/A'. If the data is not delivered on the computational grid it has to be noted here as well."
   ]
  },
  {
   "cell_type": "code",
   "execution_count": null,
   "metadata": {
    "collapsed": true
   },
   "outputs": [],
   "source": [
    "sf.grid_as_specified_if_rotated_pole = \"...\" # example: sf.grid_as_specified_if_rotated_pole = \"yes\""
   ]
  },
  {
   "cell_type": "markdown",
   "metadata": {},
   "source": [
    "### Please provide information on quality check performed on the data you plan to submit\n",
    "Please answer 'no', 'QC1', 'QC2-all', 'QC2-CORDEX', or 'other'.\n",
    "\n",
    "'QC1' refers to the compliancy checker that can be downloaded at http://cordex.dmi.dk. \n",
    "'QC2' refers to the quality checker developed at DKRZ. \n",
    "\n",
    "If your answer is 'other' give some informations."
   ]
  },
  {
   "cell_type": "code",
   "execution_count": null,
   "metadata": {
    "collapsed": true
   },
   "outputs": [],
   "source": [
    "sf.data_qc_status = \"...\"  # example: sf.data_qc_status = \"QC2-CORDEX\"\n",
    "sf.data_qc_comment = \"...\" # any comment of quality status of the files"
   ]
  },
  {
   "cell_type": "markdown",
   "metadata": {},
   "source": [
    "### Terms of use\n",
    "Please give the terms of use that shall be asigned to the data.\n",
    "The options are 'unrestricted' and 'non-commercial only'.\n",
    "For the full text 'Terms of Use' of CORDEX data refer to\n",
    "http://cordex.dmi.dk/joomla/images/CORDEX/cordex_terms_of_use.pdf "
   ]
  },
  {
   "cell_type": "code",
   "execution_count": null,
   "metadata": {
    "collapsed": true
   },
   "outputs": [],
   "source": [
    "sf.terms_of_use = \"...\" # example: sf.terms_of_use = \"unrestricted\""
   ]
  },
  {
   "cell_type": "markdown",
   "metadata": {},
   "source": [
    "## Information on directory structure and data access path \n",
    "(and other information needed for data transport and data publication)"
   ]
  },
  {
   "cell_type": "markdown",
   "metadata": {},
   "source": [
    "\n",
    "If there is any directory structure deviation from the CORDEX standard please specify here. \n",
    "Otherwise enter 'compliant'. Please note that deviations MAY imply that data can not be accepted."
   ]
  },
  {
   "cell_type": "code",
   "execution_count": null,
   "metadata": {
    "collapsed": true
   },
   "outputs": [],
   "source": [
    "sf.directory_structure = \"...\" # example: sf.directory_structure = \"compliant\""
   ]
  },
  {
   "cell_type": "markdown",
   "metadata": {},
   "source": [
    "Give the path where the data reside, for example:\n",
    "blizzard.dkrz.de:/scratch/b/b364034/. If not applicable write N/A and give data access information in the data_information string"
   ]
  },
  {
   "cell_type": "code",
   "execution_count": null,
   "metadata": {
    "collapsed": true
   },
   "outputs": [],
   "source": [
    "sf.data_path = \"...\"        # example: sf.data_path = \"mistral.dkrz.de:/mnt/lustre01/work/bm0021/k204016/CORDEX/archive/\"\n",
    "sf.data_information = \"...\" # ...any info where data can be accessed and transfered to the data center ... \""
   ]
  },
  {
   "cell_type": "markdown",
   "metadata": {},
   "source": [
    "#### Exclude variable list\n",
    "\n",
    "In each CORDEX file there may be only one variable which shall be published and searchable at the ESGF portal (target variable). In order to facilitate publication, all non-target variables are included in a list used by the publisher to avoid publication. A list of known non-target variables is [time, time_bnds, lon, lat, rlon ,rlat ,x ,y ,z ,height, plev, Lambert_Conformal, rotated_pole]. Please enter other variables into the left field if applicable (e.g. grid description variables), otherwise write 'N/A'.\n",
    "\n"
   ]
  },
  {
   "cell_type": "code",
   "execution_count": null,
   "metadata": {
    "collapsed": true
   },
   "outputs": [],
   "source": [
    "sf.exclude_variables_list = \"...\" # example: sf.exclude_variables_list=[\"bnds\", \"vertices\"]"
   ]
  },
  {
   "cell_type": "markdown",
   "metadata": {},
   "source": [
    "#### Uniqueness of tracking_id and creation_date\n",
    "In case any of your files is replacing a file already published, it must not have the same tracking_id nor \n",
    "the same creation_date as the file it replaces. \n",
    "Did you make sure that that this is not the case ? \n",
    "Reply 'yes'; otherwise adapt the new file versions.\n"
   ]
  },
  {
   "cell_type": "code",
   "execution_count": null,
   "metadata": {
    "collapsed": true
   },
   "outputs": [],
   "source": [
    "sf.uniqueness_of_tracking_id = \"...\" # example: sf.uniqueness_of_tracking_id = \"yes\""
   ]
  },
  {
   "cell_type": "markdown",
   "metadata": {},
   "source": [
    "## Variable list\n",
    "list of variables submitted -- please remove the ones you do not provide:"
   ]
  },
  {
   "cell_type": "code",
   "execution_count": null,
   "metadata": {
    "collapsed": false
   },
   "outputs": [],
   "source": [
    "\n",
    "sf.variable_list_day = [\n",
    "\"clh\",\"clivi\",\"cll\",\"clm\",\"clt\",\"clwvi\",\n",
    "\"evspsbl\",\"evspsblpot\",\n",
    "\"hfls\",\"hfss\",\"hurs\",\"huss\",\"hus850\",\n",
    "\"mrfso\",\"mrro\",\"mrros\",\"mrso\",\n",
    "\"pr\",\"prc\",\"prhmax\",\"prsn\",\"prw\",\"ps\",\"psl\",\n",
    "\"rlds\",\"rlus\",\"rlut\",\"rsds\",\"rsdt\",\"rsus\",\"rsut\",\n",
    "\"sfcWind\",\"sfcWindmax\",\"sic\",\"snc\",\"snd\",\"snm\",\"snw\",\"sund\",\n",
    "\"tas\",\"tasmax\",\"tasmin\",\"tauu\",\"tauv\",\"ta200\",\"ta500\",\"ta850\",\"ts\",\n",
    "\"uas\",\"ua200\",\"ua500\",\"ua850\",\n",
    "\"vas\",\"va200\",\"va500\",\"va850\",\"wsgsmax\",\n",
    "\"zg200\",\"zg500\",\"zmla\"\n",
    "]\n",
    "\n",
    "sf.variable_list_mon = [\n",
    "\"clt\",\n",
    "\"evspsbl\",\n",
    "\"hfls\",\"hfss\",\"hurs\",\"huss\",\"hus850\",\n",
    "\"mrfso\",\"mrro\",\"mrros\",\"mrso\",\n",
    "\"pr\",\"psl\",\n",
    "\"rlds\",\"rlus\",\"rlut\",\"rsds\",\"rsdt\",\"rsus\",\"rsut\",\n",
    "\"sfcWind\",\"sfcWindmax\",\"sic\",\"snc\",\"snd\",\"snm\",\"snw\",\"sund\",\n",
    "\"tas\",\"tasmax\",\"tasmin\",\"ta200\",\n",
    "\"ta500\",\"ta850\",\n",
    "\"uas\",\"ua200\",\"ua500\",\"ua850\",\n",
    "\"vas\",\"va200\",\"va500\",\"va850\",\n",
    "\"zg200\",\"zg500\"\n",
    "]\n",
    "sf.variable_list_sem = [\n",
    "\"clt\",\n",
    "\"evspsbl\",\n",
    "\"hfls\",\"hfss\",\"hurs\",\"huss\",\"hus850\",\n",
    "\"mrfso\",\"mrro\",\"mrros\",\"mrso\",\n",
    "\"pr\",\"psl\",\n",
    "\"rlds\",\"rlus\",\"rlut\",\"rsds\",\"rsdt\",\"rsus\",\"rsut\",\n",
    "\"sfcWind\",\"sfcWindmax\",\"sic\",\"snc\",\"snd\",\"snm\",\"snw\",\"sund\",\n",
    "\"tas\",\"tasmax\",\"tasmin\",\"ta200\",\"ta500\",\"ta850\",\n",
    "\"uas\",\"ua200\",\"ua500\",\"ua850\",\n",
    "\"vas\",\"va200\",\"va500\",\"va850\",\n",
    "\"zg200\",\"zg500\"  \n",
    "]\n",
    "\n",
    "sf.variable_list_fx = [\n",
    "\"areacella\",\n",
    "\"mrsofc\",\n",
    "\"orog\",\n",
    "\"rootd\",\n",
    "\"sftgif\",\"sftlf\"   \n",
    "]"
   ]
  },
  {
   "cell_type": "markdown",
   "metadata": {},
   "source": [
    "## Check your submission form\n",
    "\n",
    "Please evaluate the following cell to check your submission form.\n",
    "\n",
    "In case of errors, please go up to the corresponden information cells and update your information accordingly."
   ]
  },
  {
   "cell_type": "code",
   "execution_count": 14,
   "metadata": {
    "collapsed": false
   },
   "outputs": [
    {
     "data": {
      "text/html": [
       "<p style=color:red;> Attention: your submission is incomplete and not yet ready for submission </p><p> Please see the following check summary: </p><table width=100%><tr><td><b>Value<b></td><td><b>Check<b>Result</td></tr><tr><td>data_qc_status</td><td style=color:red;>ERROR</td></tr><tr><td>directory_structure</td><td style=color:red;>ERROR</td></tr><tr><td>email</td><td style=color:red;>ERROR</td></tr><tr><td>exclude_variables_list</td><td style=color:red;>ERROR</td></tr><tr><td>experiment_id</td><td style=color:red;>ERROR</td></tr><tr><td>first name</td><td style=color:red;>ERROR</td></tr><tr><td>grid_as_specified_if_rotated_pole</td><td style=color:red;>ERROR</td></tr><tr><td>grid_mapping_name</td><td style=color:red;>ERROR</td></tr><tr><td>institute_id</td><td style=color:red;>ERROR</td></tr><tr><td>institution</td><td style=color:red;>ERROR</td></tr><tr><td>last name</td><td style=color:red;>ERROR</td></tr><tr><td>model_id</td><td style=color:red;>ERROR</td></tr><tr><td>submission_type</td><td style=color:red;>ERROR</td></tr><tr><td>terms_of_use</td><td style=color:red;>ERROR</td></tr><tr><td>time_period</td><td style=color:red;>ERROR</td></tr><tr><td>uniqueness_of_tracking_id</td><td style=color:red;>ERROR</td></tr><tr><td>valid_submission</td><td style=color:red;>ERROR</td></tr><tr><td>variable_list_day</td><td style=color:red;>ERROR</td></tr><tr><td>variable_list_fx</td><td style=color:red;>ERROR</td></tr><tr><td>variable_list_mon</td><td style=color:red;>ERROR</td></tr><tr><td>variable_list_sem</td><td style=color:red;>ERROR</td></tr></table>"
      ],
      "text/plain": [
       "{'data_qc_status': 0,\n",
       " 'directory_structure': 0,\n",
       " 'email': 0,\n",
       " 'exclude_variables_list': 0,\n",
       " 'experiment_id': 0,\n",
       " 'first name': 0,\n",
       " 'grid_as_specified_if_rotated_pole': 0,\n",
       " 'grid_mapping_name': 0,\n",
       " 'institute_id': 0,\n",
       " 'institution': 0,\n",
       " 'last name': 0,\n",
       " 'model_id': 0,\n",
       " 'submission_type': 0,\n",
       " 'terms_of_use': 0,\n",
       " 'time_period': 0,\n",
       " 'uniqueness_of_tracking_id': 0,\n",
       " 'valid_submission': 0,\n",
       " 'variable_list_day': False,\n",
       " 'variable_list_fx': False,\n",
       " 'variable_list_mon': False,\n",
       " 'variable_list_sem': False}"
      ]
     },
     "execution_count": 14,
     "metadata": {},
     "output_type": "execute_result"
    }
   ],
   "source": [
    "# simple consistency check report for your submission form\n",
    "res = form_handler.check_submission(sf)\n",
    "sf.sub.valid_submission = res['valid_submission']\n",
    "form_handler.DictTable(res)"
   ]
  },
  {
   "cell_type": "markdown",
   "metadata": {},
   "source": [
    "# Save your form\n",
    "\n",
    "your form will be stored (the form name consists of your last name plut your keyword)"
   ]
  },
  {
   "cell_type": "code",
   "execution_count": 32,
   "metadata": {
    "collapsed": false
   },
   "outputs": [
    {
     "name": "stdout",
     "output_type": "stream",
     "text": [
      "{'repo': '', 'subform_path': u'/home/stephan/tmp/Repos/form_repo/CORDEX/CORDEX_tester_test1.ipynb', 'package_path': u'/home/stephan/tmp/Repos/form_repo/CORDEX/CORDEX_tester_test1.json', 'package_name': u'CORDEX_tester_test1.json', 'form_repo': ('/home/stephan/tmp/Repos/form_repo/CORDEX',), 'form_name': u'CORDEX_tester_test1', 'form_repo_path': u'/home/stephan/tmp/Repos/form_repo/CORDEX/CORDEX_tester_test1.ipynb', 'form_path': u'/home/stephan/Repos/ENES-EUDAT/submission_forms/test/forms/CORDEX/CORDEX_tester_test1.ipynb', 'checks_done': 'none'}\n"
     ]
    }
   ],
   "source": [
    "print sf.sub.entity_out.__dict__"
   ]
  },
  {
   "cell_type": "code",
   "execution_count": 33,
   "metadata": {
    "collapsed": false
   },
   "outputs": [
    {
     "name": "stdout",
     "output_type": "stream",
     "text": [
      "\n",
      "\n",
      "Form Handler - save form status message:\n",
      "/home/stephan/tmp/Repos/form_repo/CORDEX/CORDEX_tester_test1.ipynb\n",
      " --- form stored in transfer format in: /home/stephan/tmp/Repos/form_repo/CORDEX/CORDEX_tester_test1.json\n",
      " --- commit message:[master 794a62a] Form Handler: submission form for user tester saved using prefix CORDEX_tester_test1 ## ..my comment..\n",
      " 1 file changed, 3 insertions(+), 5 deletions(-)\n"
     ]
    }
   ],
   "source": [
    "form_handler.save_form(sf,\"..my comment..\") # edit my comment info "
   ]
  },
  {
   "cell_type": "code",
   "execution_count": 35,
   "metadata": {
    "collapsed": false
   },
   "outputs": [
    {
     "name": "stdout",
     "output_type": "stream",
     "text": [
      " Info: myconfig not found - taking default config \n",
      "This form is not hosted at DKRZ! Thus form information is stored locally on your computer \n",
      "\n",
      "Here is a summary of the generated and stored information:\n",
      "-- form for project:  CORDEX\n",
      "-- form name:  CORDEX_tester_test1\n",
      "-- submission form path:  /home/stephan/tmp/Repos/form_repo/CORDEX/CORDEX_tester_test1.ipynb\n",
      "-- package path:  /home/stephan/tmp/Repos/form_repo/CORDEX/CORDEX_tester_test1.json\n",
      "-- package name:  CORDEX_tester_test1.json\n"
     ]
    }
   ],
   "source": [
    "#evaluate this cell if you want a reference to the saved form emailed to you\n",
    "# (only available if you access this form via the DKRZ form hosting service)\n",
    "form_handler.email_form_info(sf)"
   ]
  },
  {
   "cell_type": "code",
   "execution_count": 36,
   "metadata": {
    "collapsed": false
   },
   "outputs": [
    {
     "name": "stdout",
     "output_type": "stream",
     "text": [
      "This form is not hosted at DKRZ! Thus form information is stored locally on your computer \n",
      "\n",
      "Here is a summary of the generated and stored information:\n",
      "-- form for project:  CORDEX\n",
      "-- form name:  CORDEX_tester_test1\n",
      "-- submission form path:  /home/stephan/tmp/Repos/form_repo/CORDEX/CORDEX_tester_test1.ipynb\n",
      "-- package path:  /home/stephan/tmp/Repos/form_repo/CORDEX/CORDEX_tester_test1.json\n",
      "-- package name:  CORDEX_tester_test1.json\n"
     ]
    }
   ],
   "source": [
    "# evaluate this cell if you want a reference (provided by email)\n",
    "# (only available if you access this form via the DKRZ hosting service)\n",
    "form_handler.email_form_info(sf)"
   ]
  },
  {
   "cell_type": "markdown",
   "metadata": {},
   "source": [
    "# officially submit your form\n",
    "the form will be submitted to the DKRZ team to process\n",
    "you also receive a confirmation email with a reference to your online form for future modifications "
   ]
  },
  {
   "cell_type": "code",
   "execution_count": null,
   "metadata": {
    "collapsed": false
   },
   "outputs": [],
   "source": [
    "form_handler.email_form_info(sf)\n",
    "form_handler.form_submission(sf)"
   ]
  },
  {
   "cell_type": "code",
   "execution_count": 42,
   "metadata": {
    "collapsed": false
   },
   "outputs": [
    {
     "name": "stdout",
     "output_type": "stream",
     "text": [
      "{'repo': '', 'subform_path': u'/home/stephan/tmp/Repos/form_repo/CORDEX/CORDEX_tester_test1.ipynb', 'package_path': u'/home/stephan/tmp/Repos/form_repo/CORDEX/CORDEX_tester_test1.json', 'package_name': u'CORDEX_tester_test1.json', 'form_repo': ('/home/stephan/tmp/Repos/form_repo/CORDEX',), 'form_name': u'CORDEX_tester_test1', 'form_repo_path': u'/home/stephan/tmp/Repos/form_repo/CORDEX/CORDEX_tester_test1.ipynb', 'form_path': u'/home/stephan/Repos/ENES-EUDAT/submission_forms/test/forms/CORDEX/CORDEX_tester_test1.ipynb', 'checks_done': 'none'}\n"
     ]
    }
   ],
   "source": [
    "print sf.sub.entity_out.__dict__\n"
   ]
  },
  {
   "cell_type": "code",
   "execution_count": null,
   "metadata": {
    "collapsed": true
   },
   "outputs": [],
   "source": []
  }
 ],
 "metadata": {
  "anaconda-cloud": {},
  "kernelspec": {
   "display_name": "Python [conda env:generic1]",
   "language": "python",
   "name": "conda-env-generic1-py"
  },
  "language_info": {
   "codemirror_mode": {
    "name": "ipython",
    "version": 2
   },
   "file_extension": ".py",
   "mimetype": "text/x-python",
   "name": "python",
   "nbconvert_exporter": "python",
   "pygments_lexer": "ipython2",
   "version": "2.7.11"
  }
 },
 "nbformat": 4,
 "nbformat_minor": 0
}
