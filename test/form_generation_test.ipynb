{
 "cells": [
  {
   "cell_type": "markdown",
   "metadata": {},
   "source": [
    "# Step by step workflow test notebook"
   ]
  },
  {
   "cell_type": "code",
   "execution_count": 1,
   "metadata": {},
   "outputs": [],
   "source": [
    "%load_ext autoreload\n",
    "%autoreload 2"
   ]
  },
  {
   "cell_type": "code",
   "execution_count": null,
   "metadata": {
    "collapsed": true
   },
   "outputs": [],
   "source": [
    "#!echo %PATH%"
   ]
  },
  {
   "cell_type": "code",
   "execution_count": 2,
   "metadata": {
    "scrolled": true
   },
   "outputs": [
    {
     "name": "stdout",
     "output_type": "stream",
     "text": [
      "Detected FORM_URL_PATH:  http://localhost:8888/notebooks/Repos/submission_forms/test/forms\n"
     ]
    }
   ],
   "source": [
    "#import sys\n",
    "#sys.path.append('C:\\\\Users\\\\Stephan Kindermann\\\\Documents\\\\GitHub\\\\submission_forms')\n",
    "import logging as log\n",
    "import os\n",
    "from dkrz_forms import form_handler\n",
    "from test import test_steps\n",
    "#from dkrz_forms.config.project_config import FORM_REPO, NOTEBOOK_DIRECTORY\n",
    "#print NOTEBOOK_DIRECTORY\n",
    "vprint = form_handler.vprint "
   ]
  },
  {
   "cell_type": "markdown",
   "metadata": {},
   "source": [
    "## Generate a personal submission form based on a project template"
   ]
  },
  {
   "cell_type": "code",
   "execution_count": 3,
   "metadata": {
    "collapsed": true
   },
   "outputs": [],
   "source": [
    "from dkrz_forms import utils"
   ]
  },
  {
   "cell_type": "code",
   "execution_count": 4,
   "metadata": {
    "scrolled": false
   },
   "outputs": [
    {
     "name": "stdout",
     "output_type": "stream",
     "text": [
      "Initialize git repo: /home/stephan/tmp/Repos/test\n",
      "Form Handler: \n",
      "    -- initializing form for project: test\n",
      "test\n",
      "/home/stephan/tmp/Repos/test\n",
      "test_testsuite_123.ipynb\n",
      "entity_in.form_path /home/stephan/Repos/submission_forms/test/forms/test\n",
      "entity_out.form_repo: /home/stephan/tmp/Repos/test\n",
      "entity_out.form.json: /home/stephan/tmp/Repos/test/test_testsuite_123.json\n",
      "/home/stephan/Repos/submission_forms/test/forms/test/test_testsuite_123.ipynb\n",
      "/home/stephan/tmp/Repos/test/test_testsuite_123.ipynb\n",
      "    -- submission form intitialized\n",
      "    -- (For the curious: the resulting sf object is used in the following\n",
      "        to store and manage all your submission related information)\n"
     ]
    }
   ],
   "source": [
    "### form generation\n",
    "import pprint\n",
    "test_steps.test_init_form()\n"
   ]
  },
  {
   "cell_type": "code",
   "execution_count": null,
   "metadata": {
    "collapsed": true
   },
   "outputs": [],
   "source": [
    "test_steps.sf.form_dir\n"
   ]
  },
  {
   "cell_type": "markdown",
   "metadata": {},
   "source": [
    "### Retrieve the private template (pwd protected) and make changes form"
   ]
  },
  {
   "cell_type": "code",
   "execution_count": null,
   "metadata": {
    "collapsed": true
   },
   "outputs": [],
   "source": []
  },
  {
   "cell_type": "code",
   "execution_count": 5,
   "metadata": {},
   "outputs": [
    {
     "name": "stdout",
     "output_type": "stream",
     "text": [
      "Form Handler: \n",
      "    -- initializing form for project: test\n",
      "test\n",
      "/home/stephan/tmp/Repos/test\n",
      "test_testsuite_123.ipynb\n",
      "entity_in.form_path /home/stephan/Repos/submission_forms/test/forms/test\n",
      "Warning: no keystore - new keystore generated\n",
      "TTT:  store key in keystore 6ZB66G /home/stephan/tmp/Repos/keystore\n",
      "--- copy from: /home/stephan/Repos/submission_forms/dkrz_forms/Templates/test_submission_form.ipynb\n",
      "--- to:   /home/stephan/tmp/Repos/test/test_testsuite_123.ipynb\n",
      "--- and to:  /home/stephan/Repos/submission_forms/test/forms/test/test_testsuite_123.ipynb\n",
      "--------------------------------------------------------------------\n",
      "   A submission form was created for you, please visit the following link:\n",
      "http://localhost:8888/notebooks/Repos/submission_forms/test/forms/test/test_testsuite_123.ipynb\n",
      "--------------------------------------------------------------------\n",
      "/home/stephan/Repos/submission_forms/test/forms/test/test_testsuite_123.ipynb\n",
      "/home/stephan/tmp/Repos/test/test_testsuite_123.ipynb\n",
      " \n",
      " ......  initial version saved ...\n",
      "/home/stephan/Repos/submission_forms/test/forms/test/test_testsuite_123.ipynb\n",
      "/home/stephan/tmp/Repos/test/test_testsuite_123.ipynb\n",
      " \n",
      "  !!  current version saved in repository\n",
      "  !!  the above link is only valid for the next 5 hours\n",
      "  !!  to retrieve the form after this use the following link: \n",
      "http://localhost:8888/notebooks/Repos/submission_forms/test/forms/Create_Submission_Form.ipynb\n",
      "       with the password: 6ZB66G\n"
     ]
    }
   ],
   "source": [
    "test_steps.test_generate_submission_form()"
   ]
  },
  {
   "cell_type": "markdown",
   "metadata": {},
   "source": [
    "### Retrieve a partially filled form and complete it"
   ]
  },
  {
   "cell_type": "code",
   "execution_count": null,
   "metadata": {
    "collapsed": true
   },
   "outputs": [],
   "source": [
    "test_steps.test_form_completion()\n",
    "\n",
    "#print test_steps.sf"
   ]
  },
  {
   "cell_type": "markdown",
   "metadata": {},
   "source": [
    "### Submit a completed form"
   ]
  },
  {
   "cell_type": "code",
   "execution_count": null,
   "metadata": {
    "collapsed": true,
    "scrolled": true
   },
   "outputs": [],
   "source": [
    "test_steps.test_form_submission()"
   ]
  },
  {
   "cell_type": "markdown",
   "metadata": {},
   "source": [
    "### Admin workflow step 1: form validation"
   ]
  },
  {
   "cell_type": "code",
   "execution_count": null,
   "metadata": {
    "collapsed": true
   },
   "outputs": [],
   "source": [
    "test_steps.test_form_review()\n"
   ]
  },
  {
   "cell_type": "markdown",
   "metadata": {},
   "source": [
    "### step 2: data ingest"
   ]
  },
  {
   "cell_type": "code",
   "execution_count": null,
   "metadata": {
    "collapsed": true
   },
   "outputs": [],
   "source": [
    "test_steps.test_data_ingest()"
   ]
  },
  {
   "cell_type": "markdown",
   "metadata": {},
   "source": [
    "### step 3: data quality assurance"
   ]
  },
  {
   "cell_type": "code",
   "execution_count": null,
   "metadata": {
    "collapsed": true
   },
   "outputs": [],
   "source": [
    "test_steps.test_data_quality_assurance()"
   ]
  },
  {
   "cell_type": "markdown",
   "metadata": {},
   "source": [
    "### step 4: data publication"
   ]
  },
  {
   "cell_type": "code",
   "execution_count": null,
   "metadata": {
    "collapsed": true
   },
   "outputs": [],
   "source": [
    "test_steps.test_data_publication()"
   ]
  },
  {
   "cell_type": "markdown",
   "metadata": {},
   "source": [
    "### step 5: data archival"
   ]
  },
  {
   "cell_type": "code",
   "execution_count": null,
   "metadata": {
    "collapsed": true
   },
   "outputs": [],
   "source": [
    "test_steps.test_data_archival()\n"
   ]
  },
  {
   "cell_type": "code",
   "execution_count": null,
   "metadata": {
    "collapsed": true
   },
   "outputs": [],
   "source": [
    "print C.d\n"
   ]
  },
  {
   "cell_type": "code",
   "execution_count": null,
   "metadata": {
    "collapsed": true
   },
   "outputs": [],
   "source": []
  }
 ],
 "metadata": {
  "anaconda-cloud": {},
  "kernelspec": {
   "display_name": "Python 3",
   "language": "python",
   "name": "python3"
  },
  "language_info": {
   "codemirror_mode": {
    "name": "ipython",
    "version": 3
   },
   "file_extension": ".py",
   "mimetype": "text/x-python",
   "name": "python",
   "nbconvert_exporter": "python",
   "pygments_lexer": "ipython3",
   "version": "3.6.6"
  }
 },
 "nbformat": 4,
 "nbformat_minor": 2
}
