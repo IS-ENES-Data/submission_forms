{
 "cells": [
  {
   "cell_type": "markdown",
   "metadata": {},
   "source": [
    "# ESGF replication request form\n",
    "\n",
    "![form-submission](../fig/form-submission.png)"
   ]
  },
  {
   "cell_type": "markdown",
   "metadata": {},
   "source": [
    "This form is intended to request data to be replicated from other ESGF nodes to be made\n",
    "locally available in the DKRZ CMIP data pool.\n",
    "\n",
    "The specification of a requested data collection is based on the search facets describing the data collection. These facets correspond directly to the search categories you use to find data  in one of the ESGF portals (e.g. https://esgf-data.dkrz.de/).\n",
    "\n",
    "## specification of ESGF data to be replicated\n",
    "To be able to automate the data replication process as much as possible we recommend the following steps, which are supported in this form. In case you have problems with this approach please contact us directly via mail (esgf-replication 'at' dkrz.de). \n",
    "\n",
    "- **Step 1:** define your data request based on the search facets you need to characterize the data collection in one of the ESGF portals.\n",
    "- **Step 2:** write down your facet selection choices in the specific format supported by the [synda replication tool](http://prodiguer.github.io/synda/): \n",
    "   - The specification is based on so called [selection files](https://github.com/Prodiguer/synda/blob/master/sdt/doc/selection_file.md) see [examples](thttps://github.com/Prodiguer/synda/tree/master/sdt/selection/sample) for a set of examples\n",
    "   - put your selection files in this form (see the section \"Edit and store your replica selection files\" below)\n",
    "- **Step 3:** Test your selection file(s) with respect to correctnes (see section \"check your selection files\" below)\n",
    "- **Step 4:** Test your selection file(s) with respect to data volume adressed (see section \"check data volume\" below)\n",
    "- **Step 5:** Submit your replication request\n",
    "\n",
    "**General remarks:**\n",
    "\n",
    "- We recommend to install the synda application at your lab in case you have recurring needs for data to be made available at DKRZ, this way you can perform step 1 to step 5 at your lab.\n",
    "- We recommend to split your request into a set of small well defined selection files instead of specifying one complex file characterizing your data needs\n"
   ]
  },
  {
   "cell_type": "markdown",
   "metadata": {},
   "source": [
    "### Please provide your last name and the password for this form"
   ]
  },
  {
   "cell_type": "code",
   "execution_count": 1,
   "metadata": {
    "collapsed": true
   },
   "outputs": [],
   "source": [
    "MY_LAST_NAME = \"kindermann\"   # e.gl MY_LAST_NAME = \"schulz\" \n",
    "#-------------------------------------------------\n",
    "from dkrz_forms import form_handler, form_widgets\n",
    "#form_info = form_widgets.check_pwd(MY_LAST_NAME)\n",
    "#sf = form_handler.init_form(form_info)\n",
    "#form = sf.sub.entity_out.report\n",
    "#from IPython.display import display\n",
    "#import ipywidgets as widgets"
   ]
  },
  {
   "cell_type": "markdown",
   "metadata": {},
   "source": [
    "## Step 2: Edit and store your replica selection file(s)\n",
    "\n",
    "Please provide the facet values charaterizing your data request. You can find the appropriate settings either \n",
    "- by using an ESGF portal and remembering your search facets or\n",
    "- by playing around with the cells below until your request is fully specified or\n",
    "- by installing the synda tool at your lab and using the tool directly\n",
    "\n",
    "an [example seclection](http://prodiguer.github.io/synda/sdt/selection_file.html) file looks like: \n",
    "\n",
    "     project=\"CMIP5\"\n",
    "     model=\"CNRM-CM5 CSIRO-Mk3-6-0\"\n",
    "     experiment=\"historical amip\"\n",
    "     ensemble=\"r1i1p1\"\n",
    "     variable[atmos][mon]=\"tasmin tas psl\"\n",
    "     variable[ocean][fx]=\"areacello sftof\"\n",
    "     variable[land][mon]=\"mrsos,nppRoot,nep\"\n",
    "     variable[seaIce][mon]=\"sic evap\"\n",
    "     variable[ocnBgchem][mon]=\"dissic fbddtalk\"\n",
    "\n",
    "You can store your request using the cells below by adding `%%writefile seclection/myfilename.txt`  as a first line. Please select \"myfilenamee\" carefully to be able to remember later the dataset which this file charecterizes e.g. `%%writefile erich_cmip5_atmos_vars_for_exp1.txt`\n"
   ]
  },
  {
   "cell_type": "markdown",
   "metadata": {},
   "source": [
    "### store your selection files in cells below\n",
    "\n",
    "- fill the following cell and evaluate it \"Shift-Enter\" to store your selection file unter the specified name.\n",
    "- add new cells for additional selection files using \"Insert\" --> \"Incsert Cell Below\" in the top navigation bar"
   ]
  },
  {
   "cell_type": "markdown",
   "metadata": {
    "scrolled": true
   },
   "source": [
    "%%writefile selection/tst.txt -\n",
    "\n",
    "selection_file = \"\"\"\n",
    "\n",
    "project=\"CMIP5\"\n",
    "model=\"CNRM-CM5\"\n",
    "experiment=\"historical amip\"\n",
    "ensemble=\"r1i1p1\"\n",
    "variable[atmos][mon]=\"tas\"\n",
    "\n",
    "\"\"\""
   ]
  },
  {
   "cell_type": "code",
   "execution_count": 2,
   "metadata": {},
   "outputs": [],
   "source": [
    "NOTEBOOK_DIRECTORY = form_widgets.NOTEBOOK_DIRECTORY\n",
    "def get_selection_file_contents(file_list):\n",
    "    selection_dir = join(NOTEBOOK_DIRECTORY,\"ESGF_replication\",\"selection\")\n",
    "    print(\"Getting existing selection files from \",selection_dir)\n",
    "    content_list = []\n",
    "    for my_file in file_list:\n",
    "        sel_file_path = join(selection_dir,my_file)\n",
    "        if os.path.isfile(sel_file_path):\n",
    "            print(\"Warning: selection file: \",my_file,\" already exists\")\n",
    "            print(\"         only modify if it belongs to you !!\")\n",
    "            print(\"         use other name if it does not belong to you !!!!!\")\n",
    "            with open(sel_file_path, 'r') as file_obj:\n",
    "                 file_content = file_obj.read()\n",
    "            content_list.append(file_content)\n",
    "        else:\n",
    "            file_content = \"# no selection information specified, please fill\"\n",
    "            content_list.append(file_content)        \n",
    "    return content_list\n",
    "\n",
    "def get_selection_files(file_list):\n",
    "    la = widgets.Layout(height='250px',  width='500px')\n",
    "    content_list = get_selection_file_contents(file_list)\n",
    "    merge_list = zip(file_list,content_list)\n",
    "    text_widgets = {}\n",
    "    for (my_file,my_content) in merge_list:\n",
    "        header = \"# selection file: \"+my_file+\"\\n \\n\"\n",
    "        text_widgets[my_file] = widgets.Textarea(\n",
    "                value = header + my_content ,\n",
    "                place_holder='??',\n",
    "                disabled = False,\n",
    "                description = \"selection file:\",\n",
    "                layout = la\n",
    "                )\n",
    "    return text_widgets   "
   ]
  },
  {
   "cell_type": "code",
   "execution_count": 3,
   "metadata": {
    "collapsed": true
   },
   "outputs": [],
   "source": [
    "# provide the list of selection file names (.txt files)\n",
    "import os\n",
    "from os.path import join as join\n",
    "sel_file_list = [\"cmip5_model_facet1.txt\",\"cmip5_e_f_g.txt\"]\n"
   ]
  },
  {
   "cell_type": "code",
   "execution_count": 4,
   "metadata": {},
   "outputs": [
    {
     "name": "stdout",
     "output_type": "stream",
     "text": [
      "Getting existing selection files from  /home/stephan/form_notebooks/ESGF_replication/selection\n",
      "Warning: selection file:  cmip5_model_facet1.txt  already exists\n",
      "         only modify if it belongs to you !!\n",
      "         use other name if it does not belong to you !!!!!\n",
      "Warning: selection file:  cmip5_e_f_g.txt  already exists\n",
      "         only modify if it belongs to you !!\n",
      "         use other name if it does not belong to you !!!!!\n"
     ]
    },
    {
     "data": {
      "application/vnd.jupyter.widget-view+json": {
       "model_id": "622f4ded9fc4484195bcc666ad653250"
      }
     },
     "metadata": {},
     "output_type": "display_data"
    },
    {
     "data": {
      "application/vnd.jupyter.widget-view+json": {
       "model_id": "2cdddd1b43d5490b9f070f44bad2a431"
      }
     },
     "metadata": {},
     "output_type": "display_data"
    },
    {
     "data": {
      "application/vnd.jupyter.widget-view+json": {
       "model_id": "a011c8b10f2a4c92a65ba38f6f47da91"
      }
     },
     "metadata": {},
     "output_type": "display_data"
    },
    {
     "name": "stdout",
     "output_type": "stream",
     "text": [
      "Selection file:  cmip5_e_f_g.txt  stored\n",
      "Selection file:  cmip5_model_facet1.txt  stored\n"
     ]
    }
   ],
   "source": [
    "\n",
    "text_w = form_widgets.get_selection_files(sel_file_list)\n",
    "\n",
    "form_widgets.gen_text_widgets(text_w)\n",
    "form_widgets.SELECTION.on_click(form_widgets.save_sel)"
   ]
  },
  {
   "cell_type": "code",
   "execution_count": 5,
   "metadata": {
    "collapsed": true
   },
   "outputs": [],
   "source": [
    "def save_sel(val):\n",
    "    selection_dir = join(NOTEBOOK_DIRECTORY,\"ESGF_replication\",\"selection\")\n",
    "    for (my_file,val) in text_w.items():\n",
    "        sel_file_path = join(selection_dir,my_file)\n",
    "        with open(sel_file_path, 'w') as file_obj:\n",
    "             print(\"Selection file: \",my_file,\" stored\")\n",
    "             file_obj.write(val.value.encode('utf-8'))\n",
    "        "
   ]
  },
  {
   "cell_type": "code",
   "execution_count": 6,
   "metadata": {},
   "outputs": [
    {
     "data": {
      "application/vnd.jupyter.widget-view+json": {
       "model_id": "ac372abf6ca34619b6323605e0fef1c4"
      }
     },
     "metadata": {},
     "output_type": "display_data"
    },
    {
     "data": {
      "application/vnd.jupyter.widget-view+json": {
       "model_id": "7fb2c6a81c284570bb9b35534f8c2481"
      }
     },
     "metadata": {},
     "output_type": "display_data"
    },
    {
     "data": {
      "application/vnd.jupyter.widget-view+json": {
       "model_id": "4db0ae7a8ef3496a98c7bbc768399ceb"
      }
     },
     "metadata": {},
     "output_type": "display_data"
    },
    {
     "name": "stdout",
     "output_type": "stream",
     "text": [
      "('Selection file: ', 'cmip5_e_f_g.txt', ' stored')\n",
      "('Selection file: ', 'cmip5_model_facet1.txt', ' stored')\n",
      "('Selection file: ', 'cmip5_e_f_g.txt', ' stored')\n",
      "('Selection file: ', 'cmip5_model_facet1.txt', ' stored')\n",
      "('Selection file: ', 'cmip5_e_f_g.txt', ' stored')\n",
      "('Selection file: ', 'cmip5_model_facet1.txt', ' stored')\n"
     ]
    }
   ],
   "source": [
    "\n",
    "for (key,val) in text_w.items():\n",
    "    display(val)\n",
    "display(SELECTION)\n",
    "SELECTION.on_click(save_sel)"
   ]
  },
  {
   "cell_type": "code",
   "execution_count": 8,
   "metadata": {
    "collapsed": true
   },
   "outputs": [],
   "source": [
    "from IPython.display import display\n",
    "import ipywidgets as widgets\n",
    " \n",
    "la = widgets.Layout( height='250px',  width='500px')\n",
    "text_widgets = {}\n",
    "for file in sel_file_list:\n",
    "     text_widgets[file] = widgets.Textarea(\n",
    "         value=\"\"\"# put selection file info for  selection file: '+file+'.txt below'\n",
    "# example: \n",
    "         project=CMIP5\n",
    "         model=CNRM-CM5 CSIRO-Mk3-6-0\n",
    "         experiment=historical amip\n",
    "         ensemble=r1i1p1\n",
    "         variable[atmos][mon]=tasmin tas psl\n",
    "         variable[ocean][fx]=areacello sftof\n",
    "         \"\"\",\n",
    "         placeholder='Type something',\n",
    "         description=\"selection:\",\n",
    "         disabled=False,\n",
    "         layout=la\n",
    "     )\n"
   ]
  },
  {
   "cell_type": "code",
   "execution_count": null,
   "metadata": {
    "collapsed": true
   },
   "outputs": [],
   "source": [
    "%%writefile selection/.....txt \n",
    "\n",
    "...please fill .. "
   ]
  },
  {
   "cell_type": "code",
   "execution_count": 28,
   "metadata": {},
   "outputs": [
    {
     "data": {
      "text/plain": [
       "u'test = alksjflkakjfk\\n\\n'"
      ]
     },
     "execution_count": 28,
     "metadata": {},
     "output_type": "execute_result"
    }
   ],
   "source": [
    "TST.value"
   ]
  },
  {
   "cell_type": "markdown",
   "metadata": {},
   "source": [
    "## Step3: Check your selection file(s)\n",
    "\n",
    "you can use the cells below to check the coorectness of your selection files, specify your selection file names in the `synda dump -s` command below. The first cells lists the files corresponding to your selection file, the second outputs a complete summary of information with respect to your selection file. "
   ]
  },
  {
   "cell_type": "code",
   "execution_count": 10,
   "metadata": {},
   "outputs": [
    {
     "name": "stdout",
     "output_type": "stream",
     "text": [
      "usage: synda [-h] [-V] subcommand ...\n",
      "\n",
      "positional arguments:\n",
      "  subcommand\n",
      "    autoremove   Remove old datasets versions\n",
      "    certificate  Manage X509 certificate\n",
      "    check        Perform check over ESGF metadata\n",
      "    config       Print configuration information\n",
      "    contact      Print contact information\n",
      "    count        Count file / dataset\n",
      "    daemon       Daemon management\n",
      "    dump         Display raw metadata\n",
      "    facet        Facet discovery\n",
      "    get          Download dataset\n",
      "    help         Show help\n",
      "    history      Show history\n",
      "    install      Install dataset\n",
      "    intro        Print introduction to synda command\n",
      "    list         List installed dataset\n",
      "    metric       Display performance and disk usage metrics\n",
      "    open         Open netcdf file\n",
      "    param        Print ESGF facets\n",
      "    pexec        Execute post-processing task\n",
      "    queue        Display download queue status\n",
      "    remove       Remove dataset\n",
      "    replica      Move to next replica\n",
      "    reset        Remove all 'waiting' and 'error' transfers\n",
      "    retry        Retry transfer (switch status from error to waiting)\n",
      "    search       Search dataset\n",
      "    selection    List selection files\n",
      "    show         Display detailed information about dataset\n",
      "    stat         Display summary information about dataset\n",
      "    update       Update ESGF parameter local cache\n",
      "    upgrade      Run 'install' command on all selection files\n",
      "    variable     Print variable\n",
      "    version      List all versions of a dataset\n",
      "    watch        Display running transfer\n",
      "\n",
      "optional arguments:\n",
      "  -h, --help     show this help message and exit\n",
      "  -V, --version  show program's version number and exit\n"
     ]
    }
   ],
   "source": [
    "%%bash\n",
    "synda -h"
   ]
  },
  {
   "cell_type": "code",
   "execution_count": 5,
   "metadata": {},
   "outputs": [
    {
     "name": "stdout",
     "output_type": "stream",
     "text": [
      "/home/stephan/form_notebooks/ESGF_replication/selection\n",
      "['', '*** Error occured at 2017-09-13 15:40:25.740149 ***', '', '', '==================', '*   Error code   *', '==================', '', 'SDNETUTI-002', '', '', '=====================', '*   Error message   *', '=====================', '', 'HTTP query failed (url=http://pcmdi.llnl.gov/esg-search/search?realm=atmos&fields=instance_id,id,variable,data_node,type,size&project=CMIP5&distrib=true&time_frequency=mon&experiment=rcp26&experiment=rcp45&experiment=rcp60&experiment=rcp85&limit=100&variable=tas&model=MIROC5&type=Dataset&ensemble=r1i1p1&format=application%2Fsolr%2Bjson&offset=0,exception=HTTP Error 404: Not Found,timeout=300)', '', '', '==================', '*   Stacktrace   *', '==================', '', '  File \"/home/stephan/sdt/bin/synda\", line 163, in <module>', '    status=sdtsaction.actions[args.subcommand](args)', '  File \"/home/stephan/sdt/lib/sd/sdtsaction.py\", line 85, in search', '    dataset_search(args)', '  File \"/home/stephan/sdt/lib/sd/sdtsaction.py\", line 210, in dataset_search', '    datasets=sdrdataset.get_datasets(stream=args.stream,dry_run=args.dry_run)', '  File \"/home/stephan/sdt/lib/sd/sdrdataset.py\", line 38, in get_datasets', '    result=sdquicksearch.run(stream=stream,parameter=parameter,post_pipeline_mode=post_pipeline_mode,dry_run=dry_run)', '  File \"/home/stephan/sdt/lib/sd/sdquicksearch.py\", line 77, in run', '    mqr=process_queries(queries)', '  File \"/home/stephan/sdt/lib/sd/sdquicksearch.py\", line 93, in process_queries', '    mqr.slurp(ws_call(query))', '  File \"/home/stephan/sdt/lib/sd/sdquicksearch.py\", line 99, in ws_call', '    result=sdnetutils.call_web_service(request.get_url(),timeout=sdconst.SEARCH_API_HTTP_TIMEOUT) # return Response object', '  File \"/home/stephan/sdt/lib/sd/sdnetutils.py\", line 42, in call_web_service', '    buf=HTTP_GET(url,timeout)', '  File \"/home/stephan/sdt/lib/sd/sdnetutils.py\", line 130, in HTTP_GET', '    raise SDException(errcode,errmsg)', '']\n"
     ]
    }
   ],
   "source": [
    "selection_dir = join(NOTEBOOK_DIRECTORY,\"ESGF_replication\",\"selection\")\n",
    "print selection_dir\n",
    "\n",
    "file_list = !synda search -s \"/home/stephan/form_notebooks/ESGF_replication/selection/cmip5_e_f_g.txt\"\n",
    "print file_list"
   ]
  },
  {
   "cell_type": "code",
   "execution_count": 20,
   "metadata": {},
   "outputs": [
    {
     "name": "stdout",
     "output_type": "stream",
     "text": [
      "['new', '', 'cmip5.output1.CNRM-CERFACS.CNRM-CM5.historical.mon.atmos.Amon.r1i1p1.v20110901']\n",
      "['new', '', 'cmip5.output1.CNRM-CERFACS.CNRM-CM5.amip.mon.atmos.Amon.r1i1p1.v20111006']\n",
      "['cmip5.output1.CNRM-CERFACS.CNRM-CM5.historical.mon.atmos.Amon.r1i1p1.v20110901', 'cmip5.output1.CNRM-CERFACS.CNRM-CM5.amip.mon.atmos.Amon.r1i1p1.v20111006']\n"
     ]
    }
   ],
   "source": [
    "#print file_list\n",
    "result_list = []\n",
    "for entry in file_list:\n",
    "    parts = entry.split(' ')\n",
    "    print parts\n",
    "    result_list.append(parts[2])\n",
    "print result_list    "
   ]
  },
  {
   "cell_type": "code",
   "execution_count": 6,
   "metadata": {},
   "outputs": [
    {
     "name": "stderr",
     "output_type": "stream",
     "text": [
      "Checking cordex_cnrm_req27506_20170103.txt..\n",
      "Checking cordex_dhmz_req27539_20170110.txt..\n",
      "Checking cordex_hms_req27511_20170105.txt..\n",
      "Checking cordex_hms_req27511_20170117.txt..\n",
      "Checking cordex_knmi_req_01_2017.txt..\n",
      "Checking input4MIPs.txt..\n",
      "Checking ms_file_select20170905.txt..\n",
      "Checking test.txt..\n",
      "Checking test1.txt..\n"
     ]
    }
   ],
   "source": [
    "%%bash \n",
    "synda check selection -s selection/test.txt"
   ]
  },
  {
   "cell_type": "markdown",
   "metadata": {},
   "source": [
    "## Step 4: Check the data volume associated to your requests\n",
    "\n",
    "by evaluating the cell below, the data volume which is associated to your request(s) specified in\n",
    "the selection file(s). It is just an indication for you to be sure that the request is too big by \n",
    "underspecifying your request. The part which actually needs to be replicated and is not yet in the \n",
    "DKRZ pool will be communited to you after the submission.\n",
    "\n",
    "(After the output of the data volume an error is indicated, which is intentional - as the data should not be actually downloaded, an example output looks like:\n",
    "\n",
    "    47 file(s) will be added to the download queue.\n",
    "    Once downloaded, 4.6 GB of additional disk space will be used.\n",
    "    Do you want to continue? [Y/n] \n",
    "    *** Error occured at 2017-08-04 15:05:42.932972 ***\n",
    "    ... error message ....\n",
    ")"
   ]
  },
  {
   "cell_type": "code",
   "execution_count": 8,
   "metadata": {},
   "outputs": [
    {
     "name": "stderr",
     "output_type": "stream",
     "text": [
      "Please specify a dataset name.\n"
     ]
    }
   ],
   "source": [
    "%%bash\n",
    "synda show -s selection/tst.txt"
   ]
  },
  {
   "cell_type": "markdown",
   "metadata": {},
   "source": [
    "## Step 5: Submit your data replication request \n",
    "\n",
    "Please provide the file names of the selection files you tested above and which you now want to submit to the DKRZ data managers. "
   ]
  },
  {
   "cell_type": "code",
   "execution_count": null,
   "metadata": {
    "collapsed": true
   },
   "outputs": [],
   "source": [
    "form.selection_files =  [\"selection/file1.txt\", \"selection/file2.txt\"] # your file names as specified above \n",
    "form_handler.save_form(sf,\"..my comment..\") # add a comment to remember this specific \n",
    "\n",
    "\n",
    "form_handler.email_form_info(sf)  # do not change\n",
    "form_handler.form_submission(sf)  # do not change"
   ]
  },
  {
   "cell_type": "code",
   "execution_count": null,
   "metadata": {
    "collapsed": true
   },
   "outputs": [],
   "source": [
    "form_handler.email_form_info(sf)\n",
    "form_handler.form_submission(sf)"
   ]
  },
  {
   "cell_type": "markdown",
   "metadata": {},
   "source": [
    "## Appendix: Example synda calls\n",
    "\n",
    "play around with synda .."
   ]
  },
  {
   "cell_type": "markdown",
   "metadata": {},
   "source": [
    "#### Explore Metadata\n",
    "\n",
    "example synda calls to search and explore metadata"
   ]
  },
  {
   "cell_type": "code",
   "execution_count": null,
   "metadata": {
    "collapsed": true
   },
   "outputs": [],
   "source": [
    "%%bash \n",
    "\n",
    "# synda dump tas GFDL-ESM2M -F line -f -C size,filenam\n",
    "synda variable tas\n",
    "# synda search cmip5 MOHC HadGEM2-A amip4\n",
    "# synda search cmip5 mon atmos -l 1000xCO2 mon atmos Amon r1i1p1"
   ]
  },
  {
   "cell_type": "code",
   "execution_count": null,
   "metadata": {
    "collapsed": true
   },
   "outputs": [],
   "source": [
    "%%bash \n",
    "\n",
    "synda -h"
   ]
  },
  {
   "cell_type": "code",
   "execution_count": null,
   "metadata": {
    "collapsed": true
   },
   "outputs": [],
   "source": []
  }
 ],
 "metadata": {
  "anaconda-cloud": {},
  "kernelspec": {
   "display_name": "conda env: forms2",
   "language": "python",
   "name": "forms2"
  },
  "language_info": {
   "codemirror_mode": {
    "name": "ipython",
    "version": 2
   },
   "file_extension": ".py",
   "mimetype": "text/x-python",
   "name": "python",
   "nbconvert_exporter": "python",
   "pygments_lexer": "ipython2",
   "version": "2.7.13"
  }
 },
 "nbformat": 4,
 "nbformat_minor": 1
}
