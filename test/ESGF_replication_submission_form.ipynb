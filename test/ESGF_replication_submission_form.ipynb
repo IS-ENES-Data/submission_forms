{
 "cells": [
  {
   "cell_type": "markdown",
   "metadata": {},
   "source": [
    "# ESGF replication request form\n",
    "\n",
    "![form-submission](../fig/form-submission.png)"
   ]
  },
  {
   "cell_type": "markdown",
   "metadata": {},
   "source": [
    "This form is intended to request data to be replicated from other ESGF nodes to be made\n",
    "locally available in the DKRZ CMIP data pool.\n",
    "\n",
    "The specification of a requested data collection is based on the search facets describing the data collection. These facets correspond directly to the search categories you use to find data  in one of the ESGF portals (e.g. https://esgf-data.dkrz.de/).\n",
    "\n",
    "## specification of ESGF data to be replicated\n",
    "To be able to automate the data replication process as much as possible we recommend the following steps, which are supported in this form. In case you have problems with this approach please contact us directly via mail (esgf-replication 'at' dkrz.de). \n",
    "\n",
    "- **Step 1:** define your data request based on the search facets you need to characterize the data collection in one of the ESGF portals.\n",
    "- **Step 2:** write down your facet selection choices in the specific format supported by the [synda replication tool](http://prodiguer.github.io/synda/): \n",
    "   - The specification is based on so called [selection files](https://github.com/Prodiguer/synda/blob/master/sdt/doc/selection_file.md) see [examples](thttps://github.com/Prodiguer/synda/tree/master/sdt/selection/sample) for a set of examples\n",
    "   - put your selection files in this form (see the section \"Edit and store your replica selection files\" below)\n",
    "- **Step 3:** Test your selection file(s) with respect to correctnes (see section \"check your selection files\" below)\n",
    "- **Step 4:** Test your selection file(s) with respect to data volume adressed (see section \"check data volume\" below)\n",
    "- **Step 5:** Submit your replication request\n",
    "\n",
    "**General remarks:**\n",
    "\n",
    "- We recommend to install the synda application at your lab in case you have recurring needs for data to be made available at DKRZ, this way you can perform step 1 to step 5 at your lab.\n",
    "- We recommend to split your request into a set of small well defined selection files instead of specifying one complex file characterizing your data needs\n"
   ]
  },
  {
   "cell_type": "markdown",
   "metadata": {},
   "source": [
    "### Please provide your last name and the password for this form"
   ]
  },
  {
   "cell_type": "code",
   "execution_count": 1,
   "metadata": {
    "collapsed": true
   },
   "outputs": [],
   "source": [
    "MY_LAST_NAME = \"kindermann\"   # e.gl MY_LAST_NAME = \"schulz\" \n",
    "#-------------------------------------------------\n",
    "from dkrz_forms import form_handler, form_widgets\n",
    "#form_info = form_widgets.check_pwd(MY_LAST_NAME)\n",
    "#sf = form_handler.init_form(form_info)\n",
    "#form = sf.sub.entity_out.report"
   ]
  },
  {
   "cell_type": "markdown",
   "metadata": {},
   "source": [
    "## Step 2: Edit and store your replica selection file(s)\n",
    "\n",
    "Please provide the facet values charaterizing your data request. You can find the appropriate settings either \n",
    "- by using an ESGF portal and remembering your search facets or\n",
    "- by playing around with the cells below until your request is fully specified or\n",
    "- by installing the synda tool at your lab and using the tool directly\n",
    "\n",
    "an [example seclection](http://prodiguer.github.io/synda/sdt/selection_file.html) file looks like: \n",
    "\n",
    "     project=\"CMIP5\"\n",
    "     model=\"CNRM-CM5 CSIRO-Mk3-6-0\"\n",
    "     experiment=\"historical amip\"\n",
    "     ensemble=\"r1i1p1\"\n",
    "     variable[atmos][mon]=\"tasmin tas psl\"\n",
    "     variable[ocean][fx]=\"areacello sftof\"\n",
    "     variable[land][mon]=\"mrsos,nppRoot,nep\"\n",
    "     variable[seaIce][mon]=\"sic evap\"\n",
    "     variable[ocnBgchem][mon]=\"dissic fbddtalk\"\n",
    "\n",
    "You can store your request using the cells below by adding `%%writefile seclection/myfilename.txt`  as a first line. Please select \"myfilenamee\" carefully to be able to remember later the dataset which this file charecterizes e.g. `%%writefile erich_cmip5_atmos_vars_for_exp1.txt`\n"
   ]
  },
  {
   "cell_type": "markdown",
   "metadata": {},
   "source": [
    "### store your selection files in cells below\n",
    "\n",
    "- fill the following cell and evaluate it \"Shift-Enter\" to store your selection file unter the specified name.\n",
    "- add new cells for additional selection files using \"Insert\" --> \"Incsert Cell Below\" in the top navigation bar"
   ]
  },
  {
   "cell_type": "code",
   "execution_count": 23,
   "metadata": {
    "scrolled": true
   },
   "outputs": [
    {
     "name": "stderr",
     "output_type": "stream",
     "text": [
      "UsageError: unrecognized arguments: -o\n"
     ]
    }
   ],
   "source": [
    "%%writefile selection/tst.txt -\n",
    "\n",
    "selection_file = \"\"\"\n",
    "\n",
    "project=\"CMIP5\"\n",
    "model=\"CNRM-CM5\"\n",
    "experiment=\"historical amip\"\n",
    "ensemble=\"r1i1p1\"\n",
    "variable[atmos][mon]=\"tas\"\n",
    "\n",
    "\"\"\""
   ]
  },
  {
   "cell_type": "code",
   "execution_count": 31,
   "metadata": {
    "collapsed": true
   },
   "outputs": [],
   "source": [
    "# provide the list of selection file names\n",
    "\n",
    "sel_file_list = [\"cmip5_a_c_d\",\"cmip5_e_f_g\"]"
   ]
  },
  {
   "cell_type": "code",
   "execution_count": 47,
   "metadata": {},
   "outputs": [],
   "source": [
    "from IPython.display import display\n",
    "import ipywidgets as widgets\n",
    " \n",
    "la = widgets.Layout( height='100px',  width='500px')\n",
    "text_widgets = {}\n",
    "for file in sel_file_list:\n",
    "     text_widgets[file] = widgets.Textarea(\n",
    "         value='# put selection file info for  selection file: '+file+'.txt below',\n",
    "         placeholder='Type something',\n",
    "         description=\"selection:\",\n",
    "         disabled=False,\n",
    "         layout=la\n",
    "     )\n"
   ]
  },
  {
   "cell_type": "code",
   "execution_count": 48,
   "metadata": {},
   "outputs": [
    {
     "data": {
      "application/vnd.jupyter.widget-view+json": {
       "model_id": "f8b538160ecb49a395b7625050a7c105"
      }
     },
     "metadata": {},
     "output_type": "display_data"
    },
    {
     "data": {
      "application/vnd.jupyter.widget-view+json": {
       "model_id": "590ef03feabc4b59bb50acb114091d75"
      }
     },
     "metadata": {},
     "output_type": "display_data"
    }
   ],
   "source": [
    "for (key,val) in text_widgets.items():\n",
    "    display(val)"
   ]
  },
  {
   "cell_type": "code",
   "execution_count": null,
   "metadata": {
    "collapsed": true
   },
   "outputs": [],
   "source": [
    "%%writefile selection/.....txt \n",
    "\n",
    "...please fill .. "
   ]
  },
  {
   "cell_type": "code",
   "execution_count": 28,
   "metadata": {},
   "outputs": [
    {
     "data": {
      "text/plain": [
       "u'test = alksjflkakjfk\\n\\n'"
      ]
     },
     "execution_count": 28,
     "metadata": {},
     "output_type": "execute_result"
    }
   ],
   "source": [
    "TST.value"
   ]
  },
  {
   "cell_type": "markdown",
   "metadata": {},
   "source": [
    "## Step3: Check your selection file(s)\n",
    "\n",
    "you can use the cells below to check the coorectness of your selection files, specify your selection file names in the `synda dump -s` command below. The first cells lists the files corresponding to your selection file, the second outputs a complete summary of information with respect to your selection file. "
   ]
  },
  {
   "cell_type": "code",
   "execution_count": 10,
   "metadata": {
    "collapsed": true
   },
   "outputs": [],
   "source": [
    "\n",
    "\n",
    "file_list = !synda search -s selection/tst.txt\n"
   ]
  },
  {
   "cell_type": "code",
   "execution_count": 20,
   "metadata": {},
   "outputs": [
    {
     "name": "stdout",
     "output_type": "stream",
     "text": [
      "['new', '', 'cmip5.output1.CNRM-CERFACS.CNRM-CM5.historical.mon.atmos.Amon.r1i1p1.v20110901']\n",
      "['new', '', 'cmip5.output1.CNRM-CERFACS.CNRM-CM5.amip.mon.atmos.Amon.r1i1p1.v20111006']\n",
      "['cmip5.output1.CNRM-CERFACS.CNRM-CM5.historical.mon.atmos.Amon.r1i1p1.v20110901', 'cmip5.output1.CNRM-CERFACS.CNRM-CM5.amip.mon.atmos.Amon.r1i1p1.v20111006']\n"
     ]
    }
   ],
   "source": [
    "#print file_list\n",
    "result_list = []\n",
    "for entry in file_list:\n",
    "    parts = entry.split(' ')\n",
    "    print parts\n",
    "    result_list.append(parts[2])\n",
    "print result_list    "
   ]
  },
  {
   "cell_type": "code",
   "execution_count": 6,
   "metadata": {},
   "outputs": [
    {
     "name": "stderr",
     "output_type": "stream",
     "text": [
      "Checking cordex_cnrm_req27506_20170103.txt..\n",
      "Checking cordex_dhmz_req27539_20170110.txt..\n",
      "Checking cordex_hms_req27511_20170105.txt..\n",
      "Checking cordex_hms_req27511_20170117.txt..\n",
      "Checking cordex_knmi_req_01_2017.txt..\n",
      "Checking input4MIPs.txt..\n",
      "Checking ms_file_select20170905.txt..\n",
      "Checking test.txt..\n",
      "Checking test1.txt..\n"
     ]
    }
   ],
   "source": [
    "%%bash \n",
    "synda check selection -s selection/test.txt"
   ]
  },
  {
   "cell_type": "markdown",
   "metadata": {},
   "source": [
    "## Step 4: Check the data volume associated to your requests\n",
    "\n",
    "by evaluating the cell below, the data volume which is associated to your request(s) specified in\n",
    "the selection file(s). It is just an indication for you to be sure that the request is too big by \n",
    "underspecifying your request. The part which actually needs to be replicated and is not yet in the \n",
    "DKRZ pool will be communited to you after the submission.\n",
    "\n",
    "(After the output of the data volume an error is indicated, which is intentional - as the data should not be actually downloaded, an example output looks like:\n",
    "\n",
    "    47 file(s) will be added to the download queue.\n",
    "    Once downloaded, 4.6 GB of additional disk space will be used.\n",
    "    Do you want to continue? [Y/n] \n",
    "    *** Error occured at 2017-08-04 15:05:42.932972 ***\n",
    "    ... error message ....\n",
    ")"
   ]
  },
  {
   "cell_type": "code",
   "execution_count": 8,
   "metadata": {},
   "outputs": [
    {
     "name": "stderr",
     "output_type": "stream",
     "text": [
      "Please specify a dataset name.\n"
     ]
    }
   ],
   "source": [
    "%%bash\n",
    "synda show -s selection/tst.txt"
   ]
  },
  {
   "cell_type": "markdown",
   "metadata": {},
   "source": [
    "## Step 5: Submit your data replication request \n",
    "\n",
    "Please provide the file names of the selection files you tested above and which you now want to submit to the DKRZ data managers. "
   ]
  },
  {
   "cell_type": "code",
   "execution_count": null,
   "metadata": {
    "collapsed": true
   },
   "outputs": [],
   "source": [
    "form.selection_files =  [\"selection/file1.txt\", \"selection/file2.txt\"] # your file names as specified above \n",
    "form_handler.save_form(sf,\"..my comment..\") # add a comment to remember this specific \n",
    "\n",
    "\n",
    "form_handler.email_form_info(sf)  # do not change\n",
    "form_handler.form_submission(sf)  # do not change"
   ]
  },
  {
   "cell_type": "code",
   "execution_count": null,
   "metadata": {
    "collapsed": true
   },
   "outputs": [],
   "source": [
    "form_handler.email_form_info(sf)\n",
    "form_handler.form_submission(sf)"
   ]
  },
  {
   "cell_type": "markdown",
   "metadata": {},
   "source": [
    "## Appendix: Example synda calls\n",
    "\n",
    "play around with synda .."
   ]
  },
  {
   "cell_type": "markdown",
   "metadata": {},
   "source": [
    "#### Explore Metadata\n",
    "\n",
    "example synda calls to search and explore metadata"
   ]
  },
  {
   "cell_type": "code",
   "execution_count": null,
   "metadata": {
    "collapsed": true
   },
   "outputs": [],
   "source": [
    "%%bash \n",
    "\n",
    "# synda dump tas GFDL-ESM2M -F line -f -C size,filenam\n",
    "synda variable tas\n",
    "# synda search cmip5 MOHC HadGEM2-A amip4\n",
    "# synda search cmip5 mon atmos -l 1000xCO2 mon atmos Amon r1i1p1"
   ]
  },
  {
   "cell_type": "code",
   "execution_count": null,
   "metadata": {
    "collapsed": true
   },
   "outputs": [],
   "source": [
    "%%bash \n",
    "\n",
    "synda -h"
   ]
  },
  {
   "cell_type": "code",
   "execution_count": null,
   "metadata": {
    "collapsed": true
   },
   "outputs": [],
   "source": []
  }
 ],
 "metadata": {
  "anaconda-cloud": {},
  "kernelspec": {
   "display_name": "Python [conda env:forms2]",
   "language": "python",
   "name": "conda-env-forms2-py"
  },
  "language_info": {
   "codemirror_mode": {
    "name": "ipython",
    "version": 2
   },
   "file_extension": ".py",
   "mimetype": "text/x-python",
   "name": "python",
   "nbconvert_exporter": "python",
   "pygments_lexer": "ipython2",
   "version": "2.7.13"
  }
 },
 "nbformat": 4,
 "nbformat_minor": 1
}
