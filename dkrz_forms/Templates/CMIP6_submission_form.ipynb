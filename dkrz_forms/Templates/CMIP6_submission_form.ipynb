{
 "cells": [
  {
   "cell_type": "markdown",
   "metadata": {},
   "source": [
    "# DKRZ CMIP6 data submission form for ESGF publication\n",
    "\n",
    "![form-submission](../fig/form-submission.png)"
   ]
  },
  {
   "cell_type": "markdown",
   "metadata": {},
   "source": [
    "### Overview\n",
    "\n",
    "You want to store and publish CMIP6 data at DKRZ via ESGF ? This form will provide some background information and guide you through the process. \n",
    "<br> To organize the data ingest we need some specific information with respect to the CMIP6 data collection you want to publish (e.g. concerning data structure, content and quality).  The form has to be filled before the ESGF data ingest and publication process can be started. \n",
    "<br> In case you have questions please contact **esgf-publication@dkrz.de**\t\n",
    "\n",
    "#### Preconditions for your data submission\n",
    "\n",
    "You need to be aware of a set of technical requirements which have to be addressed before CMIP6 data submission to DKRZ and ESGF data publication are possible. They are collected at the  official [WCRP CMP Phase6 (CMIP6) site](https://www.wcrp-climate.org/wgcm-cmip/wgcm-cmip6) in the [Guide to CMP6 Participation](https://pcmdi.llnl.gov/CMIP6/Guide/). In the following a short summary of key prerequisites is given:\n",
    "\n",
    "* Your institution as well as your model has to be registered on the [WCRP-CMIP github site](https://github.com/WCRP-CMIP/CMIP6_CVs/blob/master/.github/RegistrationGuidance.md)\n",
    "* Contact and citation information has to be registered in the [citation GUI](http://cera-www.dkrz.de/citeXA) [documentation of GUI](http://cera-www.dkrz.de/docs/pdf/CMIP6_Citation_Userguide.pdf?id=37)\n",
    "\n",
    "* Your data conforms to the [CMIP6 specifications for file names, directory structures and CMIP6 Data Reference Syntax (DRS)](http://goo.gl/v1drZl) \n",
    "   * Directory structure:\n",
    "   <pre><code>\n",
    "    &lt;mip_era&gt;/&lt;activity_id&gt;/&lt;institution_id&gt;/&lt;source_id&gt;/\n",
    "        &lt;experiment_id&gt;/&lt;member_id&gt;/&lt;table_id&gt;/&lt;variable_id&gt;/&lt;grid_label&gt;/<version&gt;\n",
    "   </code>\n",
    "   </pre>\n",
    "                     \n",
    "   * File naming convention: \n",
    "   <pre><code>   &lt;variable_id&gt;_&lt;table_id&gt;_&lt;source_id&gt;_&lt;experiment_id&gt;&lt;member_id&gt;\n",
    "            _&lt;grid_label[_&lt;time_range&gt;].nc\n",
    "   </code>\n",
    "   </pre>  \n",
    "\n",
    "   * Please make sure your data is quality checked before submission to a data center. Two tools for checking are recommended:\n",
    "      * CMOR/PREPARE checker (minimal check): \n",
    "        * github: https://github.com/PCMDI/cmor\n",
    "        * documentation: https://cmor.llnl.gov/mydoc_cmip6_validator/\n",
    "      * DKRZ_QA checker (incluces CMOR/PREPARE checker optionally):\n",
    "        * github: https://github.com/IS-ENES-Data/QA-DKRZ\n",
    "        * documentation: http://qa-dkrz.readthedocs.io/en/latest/"
   ]
  },
  {
   "cell_type": "markdown",
   "metadata": {},
   "source": [
    "# Start submission procedure\n",
    "The submission is based on this interactive document consisting of \"cells\" you can modify and then evaluate.<br>\n",
    "Evaluation of cells is done by selecting the cell and pressing the keys **\"Shift\" + \"Enter\"**.\n",
    "<br /> Please fill and evaluate the following cell to initialize your form based on the information provided as part of the form generation (name, email, etc.). <br>(The requested password was sent to you when you generated the form.)"
   ]
  },
  {
   "cell_type": "code",
   "execution_count": null,
   "metadata": {
    "collapsed": true
   },
   "outputs": [],
   "source": [
    "MY_LAST_NAME = \"\"   # e.g. MY_LAST_NAME = \"schulz\" \n",
    "\n",
    "#-------------------------------------------------\n",
    "\n",
    "import ipywidgets as widgets\n",
    "from ipywidgets import Dropdown\n",
    "from dkrz_forms import form_handler, form_widgets, checks\n",
    "form_info = form_widgets.check_pwd(MY_LAST_NAME)\n",
    "sf = form_handler.init_form(form_info)\n",
    "form = sf.sub.entity_out.report"
   ]
  },
  {
   "cell_type": "markdown",
   "metadata": {},
   "source": [
    "## Step 1: provide generic data submission related information "
   ]
  },
  {
   "cell_type": "markdown",
   "metadata": {},
   "source": [
    "### Type of submission\n",
    "please specify the type of this data submission:\n",
    "- \"initial_version\" for first submission of data\n",
    "- \"new _version\" for a re-submission of previousliy submitted data\n",
    "- \"retract\" for the request to retract previously submitted data"
   ]
  },
  {
   "cell_type": "code",
   "execution_count": null,
   "metadata": {
    "collapsed": true
   },
   "outputs": [],
   "source": [
    "form.submission_type = \"...\"  # example: sf.submission_type = \"initial_version\""
   ]
  },
  {
   "cell_type": "markdown",
   "metadata": {},
   "source": [
    "### CMOR compliance\n",
    "\n",
    "* please provide information on the software and tools you used to make sure your data is CMIP6 [CMOR3](https://cmor.llnl.gov/) compliant"
   ]
  },
  {
   "cell_type": "code",
   "execution_count": null,
   "metadata": {
    "collapsed": true
   },
   "outputs": [],
   "source": [
    "form.cmor = '..'   ## 'yes' in case you used the official CMIP6 CMOR tool to generate the data \"no\" otherwise\n",
    "\n",
    "form.cmor_compliance_checks = '..'   ## please name the tool you used to check your files with respect to CMIP6 compliance\n",
    "                                     ## 'PREPARE' for the CMOR PREPARE checker and \"DKRZ\" for the DKRZ tool. "
   ]
  },
  {
   "cell_type": "markdown",
   "metadata": {},
   "source": [
    "### Documentation availability\n",
    "\n",
    "- please provide information with respect to availability of es-doc model documentation \n",
    "- in case this form addresses a new version replacing older versions: provide info on the availability of errata information especially refer to errata information provided using the [CMIP6 errata web frontend](http://xxx)"
   ]
  },
  {
   "cell_type": "code",
   "execution_count": null,
   "metadata": {
    "collapsed": true
   },
   "outputs": [],
   "source": [
    "form.es_doc = \" .. \"     # 'yes' related esdoc model information is/will be available, 'no' otherwise\n",
    "form.errata = \" .. \"     # 'yes' if errata information was provided based on the CMIP6 errata mechanism\n",
    "\n",
    "# fill the following info only in case this form refers to new versions of already published ESGF data\n",
    "form.errata_id = \"..\"         # the errata id provided by the CMIP6 errata mechanism \n",
    "form.errata_comment = \"...\"   # any additional information on the reason of this new version, not yet provided "
   ]
  },
  {
   "cell_type": "markdown",
   "metadata": {},
   "source": [
    "#### Uniqueness of tracking_id and creation_date\n",
    "In case any of your files is replacing a file already published, it must not have the same tracking_id nor \n",
    "the same creation_date as the file it replaces. \n",
    "Did you make sure that that this is not the case ? \n",
    "Reply 'yes'; otherwise adapt the new file versions.\n"
   ]
  },
  {
   "cell_type": "code",
   "execution_count": null,
   "metadata": {
    "collapsed": true
   },
   "outputs": [],
   "source": [
    "form.uniqueness_of_tracking_id = \"...\" # example: sf.uniqueness_of_tracking_id = \"yes\""
   ]
  },
  {
   "cell_type": "markdown",
   "metadata": {},
   "source": [
    "### Generic content characterization based on CMIP6 directory structure\n",
    "\n",
    "Please name the respective directory names characterizing your submission:\n",
    "- all files within the specified directory pattern are subject to ESGF publication \n",
    "\n",
    "CMIP6 directory structure:\n",
    "   <pre><code>\n",
    "    &lt;CMIP6&gt;/&lt;activity_id&gt;/&lt;institution_id&gt;/&lt;source_id&gt;/\n",
    "        &lt;experiment_id&gt;/&lt;member_id&gt;/&lt;table_id&gt;/&lt;variable_id&gt;/&lt;grid_label&gt;/&lt;version&gt;\n",
    "   </code>\n",
    "   \n",
    "e.g. \n",
    "      form_data_dir_1 = '/CMIP6/CMIP/MPI-M/MPIESM-1-2-HR/piControl/r1i2p1f1/*/3hr/*/* '\n",
    "      \n",
    "addresses all 3hr data in teh specified experiment/member      "
   ]
  },
  {
   "cell_type": "code",
   "execution_count": null,
   "metadata": {
    "collapsed": true
   },
   "outputs": [],
   "source": [
    "form.data_dir_1 = \" ... \"  \n",
    "\n",
    "# uncomment for additional entries ... \n",
    "# form.data_dir_2 = \" ... \" \n",
    "# form.data_dir_3 = \" ... \"\n",
    "# ..."
   ]
  },
  {
   "cell_type": "markdown",
   "metadata": {},
   "source": [
    "###  Provide specific additional information for this submission\n",
    "\n",
    "- variables, grid, calendar, ... \n",
    "- example file name\n",
    "- .. what do we need ..?"
   ]
  },
  {
   "cell_type": "code",
   "execution_count": null,
   "metadata": {
    "collapsed": true
   },
   "outputs": [],
   "source": [
    "form.time_period = \"...\" # example: sf.time_period = \"197901-201412\" \n",
    "                       # [\"time_period_a\",\"time_period_b\"] in case of multiple values\n",
    "    \n",
    "form.grid = \"..\"    "
   ]
  },
  {
   "cell_type": "markdown",
   "metadata": {},
   "source": [
    "#### Exclude variable list\n",
    "\n",
    "In each CMIP6 file there may be only one variable which shall be published and searchable at the ESGF portal (target variable). In order to facilitate publication, all non-target variables are included in a list used by the publisher to avoid publication. A list of known non-target variables is [time, time_bnds, lon, lat, rlon ,rlat ,x ,y ,z ,height, plev, Lambert_Conformal, rotated_pole]. Please enter other variables into the left field if applicable (e.g. grid description variables), otherwise write 'N/A'."
   ]
  },
  {
   "cell_type": "code",
   "execution_count": null,
   "metadata": {
    "collapsed": true
   },
   "outputs": [],
   "source": [
    "form.exclude_variables_list = \"...\" # example: sf.exclude_variables_list=[\"bnds\", \"vertices\"]"
   ]
  },
  {
   "cell_type": "markdown",
   "metadata": {},
   "source": [
    "###  CMIP6 terms of use \n",
    "- please explicitly note, you are ok with the [CMIP6 terms of use](https://pcmdi.llnl.gov/CMIP6/TermsOfUse/TermsOfUse6-1.html)"
   ]
  },
  {
   "cell_type": "code",
   "execution_count": null,
   "metadata": {
    "collapsed": true
   },
   "outputs": [],
   "source": [
    "form.terms_of_use = \"...\" #   has to be \"ok\""
   ]
  },
  {
   "cell_type": "markdown",
   "metadata": {},
   "source": [
    "## Step 2: provide information on the data handover mechanism\n",
    "\n",
    "- the following information (and other information needed for data transport and data publication)"
   ]
  },
  {
   "cell_type": "code",
   "execution_count": null,
   "metadata": {
    "collapsed": true
   },
   "outputs": [],
   "source": [
    "form.data_path = \"...\"        # example: sf.data_path = \"mistral.dkrz.de:/mnt/lustre01/work/bm0021/k204016/CORDEX/archive/\"\n",
    "form.data_information = \"...\" # ...any info where data can be accessed and transfered to the data center ... \""
   ]
  },
  {
   "cell_type": "markdown",
   "metadata": {},
   "source": [
    "#### Example file name \n",
    "Please provide an example file name of a file in your data collection, \n",
    "this name will be used to derive the other "
   ]
  },
  {
   "cell_type": "code",
   "execution_count": null,
   "metadata": {
    "collapsed": true
   },
   "outputs": [],
   "source": [
    "form.example_file_name = \"...\" # example: sf.example_file_name = \"tas_AFR-44_MPI-M-MPI-ESM-LR_rcp26_r1i1p1_MPI-CSC-REMO2009_v1_mon_yyyymm-yyyymm.nc\""
   ]
  },
  {
   "cell_type": "markdown",
   "metadata": {},
   "source": [
    "## Step 3: Check your submission before submission"
   ]
  },
  {
   "cell_type": "code",
   "execution_count": null,
   "metadata": {},
   "outputs": [],
   "source": [
    "# simple consistency check report for your submission form - not completed\n",
    "#res = form_handler.check_submission(sf)\n",
    "#form.sub['status_flag_validity'] = res['valid_submission']\n",
    "#form_handler.DictTable(res)"
   ]
  },
  {
   "cell_type": "markdown",
   "metadata": {},
   "source": [
    "## Step 4: Save and review your form\n",
    "\n",
    "your form will be stored (the form name consists of your last name plut your keyword)"
   ]
  },
  {
   "cell_type": "code",
   "execution_count": null,
   "metadata": {
    "collapsed": true
   },
   "outputs": [],
   "source": [
    "form_handler.save_form(sf,\"any comment you want\")  # add a comment "
   ]
  },
  {
   "cell_type": "code",
   "execution_count": null,
   "metadata": {
    "collapsed": true
   },
   "outputs": [],
   "source": [
    "# evaluate this cell if you want a reference (provided by email)\n",
    "# (only available if you access this form via the DKRZ hosting service)\n",
    "form_handler.email_form_info(sf)"
   ]
  },
  {
   "cell_type": "markdown",
   "metadata": {},
   "source": [
    "## Step 5: officially submit your form\n",
    "the form will be submitted to the DKRZ team to process\n",
    "you also receive a confirmation email with a reference to your online form for future modifications "
   ]
  },
  {
   "cell_type": "code",
   "execution_count": null,
   "metadata": {
    "collapsed": true
   },
   "outputs": [],
   "source": [
    "form_handler.email_form_info(sf)\n",
    "form_handler.form_submission(sf)"
   ]
  }
 ],
 "metadata": {
  "anaconda-cloud": {},
  "kernelspec": {
   "display_name": "conda env: forms2",
   "language": "python",
   "name": "forms2"
  },
  "language_info": {
   "codemirror_mode": {
    "name": "ipython",
    "version": 2
   },
   "file_extension": ".py",
   "mimetype": "text/x-python",
   "name": "python",
   "nbconvert_exporter": "python",
   "pygments_lexer": "ipython2",
   "version": "2.7.13"
  }
 },
 "nbformat": 4,
 "nbformat_minor": 1
}
