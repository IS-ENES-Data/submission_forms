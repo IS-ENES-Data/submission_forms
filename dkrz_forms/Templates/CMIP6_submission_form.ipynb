{
 "cells": [
  {
   "cell_type": "markdown",
   "metadata": {},
   "source": [
    "# DKRZ CMIP6 data submission form for ESGF publication\n",
    "\n",
    "![form-submission](../fig/form-submission.png)"
   ]
  },
  {
   "cell_type": "markdown",
   "metadata": {},
   "source": [
    "### Overview\n",
    "\n",
    "You want to store and publish CMIP6 data at DKRZ ? Then this form will provide some background information and guide you through the process. To organize the data ingest and data publication process we need some information from you with respect to the specific CMIP6 subset you want to transfer to DKRZ. Thus in this form we provide you with a generic overview of preconditions you need to be aware of before submitting data. Thereafter we collect general properties about the CMIP6 subset you want to provide. The form has to be filled before the publication process can be started. In case you have questions please contact data-ingest@dkrz.de.\t\n",
    "\n",
    "#### Preconditions for your data submission\n",
    "\n",
    "You need to be aware of a set of technical requirements which have to be addressed before CMIP6 data submission to DKRZ and ESGF data publication are possible. They are collected at the  official [WCRP CMP Phase6 (CMIP6) site](https://www.wcrp-climate.org/wgcm-cmip/wgcm-cmip6) in the [Guide to CMP6 Participation](https://pcmdi.llnl.gov/CMIP6/Guide/). In the following a short summary of key prerequisites is given:\n",
    "\n",
    "* Your institution as well as your model has to be registered on the [WCRP-CMIP github site](https://github.com/WCRP-CMIP/CMIP6_CVs/blob/master/.github/RegistrationGuidance.md)\n",
    "* Contact and citation information has to be registered in the [citation GUI](http://cera-www.dkrz.de/citeXA) [documentation of GUI](http://cera-www.dkrz.de/docs/pdf/CMIP6_Citation_Userguide.pdf?id=37)\n",
    "\n",
    "* Your data conforms to the [CMIP6 specifications for file names, directory structures and CMIP6 Data Reference Syntax (DRS)](http://goo.gl/v1drZl) \n",
    "   * Directory structure:\n",
    "   <pre><code>\n",
    "    &lt;mip_era&gt;/&lt;activity_id&gt;/&lt;institution_id&gt;/&lt;source_id&gt;/\n",
    "        &lt;experiment_id&gt;/&lt;member_id&gt;/&lt;table_id&gt;/&lt;variable_id&gt;/&lt;grid_label&gt;/version&gt;\n",
    "   </code>\n",
    "   </pre>\n",
    "                     \n",
    "   * File naming convention: \n",
    "   <pre><code>   &lt;variable_id&gt;_&lt;table_id&gt;_&lt;source_id&gt;_&lt;experiment_id&gt;&lt;member_id&gt;\n",
    "            _&lt;grid_label[_&lt;time_range&gt;].nc\n",
    "   </code>\n",
    "   </pre>  \n",
    "\n",
    "   * Please make sure your data is quality checked before submission to a data center. Two tools for checking are recommended:\n",
    "      * CMOR/PREPARE checker (minimal check): \n",
    "        * github: https://github.com/PCMDI/cmor\n",
    "        * documentation: https://cmor.llnl.gov/mydoc_cmip6_validator/\n",
    "      * DKRZ_QA checker (incluces CMOR/PREPARE checker optionally):\n",
    "        * github: https://github.com/IS-ENES-Data/QA-DKRZ\n",
    "        * documentation: http://qa-dkrz.readthedocs.io/en/latest/"
   ]
  },
  {
   "cell_type": "markdown",
   "metadata": {},
   "source": [
    "# Start submission procedure\n",
    "The submission is based on this interactive document consisting of \"cells\" you can modify and then evaluate.\n",
    "Evaluation of cells is done by selecting the cell and pressing the keys \"Shift\" + \"Enter\".\n",
    "<br /> Please fill and evaluate the following cell to initialize your form based on the information provided as part of the form generation (name, email, etc.)"
   ]
  },
  {
   "cell_type": "code",
   "execution_count": null,
   "metadata": {
    "collapsed": true
   },
   "outputs": [],
   "source": [
    "MY_LAST_NAME = \"....\"   # e.g. MY_LAST_NAME = \"schulz\" \n",
    "\n",
    "#-------------------------------------------------\n",
    "\n",
    "from dkrz_forms import form_handler, form_widgets, checks\n",
    "form_info = form_widgets.check_pwd(MY_LAST_NAME)\n",
    "sf = form_handler.init_form(form_info)\n",
    "form = sfg.sub.entity_out.report"
   ]
  },
  {
   "cell_type": "markdown",
   "metadata": {},
   "source": [
    "## Step 1: provide generic data submission related information "
   ]
  },
  {
   "cell_type": "markdown",
   "metadata": {},
   "source": [
    "### Type of submission\n",
    "please specify the type of this data submission:\n",
    "- \"initial_version\" for first submission of data\n",
    "- \"new _version\" for a re-submission of previousliy submitted data\n",
    "- \"retract\" for the request to retract previously submitted data"
   ]
  },
  {
   "cell_type": "code",
   "execution_count": null,
   "metadata": {
    "collapsed": true
   },
   "outputs": [],
   "source": [
    "form.submission_type = \"...\"  # example: sf.submission_type = \"initial_version\""
   ]
  },
  {
   "cell_type": "code",
   "execution_count": null,
   "metadata": {
    "collapsed": true
   },
   "outputs": [],
   "source": [
    "### to be discussed\n",
    "\n",
    "- contact information\n",
    "- technical info, e.g. used cmor version \n",
    "- compliance with CMIP6 dir structure and naming convention\n",
    "- ...."
   ]
  },
  {
   "cell_type": "markdown",
   "metadata": {},
   "source": [
    "## Step 2: provide generic model related information \n",
    "\n",
    "- generic model related facets characterizing the submission\n",
    "  - institute_id\n",
    "  - model_id \n",
    "   ....\n",
    "- es-doc known and filled or filling planed ?\n"
   ]
  },
  {
   "cell_type": "code",
   "execution_count": null,
   "metadata": {
    "collapsed": true
   },
   "outputs": [],
   "source": [
    "form.institution = \"...\" # example: sf.institution = \"Alfred Wegener Institute\""
   ]
  },
  {
   "cell_type": "markdown",
   "metadata": {},
   "source": [
    "##### institute_id\n",
    "The value of this field has to equal the value of the global NetCDF attribute 'institute_id' \n",
    "in the data files and must equal the 4th directory level. It is needed before the publication \n",
    "process is started in order that the value can be added to the relevant CORDEX list of CV1 \n",
    "if not yet there. Note that 'institute_id' has to be the first part of 'model_id'"
   ]
  },
  {
   "cell_type": "code",
   "execution_count": null,
   "metadata": {
    "collapsed": true
   },
   "outputs": [],
   "source": [
    "form.institute_id = \"...\" # example: sf.institute_id = \"AWI\""
   ]
  },
  {
   "cell_type": "markdown",
   "metadata": {},
   "source": [
    "##### model_id\n",
    "The value of this field has to be the value of the global NetCDF attribute 'model_id' \n",
    "in the data files. It is needed before the publication process is started in order that \n",
    "the value can be added to the relevant CORDEX list of CV1 if not yet there.\n",
    "Note that it must be composed by the 'institute_id' follwed by the RCM CORDEX model name, \n",
    "separated by a dash. It is part of the file name and the directory structure."
   ]
  },
  {
   "cell_type": "code",
   "execution_count": null,
   "metadata": {
    "collapsed": true
   },
   "outputs": [],
   "source": [
    "form.model_id = \"...\" # example: sf.model_id = \"AWI-HIRHAM5\""
   ]
  },
  {
   "cell_type": "markdown",
   "metadata": {},
   "source": [
    "## Step 3: Provide specific information for this submission\n",
    "\n",
    "- variables, grid, calendar, ... \n",
    "- example file name\n",
    "- .."
   ]
  },
  {
   "cell_type": "markdown",
   "metadata": {},
   "source": [
    "#### experiment_id and time_period\n",
    "Experiment has to equal the value of the global NetCDF attribute 'experiment_id' \n",
    "in the data files. Time_period gives the period of data for which the publication \n",
    "request is submitted. If you intend to submit data from multiple experiments you may \n",
    "add one line for each additional experiment or send in additional publication request sheets."
   ]
  },
  {
   "cell_type": "code",
   "execution_count": null,
   "metadata": {
    "collapsed": true
   },
   "outputs": [],
   "source": [
    "form.experiment_id = \"...\"  # example: sf.experiment_id = \"evaluation\"\n",
    "                          # [\"value_a\",\"value_b\"] in case of multiple experiments\n",
    "form.time_period = \"...\" # example: sf.time_period = \"197901-201412\" \n",
    "                       # [\"time_period_a\",\"time_period_b\"] in case of multiple values"
   ]
  },
  {
   "cell_type": "markdown",
   "metadata": {},
   "source": [
    "#### Example file name \n",
    "Please provide an example file name of a file in your data collection, \n",
    "this name will be used to derive the other "
   ]
  },
  {
   "cell_type": "code",
   "execution_count": null,
   "metadata": {
    "collapsed": true
   },
   "outputs": [],
   "source": [
    "form.example_file_name = \"...\" # example: sf.example_file_name = \"tas_AFR-44_MPI-M-MPI-ESM-LR_rcp26_r1i1p1_MPI-CSC-REMO2009_v1_mon_yyyymm-yyyymm.nc\""
   ]
  },
  {
   "cell_type": "code",
   "execution_count": null,
   "metadata": {
    "collapsed": true
   },
   "outputs": [],
   "source": [
    "# Please run this cell as it is to check your example file name structure \n",
    "# to_do: implement submission_form_check_file function - output result (attributes + check_result)\n",
    "form_handler.cordex_file_info(sf,sf.example_file_name)"
   ]
  },
  {
   "cell_type": "markdown",
   "metadata": {},
   "source": [
    "#### information on the grid_mapping\n",
    "\n",
    "the NetCDF/CF name of the data grid ('rotated_latitude_longitude', 'lambert_conformal_conic', etc.), \n",
    "i.e. either that of the native model grid, or 'latitude_longitude' for the regular -XXi grids"
   ]
  },
  {
   "cell_type": "code",
   "execution_count": null,
   "metadata": {
    "collapsed": true
   },
   "outputs": [],
   "source": [
    "form.grid_mapping_name = \"...\" # example: sf.grid_mapping_name = \"rotated_latitude_longitude\""
   ]
  },
  {
   "cell_type": "markdown",
   "metadata": {},
   "source": [
    "Does the grid configuration exactly follow the specifications in ADD2 (Table 1) \n",
    "in case the native grid  is 'rotated_pole'? If not, comment on the differences; otherwise write 'yes' or 'N/A'. If the data is not delivered on the computational grid it has to be noted here as well."
   ]
  },
  {
   "cell_type": "code",
   "execution_count": null,
   "metadata": {
    "collapsed": true
   },
   "outputs": [],
   "source": [
    "form.grid_as_specified_if_rotated_pole = \"...\" # example: sf.grid_as_specified_if_rotated_pole = \"yes\""
   ]
  },
  {
   "cell_type": "markdown",
   "metadata": {},
   "source": [
    "## Variable list\n",
    "list of variables submitted -- .. support tooling needed probably .. to be defined:"
   ]
  },
  {
   "cell_type": "code",
   "execution_count": null,
   "metadata": {
    "collapsed": true
   },
   "outputs": [],
   "source": [
    "\n",
    "form.variable_list_day = [\n",
    "\"clh\",\"clivi\",\"cll\",\"clm\",\"clt\",\"clwvi\",\n",
    "\"evspsbl\",\"evspsblpot\",\n",
    "\"hfls\",\"hfss\",\"hurs\",\"huss\",\"hus850\",\n",
    "\"mrfso\",\"mrro\",\"mrros\",\"mrso\",\n",
    "\"pr\",\"prc\",\"prhmax\",\"prsn\",\"prw\",\"ps\",\"psl\",\n",
    "\"rlds\",\"rlus\",\"rlut\",\"rsds\",\"rsdt\",\"rsus\",\"rsut\",\n",
    "\"sfcWind\",\"sfcWindmax\",\"sic\",\"snc\",\"snd\",\"snm\",\"snw\",\"sund\",\n",
    "\"tas\",\"tasmax\",\"tasmin\",\"tauu\",\"tauv\",\"ta200\",\"ta500\",\"ta850\",\"ts\",\n",
    "\"uas\",\"ua200\",\"ua500\",\"ua850\",\n",
    "\"vas\",\"va200\",\"va500\",\"va850\",\"wsgsmax\",\n",
    "\"zg200\",\"zg500\",\"zmla\"\n",
    "]\n",
    "\n",
    "form.variable_list_mon = [\n",
    "\"clt\",\n",
    "\"evspsbl\",\n",
    "\"hfls\",\"hfss\",\"hurs\",\"huss\",\"hus850\",\n",
    "\"mrfso\",\"mrro\",\"mrros\",\"mrso\",\n",
    "\"pr\",\"psl\",\n",
    "\"rlds\",\"rlus\",\"rlut\",\"rsds\",\"rsdt\",\"rsus\",\"rsut\",\n",
    "\"sfcWind\",\"sfcWindmax\",\"sic\",\"snc\",\"snd\",\"snm\",\"snw\",\"sund\",\n",
    "\"tas\",\"tasmax\",\"tasmin\",\"ta200\",\n",
    "\"ta500\",\"ta850\",\n",
    "\"uas\",\"ua200\",\"ua500\",\"ua850\",\n",
    "\"vas\",\"va200\",\"va500\",\"va850\",\n",
    "\"zg200\",\"zg500\"\n",
    "]\n",
    "form.variable_list_sem = [\n",
    "\"clt\",\n",
    "\"evspsbl\",\n",
    "\"hfls\",\"hfss\",\"hurs\",\"huss\",\"hus850\",\n",
    "\"mrfso\",\"mrro\",\"mrros\",\"mrso\",\n",
    "\"pr\",\"psl\",\n",
    "\"rlds\",\"rlus\",\"rlut\",\"rsds\",\"rsdt\",\"rsus\",\"rsut\",\n",
    "\"sfcWind\",\"sfcWindmax\",\"sic\",\"snc\",\"snd\",\"snm\",\"snw\",\"sund\",\n",
    "\"tas\",\"tasmax\",\"tasmin\",\"ta200\",\"ta500\",\"ta850\",\n",
    "\"uas\",\"ua200\",\"ua500\",\"ua850\",\n",
    "\"vas\",\"va200\",\"va500\",\"va850\",\n",
    "\"zg200\",\"zg500\"  \n",
    "]\n",
    "\n",
    "form.variable_list_fx = [\n",
    "\"areacella\",\n",
    "\"mrsofc\",\n",
    "\"orog\",\n",
    "\"rootd\",\n",
    "\"sftgif\",\"sftlf\"   \n",
    "]"
   ]
  },
  {
   "cell_type": "markdown",
   "metadata": {},
   "source": [
    "#### Exclude variable list\n",
    "\n",
    "In each CORDEX file there may be only one variable which shall be published and searchable at the ESGF portal (target variable). In order to facilitate publication, all non-target variables are included in a list used by the publisher to avoid publication. A list of known non-target variables is [time, time_bnds, lon, lat, rlon ,rlat ,x ,y ,z ,height, plev, Lambert_Conformal, rotated_pole]. Please enter other variables into the left field if applicable (e.g. grid description variables), otherwise write 'N/A'.\n",
    "\n"
   ]
  },
  {
   "cell_type": "code",
   "execution_count": null,
   "metadata": {
    "collapsed": true
   },
   "outputs": [],
   "source": [
    "form.exclude_variables_list = \"...\" # example: sf.exclude_variables_list=[\"bnds\", \"vertices\"]"
   ]
  },
  {
   "cell_type": "markdown",
   "metadata": {},
   "source": [
    "#### Uniqueness of tracking_id and creation_date\n",
    "In case any of your files is replacing a file already published, it must not have the same tracking_id nor \n",
    "the same creation_date as the file it replaces. \n",
    "Did you make sure that that this is not the case ? \n",
    "Reply 'yes'; otherwise adapt the new file versions.\n"
   ]
  },
  {
   "cell_type": "code",
   "execution_count": null,
   "metadata": {
    "collapsed": true
   },
   "outputs": [],
   "source": [
    "form.uniqueness_of_tracking_id = \"...\" # example: sf.uniqueness_of_tracking_id = \"yes\""
   ]
  },
  {
   "cell_type": "markdown",
   "metadata": {},
   "source": [
    "## Step 3: provide information on data quality, terms of use etc. \n",
    "\n",
    "Choose among the following options for the quality status:\n",
    "* 'unchecked': no quality checks performed on data\n",
    "* 'PREPARE': CMOR/PREPARE tool checked \n",
    "* 'QA-DKRZ': QA-DKRZ tool checked \n",
    "* 'other': checked by other means, please provide additional information .."
   ]
  },
  {
   "cell_type": "code",
   "execution_count": null,
   "metadata": {
    "collapsed": true
   },
   "outputs": [],
   "source": [
    "form.data_qc_status = \"...\"  # example: sf.data_qc_status = \"PREPARE\"\n",
    "form.data_qc_comment = \"...\" # any comment on the quality status of the files"
   ]
  },
  {
   "cell_type": "markdown",
   "metadata": {},
   "source": [
    "### Terms of use\n",
    "Please give the terms of use that shall be asigned to the data.\n",
    "The options are 'unrestricted' and 'non-commercial only'.\n",
    "For the full text 'Terms of Use' of CORDEX data refer to\n",
    "http://cordex.dmi.dk/joomla/images/CORDEX/cordex_terms_of_use.pdf "
   ]
  },
  {
   "cell_type": "code",
   "execution_count": null,
   "metadata": {
    "collapsed": true
   },
   "outputs": [],
   "source": [
    "form.terms_of_use = \"...\" # example: sf.terms_of_use = \"unrestricted\""
   ]
  },
  {
   "cell_type": "markdown",
   "metadata": {},
   "source": [
    "## Step 4: provide information on data storage and data access \n",
    "(and other information needed for data transport and data publication)"
   ]
  },
  {
   "cell_type": "markdown",
   "metadata": {},
   "source": [
    "\n",
    "If there is any directory structure deviation from the CORDEX standard please specify here. \n",
    "Otherwise enter 'compliant'. Please note that deviations MAY imply that data can not be accepted."
   ]
  },
  {
   "cell_type": "code",
   "execution_count": null,
   "metadata": {
    "collapsed": true
   },
   "outputs": [],
   "source": [
    "form.directory_structure = \"...\" # example: sf.directory_structure = \"compliant\""
   ]
  },
  {
   "cell_type": "markdown",
   "metadata": {},
   "source": [
    "Give the path where the data reside, for example:\n",
    "blizzard.dkrz.de:/scratch/b/b364034/. If not applicable write N/A and give data access information in the data_information string"
   ]
  },
  {
   "cell_type": "code",
   "execution_count": null,
   "metadata": {
    "collapsed": true
   },
   "outputs": [],
   "source": [
    "form.data_path = \"...\"        # example: sf.data_path = \"mistral.dkrz.de:/mnt/lustre01/work/bm0021/k204016/CORDEX/archive/\"\n",
    "form.data_information = \"...\" # ...any info where data can be accessed and transfered to the data center ... \""
   ]
  },
  {
   "cell_type": "markdown",
   "metadata": {},
   "source": [
    "## Step 5: Check your submission before submission"
   ]
  },
  {
   "cell_type": "code",
   "execution_count": null,
   "metadata": {
    "collapsed": true
   },
   "outputs": [],
   "source": [
    "# simple consistency check report for your submission form\n",
    "res = form_handler.check_submission(sf)\n",
    "form.sub['status_flag_validity'] = res['valid_submission']\n",
    "form_handler.DictTable(res)"
   ]
  },
  {
   "cell_type": "markdown",
   "metadata": {},
   "source": [
    "## Step 6: Save and review your form\n",
    "\n",
    "your form will be stored (the form name consists of your last name plut your keyword)"
   ]
  },
  {
   "cell_type": "code",
   "execution_count": null,
   "metadata": {
    "collapsed": true
   },
   "outputs": [],
   "source": [
    "form_handler.form_save(sf)"
   ]
  },
  {
   "cell_type": "code",
   "execution_count": null,
   "metadata": {
    "collapsed": true
   },
   "outputs": [],
   "source": [
    "# evaluate this cell if you want a reference (provided by email)\n",
    "# (only available if you access this form via the DKRZ hosting service)\n",
    "form_handler.email_form_info(sf)"
   ]
  },
  {
   "cell_type": "markdown",
   "metadata": {},
   "source": [
    "## Step 7: officially submit your form\n",
    "the form will be submitted to the DKRZ team to process\n",
    "you also receive a confirmation email with a reference to your online form for future modifications "
   ]
  },
  {
   "cell_type": "code",
   "execution_count": null,
   "metadata": {
    "collapsed": true
   },
   "outputs": [],
   "source": [
    "form_handler.email_form_info(sf)\n",
    "form_handler.form_submission(sf)"
   ]
  }
 ],
 "metadata": {
  "anaconda-cloud": {},
  "kernelspec": {
   "display_name": "conda env: forms2",
   "language": "python",
   "name": "forms2"
  },
  "language_info": {
   "codemirror_mode": {
    "name": "ipython",
    "version": 2
   },
   "file_extension": ".py",
   "mimetype": "text/x-python",
   "name": "python",
   "nbconvert_exporter": "python",
   "pygments_lexer": "ipython2",
   "version": "2.7.13"
  }
 },
 "nbformat": 4,
 "nbformat_minor": 1
}
