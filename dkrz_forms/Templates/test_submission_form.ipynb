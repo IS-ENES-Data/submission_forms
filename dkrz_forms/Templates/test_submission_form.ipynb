{
 "cells": [
  {
   "cell_type": "markdown",
   "metadata": {},
   "source": [
    "# Generic DKRZ national archive ingest form \n",
    "\n",
    "\n",
    "This form is intended to request data to be made locally available in the DKRZ nationl data archive \n",
    "\n",
    "\n",
    "... to be finalized ..."
   ]
  },
  {
   "cell_type": "code",
   "execution_count": null,
   "metadata": {
    "collapsed": true
   },
   "outputs": [],
   "source": []
  }
 ],
 "metadata": {
  "anaconda-cloud": {},
  "kernelspec": {
   "display_name": "Python [conda env:forms2]",
   "language": "python",
   "name": "conda-env-forms2-py"
  },
  "language_info": {
   "codemirror_mode": {
    "name": "ipython",
    "version": 2
   },
   "file_extension": ".py",
   "mimetype": "text/x-python",
   "name": "python",
   "nbconvert_exporter": "python",
   "pygments_lexer": "ipython2",
   "version": "2.7.12"
  }
 },
 "nbformat": 4,
 "nbformat_minor": 0
}
