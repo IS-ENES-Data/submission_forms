{
 "cells": [
  {
   "cell_type": "markdown",
   "metadata": {},
   "source": [
    "# DKRZ data ingest workflow information update\n",
    "\n",
    "(Disclaimer: This demo notebook is for data managers only !)\n",
    "\n",
    "Updating information with respect to the data ingest workflow (e.g. adding quality assurance information or data publication related information) should be done in a well structured way - based on well defined steps.\n",
    "\n",
    "These steps update consistent information sets with respect to specific workflow action (e.g. data publication)\n",
    "\n",
    "Thus the submission_forms package provides a collection of components to support these activities. \n",
    "\n",
    "A consistent update step normally consists of\n",
    "* update on who did what, when (e.g. data manager A quality checked data B at time C ..)\n",
    "* update on additional information on the activity (e.g. add the quality assurance record)\n",
    "* updatee the status of the individual workflow step (open, paused, action-required, closed etc.) "
   ]
  },
  {
   "cell_type": "markdown",
   "metadata": {},
   "source": [
    "The following generic status states are defined: \n",
    "\n",
    "* ACTIVITY_STATUS = \"0:open, 1:in-progress ,2:action-required, 3:paused,4:closed\"          \n",
    "* ERROR_STATUS = \"0:open,1:ok,2:error\"\n",
    "* ENTITY_STATUS = \"0:open,1:stored,2:submitted,3:re-opened,4:closed\"\n",
    "* CHECK_STATUS = \"0:open,1:warning, 2:error,3:ok\""
   ]
  },
  {
   "cell_type": "code",
   "execution_count": null,
   "metadata": {},
   "outputs": [],
   "source": [
    "# import necessary packages\n",
    "from dkrz_forms import form_handler, utils, wflow_handler, checks\n",
    "from datetime import datetime\n",
    "from pprint import pprint"
   ]
  },
  {
   "cell_type": "markdown",
   "metadata": {},
   "source": [
    "## demo examples - step by step\n",
    "\n",
    "The following examples can be adopted to the data managers needs by e.g. creating targeted jupyter notebooks or python scripts Data managers have two separate application scenarios for data ingest information management: "
   ]
  },
  {
   "cell_type": "markdown",
   "metadata": {},
   "source": [
    "### Step 1: find and load a specific data ingest activity related form\n",
    "\n",
    "* Alternative A)\n",
    "   * check out out git repo https://gitlab.dkrz.de/DKRZ-CMIP-Pool/data_forms_repo\n",
    "   * this repo contains all completed submission forms\n",
    "   * all data manager related changes are also committed there\n",
    "   * subdirectories in this repo relate to the individual projects (e.g. CMIP6, CORDEX, ESGF_replication, ..)\n",
    "   * each entry there contains the last name of the data submission originator  \n",
    "   \n",
    "* Alternative B) (not yet documented, only prototype) \n",
    "   * use search interface and API of search index on all submision forms\n",
    "  \n",
    "  "
   ]
  },
  {
   "cell_type": "code",
   "execution_count": null,
   "metadata": {},
   "outputs": [],
   "source": [
    "# load workflow form object\n",
    "info_file = \"path_to_file.json\"\n",
    "my_form = utils.load_workflow_form(info_file)"
   ]
  },
  {
   "cell_type": "code",
   "execution_count": null,
   "metadata": {},
   "outputs": [],
   "source": [
    "# show the workflow steps for this form (long-name, short-name) \n",
    "# to select a specific action, you can use the long name, e.g. 'data_ingest' or the related short name e.g. 'ing'\n",
    "wflow_dict = wflow_handler.get_wflow_description(my_form)\n",
    "pprint(wflow_dict)"
   ]
  },
  {
   "cell_type": "markdown",
   "metadata": {},
   "source": [
    "### Step 2: indicate who is working on which workflow step"
   ]
  },
  {
   "cell_type": "code",
   "execution_count": null,
   "metadata": {},
   "outputs": [],
   "source": [
    "# 'start_action' updates the form with information on who is currently working on the form \n",
    "# internal information on this (timestamp, status information) is automatically set ..\n",
    "# the resulting 'working version' of the form is commited to the work repository\n",
    "\n",
    "wflow_handler.start_action('data_submission_review',my_form,\"stephan kindermann\")"
   ]
  },
  {
   "cell_type": "markdown",
   "metadata": {},
   "source": [
    "### Step 3: indicate the update and closure of a specific workflow step"
   ]
  },
  {
   "cell_type": "code",
   "execution_count": null,
   "metadata": {},
   "outputs": [],
   "source": [
    "review_report = {}\n",
    "review_report['comment'] = 'needed to change and correct submission form'\n",
    "review_report['additional_info'] = \"mail exchange with a@b with respect to question ...\"\n",
    "\n",
    "myform = wflow_handler.finish_action('data_submission_review',my_form,\"stephan kindermann\",review_report)"
   ]
  },
  {
   "cell_type": "markdown",
   "metadata": {},
   "source": [
    "### interactive \"help\": use ?form.part and tab completion:"
   ]
  },
  {
   "cell_type": "code",
   "execution_count": null,
   "metadata": {},
   "outputs": [],
   "source": [
    "my_form.rev.entity_out.report"
   ]
  },
  {
   "cell_type": "markdown",
   "metadata": {},
   "source": [
    "## Display status of report"
   ]
  },
  {
   "cell_type": "code",
   "execution_count": null,
   "metadata": {},
   "outputs": [],
   "source": [
    "report = checks.check_report(my_form,\"sub\")\n",
    "checks.display_report(report)"
   ]
  },
  {
   "cell_type": "code",
   "execution_count": null,
   "metadata": {},
   "outputs": [],
   "source": [
    "my_form.rev.entity_in.check_status"
   ]
  },
  {
   "cell_type": "markdown",
   "metadata": {},
   "source": [
    "## Display status of form"
   ]
  },
  {
   "cell_type": "code",
   "execution_count": null,
   "metadata": {},
   "outputs": [],
   "source": [
    "my_form.sub.activity.ticket_url"
   ]
  },
  {
   "cell_type": "code",
   "execution_count": null,
   "metadata": {
    "scrolled": true
   },
   "outputs": [],
   "source": [
    "part = checks.check_step_form(my_form,\"sub\")\n",
    "checks.display_check(part,\"sub\")"
   ]
  },
  {
   "cell_type": "code",
   "execution_count": null,
   "metadata": {
    "scrolled": true
   },
   "outputs": [],
   "source": [
    "## global check\n",
    "res  = checks.check_generic_form(my_form)\n",
    "checks.display_checks(my_form,res)"
   ]
  },
  {
   "cell_type": "code",
   "execution_count": null,
   "metadata": {
    "scrolled": true
   },
   "outputs": [],
   "source": [
    "print(my_form.sub.entity_out.status)\n",
    "print(my_form.rev.entity_in.form_json)\n",
    "print(my_form.sub.activity.ticket_id)"
   ]
  },
  {
   "cell_type": "code",
   "execution_count": null,
   "metadata": {},
   "outputs": [],
   "source": [
    "pprint(my_form.workflow)"
   ]
  },
  {
   "cell_type": "markdown",
   "metadata": {},
   "source": [
    "### Appendix\n",
    "\n",
    "Sometimes it is necessary to modify specific information and not relay on the generic steps described above\n",
    "here are some examples\n",
    "\n",
    "Attention: this section has to refined and the status information flags have to be revised and adapted to the actual needs"
   ]
  },
  {
   "cell_type": "code",
   "execution_count": null,
   "metadata": {},
   "outputs": [],
   "source": [
    "workflow_form = utils.load_workflow_form(info_file)\n",
    "   \n",
    "review = workflow_form.rev\n",
    "\n",
    "# any additional information keys can be added,\n",
    "# yet they are invisible to generic information management tools ..\n",
    "workflow_form.status = \"review\"\n",
    "\n",
    "review.activity.status = \"1:in-review\"\n",
    "review.activity.start_time = str(datetime.now())\n",
    "review.activity.review_comment = \"data volume check to be done\"\n",
    "review.agent.responsible_person = \"sk\"\n",
    "\n",
    "sf = form_handler.save_form(workflow_form, \"sk: review started\")\n",
    "\n",
    "review.activity.status = \"3:accepted\"\n",
    "review.activity.ticket_id = \"25389\"\n",
    "review.activity.end_time = str(datetime.now())\n",
    "\n",
    "review.entity_out.comment = \"This submission is related to submission abc_cde\"\n",
    "review.entity_out.tag = \"sub:abc_cde\"  # tags are used to relate different forms to each other\n",
    "review.entity_out.report = {'x':'y'}   # result of validation in a dict (self defined properties)\n",
    "\n",
    "# ToDo: test and document save_form for data managers (config setting for repo)   \n",
    "sf = form_handler.save_form(workflow_form, \"kindermann: form_review()\")"
   ]
  },
  {
   "cell_type": "markdown",
   "metadata": {},
   "source": [
    "### add data ingest step related information"
   ]
  },
  {
   "cell_type": "markdown",
   "metadata": {},
   "source": [
    "__Comment:__ alternatively in tools workflow_step related information could also be \n",
    "directly given and assigned via dictionaries, yet this is only \n",
    "recommended for data managers making sure the structure is consistent with\n",
    "the preconfigured one given in config/project_config.py \n",
    "* example validation.activity.\\__dict\\__ = data_manager_generated_dict"
   ]
  },
  {
   "cell_type": "code",
   "execution_count": null,
   "metadata": {},
   "outputs": [],
   "source": [
    "workflow_form = utils.load_workflow_form(info_file)\n",
    "   \n",
    "ingest = workflow_form.ing"
   ]
  },
  {
   "cell_type": "code",
   "execution_count": null,
   "metadata": {},
   "outputs": [],
   "source": [
    "?ingest.entity_out"
   ]
  },
  {
   "cell_type": "code",
   "execution_count": null,
   "metadata": {},
   "outputs": [],
   "source": [
    "# agent related info\n",
    "workflow_form.status = \"ingest\"\n",
    "\n",
    "ingest.activity.status = \"started\"\n",
    "ingest.agent.responsible_person = \"hdh\"\n",
    "ingest.activity.start_time=str(datetime.now())\n",
    "\n",
    "# activity related info\n",
    "\n",
    "ingest.activity.comment = \"data pull: credentials needed for remote site\"\n",
    "sf = form_handler.save_form(workflow_form, \"kindermann: form_review()\")"
   ]
  },
  {
   "cell_type": "code",
   "execution_count": null,
   "metadata": {
    "scrolled": true
   },
   "outputs": [],
   "source": [
    "ingest.activity.status = \"completed\"\n",
    "ingest.activity.end_time = str(datetime.now())\n",
    "\n",
    "# report of the ingest process (entity_out of ingest workflow step)\n",
    "ingest_report = ingest.entity_out\n",
    "ingest_report.tag = \"a:b:c\"  # tag structure to be defined\n",
    "ingest_report.status = \"completed\"\n",
    "# free entries for detailed report information\n",
    "ingest_report.report.remote_server = \"gridftp.awi.de://export/data/CMIP6/test\"\n",
    "ingest_report.report.server_credentials = \"in server_cred.krb keypass\"\n",
    "ingest_report.report.target_path = \"..\"\n",
    "sf = form_handler.save_form(workflow_form, \"kindermann: form_review()\")"
   ]
  },
  {
   "cell_type": "code",
   "execution_count": null,
   "metadata": {},
   "outputs": [],
   "source": [
    "ingest_report.report."
   ]
  },
  {
   "cell_type": "markdown",
   "metadata": {},
   "source": [
    "### workflow step: data quality assurance"
   ]
  },
  {
   "cell_type": "code",
   "execution_count": null,
   "metadata": {},
   "outputs": [],
   "source": [
    "from datetime import datetime\n",
    "workflow_form = utils.load_workflow_form(info_file)\n",
    "   \n",
    "qua = workflow_form.qua"
   ]
  },
  {
   "cell_type": "code",
   "execution_count": null,
   "metadata": {},
   "outputs": [],
   "source": [
    "workflow_form.status = \"quality assurance\"\n",
    "qua.agent.responsible_person = \"hdh\"\n",
    "\n",
    "qua.activity.status = \"starting\" \n",
    "qua.activity.start_time = str(datetime.now())\n",
    "\n",
    "sf = form_handler.save_form(workflow_form, \"hdh: qa start\")\n",
    "\n"
   ]
  },
  {
   "cell_type": "code",
   "execution_count": null,
   "metadata": {},
   "outputs": [],
   "source": [
    "qua.entity_out.status = \"completed\"\n",
    "qua.entity_out.report = {\n",
    "    \"QA_conclusion\": \"PASS\",\n",
    "    \"project\": \"CORDEX\",\n",
    "    \"institute\": \"CLMcom\",\n",
    "    \"model\": \"CLMcom-CCLM4-8-17-CLM3-5\",\n",
    "    \"domain\": \"AUS-44\",\n",
    "    \"driving_experiment\":  [ \"ICHEC-EC-EARTH\"],\n",
    "    \"experiment\": [ \"history\", \"rcp45\", \"rcp85\"],\n",
    "    \"ensemble_member\": [ \"r12i1p1\" ],\n",
    "    \"frequency\": [ \"day\", \"mon\", \"sem\" ],\n",
    "    \"annotation\":\n",
    "    [\n",
    "        {\n",
    "            \"scope\": [\"mon\", \"sem\"],\n",
    "            \"variable\": [ \"tasmax\", \"tasmin\", \"sfcWindmax\" ],\n",
    "            \"caption\": \"attribute <variable>:cell_methods for climatologies requires <time>:climatology instead of time_bnds\",\n",
    "            \"comment\": \"due to the format of the data, climatology is equivalent to time_bnds\",\n",
    "            \"severity\": \"note\"\n",
    "        }\n",
    "    ]\n",
    "}\n",
    "sf = form_handler.save_form(workflow_form, \"hdh: qua complete\")\n"
   ]
  },
  {
   "cell_type": "markdown",
   "metadata": {},
   "source": [
    "### workflow step: data publication"
   ]
  },
  {
   "cell_type": "code",
   "execution_count": null,
   "metadata": {},
   "outputs": [],
   "source": [
    "workflow_form = utils.load_workflow_form(info_file)\n",
    "\n",
    "workflow_form.status = \"publishing\"\n",
    "\n",
    "pub = workflow_form.pub\n",
    "pub.agent.responsible_person = \"katharina\"\n",
    "pub.activity.status = \"starting\"\n",
    "pub.activity.start_time = str(datetime.now())\n",
    "\n",
    "sf = form_handler.save_form(workflow_form, \"kb: publishing\")"
   ]
  },
  {
   "cell_type": "code",
   "execution_count": null,
   "metadata": {},
   "outputs": [],
   "source": [
    "pub.activity.status = \"completed\"\n",
    "pub.activity.comment = \"...\"\n",
    "pub.activity.end_time = \"..\"\n",
    "pub.activity.report = {'model':\"MPI-M\"}   # activity related report information\n",
    "\n",
    "pub.entity_out.report = {'model':\"MPI-M\"} # the report of the publication action - all info characterizing the publication\n",
    "sf = form_handler.save_form(workflow_form, \"kb: published\")\n"
   ]
  },
  {
   "cell_type": "code",
   "execution_count": null,
   "metadata": {
    "scrolled": true
   },
   "outputs": [],
   "source": [
    "sf = form_handler.save_form(workflow_form, \"kindermann: form demo run 1\")"
   ]
  },
  {
   "cell_type": "code",
   "execution_count": null,
   "metadata": {},
   "outputs": [],
   "source": [
    "sf.sub.activity.commit_hash\n"
   ]
  }
 ],
 "metadata": {
  "anaconda-cloud": {},
  "kernelspec": {
   "display_name": "Python 3",
   "language": "python",
   "name": "python3"
  },
  "language_info": {
   "codemirror_mode": {
    "name": "ipython",
    "version": 3
   },
   "file_extension": ".py",
   "mimetype": "text/x-python",
   "name": "python",
   "nbconvert_exporter": "python",
   "pygments_lexer": "ipython3",
   "version": "3.6.5"
  }
 },
 "nbformat": 4,
 "nbformat_minor": 1
}
