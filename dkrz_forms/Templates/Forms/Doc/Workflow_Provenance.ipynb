{
 "cells": [
  {
   "cell_type": "markdown",
   "metadata": {},
   "source": [
    "# Representation of data submission workflow based on W3C-PROV\n",
    "\n",
    "This notebook demonstrates the transformation of a submission workflow form to a W3C-Prov conforming representation.\n",
    "The main purpose of this is to have the form information represented in a widely adopted standards conforming way, for which generic storage, search and traversal mechanisms are available and will be built in the future."
   ]
  },
  {
   "cell_type": "markdown",
   "metadata": {},
   "source": [
    "Model is along the concept described in https://www.w3.org/TR/prov-primer/\n",
    "    "
   ]
  },
  {
   "cell_type": "code",
   "execution_count": null,
   "metadata": {
    "scrolled": true
   },
   "outputs": [],
   "source": [
    "from IPython.display import display, Image\n",
    "Image(filename='../../key-concepts.png')"
   ]
  },
  {
   "cell_type": "code",
   "execution_count": null,
   "metadata": {},
   "outputs": [],
   "source": [
    "# provide the file location of your form json file\n",
    "# as a result a provenance graph is built based on a predefined workflow template\n",
    "from dkrz_forms import utils\n",
    "prov_graph = utils.gen_prov_graph('/opt/jupyter/notebooks/form_directory/CORDEX/CORDEX_mm_mm.json','all')"
   ]
  },
  {
   "cell_type": "markdown",
   "metadata": {},
   "source": [
    "### Visualization of the resulting provenance graph"
   ]
  },
  {
   "cell_type": "code",
   "execution_count": null,
   "metadata": {
    "scrolled": true
   },
   "outputs": [],
   "source": [
    "# execute this cell to produce a dot file representation for display\n",
    "%matplotlib inline\n",
    "prov_graph.plot()"
   ]
  },
  {
   "cell_type": "markdown",
   "metadata": {},
   "source": [
    "##  Namespace definitions \n",
    "\n",
    "currently the namespace definitions in the generated provenance representation are not aligned with available well defined definition. This will be adapted in the future, example namespace definitions which will be exploited include:\n",
    "  (from DOI: 10.3390/ijgi5030038 , mehr unter https://github.com/tsunagun/vocab/blob/master/all_20130125.csv)\n",
    "    \n",
    "    owl      Web Ontology Language    http://www.w3.org/2002/07/owl#\n",
    "    dctype   DCMI Type Vocabulary     http://purl.org/dc/dcmitype/\n",
    "    dco      DCO  Ontology            http://info.deepcarbon.net/schema#\n",
    "    prov     PROV Ontology            http://www.w3.org/ns/prov#\n",
    "    skos     Simple Knowledge\n",
    "             Organization System      http://www.w3.org/2004/02/skos/core#\n",
    "    foaf     FOAF Ontology            http://xmlns.com/foaf/0.1/\n",
    "    vivo     VIVO Ontology            http://vivoweb.org/ontology/core#\n",
    "    bibo     Bibliographic Ontology   http://purl.org/ontology/bibo/\n",
    "    xsd      XML Schema Datatype      http://www.w3.org/2001/XMLSchema#\n",
    "    rdf      Resource Description\n",
    "             Framework                http://www.w3.org/1999/02/22-rdf-syntax-ns#\n",
    "    rdfs     Resource Description\n",
    "             Framework Schema         http://www.w3.org/2000/01/rdf-schema#    "
   ]
  }
 ],
 "metadata": {
  "anaconda-cloud": {},
  "kernelspec": {
   "display_name": "Python 3",
   "language": "python",
   "name": "python3"
  },
  "language_info": {
   "codemirror_mode": {
    "name": "ipython",
    "version": 3
   },
   "file_extension": ".py",
   "mimetype": "text/x-python",
   "name": "python",
   "nbconvert_exporter": "python",
   "pygments_lexer": "ipython3",
   "version": "3.6.5"
  }
 },
 "nbformat": 4,
 "nbformat_minor": 1
}
