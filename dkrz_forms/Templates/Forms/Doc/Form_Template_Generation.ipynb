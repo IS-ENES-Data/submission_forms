{
 "cells": [
  {
   "cell_type": "markdown",
   "metadata": {},
   "source": [
    "# How to add new form templates to the system and how to modify the overall form workflow\n",
    "\n",
    "For developers only !\n",
    "\n",
    "New projects often have specific needs and thus specific information\n",
    "exchange related information needs to be exchanged between the data provider \n",
    "(you) and the data center (we).\n",
    "\n",
    "This can captured in project specific Form Templates \n",
    "(similiar to the existing ones e.g. for CMIP6).\n",
    "In the following the steps are described to generate and \n",
    "add new project templates to the system. "
   ]
  },
  {
   "cell_type": "markdown",
   "metadata": {},
   "source": [
    "## Overall workflow\n",
    "\n",
    "The overall workflow is described by the dictionaries defined \n",
    "in **dkrz_forms/config/workflow_steps.py**. Additionally the possible \n",
    "status values as well as all namespaces are defined therein. \n",
    "\n",
    "All workflow steps are characterized by their provenance components:\n",
    "    \n",
    "let Data_xx be the workflow step, then:     \n",
    "* xx_Entity\n",
    "* xx_Agent\n",
    "* xx_Activity"
   ]
  },
  {
   "cell_type": "code",
   "execution_count": null,
   "metadata": {},
   "outputs": [],
   "source": []
  }
 ],
 "metadata": {
  "kernelspec": {
   "display_name": "Python 3",
   "language": "python",
   "name": "python3"
  },
  "language_info": {
   "codemirror_mode": {
    "name": "ipython",
    "version": 3
   },
   "file_extension": ".py",
   "mimetype": "text/x-python",
   "name": "python",
   "nbconvert_exporter": "python",
   "pygments_lexer": "ipython3",
   "version": "3.6.4"
  }
 },
 "nbformat": 4,
 "nbformat_minor": 2
}
