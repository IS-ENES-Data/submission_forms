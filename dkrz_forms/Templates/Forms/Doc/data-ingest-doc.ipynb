{
 "cells": [
  {
   "cell_type": "markdown",
   "metadata": {},
   "source": [
    "#  Data ingest services at DKRZ\n",
    "\n",
    "You want to transfer large data volumes to DKRZ e.g. for ESGF publication or long term archival?\n",
    "\n",
    "There are several options available which are shortly described below:"
   ]
  },
  {
   "cell_type": "markdown",
   "metadata": {},
   "source": [
    "## Option 1: Use your DKRZ account\n",
    "\n",
    "If you have an DKRZ account and associated (project) storage \n",
    "space you can use rsny / scp ect. tools to pull data from your lab"
   ]
  },
  {
   "cell_type": "markdown",
   "metadata": {},
   "source": [
    "## Option 2: Use globus connect\n",
    "\n",
    "Globus connect provides a very convenient graphical interface to transfer files or complete directories to DKRZ. You need to install the globus-connect-personal endpoint at your machine or you can use a globus-connect-servier endpoint of your home institutions (if available). \n",
    "\n",
    "For installation instructions of globus-connect-personal on your computer (Windows, Linux or MacOS) please visit https://www.globus.org/app/endpoints/create-gcp?back=transfer. \n",
    "\n",
    "To transfer files simply visit https://www.globus.org/app/transfer and select the source globus endpoint (on your computer or in your lab). For the target please select **esgfdatadkrz#cmip-transfer1** and use your DKRZ credentials to log in - you should see something like:\n",
    "\n",
    "![select-endpoints](../fig/globus-connect-select.png)\n",
    "\n",
    "After this go into the import directory at the target endpoint and navigate to the directory, where you want to deposit your data. To start the transfer select the blue transfer button: \n",
    "\n",
    "![select-target](../fig/globus-connect-target.png)"
   ]
  },
  {
   "cell_type": "markdown",
   "metadata": {},
   "source": [
    "### Option 3: Use swift and the DKRZ cloud\n",
    "\n",
    "see https://www.dkrz.de/up/systems/swift/swift how to use the swift interface to upload your data to the DKRZ cloud"
   ]
  },
  {
   "cell_type": "markdown",
   "metadata": {},
   "source": [
    "### Option 4: (last resort)\n",
    "    \n",
    "please contact data-pool /at/ dkrz.de   "
   ]
  },
  {
   "cell_type": "code",
   "execution_count": null,
   "metadata": {},
   "outputs": [],
   "source": []
  }
 ],
 "metadata": {
  "kernelspec": {
   "display_name": "Python 3",
   "language": "python",
   "name": "python3"
  },
  "language_info": {
   "codemirror_mode": {
    "name": "ipython",
    "version": 3
   },
   "file_extension": ".py",
   "mimetype": "text/x-python",
   "name": "python",
   "nbconvert_exporter": "python",
   "pygments_lexer": "ipython3",
   "version": "3.6.6"
  }
 },
 "nbformat": 4,
 "nbformat_minor": 2
}
