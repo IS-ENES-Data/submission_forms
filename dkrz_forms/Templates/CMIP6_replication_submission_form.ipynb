{
 "cells": [
  {
   "cell_type": "markdown",
   "metadata": {},
   "source": [
    "# CMIP6 replica request form\n",
    "\n",
    "This form is intended to request data to be replicated from other CMIP6 ESGF nodes to be made\n",
    "locally available in the DKRZ CMIP data pool.\n",
    "\n",
    "The specification of a requested data collection is based on the search facets describing the data collection. These facets correspond directly to the search categories you use to find data collection in one of the ESGF portals (e.g. https://esgf-data.dkrz.de/).\n",
    "\n",
    "The specification is based on \"selection files\", which are then used by the synda ESGF download application. For details please see https://github.com/Prodiguer/synda/blob/master/sdt/doc/selection_file.md\n",
    "- a set of example selection files is accessible at: https://github.com/Prodiguer/synda/tree/master/sdt/selection/sample\n"
   ]
  },
  {
   "cell_type": "markdown",
   "metadata": {},
   "source": [
    "Example selection file specification \n",
    "\n",
    "  generates a selection file named \"test1.txt\"\n",
    "\n",
    "     %%writefile test1.txt\n",
    "     project=\"CMIP5\"\n",
    "     model=\"CNRM-CM5 CSIRO-Mk3-6-0\"\n",
    "     experiment=\"historical amip\"\n",
    "     ensemble=\"r1i1p1\"\n",
    "     variable[atmos][mon]=\"tasmin tas psl\"\n",
    "     variable[ocean][fx]=\"areacello sftof\"\n",
    "     variable[land][mon]=\"mrsos,nppRoot,nep\"\n",
    "     variable[seaIce][mon]=\"sic evap\"\n",
    "     variable[ocnBgchem][mon]=\"dissic fbddtalk\""
   ]
  },
  {
   "cell_type": "markdown",
   "metadata": {},
   "source": [
    "## Specify replica selection file\n",
    "\n",
    "specify a replica selection file, following the example above by eveluating the cell below"
   ]
  },
  {
   "cell_type": "code",
   "execution_count": null,
   "metadata": {
    "collapsed": true
   },
   "outputs": [],
   "source": [
    "%%writefile example_selection_file_tst.txt  # change file name\n",
    "\n",
    "project=\"CMIP5\"\n",
    "model=\"....\"\n",
    "experiment=\"....\"\n",
    "ensemble=\"....\"\n",
    "variable[atmos][mon]=\"....\"\n"
   ]
  },
  {
   "cell_type": "markdown",
   "metadata": {},
   "source": [
    "##### Check your selection file\n",
    "\n",
    "evaluate the following cell to display ESGF metadata corresponding to your selection file"
   ]
  },
  {
   "cell_type": "code",
   "execution_count": null,
   "metadata": {
    "collapsed": false
   },
   "outputs": [],
   "source": [
    "%%bash \n",
    "\n",
    "synda dump -s example_selection_file_tst.txt\n",
    "#synda install -s example_selection_file_tst.txt # change file name accordingly"
   ]
  },
  {
   "cell_type": "code",
   "execution_count": 1,
   "metadata": {
    "collapsed": false
   },
   "outputs": [
    {
     "name": "stdout",
     "output_type": "stream",
     "text": [
      "usage: synda dump [-h] [-s SELECTION_FILE] [-n] [-z] [-a | -d | -f | -v] [-A]\n",
      "                  [-R] [-C COLUMN] [-F {raw,line,indent,value}]\n",
      "                  [parameter [parameter ...]]\n",
      "\n",
      "positional arguments:\n",
      "  parameter             search parameters. Format is name=value1,value2.. ... Most of the time, parameter name can be omitted.\n",
      "\n",
      "optional arguments:\n",
      "  -h, --help            show this help message and exit\n",
      "  -s SELECTION_FILE, --selection_file SELECTION_FILE\n",
      "  -n, --no_default      prevent loading default value\n",
      "  -z, --dry_run\n",
      "  -a, --aggregation\n",
      "  -d, --dataset\n",
      "  -f, --file\n",
      "  -v, --variable\n",
      "  -A, --all             Show all attributes\n",
      "  -R, --raw_mode        dump original metadata\n",
      "  -C COLUMN, --column COLUMN\n",
      "                        set column(s) to be used with 'dump' action\n",
      "  -F {raw,line,indent,value}, --format {raw,line,indent,value}\n",
      "                        set format to be used with 'dump' action\n",
      "\n",
      "examples\n",
      "  synda dump CORDEX IPSL-INERIS  evaluation 1 -f -F indent\n",
      "  synda dump CMIP5 IPSL mon atmos 1 -d -F indent\n",
      "  synda dump -R CMIP5 1 -f -F indent\n",
      "  synda dump omldamax_day_IPSL-CM5A-LR_decadal1995_r1i1p1_19960101-20051231.nc -F indent\n",
      "  synda dump -R CMIP5 1 -f -F value -C url_http,url_gridftp\n",
      "  synda dump CORDEX IPSL-INERIS  evaluation 1 -f -C local_path -F value\n"
     ]
    }
   ],
   "source": [
    "%%bash\n",
    "synda dump -h"
   ]
  },
  {
   "cell_type": "markdown",
   "metadata": {
    "collapsed": false
   },
   "source": [
    "## Example synda calls"
   ]
  },
  {
   "cell_type": "markdown",
   "metadata": {
    "collapsed": false
   },
   "source": [
    "#### Explore Metadata\n",
    "\n",
    "example synda calls to search and explore metadata"
   ]
  },
  {
   "cell_type": "code",
   "execution_count": 2,
   "metadata": {
    "collapsed": false
   },
   "outputs": [
    {
     "name": "stdout",
     "output_type": "stream",
     "text": [
      "short name:        tas\n",
      "standard name:     air_temperature\n",
      "long name:         Near-Surface Air Temperature\n",
      "unit:              K\n"
     ]
    }
   ],
   "source": [
    "%%bash \n",
    "\n",
    "# synda dump tas GFDL-ESM2M -F line -f -C size,filenam\n",
    "synda variable tas\n",
    "# synda search cmip5 MOHC HadGEM2-A amip4\n",
    "# synda search cmip5 mon atmos -l 1000xCO2 mon atmos Amon r1i1p1"
   ]
  },
  {
   "cell_type": "code",
   "execution_count": 3,
   "metadata": {
    "collapsed": false
   },
   "outputs": [
    {
     "name": "stdout",
     "output_type": "stream",
     "text": [
      "usage: synda [-h] [-V] subcommand ...\n",
      "\n",
      "positional arguments:\n",
      "  subcommand\n",
      "    autoremove   Remove old datasets versions\n",
      "    certificate  Manage X509 certificate\n",
      "    contact      Print contact information\n",
      "    daemon       Daemon management\n",
      "    dump         Display raw metadata\n",
      "    facet        Facet discovery\n",
      "    get          Download dataset\n",
      "    help         Show help\n",
      "    history      Show history\n",
      "    install      Install dataset\n",
      "    intro        Print introduction to synda command\n",
      "    list         List installed dataset\n",
      "    metric       Display performance and disk usage metrics\n",
      "    param        Print ESGF facets\n",
      "    pexec        Execute post-processing task\n",
      "    queue        Display download queue status\n",
      "    remove       Remove dataset\n",
      "    replica      Move to next replica\n",
      "    reset        Remove all 'waiting' and 'error' transfers\n",
      "    retry        Retry transfer (switch status from error to waiting)\n",
      "    search       Search dataset\n",
      "    selection    List selection files\n",
      "    show         Display detailed information about dataset\n",
      "    stat         Display summary information about dataset\n",
      "    update       Update ESGF parameter local cache\n",
      "    upgrade      Perform an upgrade (retrieve new version for all selection files)\n",
      "    variable     Print variable\n",
      "    version      List all versions of a dataset\n",
      "    watch        Display running transfer\n",
      "\n",
      "optional arguments:\n",
      "  -h, --help     show this help message and exit\n",
      "  -V, --version  show program's version number and exit\n"
     ]
    }
   ],
   "source": [
    "%%bash \n",
    "\n",
    "synda -h"
   ]
  },
  {
   "cell_type": "code",
   "execution_count": null,
   "metadata": {
    "collapsed": true
   },
   "outputs": [],
   "source": []
  }
 ],
 "metadata": {
  "anaconda-cloud": {},
  "kernelspec": {
   "display_name": "Python [conda env:forms2]",
   "language": "python",
   "name": "conda-env-forms2-py"
  },
  "language_info": {
   "codemirror_mode": {
    "name": "ipython",
    "version": 2
   },
   "file_extension": ".py",
   "mimetype": "text/x-python",
   "name": "python",
   "nbconvert_exporter": "python",
   "pygments_lexer": "ipython2",
   "version": "2.7.12"
  }
 },
 "nbformat": 4,
 "nbformat_minor": 0
}
