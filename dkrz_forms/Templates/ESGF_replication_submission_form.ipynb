{
 "cells": [
  {
   "cell_type": "markdown",
   "metadata": {},
   "source": [
    "# ESGF replication request form\n",
    "\n",
    "![form-submission](../fig/form-submission.png)"
   ]
  },
  {
   "cell_type": "markdown",
   "metadata": {},
   "source": [
    "This form is intended to request data to be replicated from other ESGF nodes to be made\n",
    "locally available in the DKRZ CMIP data pool.\n",
    "\n",
    "The specification of a requested data collection is based on the search facets describing the data collection. These facets correspond directly to the search categories you use to find data  in one of the ESGF portals (e.g. https://esgf-data.dkrz.de/).\n",
    "\n",
    "**Attention:** To be able to check your data replication requests before submission it is recommended to have a working [synda replication tool](http://prodiguer.github.io/synda/ installation available. If you use the hosted submission form at https://data-forms.dkrz.de:8080 this is the case by default ..\n",
    "\n",
    "\n",
    "\n",
    "## Specification of ESGF data to be replicated\n",
    "To be able to automate the data replication process as much as possible we recommend the following steps, which are supported in this form. In case you have problems with this approach please contact us directly via mail (esgf-replication 'at' dkrz.de). \n",
    "\n",
    "- **Step 1:** define your data request based on the search facets you need to characterize the data collection in one of the ESGF portals.\n",
    "- **Step 2:** write down your facet selection choices in the specific format supported by the [synda replication tool](http://prodiguer.github.io/synda/): \n",
    "   - The specification is based on so called [selection files](https://github.com/Prodiguer/synda/blob/master/sdt/doc/selection_file.md) see [examples](thttps://github.com/Prodiguer/synda/tree/master/sdt/selection/sample) for a set of examples\n",
    "   - specifiy the  selection files characterizing your request in this part \n",
    "- **Step 3:** Test and check your selection file(s) with respect to correctnes \n",
    "- **Step 4:** Provide information on the context of your request\n",
    "- **Step 5:** Generate file lists associated to your replica request Check your selection file(s) with respect to data volume adressed\n",
    "- **Step 6:** Submit your replication request\n",
    "\n",
    "**General remarks:**\n",
    "\n",
    "- We recommend to install the synda application at your lab in case you have recurring needs for data to be made available at DKRZ, this way you can prepare and verify your replication at your lab.\n",
    "- We recommend to split your request into a set of small well defined selection files instead of specifying one complex file characterizing your complete data needs\n"
   ]
  },
  {
   "cell_type": "markdown",
   "metadata": {},
   "source": [
    "### Identify your form \n",
    "\n",
    "- Evaluate the following cell (\"SHIFT-ENTER\"), you will then see a list of all your forms. Please select the one you are currently working on (the name **must** match the name at the top of this page !!)."
   ]
  },
  {
   "cell_type": "code",
   "execution_count": null,
   "metadata": {
    "collapsed": true
   },
   "outputs": [],
   "source": [
    "# Evaluate this cell to identifiy your form \n",
    "\n",
    "from dkrz_forms import form_widgets, form_handler, checks\n",
    "form_infos = form_widgets.show_selection()"
   ]
  },
  {
   "cell_type": "code",
   "execution_count": null,
   "metadata": {},
   "outputs": [],
   "source": [
    "# Evaluate this cell to generate your personal form instance\n",
    "\n",
    "form_info = form_infos[form_widgets.FORMS.value]\n",
    "sf = form_handler.init_form(form_info)\n",
    "form = sf.sub.entity_out.report"
   ]
  },
  {
   "cell_type": "markdown",
   "metadata": {},
   "source": [
    "## Step 2: Edit and store your replica selection file(s)\n",
    "\n",
    "Please provide the facet values charaterizing your data request. You can find the appropriate settings either \n",
    "- by using an ESGF portal and remembering your search facets or\n",
    "- by playing around with the cells below until your request is fully specified or\n",
    "- by installing the synda tool at your lab and using the tool directly at home - just copy the tested synda selection files into the slots below..\n",
    "\n",
    "an [example seclection](http://prodiguer.github.io/synda/sdt/selection_file.html) file looks like: \n",
    "\n",
    "     project=\"CMIP5\"\n",
    "     model=\"CNRM-CM5 CSIRO-Mk3-6-0\"\n",
    "     experiment=\"historical amip\"\n",
    "     ensemble=\"r1i1p1\"\n",
    "     variable[atmos][mon]=\"tasmin tas psl\"\n",
    "     variable[ocean][fx]=\"areacello sftof\"\n",
    "     variable[land][mon]=\"mrsos,nppRoot,nep\"\n",
    "     variable[seaIce][mon]=\"sic evap\"\n",
    "     variable[ocnBgchem][mon]=\"dissic fbddtalk\"\n",
    "\n",
    "You can store your request using the cells below by adding `%%writefile seclection/myfilename.txt`  as a first line. Please select \"myfilenamee\" carefully to be able to remember later the dataset which this file charecterizes e.g. `%%writefile erich_cmip5_atmos_vars_for_exp1.txt`\n"
   ]
  },
  {
   "cell_type": "markdown",
   "metadata": {},
   "source": [
    "### store your selection files using the cells below\n",
    "\n",
    "- please provide the names of your selection files in the cell below and evaluate it (\"SHIFT-ENTER\") \n",
    "- for each file name an input field is generated to be filled with your data specification (use \"copy-paste\" to provide your selection files)."
   ]
  },
  {
   "cell_type": "code",
   "execution_count": null,
   "metadata": {
    "collapsed": true
   },
   "outputs": [],
   "source": [
    "# provide the list of selection file names (.txt files)\n",
    "# detailed, characterizing file names prefered .. \n",
    "# e.g. sel_file_list = [\"cmip5_mpi-m_rcp_1.txt\",\"cmip5_smhi_rcp_0.txt\"]\n",
    "\n",
    "form.selection_files = [\"...\",\"...\"]      # strings in a list\n",
    "\n",
    "#---- generation of input fields for your files\n",
    "text_w = form_widgets.get_selection_files(form.selection_files)\n",
    "form_widgets.gen_text_widgets(text_w)"
   ]
  },
  {
   "cell_type": "markdown",
   "metadata": {},
   "source": [
    "## Step3 (optional): Check your selection file(s)\n",
    "\n",
    "using the cells below you can directly interact with the synda tool to check your selection files. The generic syntax is: \n",
    "\n",
    "      - synda <command> -s ./selection/<your_selection_file> \n",
    "      \n",
    "see also the example synda cells in the Appendix of this form      "
   ]
  },
  {
   "cell_type": "code",
   "execution_count": null,
   "metadata": {
    "collapsed": true
   },
   "outputs": [],
   "source": [
    "%%bash \n",
    "# The following command searches for data sets matching your request\n",
    "\n",
    "synda search -s ./selection/your_selection_file_to_be_checked.txt \n",
    "\n",
    "# other helpfull commands\n",
    "# synda check -s ./selection/...\n",
    "# synda -h\n",
    "\n",
    "\n",
    "# Final check always should be done with the following command\n",
    "# - it shows the volume of data associated to your request\n",
    "# synda show -s ./selection/..."
   ]
  },
  {
   "cell_type": "markdown",
   "metadata": {},
   "source": [
    "## Step 4 (optional): Generate file list associated to your request \n",
    "\n",
    "by evaluating the cell below, the file list associated to your request at this time is generated. \n",
    "In case this fails please first try to debug your request using the cells above or by directly installing synda at your site. \n",
    "If problems persist please continue with the form submission below - we will try to resolve your request by direct interaction with our data managers .. "
   ]
  },
  {
   "cell_type": "code",
   "execution_count": null,
   "metadata": {
    "collapsed": true
   },
   "outputs": [],
   "source": [
    "form.file_list = utils.get_file_list(form.selection_files)\n",
    "print form.file_list"
   ]
  },
  {
   "cell_type": "markdown",
   "metadata": {},
   "source": [
    "## Step 5: Provide additional information with respect to your request\n",
    "- to be completed\n",
    "- info on: \n",
    "    - update frequency requested (new versions)\n",
    "    - when data can be deleted\n",
    "    - scientific/project context this data is needed for ...\n",
    "    - ..."
   ]
  },
  {
   "cell_type": "markdown",
   "metadata": {},
   "source": [
    "## Step 6: Submit your data replication request \n",
    "\n",
    "Please provide the file names of the selection files you tested above and which you now want to submit to the DKRZ data managers. "
   ]
  },
  {
   "cell_type": "code",
   "execution_count": null,
   "metadata": {
    "collapsed": true
   },
   "outputs": [],
   "source": [
    "form_handler.save_form(sf,\"..my comment..\") # add a comment to remember this specific \n",
    "\n",
    "\n",
    "form_handler.email_form_info(sf)  # do not change\n",
    "form_handler.form_submission(sf)  # do not change"
   ]
  },
  {
   "cell_type": "markdown",
   "metadata": {},
   "source": [
    "## Appendix: Example synda calls\n",
    "\n",
    "play around with synda .."
   ]
  },
  {
   "cell_type": "markdown",
   "metadata": {},
   "source": [
    "#### Explore Metadata\n",
    "\n",
    "example synda calls to search and explore metadata"
   ]
  },
  {
   "cell_type": "code",
   "execution_count": null,
   "metadata": {
    "collapsed": true
   },
   "outputs": [],
   "source": [
    "%%bash \n",
    "\n",
    "# synda dump tas GFDL-ESM2M -F line -f -C size,filenam\n",
    "synda variable tas\n",
    "# synda search cmip5 MOHC HadGEM2-A amip4\n",
    "# synda search cmip5 mon atmos -l 1000xCO2 mon atmos Amon r1i1p1"
   ]
  },
  {
   "cell_type": "code",
   "execution_count": null,
   "metadata": {
    "collapsed": true
   },
   "outputs": [],
   "source": [
    "%%bash \n",
    "\n",
    "synda -h"
   ]
  },
  {
   "cell_type": "code",
   "execution_count": null,
   "metadata": {
    "collapsed": true
   },
   "outputs": [],
   "source": [
    "%%bash \n",
    "\n",
    "synda check selection -s selection/test.txt"
   ]
  }
 ],
 "metadata": {
  "anaconda-cloud": {},
  "kernelspec": {
   "display_name": "Python 3",
   "language": "python",
   "name": "python3"
  },
  "language_info": {
   "codemirror_mode": {
    "name": "ipython",
    "version": 3
   },
   "file_extension": ".py",
   "mimetype": "text/x-python",
   "name": "python",
   "nbconvert_exporter": "python",
   "pygments_lexer": "ipython3",
   "version": "3.6.6"
  }
 },
 "nbformat": 4,
 "nbformat_minor": 2
}
