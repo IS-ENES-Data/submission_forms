{
 "cells": [
  {
   "cell_type": "markdown",
   "metadata": {},
   "source": [
    "# ESGF replication request form\n",
    "\n",
    "This form is intended to request data to be replicated from other CMIP6 ESGF nodes to be made\n",
    "locally available in the DKRZ CMIP data pool.\n",
    "\n",
    "The specification of a requested data collection is based on the search facets describing the data collection. These facets correspond directly to the search categories you use to find data collection in one of the ESGF portals (e.g. https://esgf-data.dkrz.de/).\n",
    "\n",
    "The specification is based on \"selection files\", which are then used by the synda ESGF download application. For details please see https://github.com/Prodiguer/synda/blob/master/sdt/doc/selection_file.md\n",
    "- a set of example selection files is accessible at: https://github.com/Prodiguer/synda/tree/master/sdt/selection/sample\n"
   ]
  },
  {
   "cell_type": "markdown",
   "metadata": {},
   "source": [
    "Example selection file specification \n",
    "\n",
    "  generates a selection file named \"test1.txt\"\n",
    "\n",
    "     %%writefile test1.txt\n",
    "     project=\"CMIP5\"\n",
    "     model=\"CNRM-CM5 CSIRO-Mk3-6-0\"\n",
    "     experiment=\"historical amip\"\n",
    "     ensemble=\"r1i1p1\"\n",
    "     variable[atmos][mon]=\"tasmin tas psl\"\n",
    "     variable[ocean][fx]=\"areacello sftof\"\n",
    "     variable[land][mon]=\"mrsos,nppRoot,nep\"\n",
    "     variable[seaIce][mon]=\"sic evap\"\n",
    "     variable[ocnBgchem][mon]=\"dissic fbddtalk\""
   ]
  },
  {
   "cell_type": "code",
   "execution_count": null,
   "metadata": {
    "collapsed": true
   },
   "outputs": [],
   "source": [
    "from dkrz_forms import form_handler\n",
    "from dkrz_forms import checks\n",
    "my_project = \"ESGF_replication\"\n",
    "my_email = \"....\"             # example: sf.email = \"Mr.Mitty@yahoo.com\"\n",
    "my_first_name = \"....\"        # example: sf.first_name = \"Harold\"\n",
    "my_last_name = \"....\"         # example: sf.last_name = \"Mitty\"\n",
    "my_keyword = \"....\"           # example: sf.keyword = \"requestname-version\"\n",
    "\n",
    "sf = form_handler.init_form(\"CMIP6_replication\",my_first_name,my_last_name,my_email,my_keyword)"
   ]
  },
  {
   "cell_type": "code",
   "execution_count": null,
   "metadata": {
    "collapsed": false
   },
   "outputs": [],
   "source": []
  },
  {
   "cell_type": "markdown",
   "metadata": {},
   "source": [
    "## Provide the ticket number for the replica request sent to esgf-replication@dkrz.de"
   ]
  },
  {
   "cell_type": "code",
   "execution_count": null,
   "metadata": {
    "collapsed": false
   },
   "outputs": [],
   "source": [
    "sf.ticket_id = \"....\"  # Ticket Number in DKRZ RT ticketing system\n",
    "\n",
    "sf.selection_files = [\"....\"]  # Provide names of selection files specified in next section"
   ]
  },
  {
   "cell_type": "markdown",
   "metadata": {},
   "source": [
    "## Specify correspondig replica selection file(s)\n",
    "\n",
    "specify a replica selection file, following the example above by eveluating the cell below"
   ]
  },
  {
   "cell_type": "code",
   "execution_count": null,
   "metadata": {
    "collapsed": false
   },
   "outputs": [],
   "source": [
    "%%writefile selection/......txt  \n"
   ]
  },
  {
   "cell_type": "code",
   "execution_count": null,
   "metadata": {
    "collapsed": false
   },
   "outputs": [],
   "source": [
    "%%writefile selection/......txt \n"
   ]
  },
  {
   "cell_type": "markdown",
   "metadata": {},
   "source": [
    "##### Check your selection file\n",
    "\n",
    "evaluate the following cell to display ESGF metadata corresponding to your selection file"
   ]
  },
  {
   "cell_type": "code",
   "execution_count": null,
   "metadata": {
    "collapsed": false
   },
   "outputs": [],
   "source": [
    "%%bash \n",
    "\n",
    "synda dump -s .....txt\n",
    "#synda install -s example_selection_file_tst.txt # change file name accordingly"
   ]
  },
  {
   "cell_type": "code",
   "execution_count": null,
   "metadata": {
    "collapsed": false
   },
   "outputs": [],
   "source": [
    "%%bash\n",
    "synda dump -h"
   ]
  },
  {
   "cell_type": "markdown",
   "metadata": {},
   "source": [
    "## Check your submission form\n",
    "\n",
    "Please evaluate the following cell to check your submission form.\n",
    "\n",
    "In case of errors, please go up to the corresponden information cells and update your information accordingly."
   ]
  },
  {
   "cell_type": "code",
   "execution_count": null,
   "metadata": {
    "collapsed": true
   },
   "outputs": [],
   "source": [
    "##mto be completed"
   ]
  },
  {
   "cell_type": "markdown",
   "metadata": {},
   "source": [
    "# Save your form\n",
    "\n",
    "your form will be stored (the form name consists of your last name plut your keyword)"
   ]
  },
  {
   "cell_type": "code",
   "execution_count": null,
   "metadata": {
    "collapsed": false
   },
   "outputs": [],
   "source": [
    "form_handler.save_form(sf,\"..my comment..\") # edit my comment info "
   ]
  },
  {
   "cell_type": "markdown",
   "metadata": {},
   "source": [
    "# officially submit your form\n",
    "the form will be submitted to the DKRZ team to process\n",
    "you also receive a confirmation email with a reference to your online form for future modifications "
   ]
  },
  {
   "cell_type": "code",
   "execution_count": null,
   "metadata": {
    "collapsed": true
   },
   "outputs": [],
   "source": [
    "form_handler.email_form_info(sf)\n",
    "form_handler.form_submission(sf)"
   ]
  },
  {
   "cell_type": "markdown",
   "metadata": {
    "collapsed": false
   },
   "source": [
    "## Example synda calls"
   ]
  },
  {
   "cell_type": "markdown",
   "metadata": {
    "collapsed": false
   },
   "source": [
    "#### Explore Metadata\n",
    "\n",
    "example synda calls to search and explore metadata"
   ]
  },
  {
   "cell_type": "code",
   "execution_count": null,
   "metadata": {
    "collapsed": false
   },
   "outputs": [],
   "source": [
    "%%bash \n",
    "\n",
    "# synda dump tas GFDL-ESM2M -F line -f -C size,filenam\n",
    "synda variable tas\n",
    "# synda search cmip5 MOHC HadGEM2-A amip4\n",
    "# synda search cmip5 mon atmos -l 1000xCO2 mon atmos Amon r1i1p1"
   ]
  },
  {
   "cell_type": "code",
   "execution_count": null,
   "metadata": {
    "collapsed": false
   },
   "outputs": [],
   "source": [
    "%%bash \n",
    "\n",
    "synda -h"
   ]
  },
  {
   "cell_type": "code",
   "execution_count": null,
   "metadata": {
    "collapsed": true
   },
   "outputs": [],
   "source": []
  }
 ],
 "metadata": {
  "anaconda-cloud": {},
  "kernelspec": {
   "display_name": "Python [conda env:generic1]",
   "language": "python",
   "name": "conda-env-generic1-py"
  },
  "language_info": {
   "codemirror_mode": {
    "name": "ipython",
    "version": 2
   },
   "file_extension": ".py",
   "mimetype": "text/x-python",
   "name": "python",
   "nbconvert_exporter": "python",
   "pygments_lexer": "ipython2",
   "version": "2.7.11"
  }
 },
 "nbformat": 4,
 "nbformat_minor": 0
}
