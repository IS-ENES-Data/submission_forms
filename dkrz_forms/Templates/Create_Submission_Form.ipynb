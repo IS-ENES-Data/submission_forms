{
 "cells": [
  {
   "cell_type": "markdown",
   "metadata": {},
   "source": [
    "# DKRZ data submission forms: \n",
    "\n",
    "This notebook allows you to \n",
    "* generate new project specific interactive data submission forms \n",
    "* retrieve previously filled forms, and\n",
    "* get status information on your data ingest request\n",
    "\n",
    "![form-generation](../fig/form-generation.png)"
   ]
  },
  {
   "cell_type": "markdown",
   "metadata": {},
   "source": [
    "## Create your DKRZ data ingest request form \n",
    "\n",
    "To generate a data submission form for you, please edit the cell below to include your name, email as well as the project your data belogs to\n",
    "\n",
    "Then please press *\"Shift\" + Enter* to evaluate the cell\n",
    "\n",
    "a link to the newly generated data submission form will be provided\n",
    "\n",
    "please follow this link to edit your personal form\n",
    "\n",
    "   $Attention$: remember the form password provided to you, the password is needed to retrieve your form at a later point e.g. for completion"
   ]
  },
  {
   "cell_type": "markdown",
   "metadata": {},
   "source": [
    "### Currently the following data ingest request forms are supported:\n",
    "- **\"CORDEX\"**: CORDEX data ingest requests - CORDEX data to be published in ESGF, the form is aligned to the original CORDEX data ingest exel sheet used for ingest requests at DKRZ\n",
    "- **\"CMIP6\"**:  CMIP6 data ingest request form for data providers - CMIP6 data to be ingested and published in ESGF and which will be long term archived as part of the WDCC\n",
    "- **\"ESGF_replication\"** : CMIP6 data request form for data users - request for CMIP6 data to be replicated and made available as part of the DKRZ national archive \n",
    "- **\"DKRZ_CDP\"**: data ingest request for data collections to be included in the DKRZ CMIP data pool (CDP) e.g. for model evaluation purposes    \n",
    "- **\"test\"**: for demo and testing puposes"
   ]
  },
  {
   "cell_type": "markdown",
   "metadata": {},
   "source": [
    "## Create a data form\n",
    "\n",
    "#### Evaluate the cell below (\"Shift-Enter\") in case no input fields are visible\n",
    "\n",
    "The form will be created as soon as you press \"Enter\" in the last input field below \n",
    "<br />To fill the form follow the url shown as as result of the form generation.\n",
    "<br />In case you want to retrieve and complete the form later on, please follow the steps outlined below in \"Retrieve your DKRZ data form\""
   ]
  },
  {
   "cell_type": "code",
   "execution_count": null,
   "metadata": {
    "collapsed": true
   },
   "outputs": [],
   "source": [
    "from dkrz_forms import form_widgets\n",
    "form_widgets.create_form()"
   ]
  }
 ],
 "metadata": {
  "anaconda-cloud": {},
  "kernelspec": {
   "display_name": "Python [conda env:forms2]",
   "language": "python",
   "name": "conda-env-forms2-py"
  },
  "language_info": {
   "codemirror_mode": {
    "name": "ipython",
    "version": 2
   },
   "file_extension": ".py",
   "mimetype": "text/x-python",
   "name": "python",
   "nbconvert_exporter": "python",
   "pygments_lexer": "ipython2",
   "version": "2.7.13"
  },
  "widgets": {
   "state": {
    "00e94aeb419e4aa083732e73e073fb77": {
     "views": [
      {
       "cell_index": 5
      }
     ]
    },
    "0ef57160abde42e5ba2f85e20ffed083": {
     "views": [
      {
       "cell_index": 5
      }
     ]
    },
    "222ba76b856d41e1af83cadb237285ab": {
     "views": [
      {
       "cell_index": 5
      }
     ]
    },
    "38416a06c8484f7ebc568c38efee2c84": {
     "views": [
      {
       "cell_index": 5
      }
     ]
    },
    "45a0085c22ce4a1bb3dbb94ae473e083": {
     "views": [
      {
       "cell_index": 5
      }
     ]
    },
    "4fb77b6c64924125a6ee11f2a46101d3": {
     "views": [
      {
       "cell_index": 5
      }
     ]
    },
    "7ddffa705e9a4187b951ed6c5e8ef335": {
     "views": [
      {
       "cell_index": 5
      }
     ]
    },
    "992b5ef05f1b4579ad02ac262dc80b47": {
     "views": [
      {
       "cell_index": 5
      }
     ]
    },
    "dd48da367db040b28deaee1c87f47b37": {
     "views": [
      {
       "cell_index": 5
      }
     ]
    },
    "e399ca0cc5284b87a787dd3b75be991c": {
     "views": [
      {
       "cell_index": 5
      }
     ]
    },
    "f44bdd720b6c4ce6b511fadbcc63b4d0": {
     "views": [
      {
       "cell_index": 5
      }
     ]
    },
    "fe9a71f307684be58629c1fd25ac2e88": {
     "views": [
      {
       "cell_index": 5
      }
     ]
    }
   },
   "version": "1.2.0"
  }
 },
 "nbformat": 4,
 "nbformat_minor": 1
}
