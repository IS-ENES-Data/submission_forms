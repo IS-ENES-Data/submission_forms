{
 "cells": [
  {
   "cell_type": "markdown",
   "metadata": {},
   "source": [
    "# DKRZ data submission forms: \n",
    "\n",
    "This notebook allows you to \n",
    "* generate new project specific interactive data submission forms \n",
    "* to retrieve old submission forms or chech the status of form processing follow the links provided to you by email\n",
    "\n",
    "![form-generation](../fig/form-generation.png)"
   ]
  },
  {
   "cell_type": "markdown",
   "metadata": {},
   "source": [
    "## Create your DKRZ data ingest request form \n",
    "\n",
    "Following the steps described below you can create personal project specific forms you can fill.\n",
    "<br>\n",
    "These forms should help to collect project specific information needed by the DKRZ data managers to process your request. \n",
    "<br>\n",
    "In any case - if you have problems filling these forms - there is always the short cut to directly contact us at *data-ingest@dkrz.de*\n",
    "\n",
    "### Currently the following data ingest request forms are supported:\n",
    "\n",
    "* **\"CORDEX\"**: CORDEX data ingest and ESGF publication requests - use this form if you want to publish CORDEX data at DKRZ via ESGF\n",
    "- **\"CMIP6\"**:  CMIP6 data ingest and ESGF publication request form - use this form if you want to store and publish CMIP6 data at DKRZ\n",
    "\n",
    "- **\"ESGF_replication\"** : gereral CMIP data request form - use this form if you want to have remote CMIP data accessible locally at DKRZ as part of the CMIP datapool\n",
    "    \n",
    "- **\"DKRZ_CDP\"**: general non-CMIP data request form - use this form if you want to have CMIP related data collections e.g. observational data locally accessible as part of the CMIP data pool \n",
    "\n",
    "- **\"test\"**: for demo and testing puposes - this form is just for testing .. "
   ]
  },
  {
   "cell_type": "markdown",
   "metadata": {},
   "source": [
    "## Create a data form\n",
    "\n",
    "- Please evaluate the cell below (\"Shift-Enter\") \n",
    "- You will be asked to provide your contact details (Name, email)and to select a project as well as key as a \"remember me hook\"\n",
    "\n",
    "- A form will be created as soon as you press \"Enter\" in the last input field below \n",
    "- You will be provided with a link to the newly generated form as well as a personal passwort you have to enter to be able to make modifications to the form.\n",
    "- The link as well as the password is also sent to you using the email you provided"
   ]
  },
  {
   "cell_type": "code",
   "execution_count": 1,
   "metadata": {},
   "outputs": [
    {
     "data": {
      "application/vnd.jupyter.widget-view+json": {
       "model_id": "4533d43c8ae64e0abbd33060c274e00b"
      }
     },
     "metadata": {},
     "output_type": "display_data"
    },
    {
     "data": {
      "application/vnd.jupyter.widget-view+json": {
       "model_id": "eed9056739634f4380357d8e0634a8d4"
      }
     },
     "metadata": {},
     "output_type": "display_data"
    },
    {
     "data": {
      "application/vnd.jupyter.widget-view+json": {
       "model_id": "df842238301a4e9e83932eda1441e493"
      }
     },
     "metadata": {},
     "output_type": "display_data"
    },
    {
     "data": {
      "application/vnd.jupyter.widget-view+json": {
       "model_id": "9b43f82954b2448eaddd32c65c735b8c"
      }
     },
     "metadata": {},
     "output_type": "display_data"
    },
    {
     "data": {
      "application/vnd.jupyter.widget-view+json": {
       "model_id": "a703f9ca0d254babb71e8ca33108ca38"
      }
     },
     "metadata": {},
     "output_type": "display_data"
    },
    {
     "name": "stdout",
     "output_type": "stream",
     "text": [
      "Form Handler: \n",
      "    -- initializing form for project: CMIP6\n",
      "CMIP6\n",
      "/opt/formhandler/Forms/local_repo/CMIP6\n",
      "CMIP6_Kindermann_123.ipynb\n",
      "entity_in.form_path /opt/formhandler/Repos/CMIP6\n",
      "TTT:  store key in keystore NVLCPD /opt/formhandler/Forms/local_repo/keystore\n",
      "--- copy from: /opt/formhandler/submission_forms/dkrz_forms/Templates/CMIP6_submission_form.ipynb\n",
      "--- to:   /opt/formhandler/Forms/local_repo/CMIP6/CMIP6_Kindermann_123.ipynb\n",
      "--- and to:  /opt/formhandler/Repos/CMIP6/CMIP6_Kindermann_123.ipynb\n"
     ]
    },
    {
     "ename": "IOError",
     "evalue": "[Errno 2] No such file or directory: u'/opt/formhandler/Repos/CMIP6/CMIP6_Kindermann_123.ipynb'",
     "output_type": "error",
     "traceback": [
      "\u001b[0;31m\u001b[0m",
      "\u001b[0;31mIOError\u001b[0mTraceback (most recent call last)",
      "\u001b[0;32m/opt/formhandler/submission_forms/dkrz_forms/form_widgets.pyc\u001b[0m in \u001b[0;36mgenerate\u001b[0;34m(val)\u001b[0m\n\u001b[1;32m    152\u001b[0m     \u001b[0minit_form\u001b[0m\u001b[0;34m[\u001b[0m\u001b[0;34m'email'\u001b[0m\u001b[0;34m]\u001b[0m \u001b[0;34m=\u001b[0m \u001b[0mEMAIL\u001b[0m\u001b[0;34m.\u001b[0m\u001b[0mvalue\u001b[0m\u001b[0;34m\u001b[0m\u001b[0m\n\u001b[1;32m    153\u001b[0m     \u001b[0minit_form\u001b[0m\u001b[0;34m[\u001b[0m\u001b[0;34m'key'\u001b[0m\u001b[0;34m]\u001b[0m \u001b[0;34m=\u001b[0m \u001b[0mKEY\u001b[0m\u001b[0;34m.\u001b[0m\u001b[0mvalue\u001b[0m\u001b[0;34m\u001b[0m\u001b[0m\n\u001b[0;32m--> 154\u001b[0;31m     \u001b[0mform_handler\u001b[0m\u001b[0;34m.\u001b[0m\u001b[0mgenerate_submission_form\u001b[0m\u001b[0;34m(\u001b[0m\u001b[0minit_form\u001b[0m\u001b[0;34m)\u001b[0m\u001b[0;34m\u001b[0m\u001b[0m\n\u001b[0m\u001b[1;32m    155\u001b[0m \u001b[0;34m\u001b[0m\u001b[0m\n",
      "\u001b[0;32m/opt/formhandler/submission_forms/dkrz_forms/form_handler.pyc\u001b[0m in \u001b[0;36mgenerate_submission_form\u001b[0;34m(init_form)\u001b[0m\n\u001b[1;32m    236\u001b[0m           \u001b[0;32mprint\u001b[0m\u001b[0;34m(\u001b[0m\u001b[0;34m\"--- and to: \"\u001b[0m\u001b[0;34m,\u001b[0m   \u001b[0msf\u001b[0m\u001b[0;34m.\u001b[0m\u001b[0msub\u001b[0m\u001b[0;34m.\u001b[0m\u001b[0mentity_in\u001b[0m\u001b[0;34m.\u001b[0m\u001b[0mform_path\u001b[0m\u001b[0;34m)\u001b[0m\u001b[0;34m\u001b[0m\u001b[0m\n\u001b[1;32m    237\u001b[0m           \u001b[0mshutil\u001b[0m\u001b[0;34m.\u001b[0m\u001b[0mcopyfile\u001b[0m\u001b[0;34m(\u001b[0m\u001b[0msf\u001b[0m\u001b[0;34m.\u001b[0m\u001b[0msub\u001b[0m\u001b[0;34m.\u001b[0m\u001b[0mentity_in\u001b[0m\u001b[0;34m.\u001b[0m\u001b[0msource_path\u001b[0m\u001b[0;34m,\u001b[0m\u001b[0msf\u001b[0m\u001b[0;34m.\u001b[0m\u001b[0msub\u001b[0m\u001b[0;34m.\u001b[0m\u001b[0mentity_out\u001b[0m\u001b[0;34m.\u001b[0m\u001b[0mform_repo_path\u001b[0m\u001b[0;34m)\u001b[0m\u001b[0;34m\u001b[0m\u001b[0m\n\u001b[0;32m--> 238\u001b[0;31m           \u001b[0mshutil\u001b[0m\u001b[0;34m.\u001b[0m\u001b[0mcopyfile\u001b[0m\u001b[0;34m(\u001b[0m\u001b[0msf\u001b[0m\u001b[0;34m.\u001b[0m\u001b[0msub\u001b[0m\u001b[0;34m.\u001b[0m\u001b[0mentity_in\u001b[0m\u001b[0;34m.\u001b[0m\u001b[0msource_path\u001b[0m\u001b[0;34m,\u001b[0m\u001b[0msf\u001b[0m\u001b[0;34m.\u001b[0m\u001b[0msub\u001b[0m\u001b[0;34m.\u001b[0m\u001b[0mentity_in\u001b[0m\u001b[0;34m.\u001b[0m\u001b[0mform_path\u001b[0m\u001b[0;34m)\u001b[0m\u001b[0;34m\u001b[0m\u001b[0m\n\u001b[0m\u001b[1;32m    239\u001b[0m           \u001b[0;32mprint\u001b[0m\u001b[0;34m(\u001b[0m\u001b[0;34m\"--------------------------------------------------------------------\"\u001b[0m\u001b[0;34m)\u001b[0m\u001b[0;34m\u001b[0m\u001b[0m\n\u001b[1;32m    240\u001b[0m           \u001b[0;32mprint\u001b[0m\u001b[0;34m(\u001b[0m\u001b[0;34m\"   A submission form was created for you, please visit the following link:\"\u001b[0m\u001b[0;34m)\u001b[0m\u001b[0;34m\u001b[0m\u001b[0m\n",
      "\u001b[0;32m/opt/formhandler/anaconda3/envs/forms2/lib/python2.7/shutil.pyc\u001b[0m in \u001b[0;36mcopyfile\u001b[0;34m(src, dst)\u001b[0m\n\u001b[1;32m     81\u001b[0m \u001b[0;34m\u001b[0m\u001b[0m\n\u001b[1;32m     82\u001b[0m     \u001b[0;32mwith\u001b[0m \u001b[0mopen\u001b[0m\u001b[0;34m(\u001b[0m\u001b[0msrc\u001b[0m\u001b[0;34m,\u001b[0m \u001b[0;34m'rb'\u001b[0m\u001b[0;34m)\u001b[0m \u001b[0;32mas\u001b[0m \u001b[0mfsrc\u001b[0m\u001b[0;34m:\u001b[0m\u001b[0;34m\u001b[0m\u001b[0m\n\u001b[0;32m---> 83\u001b[0;31m         \u001b[0;32mwith\u001b[0m \u001b[0mopen\u001b[0m\u001b[0;34m(\u001b[0m\u001b[0mdst\u001b[0m\u001b[0;34m,\u001b[0m \u001b[0;34m'wb'\u001b[0m\u001b[0;34m)\u001b[0m \u001b[0;32mas\u001b[0m \u001b[0mfdst\u001b[0m\u001b[0;34m:\u001b[0m\u001b[0;34m\u001b[0m\u001b[0m\n\u001b[0m\u001b[1;32m     84\u001b[0m             \u001b[0mcopyfileobj\u001b[0m\u001b[0;34m(\u001b[0m\u001b[0mfsrc\u001b[0m\u001b[0;34m,\u001b[0m \u001b[0mfdst\u001b[0m\u001b[0;34m)\u001b[0m\u001b[0;34m\u001b[0m\u001b[0m\n\u001b[1;32m     85\u001b[0m \u001b[0;34m\u001b[0m\u001b[0m\n",
      "\u001b[0;31mIOError\u001b[0m: [Errno 2] No such file or directory: u'/opt/formhandler/Repos/CMIP6/CMIP6_Kindermann_123.ipynb'"
     ]
    }
   ],
   "source": [
    "from dkrz_forms import form_widgets\n",
    "form_widgets.create_form()"
   ]
  },
  {
   "cell_type": "code",
   "execution_count": null,
   "metadata": {
    "collapsed": true
   },
   "outputs": [],
   "source": []
  }
 ],
 "metadata": {
  "anaconda-cloud": {},
  "kernelspec": {
   "display_name": "Python [conda env:forms2]",
   "language": "python",
   "name": "conda-env-forms2-py"
  },
  "language_info": {
   "codemirror_mode": {
    "name": "ipython",
    "version": 2
   },
   "file_extension": ".py",
   "mimetype": "text/x-python",
   "name": "python",
   "nbconvert_exporter": "python",
   "pygments_lexer": "ipython2",
   "version": "2.7.13"
  },
  "widgets": {
   "state": {
    "00e94aeb419e4aa083732e73e073fb77": {
     "views": [
      {
       "cell_index": 5
      }
     ]
    },
    "0ef57160abde42e5ba2f85e20ffed083": {
     "views": [
      {
       "cell_index": 5
      }
     ]
    },
    "222ba76b856d41e1af83cadb237285ab": {
     "views": [
      {
       "cell_index": 5
      }
     ]
    },
    "38416a06c8484f7ebc568c38efee2c84": {
     "views": [
      {
       "cell_index": 5
      }
     ]
    },
    "45a0085c22ce4a1bb3dbb94ae473e083": {
     "views": [
      {
       "cell_index": 5
      }
     ]
    },
    "4fb77b6c64924125a6ee11f2a46101d3": {
     "views": [
      {
       "cell_index": 5
      }
     ]
    },
    "7ddffa705e9a4187b951ed6c5e8ef335": {
     "views": [
      {
       "cell_index": 5
      }
     ]
    },
    "992b5ef05f1b4579ad02ac262dc80b47": {
     "views": [
      {
       "cell_index": 5
      }
     ]
    },
    "dd48da367db040b28deaee1c87f47b37": {
     "views": [
      {
       "cell_index": 5
      }
     ]
    },
    "e399ca0cc5284b87a787dd3b75be991c": {
     "views": [
      {
       "cell_index": 5
      }
     ]
    },
    "f44bdd720b6c4ce6b511fadbcc63b4d0": {
     "views": [
      {
       "cell_index": 5
      }
     ]
    },
    "fe9a71f307684be58629c1fd25ac2e88": {
     "views": [
      {
       "cell_index": 5
      }
     ]
    }
   },
   "version": "1.2.0"
  }
 },
 "nbformat": 4,
 "nbformat_minor": 1
}
