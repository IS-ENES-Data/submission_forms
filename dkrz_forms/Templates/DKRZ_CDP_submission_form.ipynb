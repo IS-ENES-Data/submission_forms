{
 "cells": [
  {
   "cell_type": "markdown",
   "metadata": {},
   "source": [
    "# Generic DKRZ national archive ingest form \n",
    "\n",
    "\n",
    "This form is intended to request data to be made locally available in the DKRZ nationl data archive besides the Data which is ingested as part of the CMIP6 replication. For replication requests a separate form is available. \n",
    "\n",
    "Please provide information on the following aspects of your data ingest request:\n",
    "\n",
    "* scientific context of data\n",
    "* specific data access rights\n",
    "* technical details, like\n",
    "   * amount of data\n",
    "   * source of data"
   ]
  },
  {
   "cell_type": "code",
   "execution_count": null,
   "metadata": {
    "collapsed": true
   },
   "outputs": [],
   "source": [
    "import os, sys\n",
    "# import_path = os.path.abspath('..')   not necessary ?\n",
    "sys.path.append('/home/stephan/Repos/ENES-EUDAT/submission_forms/')"
   ]
  },
  {
   "cell_type": "markdown",
   "metadata": {},
   "source": [
    "## Please provide some contact information"
   ]
  },
  {
   "cell_type": "code",
   "execution_count": null,
   "metadata": {
    "collapsed": false
   },
   "outputs": [],
   "source": [
    "# please edit the (red) information below: Name, email and project the data belongs to\n",
    "from dkrz_forms import form_handler\n",
    "my_project = \"DKRZ_CDP\"\n",
    "\n",
    "my_first_name = \"sk\"  # example: sf.first_name = \"Harold\"\n",
    "my_last_name = \"ki2\"   # example: sf.last_name = \"Mitty\"\n",
    "my_email = \"snkinder@freenet.de\"       # example: sf.email = \"Mr.Mitty@yahoo.com\"\n",
    "my_keyword = \"sk2\"     # example: sf.keyword = \"mymodel_myrunid\"\n",
    "\n",
    "sf = form_handler.init_form(my_project,my_first_name,my_last_name,my_email,my_keyword)"
   ]
  },
  {
   "cell_type": "markdown",
   "metadata": {},
   "source": [
    "## some context information\n",
    "\n",
    "Please provide some generic context information about the data, which should be availabe as part of the DKRZ CMIP Data Pool (CDP)"
   ]
  },
  {
   "cell_type": "code",
   "execution_count": null,
   "metadata": {
    "collapsed": true
   },
   "outputs": [],
   "source": [
    "# (informal) type of data\n",
    "sf.data_type = \"...\"  # e.g. model data, observational data, .. \n",
    "# # free text describing scientific context of data\n",
    "sf.scientific_context =\"...\" \n",
    "# free text describing the expected usage as part of the DKRZ CMIP Data pool\n",
    "sf.usage = \"...\" \n",
    "# free text describing access rights (who is allowed to read the data)\n",
    "sf.access_rights = \"...\"\n",
    "# generic terms of  policy information\n",
    "sf.terms_of_use = \"...\" # e.g. unrestricted, restricted\n",
    "# any additional comment on context\n",
    "sf.context_comment = \"...\""
   ]
  },
  {
   "cell_type": "markdown",
   "metadata": {},
   "source": [
    "## technical information concerning your request"
   ]
  },
  {
   "cell_type": "code",
   "execution_count": null,
   "metadata": {
    "collapsed": false
   },
   "outputs": [],
   "source": [
    "# information on where the data is stored and can be accessed\n",
    "# e.g. file system path if on DKRZ storage, url etc. if on web accessible resources (cloud,thredds server,..)\n",
    "sf.data_path = \"...\"\n",
    "\n",
    "# timing constraints, when the data ingest should be completed \n",
    "# (e.g. because the data source is only accessible in specific time frame)  \n",
    "sf.best_ingest_before = \"...\"\n",
    "\n",
    "# directory structure information, especially \n",
    "sf.directory_structure = \"...\"  # e.g. institute/experiment/file.nc\n",
    "sf.directory_structure_convention = \"...\" # e.g. CMIP5, CMIP6, CORDEX, your_convention_name\n",
    "sf.directory_structure_comment = \"...\"  # free text, e.g. with link describing the directory structure convention you used\n",
    "\n",
    "# metadata information\n",
    "sf.metadata_convention_name = \"...\" # e.g. CF1.6 etc. None if not applicable\n",
    "sf.metadata_comment = \"...\" # information about metadata, e.g. links to metadata info etc. "
   ]
  },
  {
   "cell_type": "markdown",
   "metadata": {},
   "source": [
    "## Check your submission form\n",
    "\n",
    "Please evaluate the following cell to check your submission form.\n",
    "\n",
    "In case of errors, please go up to the corresponden information cells and update your information accordingly."
   ]
  },
  {
   "cell_type": "code",
   "execution_count": null,
   "metadata": {
    "collapsed": true
   },
   "outputs": [],
   "source": [
    "# to be completed .. "
   ]
  },
  {
   "cell_type": "markdown",
   "metadata": {},
   "source": [
    "# Save your form\n",
    "\n",
    "your form will be stored (the form name consists of your last name plut your keyword)"
   ]
  },
  {
   "cell_type": "code",
   "execution_count": null,
   "metadata": {
    "collapsed": false
   },
   "outputs": [],
   "source": [
    "form_handler.save_form(sf,\"..my comment..\") # edit my comment info "
   ]
  },
  {
   "cell_type": "markdown",
   "metadata": {},
   "source": [
    "# officially submit your form\n",
    "the form will be submitted to the DKRZ team to process\n",
    "you also receive a confirmation email with a reference to your online form for future modifications "
   ]
  },
  {
   "cell_type": "code",
   "execution_count": null,
   "metadata": {
    "collapsed": true
   },
   "outputs": [],
   "source": [
    "form_handler.email_form_info(sf)\n",
    "form_handler.form_submission(sf)"
   ]
  }
 ],
 "metadata": {
  "anaconda-cloud": {},
  "kernelspec": {
   "display_name": "Python 2",
   "language": "python",
   "name": "python2"
  },
  "language_info": {
   "codemirror_mode": {
    "name": "ipython",
    "version": 2
   },
   "file_extension": ".py",
   "mimetype": "text/x-python",
   "name": "python",
   "nbconvert_exporter": "python",
   "pygments_lexer": "ipython2",
   "version": "2.7.12"
  }
 },
 "nbformat": 4,
 "nbformat_minor": 0
}
