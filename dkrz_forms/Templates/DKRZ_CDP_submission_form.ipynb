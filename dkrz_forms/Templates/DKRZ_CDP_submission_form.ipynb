{
 "cells": [
  {
   "cell_type": "markdown",
   "metadata": {},
   "source": [
    "# Generic DKRZ CMIP Data Pool (CDP) ingest form \n",
    "\n",
    "![form-submission](../fig/form-submission.png)"
   ]
  },
  {
   "cell_type": "markdown",
   "metadata": {},
   "source": [
    "This form is intended to request data to be made locally available in the DKRZ national data archive.\n",
    "\n",
    "If the requested data is available via ESGF please use the specific ESGF replication form.\n",
    "\n",
    "Please provide information on the following aspects of your data ingest request:\n",
    "* scientific context of data\n",
    "* data access policies to be supported\n",
    "* technical details, like\n",
    "   * amount of data\n",
    "   * source of data"
   ]
  },
  {
   "cell_type": "markdown",
   "metadata": {},
   "source": [
    "## Please provide information to unlock your form\n",
    "\n",
    "- last name\n",
    "- password"
   ]
  },
  {
   "cell_type": "code",
   "execution_count": null,
   "metadata": {
    "collapsed": true
   },
   "outputs": [],
   "source": [
    "MY_LAST_NAME = \"....\"   # e.gl MY_LAST_NAME = \"schulz\" \n",
    "#-------------------------------------------------\n",
    "from dkrz_forms import form_handler, form_widgets\n",
    "form_info = form_widgets.check_pwd(MY_LAST_NAME)\n",
    "sf = form_handler.init_form(form_info)\n",
    "form = sf.sub.entity_out.report"
   ]
  },
  {
   "cell_type": "markdown",
   "metadata": {},
   "source": [
    "## some context information\n",
    "\n",
    "Please provide some generic context information about the data, which should be availabe as part of the DKRZ CMIP Data Pool (CDP)"
   ]
  },
  {
   "cell_type": "code",
   "execution_count": null,
   "metadata": {
    "collapsed": true
   },
   "outputs": [],
   "source": [
    "# (informal) type of data\n",
    "form.data_type = \"....\"  # e.g. model data, observational data, .. \n",
    "\n",
    "# free text describing scientific context of data\n",
    "form.scientific_context =\"...\" \n",
    "\n",
    "# free text describing the expected usage as part of the DKRZ CMIP Data pool\n",
    "form.usage = \"....\" \n",
    "\n",
    "# free text describing access rights (who is allowed to read the data)\n",
    "form.access_rights = \"....\"\n",
    "\n",
    "# generic terms of  policy information\n",
    "form.terms_of_use = \"....\" # e.g. unrestricted, restricted\n",
    "\n",
    "# any additional comment on context\n",
    "form.access_group = \"....\"\n",
    "form.context_comment = \"....\""
   ]
  },
  {
   "cell_type": "markdown",
   "metadata": {},
   "source": [
    "## technical information concerning your request"
   ]
  },
  {
   "cell_type": "code",
   "execution_count": null,
   "metadata": {
    "collapsed": true
   },
   "outputs": [],
   "source": [
    "# information on where the data is stored and can be accessed\n",
    "# e.g. file system path if on DKRZ storage, url etc. if on web accessible resources (cloud,thredds server,..)\n",
    "form.data_path = \"....\"\n",
    "\n",
    "# timing constraints, when the data ingest should be completed \n",
    "# (e.g. because the data source is only accessible in specific time frame)  \n",
    "form.best_ingest_before = \"....\"\n",
    "\n",
    "# directory structure information, especially \n",
    "form.directory_structure = \"...\"  # e.g. institute/experiment/file.nc\n",
    "form.directory_structure_convention = \"...\" # e.g. CMIP5, CMIP6, CORDEX, your_convention_name\n",
    "form.directory_structure_comment = \"...\"  # free text, e.g. with link describing the directory structure convention you used\n",
    "\n",
    "# metadata information\n",
    "form.metadata_convention_name = \"...\" # e.g. CF1.6 etc. None if not applicable\n",
    "form.metadata_comment = \"...\" # information about metadata, e.g. links to metadata info etc. "
   ]
  },
  {
   "cell_type": "markdown",
   "metadata": {},
   "source": [
    "## Check your submission form\n",
    "\n",
    "Please evaluate the following cell to check your submission form.\n",
    "\n",
    "In case of errors, please go up to the corresponden information cells and update your information accordingly..."
   ]
  },
  {
   "cell_type": "code",
   "execution_count": null,
   "metadata": {
    "collapsed": true
   },
   "outputs": [],
   "source": [
    "# to be completed .. "
   ]
  },
  {
   "cell_type": "markdown",
   "metadata": {},
   "source": [
    "# Save your form\n",
    "\n",
    "your form will be stored (the form name consists of your last name plut your keyword)"
   ]
  },
  {
   "cell_type": "code",
   "execution_count": null,
   "metadata": {
    "collapsed": true
   },
   "outputs": [],
   "source": [
    "form_handler.save_form(sf,\"..my comment..\") # edit my comment info "
   ]
  },
  {
   "cell_type": "markdown",
   "metadata": {},
   "source": [
    "# officially submit your form\n",
    "the form will be submitted to the DKRZ team to process\n",
    "you also receive a confirmation email with a reference to your online form for future modifications "
   ]
  },
  {
   "cell_type": "code",
   "execution_count": null,
   "metadata": {
    "collapsed": true
   },
   "outputs": [],
   "source": [
    "form_handler.email_form_info(sf)\n",
    "form_handler.form_submission(sf)"
   ]
  }
 ],
 "metadata": {
  "anaconda-cloud": {},
  "kernelspec": {
   "display_name": "Python [conda env:forms2]",
   "language": "python",
   "name": "conda-env-forms2-py"
  },
  "language_info": {
   "codemirror_mode": {
    "name": "ipython",
    "version": 2
   },
   "file_extension": ".py",
   "mimetype": "text/x-python",
   "name": "python",
   "nbconvert_exporter": "python",
   "pygments_lexer": "ipython2",
   "version": "2.7.13"
  }
 },
 "nbformat": 4,
 "nbformat_minor": 1
}
