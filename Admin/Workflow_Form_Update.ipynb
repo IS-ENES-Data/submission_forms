{
 "cells": [
  {
   "cell_type": "markdown",
   "metadata": {},
   "source": [
    "# DKRZ data ingest workflow information update\n",
    "\n",
    "(Disclaimer: This demo notebook is for data managers only !)\n",
    "\n",
    "Updating information with respect to the data ingest workflow (e.g. adding quality assurance information or data publication related information) should be done in a well structured way - based on well defined steps.\n",
    "\n",
    "These steps update consistent information sets with respect to specific workflow action (e.g. data publication)\n",
    "\n",
    "Thus the submission_forms package provides a collection of components to support these activities. \n",
    "\n",
    "A consistent update step normally consists of\n",
    "* update on who did what, when (e.g. data manager A quality checked data B at time C ..)\n",
    "* update on additional information on the activity (e.g. add the quality assurance record)\n",
    "* updatee the status of the individual workflow step (open, paused, action-required, closed etc.) "
   ]
  },
  {
   "cell_type": "markdown",
   "metadata": {},
   "source": [
    "The following generic status states are defined: \n",
    "\n",
    "* ACTIVITY_STATUS = \"0:open, 1:in-progress ,2:action-required, 3:paused,4:closed\"          \n",
    "* ERROR_STATUS = \"0:open,1:ok,2:error\"\n",
    "* ENTITY_STATUS = \"0:open,1:stored,2:submitted,3:re-opened,4:closed\"\n",
    "* CHECK_STATUS = \"0:open,1:warning, 2:error,3:ok\""
   ]
  },
  {
   "cell_type": "code",
   "execution_count": 11,
   "metadata": {},
   "outputs": [],
   "source": [
    "# import necessary packages\n",
    "from dkrz_forms import form_handler, utils, wflow_handler, checks\n",
    "from datetime import datetime\n",
    "from pprint import pprint"
   ]
  },
  {
   "cell_type": "markdown",
   "metadata": {},
   "source": [
    "## demo examples - step by step\n",
    "\n",
    "The following examples can be adopted to the data managers needs by e.g. creating targeted jupyter notebooks or python scripts Data managers have two separate application scenarios for data ingest information management: "
   ]
  },
  {
   "cell_type": "markdown",
   "metadata": {},
   "source": [
    "### Step 1: find and load a specific data ingest activity related form\n",
    "\n",
    "* Alternative A)\n",
    "   * check out out git repo https://gitlab.dkrz.de/DKRZ-CMIP-Pool/data_forms_repo\n",
    "   * this repo contains all completed submission forms\n",
    "   * all data manager related changes are also committed there\n",
    "   * subdirectories in this repo relate to the individual projects (e.g. CMIP6, CORDEX, ESGF_replication, ..)\n",
    "   * each entry there contains the last name of the data submission originator  \n",
    "   \n",
    "* Alternative B) (not yet documented, only prototype) \n",
    "   * use search interface and API of search index on all submision forms\n",
    "  \n",
    "  "
   ]
  },
  {
   "cell_type": "code",
   "execution_count": 2,
   "metadata": {},
   "outputs": [],
   "source": [
    "# load workflow form object\n",
    "info_file = \"/opt/jupyter/notebooks/form_directory/CORDEX/CORDEX_aa_11.json\"\n",
    "my_form = utils.load_workflow_form(info_file)"
   ]
  },
  {
   "cell_type": "code",
   "execution_count": 3,
   "metadata": {},
   "outputs": [
    {
     "name": "stdout",
     "output_type": "stream",
     "text": [
      "{'data_ingest': 'ing',\n",
      " 'data_publication': 'pub',\n",
      " 'data_quality_assurance': 'qua',\n",
      " 'data_submission': 'sub',\n",
      " 'data_submission_review': 'rev'}\n"
     ]
    }
   ],
   "source": [
    "# show the workflow steps for this form (long-name, short-name) \n",
    "# to select a specific action, you can use the long name, e.g. 'data_ingest' or the related short name e.g. 'ing'\n",
    "wflow_dict = wflow_handler.get_wflow_description(my_form)\n",
    "pprint(wflow_dict)"
   ]
  },
  {
   "cell_type": "markdown",
   "metadata": {},
   "source": [
    "### Step 2: indicate who is working on which workflow step"
   ]
  },
  {
   "cell_type": "code",
   "execution_count": 4,
   "metadata": {},
   "outputs": [
    {
     "name": "stdout",
     "output_type": "stream",
     "text": [
      "\n",
      "\n",
      "Form Handler - save form status message:\n",
      "entity_in.form_path and entity_out.form_repo_path\n",
      "/home/testuser/CORDEX/CORDEX_aa_11.ipynb\n",
      "/opt/jupyter/notebooks/form_directory/CORDEX/CORDEX_aa_11.ipynb\n",
      " --- form stored in transfer format in: /opt/jupyter/notebooks/form_directory/CORDEX/CORDEX_aa_11.json\n",
      " \n",
      " --- commit message:[master 7e2c7a3] Form Handler: submission form for user aa saved using prefix CORDEX_aa_11 ## stephan kindermann: rev started\n",
      " 1 file changed, 5 insertions(+), 5 deletions(-)\n"
     ]
    },
    {
     "data": {
      "text/plain": [
       "DKRZ Form object "
      ]
     },
     "execution_count": 4,
     "metadata": {},
     "output_type": "execute_result"
    }
   ],
   "source": [
    "# 'start_action' updates the form with information on who is currently working on the form \n",
    "# internal information on this (timestamp, status information) is automatically set ..\n",
    "# the resulting 'working version' of the form is commited to the work repository\n",
    "\n",
    "wflow_handler.start_action('data_submission_review',my_form,\"stephan kindermann\")"
   ]
  },
  {
   "cell_type": "markdown",
   "metadata": {},
   "source": [
    "### Step 3: indicate the update and closure of a specific workflow step"
   ]
  },
  {
   "cell_type": "code",
   "execution_count": 5,
   "metadata": {},
   "outputs": [
    {
     "name": "stdout",
     "output_type": "stream",
     "text": [
      "\n",
      "\n",
      "Form Handler - save form status message:\n",
      "entity_in.form_path and entity_out.form_repo_path\n",
      "/home/testuser/CORDEX/CORDEX_aa_11.ipynb\n",
      "/opt/jupyter/notebooks/form_directory/CORDEX/CORDEX_aa_11.ipynb\n",
      " --- form stored in transfer format in: /opt/jupyter/notebooks/form_directory/CORDEX/CORDEX_aa_11.json\n",
      " \n",
      " --- commit message:[master 659cb5c] Form Handler: submission form for user aa saved using prefix CORDEX_aa_11 ## stephan kindermann: rev finished\n",
      " 1 file changed, 12 insertions(+), 9 deletions(-)\n"
     ]
    }
   ],
   "source": [
    "review_report = {}\n",
    "review_report['comment'] = 'needed to change and correct submission form'\n",
    "review_report['additional_info'] = \"mail exchange with a@b with respect to question ...\"\n",
    "\n",
    "myform = wflow_handler.finish_action('data_submission_review',my_form,\"stephan kindermann\",review_report)"
   ]
  },
  {
   "cell_type": "markdown",
   "metadata": {},
   "source": [
    "### interactive \"help\": use ?form.part and tab completion:"
   ]
  },
  {
   "cell_type": "code",
   "execution_count": 9,
   "metadata": {},
   "outputs": [
    {
     "data": {
      "text/plain": [
       "{'additional_info': 'mail exchange with a@b with respect to question ...',\n",
       " 'comment': 'needed to change and correct submission form'}"
      ]
     },
     "execution_count": 9,
     "metadata": {},
     "output_type": "execute_result"
    }
   ],
   "source": [
    "my_form.rev.entity_out.report"
   ]
  },
  {
   "cell_type": "markdown",
   "metadata": {},
   "source": [
    "## Display status of report"
   ]
  },
  {
   "cell_type": "code",
   "execution_count": 12,
   "metadata": {},
   "outputs": [
    {
     "name": "stdout",
     "output_type": "stream",
     "text": [
      "Vocalbulary test: CV_CORDEX, experiment_id\n",
      "Vocalbulary test: CV_CORDEX,institute_id\n",
      "Vocalbulary test: CV_CORDEX,institution\n",
      "Vocalbulary test: CV_CORDEX,model_id\n"
     ]
    },
    {
     "data": {
      "text/html": [
       "<p> Summary of check results </p><table width=100%><tr><td><b>Value<b></td><td><b>Check Result<b></td><td><b>Check Comment<b></td></tr><tr><td>data_information</td><td style=color:red;>NOT OK</td><td>Warning: string not set</td></tr><tr><td>data_path</td><td style=color:red;>NOT OK</td><td>Warning: string not set</td></tr><tr><td>data_qc_comment</td><td style=color:red;>NOT OK</td><td>Warning: string not set</td></tr><tr><td>data_qc_status</td><td style=color:red;>NOT OK</td><td>Warning: string not set</td></tr><tr><td>directory_structure</td><td style=color:red;>NOT OK</td><td>Warning: string not set</td></tr><tr><td>example_file_name</td><td style=color:red;>NOT OK</td><td>Warning: string not set</td></tr><tr><td>exclude_variables_list</td><td style=color:red;>NOT OK</td><td>Warning: string not set</td></tr><tr><td>experiment_id</td><td style=color:green;>OK</td><td>CV check not yet implemented</td></tr><tr><td>grid_as_specified_if_rotated_pole</td><td style=color:red;>NOT OK</td><td>Warning: string not set</td></tr><tr><td>grid_mapping_name</td><td style=color:red;>NOT OK</td><td>Warning: string not set</td></tr><tr><td>institute_id</td><td style=color:green;>OK</td><td>CV check not yet implemented</td></tr><tr><td>institution</td><td style=color:green;>OK</td><td>CV check not yet implemented</td></tr><tr><td>model_id</td><td style=color:green;>OK</td><td>CV check not yet implemented</td></tr><tr><td>submission_type</td><td style=color:red;>NOT OK</td><td>Error: option parameter not set</td></tr><tr><td>terms_of_use</td><td style=color:red;>NOT OK</td><td>Warning: string not set</td></tr><tr><td>time_period</td><td style=color:red;>NOT OK</td><td>Warning: string not set</td></tr><tr><td>uniqueness_of_tracking_id</td><td style=color:red;>NOT OK</td><td>Error: option parameter not set</td></tr><tr><td>variable_list_day</td><td style=color:red;>NOT OK</td><td>Warning: string not set</td></tr><tr><td>variable_list_fx</td><td style=color:red;>NOT OK</td><td>Warning: string not set</td></tr><tr><td>variable_list_mon</td><td style=color:red;>NOT OK</td><td>Warning: string not set</td></tr><tr><td>variable_list_sem</td><td style=color:red;>NOT OK</td><td>Warning: string not set</td></tr></table>"
      ],
      "text/plain": [
       "{'data_information': (0, 'Warning: string not set'),\n",
       " 'data_path': (0, 'Warning: string not set'),\n",
       " 'data_qc_comment': (0, 'Warning: string not set'),\n",
       " 'data_qc_status': (0, 'Warning: string not set'),\n",
       " 'directory_structure': (0, 'Warning: string not set'),\n",
       " 'example_file_name': (0, 'Warning: string not set'),\n",
       " 'exclude_variables_list': (0, 'Warning: string not set'),\n",
       " 'experiment_id': (1, 'CV check not yet implemented'),\n",
       " 'grid_as_specified_if_rotated_pole': (0, 'Warning: string not set'),\n",
       " 'grid_mapping_name': (0, 'Warning: string not set'),\n",
       " 'institute_id': (1, 'CV check not yet implemented'),\n",
       " 'institution': (1, 'CV check not yet implemented'),\n",
       " 'model_id': (1, 'CV check not yet implemented'),\n",
       " 'submission_type': (0, 'Error: option parameter not set'),\n",
       " 'terms_of_use': (0, 'Warning: string not set'),\n",
       " 'time_period': (0, 'Warning: string not set'),\n",
       " 'uniqueness_of_tracking_id': (0, 'Error: option parameter not set'),\n",
       " 'variable_list_day': (0, 'Warning: string not set'),\n",
       " 'variable_list_fx': (0, 'Warning: string not set'),\n",
       " 'variable_list_mon': (0, 'Warning: string not set'),\n",
       " 'variable_list_sem': (0, 'Warning: string not set')}"
      ]
     },
     "metadata": {},
     "output_type": "display_data"
    }
   ],
   "source": [
    "report = checks.check_report(my_form,\"sub\")\n",
    "checks.display_report(report)"
   ]
  },
  {
   "cell_type": "code",
   "execution_count": 13,
   "metadata": {},
   "outputs": [
    {
     "data": {
      "text/plain": [
       "'0:open,1:warning, 2:error,3:ok'"
      ]
     },
     "execution_count": 13,
     "metadata": {},
     "output_type": "execute_result"
    }
   ],
   "source": [
    "my_form.rev.entity_in.check_status\n"
   ]
  },
  {
   "cell_type": "markdown",
   "metadata": {},
   "source": [
    "## Display status of form"
   ]
  },
  {
   "cell_type": "code",
   "execution_count": 14,
   "metadata": {},
   "outputs": [
    {
     "data": {
      "text/plain": [
       "'https://dm-rt.dkrz.de/Ticket/Display.html?id='"
      ]
     },
     "execution_count": 14,
     "metadata": {},
     "output_type": "execute_result"
    }
   ],
   "source": [
    "my_form.sub.activity.ticket_url"
   ]
  },
  {
   "cell_type": "code",
   "execution_count": 17,
   "metadata": {
    "scrolled": true
   },
   "outputs": [
    {
     "name": "stdout",
     "output_type": "stream",
     "text": [
      "=============================================================================\n",
      "Workflow step:  sub\n",
      "PROV entity:  agent\n"
     ]
    },
    {
     "data": {
      "text/html": [
       "<p> Summary of check results </p><table width=100%><tr><td><b>Value<b></td><td><b>Check Result<b></td><td><b>Check Comment<b></td></tr><tr><td>email</td><td style=color:green;>OK</td><td>mandatory string not empty</td></tr><tr><td>first_name</td><td style=color:green;>OK</td><td>mandatory string not empty</td></tr><tr><td>keyword</td><td style=color:green;>OK</td><td>mandatory string not empty</td></tr><tr><td>last_name</td><td style=color:green;>OK</td><td>mandatory string not empty</td></tr><tr><td>responsible_person</td><td style=color:green;>OK</td><td>mandatory string not empty</td></tr></table>"
      ],
      "text/plain": [
       "{'email': (1, 'mandatory string not empty'),\n",
       " 'first_name': (1, 'mandatory string not empty'),\n",
       " 'keyword': (1, 'mandatory string not empty'),\n",
       " 'last_name': (1, 'mandatory string not empty'),\n",
       " 'responsible_person': (1, 'mandatory string not empty')}"
      ]
     },
     "metadata": {},
     "output_type": "display_data"
    },
    {
     "name": "stdout",
     "output_type": "stream",
     "text": [
      "PROV entity:  entity_in\n"
     ]
    },
    {
     "data": {
      "text/html": [
       "<p> Summary of check results </p><table width=100%><tr><td><b>Value<b></td><td><b>Check Result<b></td><td><b>Check Comment<b></td></tr><tr><td>form_dir</td><td style=color:green;>OK</td><td>mandatory string not empty</td></tr><tr><td>form_path</td><td style=color:green;>OK</td><td>mandatory string not empty</td></tr><tr><td>source_path</td><td style=color:red;>NOT OK</td><td>Error: mandatory string not set</td></tr><tr><td>tag</td><td style=color:green;>OK</td><td>Warning: optional parameter not set</td></tr><tr><td>version</td><td style=color:green;>OK</td><td>Warning: optional parameter not set</td></tr></table>"
      ],
      "text/plain": [
       "{'form_dir': (1, 'mandatory string not empty'),\n",
       " 'form_path': (1, 'mandatory string not empty'),\n",
       " 'source_path': (0, 'Error: mandatory string not set'),\n",
       " 'tag': (1, 'Warning: optional parameter not set'),\n",
       " 'version': (1, 'Warning: optional parameter not set')}"
      ]
     },
     "metadata": {},
     "output_type": "display_data"
    },
    {
     "name": "stdout",
     "output_type": "stream",
     "text": [
      "PROV entity:  entity_out\n"
     ]
    },
    {
     "data": {
      "text/html": [
       "<p> Summary of check results </p><table width=100%><tr><td><b>Value<b></td><td><b>Check Result<b></td><td><b>Check Comment<b></td></tr><tr><td>check_status</td><td style=color:green;>OK</td><td>ok: Valid option setting</td></tr><tr><td>checks_done</td><td style=color:red;>NOT OK</td><td>Error: mandatory string not set</td></tr><tr><td>commit_message</td><td style=color:green;>OK</td><td>ok: parameter is optional</td></tr><tr><td>form_json</td><td style=color:green;>OK</td><td>mandatory string not empty</td></tr><tr><td>form_name</td><td style=color:green;>OK</td><td>mandatory string not empty</td></tr><tr><td>form_repo</td><td style=color:green;>OK</td><td>mandatory string not empty</td></tr><tr><td>form_repo_path</td><td style=color:green;>OK</td><td>mandatory string not empty</td></tr><tr><td>pwd</td><td style=color:green;>OK</td><td>mandatory string not empty</td></tr><tr><td>status</td><td style=color:green;>OK</td><td>ok: Valid option setting</td></tr><tr><td>submission_form</td><td style=color:green;>OK</td><td>mandatory string not empty</td></tr><tr><td>submission_json</td><td style=color:green;>OK</td><td>mandatory string not empty</td></tr><tr><td>submission_repo</td><td style=color:green;>OK</td><td>mandatory string not empty</td></tr></table>"
      ],
      "text/plain": [
       "{'check_status': (1, 'ok: Valid option setting'),\n",
       " 'checks_done': (0, 'Error: mandatory string not set'),\n",
       " 'commit_message': (1, 'ok: parameter is optional'),\n",
       " 'form_json': (1, 'mandatory string not empty'),\n",
       " 'form_name': (1, 'mandatory string not empty'),\n",
       " 'form_repo': (1, 'mandatory string not empty'),\n",
       " 'form_repo_path': (1, 'mandatory string not empty'),\n",
       " 'pwd': (1, 'mandatory string not empty'),\n",
       " 'status': (1, 'ok: Valid option setting'),\n",
       " 'submission_form': (1, 'mandatory string not empty'),\n",
       " 'submission_json': (1, 'mandatory string not empty'),\n",
       " 'submission_repo': (1, 'mandatory string not empty')}"
      ]
     },
     "metadata": {},
     "output_type": "display_data"
    },
    {
     "name": "stdout",
     "output_type": "stream",
     "text": [
      "PROV entity:  activity\n"
     ]
    },
    {
     "data": {
      "text/html": [
       "<p> Summary of check results </p><table width=100%><tr><td><b>Value<b></td><td><b>Check Result<b></td><td><b>Check Comment<b></td></tr><tr><td>comment</td><td style=color:green;>OK</td><td>Warning: optional parameter not set</td></tr><tr><td>commit_hash</td><td style=color:green;>OK</td><td>Warning: optional parameter not set</td></tr><tr><td>end_time</td><td style=color:green;>OK</td><td>Warning: optional parameter not set</td></tr><tr><td>error_status</td><td style=color:red;>NOT OK</td><td>Error: option parameter not set</td></tr><tr><td>keyword</td><td style=color:green;>OK</td><td>mandatory string not empty</td></tr><tr><td>method</td><td style=color:red;>NOT OK</td><td>Error: mandatory string not set</td></tr><tr><td>pwd</td><td style=color:red;>NOT OK</td><td>Error: mandatory string not set</td></tr><tr><td>start_time</td><td style=color:green;>OK</td><td>mandatory string not empty</td></tr><tr><td>status</td><td style=color:green;>OK</td><td>ok: Valid option setting</td></tr><tr><td>ticket_id</td><td style=color:green;>OK</td><td>Warning: optional parameter not set</td></tr><tr><td>ticket_url</td><td style=color:green;>OK</td><td>mandatory string not empty</td></tr><tr><td>timestamp</td><td style=color:green;>OK</td><td>ok: parameter is optional</td></tr></table>"
      ],
      "text/plain": [
       "{'comment': (1, 'Warning: optional parameter not set'),\n",
       " 'commit_hash': (1, 'Warning: optional parameter not set'),\n",
       " 'end_time': (1, 'Warning: optional parameter not set'),\n",
       " 'error_status': (0, 'Error: option parameter not set'),\n",
       " 'keyword': (1, 'mandatory string not empty'),\n",
       " 'method': (0, 'Error: mandatory string not set'),\n",
       " 'pwd': (0, 'Error: mandatory string not set'),\n",
       " 'start_time': (1, 'mandatory string not empty'),\n",
       " 'status': (1, 'ok: Valid option setting'),\n",
       " 'ticket_id': (1, 'Warning: optional parameter not set'),\n",
       " 'ticket_url': (1, 'mandatory string not empty'),\n",
       " 'timestamp': (1, 'ok: parameter is optional')}"
      ]
     },
     "metadata": {},
     "output_type": "display_data"
    }
   ],
   "source": [
    "part = checks.check_step_form(my_form,\"sub\")\n",
    "checks.display_check(part,\"sub\")\n"
   ]
  },
  {
   "cell_type": "code",
   "execution_count": 18,
   "metadata": {
    "scrolled": true
   },
   "outputs": [
    {
     "name": "stdout",
     "output_type": "stream",
     "text": [
      "=============================================================================\n",
      "Workflow step:  data_submission\n",
      "PROV entity:  agent\n"
     ]
    },
    {
     "data": {
      "text/html": [
       "<p> Summary of check results </p><table width=100%><tr><td><b>Value<b></td><td><b>Check Result<b></td><td><b>Check Comment<b></td></tr><tr><td>email</td><td style=color:green;>OK</td><td>mandatory string not empty</td></tr><tr><td>first_name</td><td style=color:green;>OK</td><td>mandatory string not empty</td></tr><tr><td>keyword</td><td style=color:green;>OK</td><td>mandatory string not empty</td></tr><tr><td>last_name</td><td style=color:green;>OK</td><td>mandatory string not empty</td></tr><tr><td>responsible_person</td><td style=color:green;>OK</td><td>mandatory string not empty</td></tr></table>"
      ],
      "text/plain": [
       "{'email': (1, 'mandatory string not empty'),\n",
       " 'first_name': (1, 'mandatory string not empty'),\n",
       " 'keyword': (1, 'mandatory string not empty'),\n",
       " 'last_name': (1, 'mandatory string not empty'),\n",
       " 'responsible_person': (1, 'mandatory string not empty')}"
      ]
     },
     "metadata": {},
     "output_type": "display_data"
    },
    {
     "name": "stdout",
     "output_type": "stream",
     "text": [
      "PROV entity:  entity_in\n"
     ]
    },
    {
     "data": {
      "text/html": [
       "<p> Summary of check results </p><table width=100%><tr><td><b>Value<b></td><td><b>Check Result<b></td><td><b>Check Comment<b></td></tr><tr><td>form_dir</td><td style=color:green;>OK</td><td>mandatory string not empty</td></tr><tr><td>form_path</td><td style=color:green;>OK</td><td>mandatory string not empty</td></tr><tr><td>source_path</td><td style=color:red;>NOT OK</td><td>Error: mandatory string not set</td></tr><tr><td>tag</td><td style=color:green;>OK</td><td>Warning: optional parameter not set</td></tr><tr><td>version</td><td style=color:green;>OK</td><td>Warning: optional parameter not set</td></tr></table>"
      ],
      "text/plain": [
       "{'form_dir': (1, 'mandatory string not empty'),\n",
       " 'form_path': (1, 'mandatory string not empty'),\n",
       " 'source_path': (0, 'Error: mandatory string not set'),\n",
       " 'tag': (1, 'Warning: optional parameter not set'),\n",
       " 'version': (1, 'Warning: optional parameter not set')}"
      ]
     },
     "metadata": {},
     "output_type": "display_data"
    },
    {
     "name": "stdout",
     "output_type": "stream",
     "text": [
      "PROV entity:  entity_out\n"
     ]
    },
    {
     "data": {
      "text/html": [
       "<p> Summary of check results </p><table width=100%><tr><td><b>Value<b></td><td><b>Check Result<b></td><td><b>Check Comment<b></td></tr><tr><td>check_status</td><td style=color:green;>OK</td><td>ok: Valid option setting</td></tr><tr><td>checks_done</td><td style=color:red;>NOT OK</td><td>Error: mandatory string not set</td></tr><tr><td>commit_message</td><td style=color:green;>OK</td><td>ok: parameter is optional</td></tr><tr><td>form_json</td><td style=color:green;>OK</td><td>mandatory string not empty</td></tr><tr><td>form_name</td><td style=color:green;>OK</td><td>mandatory string not empty</td></tr><tr><td>form_repo</td><td style=color:green;>OK</td><td>mandatory string not empty</td></tr><tr><td>form_repo_path</td><td style=color:green;>OK</td><td>mandatory string not empty</td></tr><tr><td>pwd</td><td style=color:green;>OK</td><td>mandatory string not empty</td></tr><tr><td>status</td><td style=color:green;>OK</td><td>ok: Valid option setting</td></tr><tr><td>submission_form</td><td style=color:green;>OK</td><td>mandatory string not empty</td></tr><tr><td>submission_json</td><td style=color:green;>OK</td><td>mandatory string not empty</td></tr><tr><td>submission_repo</td><td style=color:green;>OK</td><td>mandatory string not empty</td></tr></table>"
      ],
      "text/plain": [
       "{'check_status': (1, 'ok: Valid option setting'),\n",
       " 'checks_done': (0, 'Error: mandatory string not set'),\n",
       " 'commit_message': (1, 'ok: parameter is optional'),\n",
       " 'form_json': (1, 'mandatory string not empty'),\n",
       " 'form_name': (1, 'mandatory string not empty'),\n",
       " 'form_repo': (1, 'mandatory string not empty'),\n",
       " 'form_repo_path': (1, 'mandatory string not empty'),\n",
       " 'pwd': (1, 'mandatory string not empty'),\n",
       " 'status': (1, 'ok: Valid option setting'),\n",
       " 'submission_form': (1, 'mandatory string not empty'),\n",
       " 'submission_json': (1, 'mandatory string not empty'),\n",
       " 'submission_repo': (1, 'mandatory string not empty')}"
      ]
     },
     "metadata": {},
     "output_type": "display_data"
    },
    {
     "name": "stdout",
     "output_type": "stream",
     "text": [
      "PROV entity:  activity\n"
     ]
    },
    {
     "data": {
      "text/html": [
       "<p> Summary of check results </p><table width=100%><tr><td><b>Value<b></td><td><b>Check Result<b></td><td><b>Check Comment<b></td></tr><tr><td>comment</td><td style=color:green;>OK</td><td>Warning: optional parameter not set</td></tr><tr><td>commit_hash</td><td style=color:green;>OK</td><td>Warning: optional parameter not set</td></tr><tr><td>end_time</td><td style=color:green;>OK</td><td>Warning: optional parameter not set</td></tr><tr><td>error_status</td><td style=color:red;>NOT OK</td><td>Error: option parameter not set</td></tr><tr><td>keyword</td><td style=color:green;>OK</td><td>mandatory string not empty</td></tr><tr><td>method</td><td style=color:red;>NOT OK</td><td>Error: mandatory string not set</td></tr><tr><td>pwd</td><td style=color:red;>NOT OK</td><td>Error: mandatory string not set</td></tr><tr><td>start_time</td><td style=color:green;>OK</td><td>mandatory string not empty</td></tr><tr><td>status</td><td style=color:green;>OK</td><td>ok: Valid option setting</td></tr><tr><td>ticket_id</td><td style=color:green;>OK</td><td>Warning: optional parameter not set</td></tr><tr><td>ticket_url</td><td style=color:green;>OK</td><td>mandatory string not empty</td></tr><tr><td>timestamp</td><td style=color:green;>OK</td><td>ok: parameter is optional</td></tr></table>"
      ],
      "text/plain": [
       "{'comment': (1, 'Warning: optional parameter not set'),\n",
       " 'commit_hash': (1, 'Warning: optional parameter not set'),\n",
       " 'end_time': (1, 'Warning: optional parameter not set'),\n",
       " 'error_status': (0, 'Error: option parameter not set'),\n",
       " 'keyword': (1, 'mandatory string not empty'),\n",
       " 'method': (0, 'Error: mandatory string not set'),\n",
       " 'pwd': (0, 'Error: mandatory string not set'),\n",
       " 'start_time': (1, 'mandatory string not empty'),\n",
       " 'status': (1, 'ok: Valid option setting'),\n",
       " 'ticket_id': (1, 'Warning: optional parameter not set'),\n",
       " 'ticket_url': (1, 'mandatory string not empty'),\n",
       " 'timestamp': (1, 'ok: parameter is optional')}"
      ]
     },
     "metadata": {},
     "output_type": "display_data"
    },
    {
     "name": "stdout",
     "output_type": "stream",
     "text": [
      "=============================================================================\n",
      "Workflow step:  data_submission_review\n",
      "PROV entity:  agent\n"
     ]
    },
    {
     "data": {
      "text/html": [
       "<p> Summary of check results </p><table width=100%><tr><td><b>Value<b></td><td><b>Check Result<b></td><td><b>Check Comment<b></td></tr><tr><td>responsible_person</td><td style=color:green;>OK</td><td>mandatory string not empty</td></tr></table>"
      ],
      "text/plain": [
       "{'responsible_person': (1, 'mandatory string not empty')}"
      ]
     },
     "metadata": {},
     "output_type": "display_data"
    },
    {
     "name": "stdout",
     "output_type": "stream",
     "text": [
      "PROV entity:  entity_in\n"
     ]
    },
    {
     "data": {
      "text/html": [
       "<p> Summary of check results </p><table width=100%><tr><td><b>Value<b></td><td><b>Check Result<b></td><td><b>Check Comment<b></td></tr><tr><td>check_status</td><td style=color:red;>NOT OK</td><td>Error: option parameter not set</td></tr><tr><td>checks_done</td><td style=color:red;>NOT OK</td><td>Error: mandatory string not set</td></tr><tr><td>commit_message</td><td style=color:green;>OK</td><td>Warning: optional parameter not set</td></tr><tr><td>form_json</td><td style=color:red;>NOT OK</td><td>Error: mandatory string not set</td></tr><tr><td>form_name</td><td style=color:red;>NOT OK</td><td>Error: mandatory string not set</td></tr><tr><td>form_repo</td><td style=color:red;>NOT OK</td><td>Error: mandatory string not set</td></tr><tr><td>form_repo_path</td><td style=color:red;>NOT OK</td><td>Error: mandatory string not set</td></tr><tr><td>pwd</td><td style=color:red;>NOT OK</td><td>Error: mandatory string not set</td></tr><tr><td>status</td><td style=color:red;>NOT OK</td><td>Error: option parameter not set</td></tr><tr><td>submission_form</td><td style=color:red;>NOT OK</td><td>Error: mandatory string not set</td></tr><tr><td>submission_json</td><td style=color:red;>NOT OK</td><td>Error: mandatory string not set</td></tr><tr><td>submission_repo</td><td style=color:red;>NOT OK</td><td>Error: mandatory string not set</td></tr></table>"
      ],
      "text/plain": [
       "{'check_status': (0, 'Error: option parameter not set'),\n",
       " 'checks_done': (0, 'Error: mandatory string not set'),\n",
       " 'commit_message': (1, 'Warning: optional parameter not set'),\n",
       " 'form_json': (0, 'Error: mandatory string not set'),\n",
       " 'form_name': (0, 'Error: mandatory string not set'),\n",
       " 'form_repo': (0, 'Error: mandatory string not set'),\n",
       " 'form_repo_path': (0, 'Error: mandatory string not set'),\n",
       " 'pwd': (0, 'Error: mandatory string not set'),\n",
       " 'status': (0, 'Error: option parameter not set'),\n",
       " 'submission_form': (0, 'Error: mandatory string not set'),\n",
       " 'submission_json': (0, 'Error: mandatory string not set'),\n",
       " 'submission_repo': (0, 'Error: mandatory string not set')}"
      ]
     },
     "metadata": {},
     "output_type": "display_data"
    },
    {
     "name": "stdout",
     "output_type": "stream",
     "text": [
      "PROV entity:  entity_out\n"
     ]
    },
    {
     "data": {
      "text/html": [
       "<p> Summary of check results </p><table width=100%><tr><td><b>Value<b></td><td><b>Check Result<b></td><td><b>Check Comment<b></td></tr><tr><td>check_status</td><td style=color:green;>OK</td><td>ok: Valid option setting</td></tr><tr><td>comment</td><td style=color:green;>OK</td><td>Warning: optional parameter not set</td></tr><tr><td>date</td><td style=color:red;>NOT OK</td><td>Error: mandatory string not set</td></tr><tr><td>status</td><td style=color:green;>OK</td><td>ok: Valid option setting</td></tr><tr><td>tag</td><td style=color:green;>OK</td><td>Warning: optional parameter not set</td></tr></table>"
      ],
      "text/plain": [
       "{'check_status': (1, 'ok: Valid option setting'),\n",
       " 'comment': (1, 'Warning: optional parameter not set'),\n",
       " 'date': (0, 'Error: mandatory string not set'),\n",
       " 'status': (1, 'ok: Valid option setting'),\n",
       " 'tag': (1, 'Warning: optional parameter not set')}"
      ]
     },
     "metadata": {},
     "output_type": "display_data"
    },
    {
     "name": "stdout",
     "output_type": "stream",
     "text": [
      "PROV entity:  activity\n"
     ]
    },
    {
     "data": {
      "text/html": [
       "<p> Summary of check results </p><table width=100%><tr><td><b>Value<b></td><td><b>Check Result<b></td><td><b>Check Comment<b></td></tr><tr><td>comment</td><td style=color:green;>OK</td><td>Warning: optional parameter not set</td></tr><tr><td>end_time</td><td style=color:green;>OK</td><td>ok: parameter is optional</td></tr><tr><td>error_status</td><td style=color:green;>OK</td><td>ok: Valid option setting</td></tr><tr><td>start_time</td><td style=color:green;>OK</td><td>mandatory string not empty</td></tr><tr><td>status</td><td style=color:green;>OK</td><td>ok: Valid option setting</td></tr><tr><td>ticket_id</td><td style=color:red;>NOT OK</td><td>Error: mandatory string not set</td></tr><tr><td>ticket_url</td><td style=color:red;>NOT OK</td><td>Error: mandatory string not set</td></tr><tr><td>timestamp</td><td style=color:green;>OK</td><td>ok: parameter is optional</td></tr></table>"
      ],
      "text/plain": [
       "{'comment': (1, 'Warning: optional parameter not set'),\n",
       " 'end_time': (1, 'ok: parameter is optional'),\n",
       " 'error_status': (1, 'ok: Valid option setting'),\n",
       " 'start_time': (1, 'mandatory string not empty'),\n",
       " 'status': (1, 'ok: Valid option setting'),\n",
       " 'ticket_id': (0, 'Error: mandatory string not set'),\n",
       " 'ticket_url': (0, 'Error: mandatory string not set'),\n",
       " 'timestamp': (1, 'ok: parameter is optional')}"
      ]
     },
     "metadata": {},
     "output_type": "display_data"
    },
    {
     "name": "stdout",
     "output_type": "stream",
     "text": [
      "=============================================================================\n",
      "Workflow step:  data_ingest\n",
      "PROV entity:  agent\n"
     ]
    },
    {
     "data": {
      "text/html": [
       "<p> Summary of check results </p><table width=100%><tr><td><b>Value<b></td><td><b>Check Result<b></td><td><b>Check Comment<b></td></tr><tr><td>responsible_person</td><td style=color:red;>NOT OK</td><td>Error: mandatory string not set</td></tr></table>"
      ],
      "text/plain": [
       "{'responsible_person': (0, 'Error: mandatory string not set')}"
      ]
     },
     "metadata": {},
     "output_type": "display_data"
    },
    {
     "name": "stdout",
     "output_type": "stream",
     "text": [
      "PROV entity:  entity_in\n"
     ]
    },
    {
     "data": {
      "text/html": [
       "<p> Summary of check results </p><table width=100%><tr><td><b>Value<b></td><td><b>Check Result<b></td><td><b>Check Comment<b></td></tr><tr><td>check_status</td><td style=color:red;>NOT OK</td><td>Error: option parameter not set</td></tr><tr><td>comment</td><td style=color:green;>OK</td><td>Warning: optional parameter not set</td></tr><tr><td>date</td><td style=color:red;>NOT OK</td><td>Error: mandatory string not set</td></tr><tr><td>status</td><td style=color:red;>NOT OK</td><td>Error: option parameter not set</td></tr><tr><td>tag</td><td style=color:green;>OK</td><td>Warning: optional parameter not set</td></tr></table>"
      ],
      "text/plain": [
       "{'check_status': (0, 'Error: option parameter not set'),\n",
       " 'comment': (1, 'Warning: optional parameter not set'),\n",
       " 'date': (0, 'Error: mandatory string not set'),\n",
       " 'status': (0, 'Error: option parameter not set'),\n",
       " 'tag': (1, 'Warning: optional parameter not set')}"
      ]
     },
     "metadata": {},
     "output_type": "display_data"
    },
    {
     "name": "stdout",
     "output_type": "stream",
     "text": [
      "PROV entity:  entity_out\n"
     ]
    },
    {
     "data": {
      "text/html": [
       "<p> Summary of check results </p><table width=100%><tr><td><b>Value<b></td><td><b>Check Result<b></td><td><b>Check Comment<b></td></tr><tr><td>check_status</td><td style=color:red;>NOT OK</td><td>Error: option parameter not set</td></tr><tr><td>comment</td><td style=color:green;>OK</td><td>Warning: optional parameter not set</td></tr><tr><td>date</td><td style=color:red;>NOT OK</td><td>Error: mandatory string not set</td></tr><tr><td>status</td><td style=color:red;>NOT OK</td><td>Error: option parameter not set</td></tr><tr><td>tag</td><td style=color:green;>OK</td><td>Warning: optional parameter not set</td></tr></table>"
      ],
      "text/plain": [
       "{'check_status': (0, 'Error: option parameter not set'),\n",
       " 'comment': (1, 'Warning: optional parameter not set'),\n",
       " 'date': (0, 'Error: mandatory string not set'),\n",
       " 'status': (0, 'Error: option parameter not set'),\n",
       " 'tag': (1, 'Warning: optional parameter not set')}"
      ]
     },
     "metadata": {},
     "output_type": "display_data"
    },
    {
     "name": "stdout",
     "output_type": "stream",
     "text": [
      "PROV entity:  activity\n"
     ]
    },
    {
     "data": {
      "text/html": [
       "<p> Summary of check results </p><table width=100%><tr><td><b>Value<b></td><td><b>Check Result<b></td><td><b>Check Comment<b></td></tr><tr><td>comment</td><td style=color:green;>OK</td><td>Warning: optional parameter not set</td></tr><tr><td>end_time</td><td style=color:green;>OK</td><td>Warning: optional parameter not set</td></tr><tr><td>error_status</td><td style=color:red;>NOT OK</td><td>Error: option parameter not set</td></tr><tr><td>start_time</td><td style=color:red;>NOT OK</td><td>Error: mandatory string not set</td></tr><tr><td>status</td><td style=color:red;>NOT OK</td><td>Error: option parameter not set</td></tr><tr><td>ticket_id</td><td style=color:red;>NOT OK</td><td>Error: mandatory string not set</td></tr><tr><td>timestamp</td><td style=color:green;>OK</td><td>Warning: optional parameter not set</td></tr></table>"
      ],
      "text/plain": [
       "{'comment': (1, 'Warning: optional parameter not set'),\n",
       " 'end_time': (1, 'Warning: optional parameter not set'),\n",
       " 'error_status': (0, 'Error: option parameter not set'),\n",
       " 'start_time': (0, 'Error: mandatory string not set'),\n",
       " 'status': (0, 'Error: option parameter not set'),\n",
       " 'ticket_id': (0, 'Error: mandatory string not set'),\n",
       " 'timestamp': (1, 'Warning: optional parameter not set')}"
      ]
     },
     "metadata": {},
     "output_type": "display_data"
    },
    {
     "name": "stdout",
     "output_type": "stream",
     "text": [
      "=============================================================================\n",
      "Workflow step:  data_quality_assurance\n",
      "PROV entity:  agent\n"
     ]
    },
    {
     "data": {
      "text/html": [
       "<p> Summary of check results </p><table width=100%><tr><td><b>Value<b></td><td><b>Check Result<b></td><td><b>Check Comment<b></td></tr><tr><td>responsible_person</td><td style=color:red;>NOT OK</td><td>Error: mandatory string not set</td></tr></table>"
      ],
      "text/plain": [
       "{'responsible_person': (0, 'Error: mandatory string not set')}"
      ]
     },
     "metadata": {},
     "output_type": "display_data"
    },
    {
     "name": "stdout",
     "output_type": "stream",
     "text": [
      "PROV entity:  entity_in\n"
     ]
    },
    {
     "data": {
      "text/html": [
       "<p> Summary of check results </p><table width=100%><tr><td><b>Value<b></td><td><b>Check Result<b></td><td><b>Check Comment<b></td></tr><tr><td>check_status</td><td style=color:red;>NOT OK</td><td>Error: option parameter not set</td></tr><tr><td>comment</td><td style=color:green;>OK</td><td>Warning: optional parameter not set</td></tr><tr><td>date</td><td style=color:red;>NOT OK</td><td>Error: mandatory string not set</td></tr><tr><td>status</td><td style=color:red;>NOT OK</td><td>Error: option parameter not set</td></tr><tr><td>tag</td><td style=color:green;>OK</td><td>Warning: optional parameter not set</td></tr></table>"
      ],
      "text/plain": [
       "{'check_status': (0, 'Error: option parameter not set'),\n",
       " 'comment': (1, 'Warning: optional parameter not set'),\n",
       " 'date': (0, 'Error: mandatory string not set'),\n",
       " 'status': (0, 'Error: option parameter not set'),\n",
       " 'tag': (1, 'Warning: optional parameter not set')}"
      ]
     },
     "metadata": {},
     "output_type": "display_data"
    },
    {
     "name": "stdout",
     "output_type": "stream",
     "text": [
      "PROV entity:  entity_out\n"
     ]
    },
    {
     "data": {
      "text/html": [
       "<p> Summary of check results </p><table width=100%><tr><td><b>Value<b></td><td><b>Check Result<b></td><td><b>Check Comment<b></td></tr><tr><td>check_status</td><td style=color:red;>NOT OK</td><td>Error: option parameter not set</td></tr><tr><td>comment</td><td style=color:green;>OK</td><td>Warning: optional parameter not set</td></tr><tr><td>date</td><td style=color:red;>NOT OK</td><td>Error: mandatory string not set</td></tr><tr><td>status</td><td style=color:red;>NOT OK</td><td>Error: option parameter not set</td></tr><tr><td>tag</td><td style=color:green;>OK</td><td>Warning: optional parameter not set</td></tr></table>"
      ],
      "text/plain": [
       "{'check_status': (0, 'Error: option parameter not set'),\n",
       " 'comment': (1, 'Warning: optional parameter not set'),\n",
       " 'date': (0, 'Error: mandatory string not set'),\n",
       " 'status': (0, 'Error: option parameter not set'),\n",
       " 'tag': (1, 'Warning: optional parameter not set')}"
      ]
     },
     "metadata": {},
     "output_type": "display_data"
    },
    {
     "name": "stdout",
     "output_type": "stream",
     "text": [
      "PROV entity:  activity\n"
     ]
    },
    {
     "data": {
      "text/html": [
       "<p> Summary of check results </p><table width=100%><tr><td><b>Value<b></td><td><b>Check Result<b></td><td><b>Check Comment<b></td></tr><tr><td>comment</td><td style=color:green;>OK</td><td>Warning: optional parameter not set</td></tr><tr><td>end_time</td><td style=color:green;>OK</td><td>Warning: optional parameter not set</td></tr><tr><td>error_status</td><td style=color:red;>NOT OK</td><td>Error: option parameter not set</td></tr><tr><td>follow_up_ticket</td><td style=color:green;>OK</td><td>Warning: optional parameter not set</td></tr><tr><td>qua_tool_version</td><td style=color:red;>NOT OK</td><td>Error: mandatory string not set</td></tr><tr><td>start_time</td><td style=color:red;>NOT OK</td><td>Error: mandatory string not set</td></tr><tr><td>status</td><td style=color:red;>NOT OK</td><td>Error: option parameter not set</td></tr><tr><td>ticket_id</td><td style=color:red;>NOT OK</td><td>Error: mandatory string not set</td></tr></table>"
      ],
      "text/plain": [
       "{'comment': (1, 'Warning: optional parameter not set'),\n",
       " 'end_time': (1, 'Warning: optional parameter not set'),\n",
       " 'error_status': (0, 'Error: option parameter not set'),\n",
       " 'follow_up_ticket': (1, 'Warning: optional parameter not set'),\n",
       " 'qua_tool_version': (0, 'Error: mandatory string not set'),\n",
       " 'start_time': (0, 'Error: mandatory string not set'),\n",
       " 'status': (0, 'Error: option parameter not set'),\n",
       " 'ticket_id': (0, 'Error: mandatory string not set')}"
      ]
     },
     "metadata": {},
     "output_type": "display_data"
    },
    {
     "name": "stdout",
     "output_type": "stream",
     "text": [
      "=============================================================================\n",
      "Workflow step:  data_publication\n",
      "PROV entity:  agent\n"
     ]
    },
    {
     "data": {
      "text/html": [
       "<p> Summary of check results </p><table width=100%><tr><td><b>Value<b></td><td><b>Check Result<b></td><td><b>Check Comment<b></td></tr><tr><td>responsible_person</td><td style=color:red;>NOT OK</td><td>Error: mandatory string not set</td></tr><tr><td>trigger</td><td style=color:red;>NOT OK</td><td>Error: option parameter not set</td></tr></table>"
      ],
      "text/plain": [
       "{'responsible_person': (0, 'Error: mandatory string not set'),\n",
       " 'trigger': (0, 'Error: option parameter not set')}"
      ]
     },
     "metadata": {},
     "output_type": "display_data"
    },
    {
     "name": "stdout",
     "output_type": "stream",
     "text": [
      "PROV entity:  entity_in\n"
     ]
    },
    {
     "data": {
      "text/html": [
       "<p> Summary of check results </p><table width=100%><tr><td><b>Value<b></td><td><b>Check Result<b></td><td><b>Check Comment<b></td></tr><tr><td>check_status</td><td style=color:red;>NOT OK</td><td>Error: option parameter not set</td></tr><tr><td>comment</td><td style=color:green;>OK</td><td>Warning: optional parameter not set</td></tr><tr><td>date</td><td style=color:red;>NOT OK</td><td>Error: mandatory string not set</td></tr><tr><td>status</td><td style=color:red;>NOT OK</td><td>Error: option parameter not set</td></tr><tr><td>tag</td><td style=color:green;>OK</td><td>Warning: optional parameter not set</td></tr></table>"
      ],
      "text/plain": [
       "{'check_status': (0, 'Error: option parameter not set'),\n",
       " 'comment': (1, 'Warning: optional parameter not set'),\n",
       " 'date': (0, 'Error: mandatory string not set'),\n",
       " 'status': (0, 'Error: option parameter not set'),\n",
       " 'tag': (1, 'Warning: optional parameter not set')}"
      ]
     },
     "metadata": {},
     "output_type": "display_data"
    },
    {
     "name": "stdout",
     "output_type": "stream",
     "text": [
      "PROV entity:  entity_out\n"
     ]
    },
    {
     "data": {
      "text/html": [
       "<p> Summary of check results </p><table width=100%><tr><td><b>Value<b></td><td><b>Check Result<b></td><td><b>Check Comment<b></td></tr><tr><td>check_status</td><td style=color:red;>NOT OK</td><td>Error: option parameter not set</td></tr><tr><td>comment</td><td style=color:green;>OK</td><td>Warning: optional parameter not set</td></tr><tr><td>date</td><td style=color:red;>NOT OK</td><td>Error: mandatory string not set</td></tr><tr><td>search_string</td><td style=color:green;>OK</td><td>Warning: optional parameter not set</td></tr><tr><td>status</td><td style=color:red;>NOT OK</td><td>Error: option parameter not set</td></tr><tr><td>tag</td><td style=color:green;>OK</td><td>Warning: optional parameter not set</td></tr></table>"
      ],
      "text/plain": [
       "{'check_status': (0, 'Error: option parameter not set'),\n",
       " 'comment': (1, 'Warning: optional parameter not set'),\n",
       " 'date': (0, 'Error: mandatory string not set'),\n",
       " 'search_string': (1, 'Warning: optional parameter not set'),\n",
       " 'status': (0, 'Error: option parameter not set'),\n",
       " 'tag': (1, 'Warning: optional parameter not set')}"
      ]
     },
     "metadata": {},
     "output_type": "display_data"
    },
    {
     "name": "stdout",
     "output_type": "stream",
     "text": [
      "PROV entity:  activity\n"
     ]
    },
    {
     "data": {
      "text/html": [
       "<p> Summary of check results </p><table width=100%><tr><td><b>Value<b></td><td><b>Check Result<b></td><td><b>Check Comment<b></td></tr><tr><td>comment</td><td style=color:green;>OK</td><td>Warning: optional parameter not set</td></tr><tr><td>end_time</td><td style=color:green;>OK</td><td>Warning: optional parameter not set</td></tr><tr><td>error_status</td><td style=color:red;>NOT OK</td><td>Error: option parameter not set</td></tr><tr><td>follow_up_ticket</td><td style=color:green;>OK</td><td>Warning: optional parameter not set</td></tr><tr><td>start_time</td><td style=color:red;>NOT OK</td><td>Error: mandatory string not set</td></tr><tr><td>status</td><td style=color:red;>NOT OK</td><td>Error: option parameter not set</td></tr><tr><td>ticket_id</td><td style=color:red;>NOT OK</td><td>Error: mandatory string not set</td></tr><tr><td>timestamp</td><td style=color:green;>OK</td><td>Warning: optional parameter not set</td></tr></table>"
      ],
      "text/plain": [
       "{'comment': (1, 'Warning: optional parameter not set'),\n",
       " 'end_time': (1, 'Warning: optional parameter not set'),\n",
       " 'error_status': (0, 'Error: option parameter not set'),\n",
       " 'follow_up_ticket': (1, 'Warning: optional parameter not set'),\n",
       " 'start_time': (0, 'Error: mandatory string not set'),\n",
       " 'status': (0, 'Error: option parameter not set'),\n",
       " 'ticket_id': (0, 'Error: mandatory string not set'),\n",
       " 'timestamp': (1, 'Warning: optional parameter not set')}"
      ]
     },
     "metadata": {},
     "output_type": "display_data"
    }
   ],
   "source": [
    "## global check\n",
    "res  = checks.check_generic_form(my_form)\n",
    "checks.display_checks(my_form,res)\n"
   ]
  },
  {
   "cell_type": "code",
   "execution_count": 19,
   "metadata": {
    "scrolled": true
   },
   "outputs": [
    {
     "name": "stdout",
     "output_type": "stream",
     "text": [
      "0:open\n",
      "mandatory\n",
      "optional\n"
     ]
    }
   ],
   "source": [
    "print(my_form.sub.entity_out.status)\n",
    "print(my_form.rev.entity_in.form_json)\n",
    "print(my_form.sub.activity.ticket_id)"
   ]
  },
  {
   "cell_type": "code",
   "execution_count": 21,
   "metadata": {},
   "outputs": [
    {
     "name": "stdout",
     "output_type": "stream",
     "text": [
      "[['sub', 'data_submission'],\n",
      " ['rev', 'data_submission_review'],\n",
      " ['ing', 'data_ingest'],\n",
      " ['qua', 'data_quality_assurance'],\n",
      " ['pub', 'data_publication']]\n"
     ]
    }
   ],
   "source": [
    "pprint(my_form.workflow)"
   ]
  },
  {
   "cell_type": "markdown",
   "metadata": {},
   "source": [
    "### Appendix\n",
    "\n",
    "Sometimes it is necessary to modify specific information and not relay on the generic steps described above\n",
    "here are some examples"
   ]
  },
  {
   "cell_type": "code",
   "execution_count": null,
   "metadata": {},
   "outputs": [],
   "source": [
    "workflow_form = utils.load_workflow_form(info_file)\n",
    "   \n",
    "review = workflow_form.rev\n",
    "\n",
    "# any additional information keys can be added,\n",
    "# yet they are invisible to generic information management tools ..\n",
    "workflow_form.status = \"review\"\n",
    "\n",
    "review.activity.status = \"1:in-review\"\n",
    "review.activity.start_time = str(datetime.now())\n",
    "review.activity.review_comment = \"data volume check to be done\"\n",
    "review.agent.responsible_person = \"sk\"\n",
    "\n",
    "sf = form_handler.save_form(workflow_form, \"sk: review started\")\n",
    "\n",
    "review.activity.status = \"3:accepted\"\n",
    "review.activity.ticket_id = \"25389\"\n",
    "review.activity.end_time = str(datetime.now())\n",
    "\n",
    "review.entity_out.comment = \"This submission is related to submission abc_cde\"\n",
    "review.entity_out.tag = \"sub:abc_cde\"  # tags are used to relate different forms to each other\n",
    "review.entity_out.report = {'x':'y'}   # result of validation in a dict (self defined properties)\n",
    "\n",
    "# ToDo: test and document save_form for data managers (config setting for repo)   \n",
    "sf = form_handler.save_form(workflow_form, \"kindermann: form_review()\")"
   ]
  },
  {
   "cell_type": "markdown",
   "metadata": {},
   "source": [
    "### add data ingest step related information"
   ]
  },
  {
   "cell_type": "markdown",
   "metadata": {},
   "source": [
    "__Comment:__ alternatively in tools workflow_step related information could also be \n",
    "directly given and assigned via dictionaries, yet this is only \n",
    "recommended for data managers making sure the structure is consistent with\n",
    "the preconfigured one given in config/project_config.py \n",
    "* example validation.activity.\\__dict\\__ = data_manager_generated_dict"
   ]
  },
  {
   "cell_type": "code",
   "execution_count": 22,
   "metadata": {},
   "outputs": [],
   "source": [
    "workflow_form = utils.load_workflow_form(info_file)\n",
    "   \n",
    "ingest = workflow_form.ing"
   ]
  },
  {
   "cell_type": "code",
   "execution_count": null,
   "metadata": {},
   "outputs": [],
   "source": [
    "?ingest.entity_out"
   ]
  },
  {
   "cell_type": "code",
   "execution_count": 23,
   "metadata": {},
   "outputs": [
    {
     "name": "stdout",
     "output_type": "stream",
     "text": [
      "\n",
      "\n",
      "Form Handler - save form status message:\n",
      "entity_in.form_path and entity_out.form_repo_path\n",
      "/home/testuser/CORDEX/CORDEX_aa_11.ipynb\n",
      "/opt/jupyter/notebooks/form_directory/CORDEX/CORDEX_aa_11.ipynb\n",
      " --- form stored in transfer format in: /opt/jupyter/notebooks/form_directory/CORDEX/CORDEX_aa_11.json\n",
      " \n",
      " --- commit message:[master cc66608] Form Handler: submission form for user aa saved using prefix CORDEX_aa_11 ## kindermann: form_review()\n",
      " 1 file changed, 6 insertions(+), 6 deletions(-)\n"
     ]
    }
   ],
   "source": [
    "# agent related info\n",
    "workflow_form.status = \"ingest\"\n",
    "\n",
    "ingest.activity.status = \"started\"\n",
    "ingest.agent.responsible_person = \"hdh\"\n",
    "ingest.activity.start_time=str(datetime.now())\n",
    "\n",
    "# activity related info\n",
    "\n",
    "ingest.activity.comment = \"data pull: credentials needed for remote site\"\n",
    "sf = form_handler.save_form(workflow_form, \"kindermann: form_review()\")"
   ]
  },
  {
   "cell_type": "code",
   "execution_count": 24,
   "metadata": {
    "scrolled": true
   },
   "outputs": [
    {
     "name": "stdout",
     "output_type": "stream",
     "text": [
      "\n",
      "\n",
      "Form Handler - save form status message:\n",
      "entity_in.form_path and entity_out.form_repo_path\n",
      "/home/testuser/CORDEX/CORDEX_aa_11.ipynb\n",
      "/opt/jupyter/notebooks/form_directory/CORDEX/CORDEX_aa_11.ipynb\n",
      " --- form stored in transfer format in: /opt/jupyter/notebooks/form_directory/CORDEX/CORDEX_aa_11.json\n",
      " \n",
      " --- commit message:[master 9729fc4] Form Handler: submission form for user aa saved using prefix CORDEX_aa_11 ## kindermann: form_review()\n",
      " 1 file changed, 12 insertions(+), 8 deletions(-)\n"
     ]
    }
   ],
   "source": [
    "ingest.activity.status = \"completed\"\n",
    "ingest.activity.end_time = str(datetime.now())\n",
    "\n",
    "# report of the ingest process (entity_out of ingest workflow step)\n",
    "ingest_report = ingest.entity_out\n",
    "ingest_report.tag = \"a:b:c\"  # tag structure to be defined\n",
    "ingest_report.status = \"completed\"\n",
    "# free entries for detailed report information\n",
    "ingest_report.report.remote_server = \"gridftp.awi.de://export/data/CMIP6/test\"\n",
    "ingest_report.report.server_credentials = \"in server_cred.krb keypass\"\n",
    "ingest_report.report.target_path = \"..\"\n",
    "sf = form_handler.save_form(workflow_form, \"kindermann: form_review()\")"
   ]
  },
  {
   "cell_type": "code",
   "execution_count": null,
   "metadata": {},
   "outputs": [],
   "source": [
    "ingest_report.report."
   ]
  },
  {
   "cell_type": "markdown",
   "metadata": {},
   "source": [
    "### workflow step: data quality assurance"
   ]
  },
  {
   "cell_type": "code",
   "execution_count": 26,
   "metadata": {},
   "outputs": [],
   "source": [
    "from datetime import datetime\n",
    "workflow_form = utils.load_workflow_form(info_file)\n",
    "   \n",
    "qua = workflow_form.qua"
   ]
  },
  {
   "cell_type": "code",
   "execution_count": 27,
   "metadata": {},
   "outputs": [
    {
     "name": "stdout",
     "output_type": "stream",
     "text": [
      "\n",
      "\n",
      "Form Handler - save form status message:\n",
      "entity_in.form_path and entity_out.form_repo_path\n",
      "/home/testuser/CORDEX/CORDEX_aa_11.ipynb\n",
      "/opt/jupyter/notebooks/form_directory/CORDEX/CORDEX_aa_11.ipynb\n",
      " --- form stored in transfer format in: /opt/jupyter/notebooks/form_directory/CORDEX/CORDEX_aa_11.json\n",
      " \n",
      " --- commit message:[master b4c89d6] Form Handler: submission form for user aa saved using prefix CORDEX_aa_11 ## hdh: qa start\n",
      " 1 file changed, 5 insertions(+), 5 deletions(-)\n"
     ]
    }
   ],
   "source": [
    "workflow_form.status = \"quality assurance\"\n",
    "qua.agent.responsible_person = \"hdh\"\n",
    "\n",
    "qua.activity.status = \"starting\" \n",
    "qua.activity.start_time = str(datetime.now())\n",
    "\n",
    "sf = form_handler.save_form(workflow_form, \"hdh: qa start\")\n",
    "\n"
   ]
  },
  {
   "cell_type": "code",
   "execution_count": 28,
   "metadata": {},
   "outputs": [
    {
     "name": "stdout",
     "output_type": "stream",
     "text": [
      "\n",
      "\n",
      "Form Handler - save form status message:\n",
      "entity_in.form_path and entity_out.form_repo_path\n",
      "/home/testuser/CORDEX/CORDEX_aa_11.ipynb\n",
      "/opt/jupyter/notebooks/form_directory/CORDEX/CORDEX_aa_11.ipynb\n",
      " --- form stored in transfer format in: /opt/jupyter/notebooks/form_directory/CORDEX/CORDEX_aa_11.json\n",
      " \n",
      " --- commit message:[master f47665c] Form Handler: submission form for user aa saved using prefix CORDEX_aa_11 ## hdh: qua complete\n",
      " 1 file changed, 43 insertions(+), 5 deletions(-)\n"
     ]
    }
   ],
   "source": [
    "qua.entity_out.status = \"completed\"\n",
    "qua.entity_out.report = {\n",
    "    \"QA_conclusion\": \"PASS\",\n",
    "    \"project\": \"CORDEX\",\n",
    "    \"institute\": \"CLMcom\",\n",
    "    \"model\": \"CLMcom-CCLM4-8-17-CLM3-5\",\n",
    "    \"domain\": \"AUS-44\",\n",
    "    \"driving_experiment\":  [ \"ICHEC-EC-EARTH\"],\n",
    "    \"experiment\": [ \"history\", \"rcp45\", \"rcp85\"],\n",
    "    \"ensemble_member\": [ \"r12i1p1\" ],\n",
    "    \"frequency\": [ \"day\", \"mon\", \"sem\" ],\n",
    "    \"annotation\":\n",
    "    [\n",
    "        {\n",
    "            \"scope\": [\"mon\", \"sem\"],\n",
    "            \"variable\": [ \"tasmax\", \"tasmin\", \"sfcWindmax\" ],\n",
    "            \"caption\": \"attribute <variable>:cell_methods for climatologies requires <time>:climatology instead of time_bnds\",\n",
    "            \"comment\": \"due to the format of the data, climatology is equivalent to time_bnds\",\n",
    "            \"severity\": \"note\"\n",
    "        }\n",
    "    ]\n",
    "}\n",
    "sf = form_handler.save_form(workflow_form, \"hdh: qua complete\")\n"
   ]
  },
  {
   "cell_type": "markdown",
   "metadata": {},
   "source": [
    "### workflow step: data publication"
   ]
  },
  {
   "cell_type": "code",
   "execution_count": 29,
   "metadata": {},
   "outputs": [
    {
     "name": "stdout",
     "output_type": "stream",
     "text": [
      "\n",
      "\n",
      "Form Handler - save form status message:\n",
      "entity_in.form_path and entity_out.form_repo_path\n",
      "/home/testuser/CORDEX/CORDEX_aa_11.ipynb\n",
      "/opt/jupyter/notebooks/form_directory/CORDEX/CORDEX_aa_11.ipynb\n",
      " --- form stored in transfer format in: /opt/jupyter/notebooks/form_directory/CORDEX/CORDEX_aa_11.json\n",
      " \n",
      " --- commit message:[master bc31ef3] Form Handler: submission form for user aa saved using prefix CORDEX_aa_11 ## kb: publishing\n",
      " 1 file changed, 5 insertions(+), 5 deletions(-)\n"
     ]
    }
   ],
   "source": [
    "workflow_form = utils.load_workflow_form(info_file)\n",
    "\n",
    "workflow_form.status = \"publishing\"\n",
    "\n",
    "pub = workflow_form.pub\n",
    "pub.agent.responsible_person = \"katharina\"\n",
    "pub.activity.status = \"starting\"\n",
    "pub.activity.start_time = str(datetime.now())\n",
    "\n",
    "sf = form_handler.save_form(workflow_form, \"kb: publishing\")"
   ]
  },
  {
   "cell_type": "code",
   "execution_count": 30,
   "metadata": {},
   "outputs": [
    {
     "name": "stdout",
     "output_type": "stream",
     "text": [
      "\n",
      "\n",
      "Form Handler - save form status message:\n",
      "entity_in.form_path and entity_out.form_repo_path\n",
      "/home/testuser/CORDEX/CORDEX_aa_11.ipynb\n",
      "/opt/jupyter/notebooks/form_directory/CORDEX/CORDEX_aa_11.ipynb\n",
      " --- form stored in transfer format in: /opt/jupyter/notebooks/form_directory/CORDEX/CORDEX_aa_11.json\n",
      " \n",
      " --- commit message:[master 5f236e9] Form Handler: submission form for user aa saved using prefix CORDEX_aa_11 ## kb: published\n",
      " 1 file changed, 12 insertions(+), 8 deletions(-)\n"
     ]
    }
   ],
   "source": [
    "pub.activity.status = \"completed\"\n",
    "pub.activity.comment = \"...\"\n",
    "pub.activity.end_time = \"..\"\n",
    "pub.activity.report = {'model':\"MPI-M\"}   # activity related report information\n",
    "\n",
    "pub.entity_out.report = {'model':\"MPI-M\"} # the report of the publication action - all info characterizing the publication\n",
    "sf = form_handler.save_form(workflow_form, \"kb: published\")\n"
   ]
  },
  {
   "cell_type": "code",
   "execution_count": 31,
   "metadata": {
    "scrolled": true
   },
   "outputs": [
    {
     "name": "stdout",
     "output_type": "stream",
     "text": [
      "\n",
      "\n",
      "Form Handler - save form status message:\n",
      "entity_in.form_path and entity_out.form_repo_path\n",
      "/home/testuser/CORDEX/CORDEX_aa_11.ipynb\n",
      "/opt/jupyter/notebooks/form_directory/CORDEX/CORDEX_aa_11.ipynb\n",
      " --- form stored in transfer format in: /opt/jupyter/notebooks/form_directory/CORDEX/CORDEX_aa_11.json\n",
      " \n",
      " --- commit message:[master 6526994] Form Handler: submission form for user aa saved using prefix CORDEX_aa_11 ## kindermann: form demo run 1\n",
      " 1 file changed, 3 insertions(+), 3 deletions(-)\n"
     ]
    }
   ],
   "source": [
    "sf = form_handler.save_form(workflow_form, \"kindermann: form demo run 1\")"
   ]
  },
  {
   "cell_type": "code",
   "execution_count": 32,
   "metadata": {},
   "outputs": [
    {
     "data": {
      "text/plain": [
       "'optional'"
      ]
     },
     "execution_count": 32,
     "metadata": {},
     "output_type": "execute_result"
    }
   ],
   "source": [
    "sf.sub.activity.commit_hash\n"
   ]
  },
  {
   "cell_type": "code",
   "execution_count": null,
   "metadata": {},
   "outputs": [],
   "source": []
  }
 ],
 "metadata": {
  "anaconda-cloud": {},
  "kernelspec": {
   "display_name": "Python 3",
   "language": "python",
   "name": "python3"
  },
  "language_info": {
   "codemirror_mode": {
    "name": "ipython",
    "version": 3
   },
   "file_extension": ".py",
   "mimetype": "text/x-python",
   "name": "python",
   "nbconvert_exporter": "python",
   "pygments_lexer": "ipython3",
   "version": "3.6.4"
  }
 },
 "nbformat": 4,
 "nbformat_minor": 1
}
