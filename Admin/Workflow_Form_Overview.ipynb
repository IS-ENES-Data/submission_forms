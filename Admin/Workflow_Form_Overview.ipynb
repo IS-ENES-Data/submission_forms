{
 "cells": [
  {
   "cell_type": "markdown",
   "metadata": {},
   "source": [
    "# DKRZ data ingest information handling\n",
    "\n",
    "\n",
    "The submission_forms package provides a collection of components to support the management of information related to data ingest related activities (data transport, data checking, data publication and data archival):\n",
    "\n",
    "* data submission related information management\n",
    "  * who, when, what, for which project, data characteristics\n",
    "* data management related information collection\n",
    "  * ingest, quality assurance, publication, archiving\n",
    "  \n",
    "The information is stored in structured json files which are 1-to-1 mapped to Form objects to simplify information handling. In the following it is assumed that an initial structured json file was generated. For the different ways to generate initial structured json files see the **Workflow_Form_Generation.ipynb** notebook:  "
   ]
  },
  {
   "cell_type": "markdown",
   "metadata": {},
   "source": [
    "## DKRZ ingest workflow system\n",
    "\n",
    "Approach:\n",
    "* Data managment related information is managed in structured json files\n",
    "* To simplify interactive information updates etc. json files are converted to Form objects\n",
    "* There are multiple possibilities to populate the json files (and associated Form objects):\n",
    "  * DKRZ served jupyter notebooks (e.g. in DKRZ jupyterhub http://data-forms.dkrz.de:8080)\n",
    "  * Client side jupyter notebooks (submission via email, rt ticket, git commit)\n",
    "  * Client side excel sheets (submission via email, rt ticket)\n",
    "  * Unstructured email exchange (json population done by data managers)\n",
    "* A toolset to manage Form objects (specially structured json files) along a well defined workflow\n",
    "* A toolset to search and intercorrelate data submission information\n",
    "* Support for W3C prov standard exposure of the structured json files"
   ]
  },
  {
   "cell_type": "markdown",
   "metadata": {},
   "source": [
    "## 1) Get a Form object for information stored in a json file "
   ]
  },
  {
   "cell_type": "code",
   "execution_count": 26,
   "metadata": {},
   "outputs": [],
   "source": [
    "## the following libraries are needed to interact with \n",
    "## json based form submissions\n",
    "\n",
    "from dkrz_forms import form_handler, utils, checks,wflow_handler\n",
    "from datetime import datetime"
   ]
  },
  {
   "cell_type": "code",
   "execution_count": 27,
   "metadata": {},
   "outputs": [],
   "source": [
    "## info_file = \"path to json file\"\n",
    "info_file = \"/opt/jupyter/notebooks/form_directory/CORDEX/CORDEX_aa_11.json\"\n",
    "\n",
    "# load json file and convert to Form object for simple updating\n",
    "my_form = utils.load_workflow_form(info_file)"
   ]
  },
  {
   "cell_type": "code",
   "execution_count": null,
   "metadata": {},
   "outputs": [],
   "source": [
    "# use \"tab\" completion to view the attributes\n",
    "# every form has a project and has the above workflow steps associated\n",
    "my_form."
   ]
  },
  {
   "cell_type": "code",
   "execution_count": 25,
   "metadata": {},
   "outputs": [],
   "source": [
    "# evalulate to see doc string of submission part\n",
    "?my_form\n"
   ]
  },
  {
   "cell_type": "markdown",
   "metadata": {},
   "source": []
  },
  {
   "cell_type": "markdown",
   "metadata": {},
   "source": [
    "## 2) Explore the structure of a workflow Form object\n",
    "      (i.e submission workflow json file)\n",
    "      \n",
    "The workflow is structured according to the following workfow steps:\n",
    "\n",
    "* 'sub': data **submission** related information (client side: who, what, how, .., manager side: who, status,.. )\n",
    "* 'rev': data submission **review** information\n",
    "* 'ing': data **ingest** related information\n",
    "* 'qua': data **quality assurance** related information\n",
    "* 'pub': data **publication** related information\n",
    "* 'lta': data **long term archival** and data citation related information   "
   ]
  },
  {
   "cell_type": "markdown",
   "metadata": {},
   "source": [
    "information on the form objects can be retrieved interactively in ipython \n",
    "in jupyter notebooks - use again \"tab\" for completion and ? to retrieve\n",
    "docstring documentation. \n",
    "\n",
    "Examples:"
   ]
  },
  {
   "cell_type": "code",
   "execution_count": null,
   "metadata": {},
   "outputs": [],
   "source": [
    "# evaluate to view associated documentation string\n",
    "?my_form.sub"
   ]
  },
  {
   "cell_type": "code",
   "execution_count": null,
   "metadata": {},
   "outputs": [],
   "source": [
    "# use \"tab\" completion\n",
    "my_form.sub."
   ]
  },
  {
   "cell_type": "markdown",
   "metadata": {},
   "source": [
    "### each workflow step is structured acording to:\n",
    "\n",
    "* **agent:** step related person or software tool information\n",
    "* **activity**: step execution related information\n",
    "* **entity_in**: input information for this workflow step\n",
    "* **entity_out**: output information for this workflow step\n",
    "\n",
    "these parts have to be filled for each workflow step to characterize who (**agent**), did what (**activity**) using which input information (**entity_in**) to produce which output information (**entity_out**). These parts align with the WC3 Prov model allowing for a translation of all collected information based on the W3C prov standard (see the provenance.ipynb notebook for an example)."
   ]
  },
  {
   "cell_type": "code",
   "execution_count": null,
   "metadata": {},
   "outputs": [],
   "source": [
    "# example: \"tab\" completion to view attributes of agent \n",
    "# thus - agent has an email, first_name and last_name\n",
    "\n",
    "my_form.sub.agent."
   ]
  },
  {
   "cell_type": "markdown",
   "metadata": {},
   "source": [
    "### agent related information\n",
    "\n",
    "this is generally defined in the *dkrz_forms.config.workflow_steps.py* templates \n",
    "(see source code on github: https://github.com/IS-ENES/submission_forms/dkrz_forms/config/workflow_steps.py)\n",
    "\n",
    "for example the agent responsible for data submission this is SUBMISSION_AGENT, which is defined as:\n",
    "    \n",
    "SUBMISSION_AGENT = { \n",
    "   '__doc__': \"\"\"Attributes characterizing the person responsible for form completion and submission:\n",
    "\n",
    "       - last_name: Last name of the person responsible for the submission form content\n",
    "       - first_name: Corresponding first name\n",
    "       - email: Valid user email address: all follow up activities will use this email to contact end user\n",
    "       - keyword : user provided key word to remember and separate submission\n",
    "              \"\"\",\n",
    "    'i_name': 'submission_agent',\n",
    "    'last_name' : 'mandatory',\n",
    "    'first_name' : 'mandatory',\n",
    "    'keyword': 'mandatory',\n",
    "    'email': 'mandatory',\n",
    "    'responsible_person':'mandatory'\n",
    "  }\n",
    "\n",
    "All entries charactized as 'mandatory' have to be filled. "
   ]
  },
  {
   "cell_type": "code",
   "execution_count": 8,
   "metadata": {},
   "outputs": [],
   "source": [
    "# e.g. set email of person responsible for data submission:\n",
    "my_form.sub.agent.email = 'franz_mustermann@hzg.de'"
   ]
  },
  {
   "cell_type": "markdown",
   "metadata": {},
   "source": [
    "#### activity related information\n",
    "\n",
    "again the generic definition is defined in the dkrz_forms.workflow_steps.py templates. \n",
    "\n",
    "for example the quality assurance (qua) related activity information is defined as:\n",
    "    \n",
    "QUA_ACTIVITY= {\n",
    "    '__doc__': \"\"\"\n",
    "        Attributes characterizing the data quality assurance activity:\n",
    "        - status: status information\n",
    "        - start_time, end_time: data ingest timing information\n",
    "        - comment : free text comment\n",
    "        - ticket_id: related RT ticket number\n",
    "        - follow_up_ticket: in case new data has to be provided\n",
    "        - quality_report: dictionary with quality related information (tbd.)\n",
    "        \"\"\",\n",
    "      'i_name':'qua_activity',\n",
    "      'status':ACTIVITY_STATUS,\n",
    "      'error_status':ERROR_STATUS,\n",
    "      'qua_tool_version':\"mandatory\",\n",
    "      \"start_time\":\"mandatory\",\n",
    "      \"end_time\":\"optional\",\n",
    "      \"comment\":\"optional\",\n",
    "      \"ticket_id\": \"mandatory\",\n",
    "      \"follow_up_ticket\": 'optional', # qa feedback to users, follow up actions\n",
    "      }    "
   ]
  },
  {
   "cell_type": "code",
   "execution_count": 22,
   "metadata": {},
   "outputs": [
    {
     "name": "stdout",
     "output_type": "stream",
     "text": [
      "('\\n'\n",
      " '                         Attributes characterizing the form submission '\n",
      " 'activity:\\n'\n",
      " '                         \\n'\n",
      " '                         - comment : free text comment\\n'\n",
      " '                         - method  : How the submission was generated and '\n",
      " 'submitted to DKRZ: email or DKRZ form server based \\n'\n",
      " '                         - status : status information\\n'\n",
      " '                         - error_status : additional information on error '\n",
      " 'status\\n'\n",
      " '                         - ticket_id : related rt ticket number\\n'\n",
      " '                         - start_time, end_time: start and end time of '\n",
      " 'activity\\n'\n",
      " '                         - timestamp: intermediate time stamp information '\n",
      " '(update activities)\\n'\n",
      " '                         - pwd: password to access the form\\n'\n",
      " '                         ')\n"
     ]
    }
   ],
   "source": [
    "## back to example: submission related activity information\n",
    "import pprint\n",
    "pprint.pprint(my_form.sub.activity.__doc__)"
   ]
  },
  {
   "cell_type": "markdown",
   "metadata": {},
   "source": [
    "### workflow step report documents\n",
    "\n",
    "each workflow step produces an output associated to the **entity_out** keyword.\n",
    "\n",
    "To each output a user defined dictionary can be attached as **report** \n",
    "\n",
    "so e.g.\n",
    "\n",
    "   my_form.sub.entity_out.report contains all the user input provided e.g. by mail or in a excel\n",
    "   sheet or provided via a (jupyter notebook) form \n",
    "   \n",
    "   my_form.qua.entity_out.report contains the quality_assurance tool json output as dictionary \n",
    "   \n",
    "   etc."
   ]
  },
  {
   "cell_type": "code",
   "execution_count": 24,
   "metadata": {},
   "outputs": [
    {
     "name": "stdout",
     "output_type": "stream",
     "text": [
      "{'__doc__': '\\n'\n",
      "            '                         CORDEX information collected as part of '\n",
      "            'form completion process\\n'\n",
      "            '                         see CORDEX template\\n'\n",
      "            '                         .. details on entries .. to be '\n",
      "            'completed\\n'\n",
      "            '                        ',\n",
      " 'data_information': '',\n",
      " 'data_path': '',\n",
      " 'data_qc_comment': '',\n",
      " 'data_qc_status': '',\n",
      " 'directory_structure': '',\n",
      " 'example_file_name': '',\n",
      " 'exclude_variables_list': '',\n",
      " 'experiment_id': 'CV_CORDEX, experiment_id',\n",
      " 'grid_as_specified_if_rotated_pole': '',\n",
      " 'grid_mapping_name': '',\n",
      " 'institute_id': 'CV_CORDEX,institute_id',\n",
      " 'institution': 'CV_CORDEX,institution',\n",
      " 'model_id': 'CV_CORDEX,model_id',\n",
      " 'project': 'CORDEX',\n",
      " 'submission_type': 'initial_submission, update_submission, '\n",
      "                    'submission_retraction, other',\n",
      " 'terms_of_use': '',\n",
      " 'time_period': '',\n",
      " 'uniqueness_of_tracking_id': 'yes,no',\n",
      " 'variable_list_day': '',\n",
      " 'variable_list_fx': '',\n",
      " 'variable_list_mon': '',\n",
      " 'variable_list_sem': ''}\n"
     ]
    }
   ],
   "source": [
    "# view the submission related information provided by the end user:\n",
    "\n",
    "pprint.pprint(my_form.sub.entity_out.report.__dict__)"
   ]
  },
  {
   "cell_type": "code",
   "execution_count": null,
   "metadata": {},
   "outputs": [],
   "source": [
    "## Example for the quality assurance workflow step (qua):\n",
    "my_form.qua.entity_out.report = {\n",
    "    \"QA_conclusion\": \"PASS\",\n",
    "    \"project\": \"CORDEX\",\n",
    "    \"institute\": \"CLMcom\",\n",
    "    \"model\": \"CLMcom-CCLM4-8-17-CLM3-5\",\n",
    "    \"domain\": \"AUS-44\",\n",
    "    \"driving_experiment\":  [ \"ICHEC-EC-EARTH\"],\n",
    "    \"experiment\": [ \"history\", \"rcp45\", \"rcp85\"],\n",
    "    \"ensemble_member\": [ \"r12i1p1\" ],\n",
    "    \"frequency\": [ \"day\", \"mon\", \"sem\" ],\n",
    "    \"annotation\":\n",
    "    [\n",
    "        {\n",
    "            \"scope\": [\"mon\", \"sem\"],\n",
    "            \"variable\": [ \"tasmax\", \"tasmin\", \"sfcWindmax\" ],\n",
    "            \"caption\": \"attribute <variable>:cell_methods for climatologies requires <time>:climatology instead of time_bnds\",\n",
    "            \"comment\": \"due to the format of the data, climatology is equivalent to time_bnds\",\n",
    "            \"severity\": \"note\"\n",
    "        }\n",
    "    ]\n",
    "}"
   ]
  },
  {
   "cell_type": "markdown",
   "metadata": {},
   "source": [
    "### Links:\n",
    "\n",
    "\n",
    "* github repo: https://github.com/IS-ENES-Data/submission_forms\n",
    "* ...       "
   ]
  },
  {
   "cell_type": "code",
   "execution_count": 16,
   "metadata": {},
   "outputs": [],
   "source": [
    "# to generate empyty project form including all options for variables\n",
    "# e.g.: \n",
    "ACTIVITY_STATUS = \"0:open, 1:in-progress ,2:action-required, 3:paused,4:closed\"          \n",
    "ERROR_STATUS = \"0:open,1:ok,2:error\"\n",
    "ENTITY_STATUS = \"0:open,1:stored,2:submitted,3:re-opened,4:closed\"\n",
    "CHECK_STATUS = \"0:open,1:warning, 2:error,3:ok\"\n",
    "import dkrz_forms\n",
    "#from dkrz_forms import form_handler, utils\n",
    "#sf_t = utils.generate_project_form('ESGF_replication')\n",
    "#print(checks.get_options(sf_t.sub.activity.status))"
   ]
  },
  {
   "cell_type": "code",
   "execution_count": null,
   "metadata": {
    "collapsed": true
   },
   "outputs": [],
   "source": []
  },
  {
   "cell_type": "markdown",
   "metadata": {},
   "source": [
    "## Related approaches at other sites\n",
    "\n",
    "example workflows in other data centers:\n",
    "* http://eidc.ceh.ac.uk/images/ingestion-workflow/view\n",
    "* http://www.mdpi.com/2220-9964/5/3/30/pdf\n",
    "* https://www.rd-alliance.org/sites/default/files/03%20Nurnberger%20-%20DataPublishingWorkflows-CollabMtg20151208_V03.pdf\n",
    "* http://ropercenter.cornell.edu/polls/deposit-data/\n",
    "* https://www.arm.gov/engineering/ingest\n",
    "* https://eosweb.larc.nasa.gov/GEWEX-RFA/documents/data_ingest.txt\n",
    "* https://eosweb.larc.nasa.gov/GEWEX-RFA/documents/how_to_participate.html\n",
    "* http://www.nodc.noaa.gov/submit/ online tool \n",
    "* https://www2.cisl.ucar.edu/resources/cmip-analysis-platform\n",
    "  * https://xras-submit-ncar.xsede.org/ \n",
    "* http://cmip5.whoi.edu/ \n",
    "* https://pypi.python.org/pypi/cmipdata/0.6\n",
    "* ...."
   ]
  }
 ],
 "metadata": {
  "anaconda-cloud": {},
  "kernelspec": {
   "display_name": "Python 3",
   "language": "python",
   "name": "python3"
  },
  "language_info": {
   "codemirror_mode": {
    "name": "ipython",
    "version": 3
   },
   "file_extension": ".py",
   "mimetype": "text/x-python",
   "name": "python",
   "nbconvert_exporter": "python",
   "pygments_lexer": "ipython3",
   "version": "3.6.4"
  }
 },
 "nbformat": 4,
 "nbformat_minor": 1
}
