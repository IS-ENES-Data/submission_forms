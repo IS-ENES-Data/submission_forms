{
 "cells": [
  {
   "cell_type": "markdown",
   "metadata": {},
   "source": [
    "# Generation of workflow forms\n",
    "\n",
    "Workflow forms are preferably initially generated using the **Create_Submission_Form.ipynb**\n",
    "jupyter notebook provided as part of the submission_forms packag installation.\n",
    "\n",
    "Alternatively they can be generated e.g. for testing purposes based on the following procedure:"
   ]
  },
  {
   "cell_type": "code",
   "execution_count": 2,
   "metadata": {},
   "outputs": [],
   "source": [
    "# import necessary packages\n",
    "import sys, os, shutil\n",
    "from dkrz_forms import form_handler, utils"
   ]
  },
  {
   "cell_type": "code",
   "execution_count": 9,
   "metadata": {},
   "outputs": [],
   "source": [
    "# initialize init_form dictionary\n",
    "from dkrz_forms.config.settings import FORM_DIRECTORY\n",
    "init_form = {}\n",
    "init_form['first_name'] = \"unit_tester\"\n",
    "init_form['last_name'] = \"testsuite\"\n",
    "init_form['project'] = \"test\"\n",
    "init_form['email'] = \"stephan.kindermann@gmail.com\"\n",
    "init_form['key'] = \"1\" \n",
    "init_form['pwd'] = \"test1\"\n",
    "\n",
    "form_repo = os.path.join(FORM_DIRECTORY, init_form['project'])"
   ]
  },
  {
   "cell_type": "code",
   "execution_count": 10,
   "metadata": {},
   "outputs": [],
   "source": [
    "# generate json file according to naming convention **project_last-name_key**\n",
    "\n",
    "FORM_JSON = os.path.join(form_repo,init_form['project']+'_'+init_form['last_name']+'_'+init_form['key']+'.json')"
   ]
  },
  {
   "cell_type": "code",
   "execution_count": 14,
   "metadata": {},
   "outputs": [
    {
     "name": "stdout",
     "output_type": "stream",
     "text": [
      "Form Handler: \n",
      "    -- initializing form for project: test\n",
      "test\n",
      "/opt/jupyter/notebooks/form_directory/test\n",
      "test_testsuite_1.ipynb\n",
      "entity_in.form_path /home/stephan/Forms/test\n",
      "keystore_path:  /home/stephan/Forms/fig/keystore\n",
      "TTT:  store key in keystore /home/stephan/Forms/fig/keystore\n",
      "--- copy from: /home/stephan/Repos/submission_forms/dkrz_forms/Templates/test_submission_form.ipynb\n",
      "--- to:  /opt/jupyter/notebooks/form_directory/test/test_testsuite_1.ipynb\n",
      "--- and to:  /home/stephan/Forms/test/test_testsuite_1.ipynb\n",
      "--------------------------------------------------------------------\n",
      "--- A submission form was created for you, \n",
      "--- please visit the following link:\n",
      "http://localhost:8888/notebooks/Forms/test/test_testsuite_1.ipynb\n",
      "--------------------------------------------------------------------\n",
      "entity_in.form_path and entity_out.form_repo_path\n",
      "/home/stephan/Forms/test/test_testsuite_1.ipynb\n",
      "/opt/jupyter/notebooks/form_directory/test/test_testsuite_1.ipynb\n",
      " \n",
      " ......  initial version saved ...\n",
      "entity_in.form_path and entity_out.form_repo_path\n",
      "/home/stephan/Forms/test/test_testsuite_1.ipynb\n",
      "/opt/jupyter/notebooks/form_directory/test/test_testsuite_1.ipynb\n",
      " \n",
      "  !!  current version saved in repository\n"
     ]
    }
   ],
   "source": [
    "# The json workflow form template is generated and populated with the default values \n",
    "# using the form_handler.generate_submission_form method\n",
    "# the templates are specific to the 'project' specified above \n",
    " \n",
    "sf = form_handler.generate_submission_form(init_form)"
   ]
  },
  {
   "cell_type": "code",
   "execution_count": null,
   "metadata": {},
   "outputs": [],
   "source": [
    "## Empty json workflow form\n",
    "\n",
    "Sometimes it may be necessary to generate empty, not pre-populated workflow forms, this can be done via the \n",
    "utils.generate_project_form method.\n",
    "But attention ! you need to know what you do, e.g. you have to populated generic information by yourself .."
   ]
  },
  {
   "cell_type": "code",
   "execution_count": 3,
   "metadata": {},
   "outputs": [],
   "source": [
    "\n",
    "sf_t = utils.generate_project_form('ESGF_replication')"
   ]
  },
  {
   "cell_type": "markdown",
   "metadata": {},
   "source": [
    "## Next steps\n",
    "\n",
    "The generated workflow form object can now be directy modified and extended. \n",
    "Yet to allow for an overall consistent workflow the modification should be done according to\n",
    "predifened patterns. \n",
    "These patterns are manifested in the respective jupyter notebooks and the methods provided in \n",
    "the **wflow_handler** package. See the **Ingest_workflow.ipynb** jupyter notebook.\n"
   ]
  },
  {
   "cell_type": "code",
   "execution_count": null,
   "metadata": {},
   "outputs": [],
   "source": []
  }
 ],
 "metadata": {
  "kernelspec": {
   "display_name": "Python 3",
   "language": "python",
   "name": "python3"
  },
  "language_info": {
   "codemirror_mode": {
    "name": "ipython",
    "version": 3
   },
   "file_extension": ".py",
   "mimetype": "text/x-python",
   "name": "python",
   "nbconvert_exporter": "python",
   "pygments_lexer": "ipython3",
   "version": "3.6.4"
  }
 },
 "nbformat": 4,
 "nbformat_minor": 2
}
