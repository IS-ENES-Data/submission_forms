{
 "cells": [
  {
   "cell_type": "markdown",
   "metadata": {},
   "source": [
    "# DKRZ data submission forms: \n",
    "\n",
    "This notebook allows you to \n",
    "* generate new project specific interactive data submission forms \n",
    "* to retrieve old submission forms or check the status of your request  follow the links provided to you by email\n",
    "\n",
    "![form-generation](./fig/form-generation.png)"
   ]
  },
  {
   "cell_type": "markdown",
   "metadata": {},
   "source": [
    "## Create your DKRZ data ingest request form \n",
    "\n",
    "Following the steps described below you can create personal project specific forms you can fill.\n",
    "\n",
    "These forms should help to collect project specific information needed by the DKRZ data managers to process your request. \n",
    "\n",
    "In any case - if you have problems filling these forms - there is always the short cut to directly contact us at *data-pool@dkrz.de*\n"
   ]
  },
  {
   "cell_type": "markdown",
   "metadata": {},
   "source": [
    "### Currently the following data ingest request forms are supported:\n",
    "- **\"CORDEX\"**: CORDEX data ingest and ESGF publication requests \n",
    "    - use this form if you want to publish CORDEX data at DKRZ via ESGF\n",
    "    - this form is aligned to the original CORDEX data ingest exel sheet used for ingest requests at DKRZ   \n",
    "- **\"CMIP6\"**:  CMIP6 data ingest and ESGF publication request form\n",
    "    - use this form if you want to store and publish CMIP6 data at DKRZ\n",
    "    \n",
    "- **\"ESGF_replication\"** : gereral CMIP data request form \n",
    "    - use this form if you want to have remote CMIP data accessible locally at DKRZ as part of the CMIP datapool\n",
    "    - the data will be replicated to DKRZ ressources and then will be efficiently accessible from our HPC nodes.\n",
    "- **\"DKRZ_CDP\"**: general non-CMIP data request form \n",
    "    - use this form if you want to have CMIP related data collections e.g. observational data locally accessible as part of the CMIP data pool \n",
    "- **\"test\"**: for demo and testing puposes\n",
    "    - this form is just for testing .. "
   ]
  },
  {
   "cell_type": "markdown",
   "metadata": {},
   "source": [
    "## Create a data form\n",
    "\n",
    "- Please evalualte the cell below (\"Shift-Enter\") \n",
    "- Please provide your contact details as well as an identifier to remember your form (e.g. experiment-name this form belongs to etc. ) \n",
    "- The generated form follows the naming convention **\"Project\"\\_\"lastname\"\\_\"identifier\"**\n",
    "- The form is accessible in your home folder and a direct linkt is provided to you "
   ]
  },
  {
   "cell_type": "code",
   "execution_count": 1,
   "metadata": {
    "scrolled": true
   },
   "outputs": [
    {
     "data": {
      "application/vnd.jupyter.widget-view+json": {
       "model_id": "7993c1511264477aae4df54015e01d65",
       "version_major": 2,
       "version_minor": 0
      },
      "text/html": [
       "<p>Failed to display Jupyter Widget of type <code>Text</code>.</p>\n",
       "<p>\n",
       "  If you're reading this message in the Jupyter Notebook or JupyterLab Notebook, it may mean\n",
       "  that the widgets JavaScript is still loading. If this message persists, it\n",
       "  likely means that the widgets JavaScript library is either not installed or\n",
       "  not enabled. See the <a href=\"https://ipywidgets.readthedocs.io/en/stable/user_install.html\">Jupyter\n",
       "  Widgets Documentation</a> for setup instructions.\n",
       "</p>\n",
       "<p>\n",
       "  If you're reading this message in another frontend (for example, a static\n",
       "  rendering on GitHub or <a href=\"https://nbviewer.jupyter.org/\">NBViewer</a>),\n",
       "  it may mean that your frontend doesn't currently support widgets.\n",
       "</p>\n"
      ],
      "text/plain": [
       "Text(value='', description='Last name: ', layout=Layout(margin='2px 0px 2px 00px'))"
      ]
     },
     "metadata": {},
     "output_type": "display_data"
    },
    {
     "data": {
      "application/vnd.jupyter.widget-view+json": {
       "model_id": "e33b925e7c324626ab3723073cca6c71",
       "version_major": 2,
       "version_minor": 0
      },
      "text/html": [
       "<p>Failed to display Jupyter Widget of type <code>Text</code>.</p>\n",
       "<p>\n",
       "  If you're reading this message in the Jupyter Notebook or JupyterLab Notebook, it may mean\n",
       "  that the widgets JavaScript is still loading. If this message persists, it\n",
       "  likely means that the widgets JavaScript library is either not installed or\n",
       "  not enabled. See the <a href=\"https://ipywidgets.readthedocs.io/en/stable/user_install.html\">Jupyter\n",
       "  Widgets Documentation</a> for setup instructions.\n",
       "</p>\n",
       "<p>\n",
       "  If you're reading this message in another frontend (for example, a static\n",
       "  rendering on GitHub or <a href=\"https://nbviewer.jupyter.org/\">NBViewer</a>),\n",
       "  it may mean that your frontend doesn't currently support widgets.\n",
       "</p>\n"
      ],
      "text/plain": [
       "Text(value='', description='First name: ', layout=Layout(margin='2px 0px 2px 00px'))"
      ]
     },
     "metadata": {},
     "output_type": "display_data"
    },
    {
     "data": {
      "application/vnd.jupyter.widget-view+json": {
       "model_id": "c8b06c7927eb4b53883283e362398d8c",
       "version_major": 2,
       "version_minor": 0
      },
      "text/html": [
       "<p>Failed to display Jupyter Widget of type <code>Text</code>.</p>\n",
       "<p>\n",
       "  If you're reading this message in the Jupyter Notebook or JupyterLab Notebook, it may mean\n",
       "  that the widgets JavaScript is still loading. If this message persists, it\n",
       "  likely means that the widgets JavaScript library is either not installed or\n",
       "  not enabled. See the <a href=\"https://ipywidgets.readthedocs.io/en/stable/user_install.html\">Jupyter\n",
       "  Widgets Documentation</a> for setup instructions.\n",
       "</p>\n",
       "<p>\n",
       "  If you're reading this message in another frontend (for example, a static\n",
       "  rendering on GitHub or <a href=\"https://nbviewer.jupyter.org/\">NBViewer</a>),\n",
       "  it may mean that your frontend doesn't currently support widgets.\n",
       "</p>\n"
      ],
      "text/plain": [
       "Text(value='', description='Email:', layout=Layout(margin='2px 0px 2px 00px'))"
      ]
     },
     "metadata": {},
     "output_type": "display_data"
    },
    {
     "data": {
      "application/vnd.jupyter.widget-view+json": {
       "model_id": "4a21cfafbf674676bb391bdc38b3a66f",
       "version_major": 2,
       "version_minor": 0
      },
      "text/html": [
       "<p>Failed to display Jupyter Widget of type <code>Dropdown</code>.</p>\n",
       "<p>\n",
       "  If you're reading this message in the Jupyter Notebook or JupyterLab Notebook, it may mean\n",
       "  that the widgets JavaScript is still loading. If this message persists, it\n",
       "  likely means that the widgets JavaScript library is either not installed or\n",
       "  not enabled. See the <a href=\"https://ipywidgets.readthedocs.io/en/stable/user_install.html\">Jupyter\n",
       "  Widgets Documentation</a> for setup instructions.\n",
       "</p>\n",
       "<p>\n",
       "  If you're reading this message in another frontend (for example, a static\n",
       "  rendering on GitHub or <a href=\"https://nbviewer.jupyter.org/\">NBViewer</a>),\n",
       "  it may mean that your frontend doesn't currently support widgets.\n",
       "</p>\n"
      ],
      "text/plain": [
       "Dropdown(description='Project: ', layout=Layout(margin='2px 0px 2px 00px'), options=('CORDEX', 'CMIP6', 'DKRZ_CDP', 'ESGF_replication', 'test', 'Generic'), value='CORDEX')"
      ]
     },
     "metadata": {},
     "output_type": "display_data"
    },
    {
     "data": {
      "application/vnd.jupyter.widget-view+json": {
       "model_id": "7ed1a0a6ea7642b297be83e5c150e588",
       "version_major": 2,
       "version_minor": 0
      },
      "text/html": [
       "<p>Failed to display Jupyter Widget of type <code>Text</code>.</p>\n",
       "<p>\n",
       "  If you're reading this message in the Jupyter Notebook or JupyterLab Notebook, it may mean\n",
       "  that the widgets JavaScript is still loading. If this message persists, it\n",
       "  likely means that the widgets JavaScript library is either not installed or\n",
       "  not enabled. See the <a href=\"https://ipywidgets.readthedocs.io/en/stable/user_install.html\">Jupyter\n",
       "  Widgets Documentation</a> for setup instructions.\n",
       "</p>\n",
       "<p>\n",
       "  If you're reading this message in another frontend (for example, a static\n",
       "  rendering on GitHub or <a href=\"https://nbviewer.jupyter.org/\">NBViewer</a>),\n",
       "  it may mean that your frontend doesn't currently support widgets.\n",
       "</p>\n"
      ],
      "text/plain": [
       "Text(value='', description='An identifier: ', layout=Layout(margin='2px 0px 2px 00px'), placeholder=' A key to identify your form')"
      ]
     },
     "metadata": {},
     "output_type": "display_data"
    },
    {
     "data": {
      "application/vnd.jupyter.widget-view+json": {
       "model_id": "1ca23d348f554258965290b5e7f7b5f0",
       "version_major": 2,
       "version_minor": 0
      },
      "text/html": [
       "<p>Failed to display Jupyter Widget of type <code>Button</code>.</p>\n",
       "<p>\n",
       "  If you're reading this message in the Jupyter Notebook or JupyterLab Notebook, it may mean\n",
       "  that the widgets JavaScript is still loading. If this message persists, it\n",
       "  likely means that the widgets JavaScript library is either not installed or\n",
       "  not enabled. See the <a href=\"https://ipywidgets.readthedocs.io/en/stable/user_install.html\">Jupyter\n",
       "  Widgets Documentation</a> for setup instructions.\n",
       "</p>\n",
       "<p>\n",
       "  If you're reading this message in another frontend (for example, a static\n",
       "  rendering on GitHub or <a href=\"https://nbviewer.jupyter.org/\">NBViewer</a>),\n",
       "  it may mean that your frontend doesn't currently support widgets.\n",
       "</p>\n"
      ],
      "text/plain": [
       "Button(description='Generate form', icon='check', style=ButtonStyle(), tooltip='click to generate a personal form template')"
      ]
     },
     "metadata": {},
     "output_type": "display_data"
    },
    {
     "name": "stdout",
     "output_type": "stream",
     "text": [
      "Form Handler: \n",
      "    -- initializing form for project: CORDEX\n",
      "CORDEX\n",
      "/opt/jupyter/notebooks/form_directory/CORDEX\n",
      "CORDEX_kkk_kkkk.ipynb\n",
      "entity_in.form_path /home/stephan/CORDEX\n",
      "keystore_path:  /home/stephan/fig/keystore\n",
      "TTT:  store key in keystore /home/stephan/fig/keystore\n",
      "--- copy from: /home/stephan/Repos/submission_forms/dkrz_forms/Templates/CORDEX_submission_form.ipynb\n",
      "--- to:  /opt/jupyter/notebooks/form_directory/CORDEX/CORDEX_kkk_kkkk.ipynb\n",
      "--- and to:  /home/stephan/CORDEX/CORDEX_kkk_kkkk.ipynb\n",
      "--------------------------------------------------------------------\n",
      "--- A submission form was created for you, \n",
      "--- please visit the following link:\n",
      "http://localhost:8000/user/stephan/notebooks/CORDEX/CORDEX_kkk_kkkk.ipynb\n",
      "--------------------------------------------------------------------\n",
      "entity_in.form_path and entity_out.form_repo_path\n",
      "/home/stephan/CORDEX/CORDEX_kkk_kkkk.ipynb\n",
      "/opt/jupyter/notebooks/form_directory/CORDEX/CORDEX_kkk_kkkk.ipynb\n",
      " \n",
      " ......  initial version saved ...\n",
      "entity_in.form_path and entity_out.form_repo_path\n",
      "/home/stephan/CORDEX/CORDEX_kkk_kkkk.ipynb\n",
      "/opt/jupyter/notebooks/form_directory/CORDEX/CORDEX_kkk_kkkk.ipynb\n",
      " \n",
      "  !!  current version saved in repository\n"
     ]
    }
   ],
   "source": [
    "# Please evaluate this cell to see input boxes\n",
    "from dkrz_forms import form_widgets\n",
    "form_widgets.create_form()"
   ]
  },
  {
   "cell_type": "code",
   "execution_count": null,
   "metadata": {},
   "outputs": [],
   "source": []
  }
 ],
 "metadata": {
  "anaconda-cloud": {},
  "kernelspec": {
   "display_name": "Python 3",
   "language": "python",
   "name": "python3"
  },
  "language_info": {
   "codemirror_mode": {
    "name": "ipython",
    "version": 3
   },
   "file_extension": ".py",
   "mimetype": "text/x-python",
   "name": "python",
   "nbconvert_exporter": "python",
   "pygments_lexer": "ipython3",
   "version": "3.6.4"
  },
  "widgets": {
   "state": {
    "00e94aeb419e4aa083732e73e073fb77": {
     "views": [
      {
       "cell_index": 5
      }
     ]
    },
    "0ef57160abde42e5ba2f85e20ffed083": {
     "views": [
      {
       "cell_index": 5
      }
     ]
    },
    "222ba76b856d41e1af83cadb237285ab": {
     "views": [
      {
       "cell_index": 5
      }
     ]
    },
    "38416a06c8484f7ebc568c38efee2c84": {
     "views": [
      {
       "cell_index": 5
      }
     ]
    },
    "45a0085c22ce4a1bb3dbb94ae473e083": {
     "views": [
      {
       "cell_index": 5
      }
     ]
    },
    "4fb77b6c64924125a6ee11f2a46101d3": {
     "views": [
      {
       "cell_index": 5
      }
     ]
    },
    "7ddffa705e9a4187b951ed6c5e8ef335": {
     "views": [
      {
       "cell_index": 5
      }
     ]
    },
    "992b5ef05f1b4579ad02ac262dc80b47": {
     "views": [
      {
       "cell_index": 5
      }
     ]
    },
    "dd48da367db040b28deaee1c87f47b37": {
     "views": [
      {
       "cell_index": 5
      }
     ]
    },
    "e399ca0cc5284b87a787dd3b75be991c": {
     "views": [
      {
       "cell_index": 5
      }
     ]
    },
    "f44bdd720b6c4ce6b511fadbcc63b4d0": {
     "views": [
      {
       "cell_index": 5
      }
     ]
    },
    "fe9a71f307684be58629c1fd25ac2e88": {
     "views": [
      {
       "cell_index": 5
      }
     ]
    }
   },
   "version": "1.2.0"
  }
 },
 "nbformat": 4,
 "nbformat_minor": 1
}
